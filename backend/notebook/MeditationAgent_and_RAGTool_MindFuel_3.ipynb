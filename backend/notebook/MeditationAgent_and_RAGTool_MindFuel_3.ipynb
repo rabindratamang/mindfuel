{
  "cells": [
    {
      "cell_type": "code",
      "execution_count": null,
      "metadata": {
        "colab": {
          "base_uri": "https://localhost:8080/"
        },
        "id": "xCighDY8wOCH",
        "outputId": "13bf90b2-cb17-4db7-fcd1-09b3aa116e2a"
      },
      "outputs": [
        {
          "name": "stdout",
          "output_type": "stream",
          "text": [
            "  Preparing metadata (setup.py) ... \u001b[?25l\u001b[?25hdone\n",
            "\u001b[2K     \u001b[90m━━━━━━━━━━━━━━━━━━━━━━━━━━━━━━━━━━━━━━━━\u001b[0m \u001b[32m61.0/61.0 kB\u001b[0m \u001b[31m3.5 MB/s\u001b[0m eta \u001b[36m0:00:00\u001b[0m\n",
            "\u001b[2K     \u001b[90m━━━━━━━━━━━━━━━━━━━━━━━━━━━━━━━━━━━━━━━━\u001b[0m \u001b[32m67.3/67.3 kB\u001b[0m \u001b[31m5.0 MB/s\u001b[0m eta \u001b[36m0:00:00\u001b[0m\n",
            "\u001b[?25h  Installing build dependencies ... \u001b[?25l\u001b[?25hdone\n",
            "  Getting requirements to build wheel ... \u001b[?25l\u001b[?25hdone\n",
            "  Preparing metadata (pyproject.toml) ... \u001b[?25l\u001b[?25hdone\n",
            "\u001b[2K     \u001b[90m━━━━━━━━━━━━━━━━━━━━━━━━━━━━━━━━━━━━━━━━\u001b[0m \u001b[32m43.7/43.7 kB\u001b[0m \u001b[31m3.5 MB/s\u001b[0m eta \u001b[36m0:00:00\u001b[0m\n",
            "\u001b[2K   \u001b[90m━━━━━━━━━━━━━━━━━━━━━━━━━━━━━━━━━━━━━━━━\u001b[0m \u001b[32m1.0/1.0 MB\u001b[0m \u001b[31m17.7 MB/s\u001b[0m eta \u001b[36m0:00:00\u001b[0m\n",
            "\u001b[2K   \u001b[90m━━━━━━━━━━━━━━━━━━━━━━━━━━━━━━━━━━━━━━━━\u001b[0m \u001b[32m2.5/2.5 MB\u001b[0m \u001b[31m34.8 MB/s\u001b[0m eta \u001b[36m0:00:00\u001b[0m\n",
            "\u001b[2K   \u001b[90m━━━━━━━━━━━━━━━━━━━━━━━━━━━━━━━━━━━━━━━━\u001b[0m \u001b[32m304.2/304.2 kB\u001b[0m \u001b[31m10.0 MB/s\u001b[0m eta \u001b[36m0:00:00\u001b[0m\n",
            "\u001b[2K   \u001b[90m━━━━━━━━━━━━━━━━━━━━━━━━━━━━━━━━━━━━━━━━\u001b[0m \u001b[32m438.5/438.5 kB\u001b[0m \u001b[31m24.4 MB/s\u001b[0m eta \u001b[36m0:00:00\u001b[0m\n",
            "\u001b[2K   \u001b[90m━━━━━━━━━━━━━━━━━━━━━━━━━━━━━━━━━━━━━━━━\u001b[0m \u001b[32m326.9/326.9 kB\u001b[0m \u001b[31m18.8 MB/s\u001b[0m eta \u001b[36m0:00:00\u001b[0m\n",
            "\u001b[2K   \u001b[90m━━━━━━━━━━━━━━━━━━━━━━━━━━━━━━━━━━━━━━━━\u001b[0m \u001b[32m64.5/64.5 kB\u001b[0m \u001b[31m4.4 MB/s\u001b[0m eta \u001b[36m0:00:00\u001b[0m\n",
            "\u001b[2K   \u001b[90m━━━━━━━━━━━━━━━━━━━━━━━━━━━━━━━━━━━━━━━━\u001b[0m \u001b[32m152.4/152.4 kB\u001b[0m \u001b[31m10.8 MB/s\u001b[0m eta \u001b[36m0:00:00\u001b[0m\n",
            "\u001b[2K   \u001b[90m━━━━━━━━━━━━━━━━━━━━━━━━━━━━━━━━━━━━━━━━\u001b[0m \u001b[32m19.3/19.3 MB\u001b[0m \u001b[31m37.6 MB/s\u001b[0m eta \u001b[36m0:00:00\u001b[0m\n",
            "\u001b[2K   \u001b[90m━━━━━━━━━━━━━━━━━━━━━━━━━━━━━━━━━━━━━━━━\u001b[0m \u001b[32m43.8/43.8 kB\u001b[0m \u001b[31m3.2 MB/s\u001b[0m eta \u001b[36m0:00:00\u001b[0m\n",
            "\u001b[2K   \u001b[90m━━━━━━━━━━━━━━━━━━━━━━━━━━━━━━━━━━━━━━━━\u001b[0m \u001b[32m50.0/50.0 kB\u001b[0m \u001b[31m2.9 MB/s\u001b[0m eta \u001b[36m0:00:00\u001b[0m\n",
            "\u001b[2K   \u001b[90m━━━━━━━━━━━━━━━━━━━━━━━━━━━━━━━━━━━━━━━━\u001b[0m \u001b[32m18.3/18.3 MB\u001b[0m \u001b[31m48.4 MB/s\u001b[0m eta \u001b[36m0:00:00\u001b[0m\n",
            "\u001b[2K   \u001b[90m━━━━━━━━━━━━━━━━━━━━━━━━━━━━━━━━━━━━━━━━\u001b[0m \u001b[32m44.4/44.4 kB\u001b[0m \u001b[31m3.2 MB/s\u001b[0m eta \u001b[36m0:00:00\u001b[0m\n",
            "\u001b[2K   \u001b[90m━━━━━━━━━━━━━━━━━━━━━━━━━━━━━━━━━━━━━━━━\u001b[0m \u001b[32m284.2/284.2 kB\u001b[0m \u001b[31m19.3 MB/s\u001b[0m eta \u001b[36m0:00:00\u001b[0m\n",
            "\u001b[2K   \u001b[90m━━━━━━━━━━━━━━━━━━━━━━━━━━━━━━━━━━━━━━━━\u001b[0m \u001b[32m1.9/1.9 MB\u001b[0m \u001b[31m60.5 MB/s\u001b[0m eta \u001b[36m0:00:00\u001b[0m\n",
            "\u001b[2K   \u001b[90m━━━━━━━━━━━━━━━━━━━━━━━━━━━━━━━━━━━━━━━━\u001b[0m \u001b[32m50.9/50.9 kB\u001b[0m \u001b[31m3.5 MB/s\u001b[0m eta \u001b[36m0:00:00\u001b[0m\n",
            "\u001b[2K   \u001b[90m━━━━━━━━━━━━━━━━━━━━━━━━━━━━━━━━━━━━━━━━\u001b[0m \u001b[32m101.6/101.6 kB\u001b[0m \u001b[31m5.1 MB/s\u001b[0m eta \u001b[36m0:00:00\u001b[0m\n",
            "\u001b[2K   \u001b[90m━━━━━━━━━━━━━━━━━━━━━━━━━━━━━━━━━━━━━━━━\u001b[0m \u001b[32m16.4/16.4 MB\u001b[0m \u001b[31m53.6 MB/s\u001b[0m eta \u001b[36m0:00:00\u001b[0m\n",
            "\u001b[2K   \u001b[90m━━━━━━━━━━━━━━━━━━━━━━━━━━━━━━━━━━━━━━━━\u001b[0m \u001b[32m65.8/65.8 kB\u001b[0m \u001b[31m4.9 MB/s\u001b[0m eta \u001b[36m0:00:00\u001b[0m\n",
            "\u001b[2K   \u001b[90m━━━━━━━━━━━━━━━━━━━━━━━━━━━━━━━━━━━━━━━━\u001b[0m \u001b[32m55.7/55.7 kB\u001b[0m \u001b[31m3.5 MB/s\u001b[0m eta \u001b[36m0:00:00\u001b[0m\n",
            "\u001b[2K   \u001b[90m━━━━━━━━━━━━━━━━━━━━━━━━━━━━━━━━━━━━━━━━\u001b[0m \u001b[32m118.5/118.5 kB\u001b[0m \u001b[31m8.2 MB/s\u001b[0m eta \u001b[36m0:00:00\u001b[0m\n",
            "\u001b[2K   \u001b[90m━━━━━━━━━━━━━━━━━━━━━━━━━━━━━━━━━━━━━━━━\u001b[0m \u001b[32m196.2/196.2 kB\u001b[0m \u001b[31m9.9 MB/s\u001b[0m eta \u001b[36m0:00:00\u001b[0m\n",
            "\u001b[2K   \u001b[90m━━━━━━━━━━━━━━━━━━━━━━━━━━━━━━━━━━━━━━━━\u001b[0m \u001b[32m216.5/216.5 kB\u001b[0m \u001b[31m8.6 MB/s\u001b[0m eta \u001b[36m0:00:00\u001b[0m\n",
            "\u001b[2K   \u001b[90m━━━━━━━━━━━━━━━━━━━━━━━━━━━━━━━━━━━━━━━━\u001b[0m \u001b[32m105.4/105.4 kB\u001b[0m \u001b[31m7.2 MB/s\u001b[0m eta \u001b[36m0:00:00\u001b[0m\n",
            "\u001b[2K   \u001b[90m━━━━━━━━━━━━━━━━━━━━━━━━━━━━━━━━━━━━━━━━\u001b[0m \u001b[32m71.2/71.2 kB\u001b[0m \u001b[31m5.0 MB/s\u001b[0m eta \u001b[36m0:00:00\u001b[0m\n",
            "\u001b[2K   \u001b[90m━━━━━━━━━━━━━━━━━━━━━━━━━━━━━━━━━━━━━━━━\u001b[0m \u001b[32m459.8/459.8 kB\u001b[0m \u001b[31m15.0 MB/s\u001b[0m eta \u001b[36m0:00:00\u001b[0m\n",
            "\u001b[2K   \u001b[90m━━━━━━━━━━━━━━━━━━━━━━━━━━━━━━━━━━━━━━━━\u001b[0m \u001b[32m4.0/4.0 MB\u001b[0m \u001b[31m64.9 MB/s\u001b[0m eta \u001b[36m0:00:00\u001b[0m\n",
            "\u001b[2K   \u001b[90m━━━━━━━━━━━━━━━━━━━━━━━━━━━━━━━━━━━━━━━━\u001b[0m \u001b[32m453.1/453.1 kB\u001b[0m \u001b[31m27.7 MB/s\u001b[0m eta \u001b[36m0:00:00\u001b[0m\n",
            "\u001b[2K   \u001b[90m━━━━━━━━━━━━━━━━━━━━━━━━━━━━━━━━━━━━━━━━\u001b[0m \u001b[32m46.0/46.0 kB\u001b[0m \u001b[31m2.6 MB/s\u001b[0m eta \u001b[36m0:00:00\u001b[0m\n",
            "\u001b[2K   \u001b[90m━━━━━━━━━━━━━━━━━━━━━━━━━━━━━━━━━━━━━━━━\u001b[0m \u001b[32m86.8/86.8 kB\u001b[0m \u001b[31m6.2 MB/s\u001b[0m eta \u001b[36m0:00:00\u001b[0m\n",
            "\u001b[?25h  Building wheel for wikipedia (setup.py) ... \u001b[?25l\u001b[?25hdone\n",
            "  Building wheel for pypika (pyproject.toml) ... \u001b[?25l\u001b[?25hdone\n",
            "\u001b[31mERROR: pip's dependency resolver does not currently take into account all the packages that are installed. This behaviour is the source of the following dependency conflicts.\n",
            "thinc 8.3.6 requires numpy<3.0.0,>=2.0.0, but you have numpy 1.26.4 which is incompatible.\u001b[0m\u001b[31m\n",
            "\u001b[0m"
          ]
        }
      ],
      "source": [
        "# Install required packages\n",
        "!pip install -qU langchain==0.3.12 langchain-chroma langchain-community pypdf langchain-openai wikipedia langgraph"
      ]
    },
    {
      "cell_type": "code",
      "execution_count": null,
      "metadata": {
        "id": "ac20VpZnwO2p"
      },
      "outputs": [],
      "source": [
        "# Environment setup\n",
        "import os\n",
        "from google.colab import userdata\n",
        "os.environ[\"OPENAI_API_KEY\"] = userdata.get('OPENAI_API_KEY')"
      ]
    },
    {
      "cell_type": "markdown",
      "metadata": {
        "id": "Rjyvv2_RF3wT"
      },
      "source": [
        "# PDF Load"
      ]
    },
    {
      "cell_type": "code",
      "execution_count": null,
      "metadata": {
        "colab": {
          "base_uri": "https://localhost:8080/"
        },
        "id": "qoYtbfShwO0i",
        "outputId": "dd13df70-8184-47ab-b09d-def967d9944e"
      },
      "outputs": [
        {
          "name": "stdout",
          "output_type": "stream",
          "text": [
            "Loaded 39 documents from 2 PDFs.\n"
          ]
        }
      ],
      "source": [
        "# PDF Loading\n",
        "from langchain.document_loaders import PyPDFLoader\n",
        "pdf_files = [\"27_Meditation_Techniques.pdf\", \"how-to-meditate.pdf\"]\n",
        "all_documents = []\n",
        "for pdf_file in pdf_files:\n",
        "    loader = PyPDFLoader(pdf_file)\n",
        "    docs = loader.load()\n",
        "    all_documents.extend(docs)\n",
        "documents = all_documents\n",
        "print(f\"Loaded {len(documents)} documents from {len(pdf_files)} PDFs.\")"
      ]
    },
    {
      "cell_type": "code",
      "execution_count": null,
      "metadata": {
        "colab": {
          "base_uri": "https://localhost:8080/"
        },
        "id": "XWbPEYIdQfLc",
        "outputId": "a4efe0a2-6abc-4e97-dd63-d85a52bfcc21"
      },
      "outputs": [
        {
          "data": {
            "text/plain": [
              "39"
            ]
          },
          "execution_count": 4,
          "metadata": {},
          "output_type": "execute_result"
        }
      ],
      "source": [
        "len(documents)"
      ]
    },
    {
      "cell_type": "markdown",
      "metadata": {
        "id": "4G_HCfIqF6LD"
      },
      "source": [
        "# Text Split"
      ]
    },
    {
      "cell_type": "code",
      "execution_count": null,
      "metadata": {
        "colab": {
          "base_uri": "https://localhost:8080/"
        },
        "id": "GlOn_0QVwOyU",
        "outputId": "4ffa585a-4581-4d00-8882-052371b28e89"
      },
      "outputs": [
        {
          "name": "stdout",
          "output_type": "stream",
          "text": [
            "Split into 89 chunks.\n"
          ]
        }
      ],
      "source": [
        "# Text Splitting\n",
        "from langchain.text_splitter import RecursiveCharacterTextSplitter\n",
        "text_splitter = RecursiveCharacterTextSplitter(chunk_size=1000, chunk_overlap=200)\n",
        "texts = text_splitter.split_documents(documents)\n",
        "print(f\"Split into {len(texts)} chunks.\")"
      ]
    },
    {
      "cell_type": "markdown",
      "metadata": {
        "id": "Kimtg3wJF79X"
      },
      "source": [
        "# Embedding"
      ]
    },
    {
      "cell_type": "code",
      "execution_count": null,
      "metadata": {
        "id": "C4yi5wgDwOtm"
      },
      "outputs": [],
      "source": [
        "# Embedding\n",
        "from langchain_openai import OpenAIEmbeddings\n",
        "embeddings = OpenAIEmbeddings(model=\"text-embedding-ada-002\")"
      ]
    },
    {
      "cell_type": "markdown",
      "metadata": {
        "id": "9UOBJ3DnF9f_"
      },
      "source": [
        "# Vector Store"
      ]
    },
    {
      "cell_type": "code",
      "execution_count": null,
      "metadata": {
        "id": "u1ynFtiwMCCy"
      },
      "outputs": [],
      "source": [
        "# Vectorstore (ChromaDB)\n",
        "from langchain_chroma import Chroma as ch\n",
        "persist_directory = \"chroma_db\"\n",
        "db = ch.from_documents(\n",
        "    documents=texts,\n",
        "    embedding=embeddings,\n",
        "    persist_directory=persist_directory\n",
        ")"
      ]
    },
    {
      "cell_type": "markdown",
      "metadata": {
        "id": "qFQee0ycF_SD"
      },
      "source": [
        "# Retriever"
      ]
    },
    {
      "cell_type": "code",
      "execution_count": null,
      "metadata": {
        "id": "X_oTt9-hMB7i"
      },
      "outputs": [],
      "source": [
        "# Retriever with similarity score threshold\n",
        "retriever = db.as_retriever(\n",
        "    search_type=\"similarity\", #change\n",
        "    search_kwargs={\"k\": 4}\n",
        ")"
      ]
    },
    {
      "cell_type": "code",
      "execution_count": null,
      "metadata": {
        "colab": {
          "base_uri": "https://localhost:8080/"
        },
        "id": "AVIgoFZ9MHLu",
        "outputId": "c5a7503b-987f-449c-d92a-dba876fe6778"
      },
      "outputs": [
        {
          "name": "stderr",
          "output_type": "stream",
          "text": [
            "/tmp/ipython-input-9-3785023118.py:16: LangChainDeprecationWarning: The class `ChatOpenAI` was deprecated in LangChain 0.0.10 and will be removed in 1.0. An updated version of the class exists in the :class:`~langchain-openai package and should be used instead. To use it run `pip install -U :class:`~langchain-openai` and import as `from :class:`~langchain_openai import ChatOpenAI``.\n",
            "  llm = ChatOpenAI(model_name=\"gpt-4o-mini\", temperature=0)\n"
          ]
        }
      ],
      "source": [
        "# RAG Prompt\n",
        "from langchain_core.prompts import ChatPromptTemplate\n",
        "from langchain_core.output_parsers import StrOutputParser\n",
        "from langchain_core.runnables import RunnablePassthrough\n",
        "from langchain.chat_models import ChatOpenAI\n",
        "\n",
        "custom_prompt_template = \"\"\"\n",
        "Use ONLY the pieces of information provided in the context to answer the user's question.\n",
        "If the answer is not present in the context, explicitly return: I don't know.\n",
        "Do NOT try to make up an answer or use outside knowledge.\n",
        "Question: {question}\n",
        "Context: {context}\n",
        "Answer:\n",
        "\"\"\"\n",
        "prompt = ChatPromptTemplate.from_template(custom_prompt_template)\n",
        "llm = ChatOpenAI(model_name=\"gpt-4o-mini\", temperature=0)\n",
        "\n",
        "# RAG LCEL chain\n",
        "rag_chain = (\n",
        "    {\n",
        "        \"context\": lambda x: retriever.invoke(x[\"question\"]),\n",
        "        \"question\": RunnablePassthrough(),\n",
        "    }\n",
        "    | prompt\n",
        "    | llm\n",
        "    | StrOutputParser()\n",
        ")"
      ]
    },
    {
      "cell_type": "code",
      "execution_count": null,
      "metadata": {
        "colab": {
          "base_uri": "https://localhost:8080/",
          "height": 53
        },
        "id": "_bvPkR5LOqMv",
        "outputId": "a6e5f500-7b1d-4cbc-efac-ba3135ad48fd"
      },
      "outputs": [
        {
          "data": {
            "application/vnd.google.colaboratory.intrinsic+json": {
              "type": "string"
            },
            "text/plain": [
              "'Meditation is commonly described as a training of mental attention that awakens us beyond the conditioned mind and habitual thinking, and reveals the nature of reality. It is understood as Natural Presence, which is a mindful, clear recognition of what is happening—here, now—and the open, allowing space that includes all experience.'"
            ]
          },
          "execution_count": 10,
          "metadata": {},
          "output_type": "execute_result"
        }
      ],
      "source": [
        "rag_chain.invoke({\"question\": \"What is meditation?\"})"
      ]
    },
    {
      "cell_type": "code",
      "execution_count": null,
      "metadata": {
        "colab": {
          "base_uri": "https://localhost:8080/",
          "height": 122
        },
        "id": "ylHUrWwcS_uL",
        "outputId": "b2896b8a-5c75-496f-9da1-672798e309b8"
      },
      "outputs": [
        {
          "data": {
            "application/vnd.google.colaboratory.intrinsic+json": {
              "type": "string"
            },
            "text/plain": [
              "\"To do breathing exercises, you can follow these steps:\\n\\n1. **Proper Breathing**: Breathe in slowly and quietly, so that a tiny thread placed in front of your nose does not move. Breathe out even more slowly than you breathed in. If possible, leave a short pause between your exhalation and the next inhalation. You can hold your breath for a few seconds if it's comfortable.\\n\\n2. **Life-Energy in Chakras**: Breathe in and hold the breath in the third eye for a couple of seconds, then in the heart center the next time you breathe in.\\n\\n3. **Exhaling Undivine Thoughts**: As you breathe out, visualize exhaling all negative thoughts and impurities.\\n\\n4. **One-Four-Two Breathing**: Inhale while repeating a name or mantra once, hold your breath while repeating it four times, and exhale while repeating it twice.\\n\\n5. **Gradual Counts**: You can gradually increase your counts, such as breathing in for four counts, holding for sixteen, and breathing out for eight.\\n\\n6. **Alternate Nostril Breathing**: Press the right nostril with your thumb and inhale through the left nostril while repeating a name once. Hold your breath for four counts, repeating the name four times, then switch nostrils and exhale through the right nostril while repeating the name twice.\\n\\nThese exercises are simple and effective, and they should not harm your lungs.\""
            ]
          },
          "execution_count": 11,
          "metadata": {},
          "output_type": "execute_result"
        }
      ],
      "source": [
        "rag_chain.invoke({\"question\": \"How to do breathing exercises?\"})"
      ]
    },
    {
      "cell_type": "markdown",
      "metadata": {
        "id": "uz-lgEM7VYtS"
      },
      "source": [
        "# RAG Agent 2"
      ]
    },
    {
      "cell_type": "code",
      "execution_count": null,
      "metadata": {
        "id": "ZzTV5Zt5UTW8"
      },
      "outputs": [],
      "source": [
        "from langchain.tools import tool\n",
        "from typing import List\n",
        "import requests\n",
        "import os\n",
        "from langchain_core.prompts import ChatPromptTemplate\n",
        "from langchain_core.output_parsers import StrOutputParser\n",
        "from langchain_core.runnables import RunnablePassthrough, RunnableLambda\n",
        "from langchain.chat_models import ChatOpenAI\n",
        "\n",
        "# RAG Prompt Template\n",
        "custom_prompt_template = \"\"\"\n",
        "Use ONLY the pieces of information provided in the context to answer the user's question.\n",
        "If the answer is not present in the context, explicitly return: I don't know.\n",
        "Do NOT try to make up an answer or use outside knowledge.\n",
        "Question: {question}\n",
        "Context: {context}\n",
        "Answer:\n",
        "\"\"\"\n",
        "prompt = ChatPromptTemplate.from_template(custom_prompt_template)\n",
        "llm = ChatOpenAI(model_name=\"gpt-4o-mini\", temperature=0)\n",
        "\n",
        "# RAG Chain\n",
        "rag_chain = (\n",
        "    {\n",
        "        \"context\": RunnableLambda(lambda x: retriever.invoke(x[\"question\"])),\n",
        "        \"question\": RunnablePassthrough(),\n",
        "    }\n",
        "    | prompt\n",
        "    | llm\n",
        "    | StrOutputParser()\n",
        ")\n",
        "\n",
        "# Define tool\n",
        "@tool\n",
        "def rag_tool(question: str) -> str:\n",
        "    \"\"\"\n",
        "    Answers a question using a retrieval-augmented generation (RAG) approach.\n",
        "    Retrieves relevant documents from a vector store and uses an LLM to generate the final answer.\n",
        "    \"\"\"\n",
        "    return rag_chain.invoke({\"question\": question})\n"
      ]
    },
    {
      "cell_type": "code",
      "execution_count": null,
      "metadata": {
        "colab": {
          "base_uri": "https://localhost:8080/",
          "height": 122
        },
        "id": "KiuMskW4WVYI",
        "outputId": "761f6f05-198f-4b7f-cbe5-512034dee97d"
      },
      "outputs": [
        {
          "data": {
            "application/vnd.google.colaboratory.intrinsic+json": {
              "type": "string"
            },
            "text/plain": [
              "\"To do breathing exercises, you can follow these steps:\\n\\n1. **Proper Breathing**: Breathe in slowly and quietly, so that a tiny thread placed in front of your nose does not move. Breathe out even more slowly than you inhaled. If possible, leave a short pause between your exhalation and the next inhalation. You can hold your breath for a few seconds if it's comfortable.\\n\\n2. **Life-Energy in Chakras**: Breathe in and hold your breath at the third eye for a couple of seconds, then at the heart center during the second inhalation.\\n\\n3. **Exhaling Undivine Thoughts**: As you breathe out, visualize exhaling all negative thoughts and impurities from your system.\\n\\n4. **One-Four-Two Breathing**: Inhale while repeating a name or mantra once, hold your breath while repeating it four times, and exhale while repeating it twice.\\n\\n5. **Gradual Counts**: You can practice breathing in for four counts, holding for sixteen, and breathing out for eight, but do this gradually.\\n\\n6. **Alternate Nostril Breathing**: Press the right nostril with your thumb and inhale through the left nostril while repeating a name once. Hold your breath for four counts, then release the right nostril and exhale through the left while repeating the name twice. Repeat the process starting with the left nostril.\\n\\nThese exercises are simple and effective, and they should not harm your lungs.\""
            ]
          },
          "execution_count": 13,
          "metadata": {},
          "output_type": "execute_result"
        }
      ],
      "source": [
        "rag_chain.invoke({\"question\": \"How to do breathing exercises?\"})"
      ]
    },
    {
      "cell_type": "code",
      "execution_count": null,
      "metadata": {
        "id": "HlnX8RfGUPPP"
      },
      "outputs": [],
      "source": [
        "from langgraph.prebuilt import create_react_agent\n",
        "from langchain_openai import ChatOpenAI\n",
        "\n",
        "key = userdata.get('OPENAI_API_KEY')\n",
        "model = ChatOpenAI(api_key=key,model=\"gpt-4o-mini\")\n",
        "meditation_assistant = create_react_agent(\n",
        "    model=model,\n",
        "    tools=[rag_tool],\n",
        "    prompt=\"\"\"\n",
        "You are a helpful Meditation assistant. Your job is to use the RAG tool to answer questions using the provided PDF documents.\n",
        "\n",
        "Always return your final answer in **valid JSON** format structured like this:\n",
        "{\n",
        "  \"answer\": \"Your main answer to the user's query.\",\n",
        "  \"source_documents\": [\n",
        "    {\n",
        "      \"title\": \"Document Title or File Name\",\n",
        "      \"page\": \"Page number or location\",\n",
        "      \"snippet\": \"Short snippet from the document that supports the answer\"\n",
        "    },\n",
        "    ...\n",
        "  ]\n",
        "}\n",
        "\n",
        "Ensure the JSON is syntactically valid and can be parsed by a machine.\n",
        "\"\"\",\n",
        "    name=\"meditation_assistant\"\n",
        ")\n"
      ]
    },
    {
      "cell_type": "code",
      "execution_count": null,
      "metadata": {
        "colab": {
          "base_uri": "https://localhost:8080/"
        },
        "id": "7vVIRp7FUPMs",
        "outputId": "41312d63-5e17-4791-ba51-764037bd9153"
      },
      "outputs": [
        {
          "data": {
            "text/plain": [
              "[HumanMessage(content='How to do breathing exercises?', additional_kwargs={}, response_metadata={}, id='76c560c9-6996-4a06-bba2-297e05d58be2'),\n",
              " AIMessage(content='', additional_kwargs={'tool_calls': [{'id': 'call_lq2QEk0kjVtnjmBEfSViffzR', 'function': {'arguments': '{\"question\":\"How to do breathing exercises?\"}', 'name': 'rag_tool'}, 'type': 'function'}], 'refusal': None}, response_metadata={'token_usage': {'completion_tokens': 20, 'prompt_tokens': 199, 'total_tokens': 219, 'completion_tokens_details': {'accepted_prediction_tokens': 0, 'audio_tokens': 0, 'reasoning_tokens': 0, 'rejected_prediction_tokens': 0}, 'prompt_tokens_details': {'audio_tokens': 0, 'cached_tokens': 0}}, 'model_name': 'gpt-4o-mini-2024-07-18', 'system_fingerprint': 'fp_34a54ae93c', 'id': 'chatcmpl-BkoKAm9taL8IGgk8OrbGO3MzZD3FR', 'service_tier': 'default', 'finish_reason': 'tool_calls', 'logprobs': None}, name='meditation_assistant', id='run--49f70df5-5791-49bb-a0d1-b1cf1bf7c458-0', tool_calls=[{'name': 'rag_tool', 'args': {'question': 'How to do breathing exercises?'}, 'id': 'call_lq2QEk0kjVtnjmBEfSViffzR', 'type': 'tool_call'}], usage_metadata={'input_tokens': 199, 'output_tokens': 20, 'total_tokens': 219, 'input_token_details': {'audio': 0, 'cache_read': 0}, 'output_token_details': {'audio': 0, 'reasoning': 0}}),\n",
              " ToolMessage(content=\"To do breathing exercises, you can follow these steps:\\n\\n1. **Proper Breathing**: Breathe in slowly and quietly, ensuring that a tiny thread placed in front of your nose does not move. Breathe out even more slowly than you inhaled. If possible, leave a short pause between your exhalation and the next inhalation. You can hold your breath for a few seconds if it's comfortable.\\n\\n2. **Life-Energy in Chakras**: Breathe in and hold your breath at the third eye for a couple of seconds, then at the heart center during the second inhalation.\\n\\n3. **Exhaling Undivine Thoughts**: As you breathe out, visualize exhaling all negative thoughts and impurities from your system.\\n\\n4. **One-Four-Two Breathing**: Inhale for one count while repeating a name or mantra, hold your breath for four counts while repeating the same name four times, and exhale for two counts while repeating the name or mantra twice.\\n\\n5. **Gradual Increase**: As you progress, you can increase your counts to four-sixteen-eight or even eight-thirty-two-sixteen, but do this gradually.\\n\\n6. **Alternate Nostril Breathing**: Press your right nostril with your thumb and inhale through the left nostril while repeating a name. Hold your breath for four counts, then switch nostrils and exhale through the right while repeating the name twice. Repeat this process starting with the left nostril.\\n\\nThese exercises are simple and effective, and they should not harm your lungs.\", name='rag_tool', id='ea4a631e-0166-4a95-b32f-a7ad3a26709c', tool_call_id='call_lq2QEk0kjVtnjmBEfSViffzR'),\n",
              " AIMessage(content='{\\n  \"answer\": \"To do breathing exercises, you can follow these steps: 1. **Proper Breathing**: Inhale slowly and quietly, ensuring not to disturb a thread placed in front of your nose. Exhale even more slowly, and if comfortable, hold your breath for a few seconds. 2. **Life-Energy in Chakras**: Hold your breath at the third eye for a couple of seconds, then at the heart center during the second inhalation. 3. **Exhaling Undivine Thoughts**: Visualize exhaling all negative thoughts as you breathe out. 4. **One-Four-Two Breathing**: Inhale for one count while repeating a mantra, hold for four counts, and exhale for two counts. 5. **Gradual Increase**: Increase your counts gradually over time. 6. **Alternate Nostril Breathing**: Press one nostril, inhale through the other, hold, and then switch nostrils. These exercises are easy and effective, ensuring lung safety.\",\\n  \"source_documents\": [\\n    {\\n      \"title\": \"Breathing Techniques Document\",\\n      \"page\": \"1\",\\n      \"snippet\": \"Breathe in slowly and quietly, ensuring that a tiny thread placed in front of your nose does not move.\"\\n    },\\n    {\\n      \"title\": \"Breathing Techniques Document\",\\n      \"page\": \"1\",\\n      \"snippet\": \"As you breathe out, visualize exhaling all negative thoughts and impurities from your system.\"\\n    }\\n  ]\\n}', additional_kwargs={'refusal': None}, response_metadata={'token_usage': {'completion_tokens': 316, 'prompt_tokens': 549, 'total_tokens': 865, 'completion_tokens_details': {'accepted_prediction_tokens': 0, 'audio_tokens': 0, 'reasoning_tokens': 0, 'rejected_prediction_tokens': 0}, 'prompt_tokens_details': {'audio_tokens': 0, 'cached_tokens': 0}}, 'model_name': 'gpt-4o-mini-2024-07-18', 'system_fingerprint': 'fp_34a54ae93c', 'id': 'chatcmpl-BkoKFXSgeYbTv4MRghRShDRfNjg49', 'service_tier': 'default', 'finish_reason': 'stop', 'logprobs': None}, name='meditation_assistant', id='run--d0f647e8-331f-44a5-b665-f0396e315298-0', usage_metadata={'input_tokens': 549, 'output_tokens': 316, 'total_tokens': 865, 'input_token_details': {'audio': 0, 'cache_read': 0}, 'output_token_details': {'audio': 0, 'reasoning': 0}})]"
            ]
          },
          "execution_count": 15,
          "metadata": {},
          "output_type": "execute_result"
        }
      ],
      "source": [
        "from langchain_core.messages import (\n",
        "    HumanMessage,\n",
        ")\n",
        "response = meditation_assistant.invoke(\n",
        "    {\n",
        "        \"messages\": [\n",
        "            HumanMessage(content=\"How to do breathing exercises?\")\n",
        "            ]\n",
        "    }\n",
        "    )\n",
        "response[\"messages\"]"
      ]
    },
    {
      "cell_type": "code",
      "execution_count": null,
      "metadata": {
        "colab": {
          "base_uri": "https://localhost:8080/",
          "height": 122
        },
        "id": "Lksapf2zVM1n",
        "outputId": "46365afd-f270-4aef-c13b-a4b763c4037e"
      },
      "outputs": [
        {
          "data": {
            "application/vnd.google.colaboratory.intrinsic+json": {
              "type": "string"
            },
            "text/plain": [
              "'{\\n  \"answer\": \"To do breathing exercises, you can follow these steps: 1. **Proper Breathing**: Inhale slowly and quietly, ensuring not to disturb a thread placed in front of your nose. Exhale even more slowly, and if comfortable, hold your breath for a few seconds. 2. **Life-Energy in Chakras**: Hold your breath at the third eye for a couple of seconds, then at the heart center during the second inhalation. 3. **Exhaling Undivine Thoughts**: Visualize exhaling all negative thoughts as you breathe out. 4. **One-Four-Two Breathing**: Inhale for one count while repeating a mantra, hold for four counts, and exhale for two counts. 5. **Gradual Increase**: Increase your counts gradually over time. 6. **Alternate Nostril Breathing**: Press one nostril, inhale through the other, hold, and then switch nostrils. These exercises are easy and effective, ensuring lung safety.\",\\n  \"source_documents\": [\\n    {\\n      \"title\": \"Breathing Techniques Document\",\\n      \"page\": \"1\",\\n      \"snippet\": \"Breathe in slowly and quietly, ensuring that a tiny thread placed in front of your nose does not move.\"\\n    },\\n    {\\n      \"title\": \"Breathing Techniques Document\",\\n      \"page\": \"1\",\\n      \"snippet\": \"As you breathe out, visualize exhaling all negative thoughts and impurities from your system.\"\\n    }\\n  ]\\n}'"
            ]
          },
          "execution_count": 16,
          "metadata": {},
          "output_type": "execute_result"
        }
      ],
      "source": [
        "response[\"messages\"][-1].content"
      ]
    },
    {
      "cell_type": "code",
      "execution_count": null,
      "metadata": {
        "colab": {
          "base_uri": "https://localhost:8080/"
        },
        "id": "NlO0H5hvAvqY",
        "outputId": "8b18b96f-c4c4-4e96-ce02-88cfbaf48871"
      },
      "outputs": [
        {
          "name": "stdout",
          "output_type": "stream",
          "text": [
            "Answer: To do breathing exercises, you can follow these steps: 1. **Proper Breathing**: Inhale slowly and quietly, ensuring not to disturb a thread placed in front of your nose. Exhale even more slowly, and if comfortable, hold your breath for a few seconds. 2. **Life-Energy in Chakras**: Hold your breath at the third eye for a couple of seconds, then at the heart center during the second inhalation. 3. **Exhaling Undivine Thoughts**: Visualize exhaling all negative thoughts as you breathe out. 4. **One-Four-Two Breathing**: Inhale for one count while repeating a mantra, hold for four counts, and exhale for two counts. 5. **Gradual Increase**: Increase your counts gradually over time. 6. **Alternate Nostril Breathing**: Press one nostril, inhale through the other, hold, and then switch nostrils. These exercises are easy and effective, ensuring lung safety.\n"
          ]
        }
      ],
      "source": [
        "import json\n",
        "response_content = response[\"messages\"][-1].content\n",
        "# Parse content\n",
        "parsed = json.loads(response_content)\n",
        "\n",
        "# Access the answer\n",
        "answer = parsed[\"answer\"]\n",
        "print(\"Answer:\", answer)"
      ]
    },
    {
      "cell_type": "code",
      "execution_count": null,
      "metadata": {
        "colab": {
          "base_uri": "https://localhost:8080/"
        },
        "id": "ydCt0EPKAviY",
        "outputId": "ff70c4d1-ae6f-43a6-9c18-313c067f34de"
      },
      "outputs": [
        {
          "name": "stdout",
          "output_type": "stream",
          "text": [
            "To do breathing exercises, you can follow these steps: 1. **Proper Breathing**: Inhale slowly and quietly, ensuring not to disturb a thread placed in front of your nose. Exhale even more slowly, and if comfortable, hold your breath for a few seconds. 2. **Life-Energy in Chakras**: Hold your breath at the third eye for a couple of seconds, then at the heart center during the second inhalation. 3. **Exhaling Undivine Thoughts**: Visualize exhaling all negative thoughts as you breathe out. 4. **One-Four-Two Breathing**: Inhale for one count while repeating a mantra, hold for four counts, and exhale for two counts. 5. **Gradual Increase**: Increase your counts gradually over time. 6. **Alternate Nostril Breathing**: Press one nostril, inhale through the other, hold, and then switch nostrils. These exercises are easy and effective, ensuring lung safety.\n"
          ]
        }
      ],
      "source": [
        "print(answer)"
      ]
    },
    {
      "cell_type": "markdown",
      "metadata": {
        "id": "c4_u6I11utZv"
      },
      "source": [
        "# Eleven Labs"
      ]
    },
    {
      "cell_type": "code",
      "execution_count": null,
      "metadata": {
        "colab": {
          "base_uri": "https://localhost:8080/"
        },
        "id": "TqMapreq_QG5",
        "outputId": "0908450f-8933-418c-d7f2-857956879b7b"
      },
      "outputs": [
        {
          "name": "stdout",
          "output_type": "stream",
          "text": [
            "Collecting elevenlabs\n",
            "  Downloading elevenlabs-2.4.0-py3-none-any.whl.metadata (6.3 kB)\n",
            "Requirement already satisfied: httpx>=0.21.2 in /usr/local/lib/python3.11/dist-packages (from elevenlabs) (0.28.1)\n",
            "Requirement already satisfied: pydantic>=1.9.2 in /usr/local/lib/python3.11/dist-packages (from elevenlabs) (2.11.7)\n",
            "Requirement already satisfied: pydantic-core<3.0.0,>=2.18.2 in /usr/local/lib/python3.11/dist-packages (from elevenlabs) (2.33.2)\n",
            "Requirement already satisfied: requests>=2.20 in /usr/local/lib/python3.11/dist-packages (from elevenlabs) (2.32.3)\n",
            "Requirement already satisfied: typing_extensions>=4.0.0 in /usr/local/lib/python3.11/dist-packages (from elevenlabs) (4.14.0)\n",
            "Requirement already satisfied: websockets>=11.0 in /usr/local/lib/python3.11/dist-packages (from elevenlabs) (15.0.1)\n",
            "Requirement already satisfied: anyio in /usr/local/lib/python3.11/dist-packages (from httpx>=0.21.2->elevenlabs) (4.9.0)\n",
            "Requirement already satisfied: certifi in /usr/local/lib/python3.11/dist-packages (from httpx>=0.21.2->elevenlabs) (2025.6.15)\n",
            "Requirement already satisfied: httpcore==1.* in /usr/local/lib/python3.11/dist-packages (from httpx>=0.21.2->elevenlabs) (1.0.9)\n",
            "Requirement already satisfied: idna in /usr/local/lib/python3.11/dist-packages (from httpx>=0.21.2->elevenlabs) (3.10)\n",
            "Requirement already satisfied: h11>=0.16 in /usr/local/lib/python3.11/dist-packages (from httpcore==1.*->httpx>=0.21.2->elevenlabs) (0.16.0)\n",
            "Requirement already satisfied: annotated-types>=0.6.0 in /usr/local/lib/python3.11/dist-packages (from pydantic>=1.9.2->elevenlabs) (0.7.0)\n",
            "Requirement already satisfied: typing-inspection>=0.4.0 in /usr/local/lib/python3.11/dist-packages (from pydantic>=1.9.2->elevenlabs) (0.4.1)\n",
            "Requirement already satisfied: charset-normalizer<4,>=2 in /usr/local/lib/python3.11/dist-packages (from requests>=2.20->elevenlabs) (3.4.2)\n",
            "Requirement already satisfied: urllib3<3,>=1.21.1 in /usr/local/lib/python3.11/dist-packages (from requests>=2.20->elevenlabs) (2.4.0)\n",
            "Requirement already satisfied: sniffio>=1.1 in /usr/local/lib/python3.11/dist-packages (from anyio->httpx>=0.21.2->elevenlabs) (1.3.1)\n",
            "Downloading elevenlabs-2.4.0-py3-none-any.whl (740 kB)\n",
            "\u001b[2K   \u001b[90m━━━━━━━━━━━━━━━━━━━━━━━━━━━━━━━━━━━━━━━━\u001b[0m \u001b[32m740.1/740.1 kB\u001b[0m \u001b[31m7.0 MB/s\u001b[0m eta \u001b[36m0:00:00\u001b[0m\n",
            "\u001b[?25hInstalling collected packages: elevenlabs\n",
            "Successfully installed elevenlabs-2.4.0\n"
          ]
        }
      ],
      "source": [
        "!pip install elevenlabs"
      ]
    },
    {
      "cell_type": "code",
      "execution_count": null,
      "metadata": {
        "id": "npU8NxlN_QD6"
      },
      "outputs": [],
      "source": [
        "from elevenlabs.client import ElevenLabs\n",
        "\n",
        "client = ElevenLabs(\n",
        "  api_key='key here',\n",
        ")\n"
      ]
    },
    {
      "cell_type": "code",
      "execution_count": null,
      "metadata": {
        "colab": {
          "base_uri": "https://localhost:8080/"
        },
        "id": "CcS3-VAL_QBU",
        "outputId": "3c1512d7-eb6d-4014-c308-4bb617da4ad7"
      },
      "outputs": [
        {
          "data": {
            "text/plain": [
              "<generator object TextToSpeechClient.convert at 0x7b1dc82c8610>"
            ]
          },
          "execution_count": 21,
          "metadata": {},
          "output_type": "execute_result"
        }
      ],
      "source": [
        "client.text_to_speech.convert(\n",
        "    voice_id=\"bIQlQ61Q7WgbyZAL7IWj\",\n",
        "    output_format=\"mp3_44100_128\",\n",
        "    text=answer,\n",
        "    model_id=\"eleven_multilingual_v2\",\n",
        ")\n"
      ]
    },
    {
      "cell_type": "markdown",
      "metadata": {
        "id": "HxkJPCWsxOSS"
      },
      "source": [
        "# Audio 1"
      ]
    },
    {
      "cell_type": "code",
      "execution_count": null,
      "metadata": {
        "colab": {
          "base_uri": "https://localhost:8080/"
        },
        "id": "t6BzF4XB_f0h",
        "outputId": "2ca8d2cc-30dd-4988-da5c-d69a6ebb8ae5"
      },
      "outputs": [
        {
          "name": "stdout",
          "output_type": "stream",
          "text": [
            "Audio saved to: meditation_speech.mp3\n"
          ]
        }
      ],
      "source": [
        "\n",
        "# Get generator from TTS\n",
        "audio_stream = client.text_to_speech.convert(\n",
        "    voice_id=\"bIQlQ61Q7WgbyZAL7IWj\",\n",
        "    output_format=\"mp3_44100_128\",\n",
        "    text=answer,\n",
        "    model_id=\"eleven_multilingual_v2\",\n",
        ")\n",
        "\n",
        "# Save the stream to a file\n",
        "output_path = \"meditation_speech.mp3\"\n",
        "with open(output_path, \"wb\") as f:\n",
        "    for chunk in audio_stream:\n",
        "        f.write(chunk)\n",
        "\n",
        "print(f\"Audio saved to: {output_path}\")"
      ]
    },
    {
      "cell_type": "markdown",
      "metadata": {
        "id": "H25Ni4PAxQQA"
      },
      "source": [
        "# Audio 2"
      ]
    },
    {
      "cell_type": "code",
      "execution_count": null,
      "metadata": {
        "id": "oZ8MuNLkxcMy"
      },
      "outputs": [],
      "source": [
        "text=\"\"\"Begin by sitting comfortably. Gently close your eyes and take a deep breath in... and slowly exhale.\n",
        "\n",
        "Let your hands rest softly in your lap or by your sides.\n",
        "Allow your body to settle and your shoulders to relax.\n",
        "\n",
        "Take another slow breath in through your nose…\n",
        "and gently breathe out through your mouth.\n",
        "\n",
        "Now, bring your attention to your body.\n",
        "Notice the sensations in your feet, your legs, your hands, your chest.\n",
        "Don’t try to change anything — just observe.\n",
        "\n",
        "If your mind starts to wander, that’s okay.\n",
        "Just gently return your attention to your breath —\n",
        "Inhale…\n",
        "Exhale…\n",
        "\n",
        "Feel the air entering and leaving your body.\n",
        "Notice the rise and fall of your chest.\n",
        "Let your breath anchor you to this moment.\n",
        "\n",
        "Now silently repeat to yourself:\n",
        "“I am here. I am calm. I am safe.”\n",
        "\n",
        "Feel that calm spread through your body —\n",
        "like a gentle wave washing over you, easing any tension.\n",
        "\n",
        "Take one more deep breath…\n",
        "and slowly exhale.\n",
        "\n",
        "When you're ready, gently wiggle your fingers and toes.\n",
        "Bring your awareness back to the room.\n",
        "And when it feels right, softly open your eyes.\n",
        "\n",
        "You’ve just given yourself 5 minutes of peace.\"\"\""
      ]
    },
    {
      "cell_type": "code",
      "execution_count": null,
      "metadata": {
        "colab": {
          "base_uri": "https://localhost:8080/"
        },
        "id": "hoXOx_hAxSPO",
        "outputId": "8abb0607-a06a-4022-e092-7f390027649d"
      },
      "outputs": [
        {
          "name": "stdout",
          "output_type": "stream",
          "text": [
            "Audio saved to: meditation_speech_1.mp3\n"
          ]
        }
      ],
      "source": [
        "# Get generator from TTS with custom voice settings\n",
        "audio_stream = client.text_to_speech.convert(\n",
        "    voice_id=\"bIQlQ61Q7WgbyZAL7IWj\",\n",
        "    output_format=\"mp3_44100_128\",\n",
        "    text=text,\n",
        "    model_id=\"eleven_multilingual_v2\",\n",
        "    voice_settings={\n",
        "        \"speed\": 0.8\n",
        "    }\n",
        ")\n",
        "\n",
        "# Save the stream to a file\n",
        "output_path = \"meditation_speech_1.mp3\"\n",
        "with open(output_path, \"wb\") as f:\n",
        "    for chunk in audio_stream:\n",
        "        f.write(chunk)\n",
        "\n",
        "print(f\"Audio saved to: {output_path}\")\n"
      ]
    }
  ],
  "metadata": {
    "colab": {
      "provenance": [],
      "toc_visible": true
    },
    "kernelspec": {
      "display_name": "Python 3",
      "name": "python3"
    },
    "language_info": {
      "name": "python"
    }
  },
  "nbformat": 4,
  "nbformat_minor": 0
}
