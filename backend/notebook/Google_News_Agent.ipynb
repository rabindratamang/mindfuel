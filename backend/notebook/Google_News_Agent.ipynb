{
  "cells": [
    {
      "cell_type": "code",
      "execution_count": null,
      "metadata": {
        "colab": {
          "base_uri": "https://localhost:8080/"
        },
        "id": "Typ045EDiVKV",
        "outputId": "4424580d-d87d-4fa7-d738-3a088d0dee41"
      },
      "outputs": [
        {
          "name": "stdout",
          "output_type": "stream",
          "text": [
            "\u001b[2K     \u001b[90m━━━━━━━━━━━━━━━━━━━━━━━━━━━━━━━━━━━━━━━\u001b[0m \u001b[32m43.7/43.7 kB\u001b[0m \u001b[31m632.6 kB/s\u001b[0m eta \u001b[36m0:00:00\u001b[0m\n",
            "\u001b[2K   \u001b[90m━━━━━━━━━━━━━━━━━━━━━━━━━━━━━━━━━━━━━━━━\u001b[0m \u001b[32m65.2/65.2 kB\u001b[0m \u001b[31m2.6 MB/s\u001b[0m eta \u001b[36m0:00:00\u001b[0m\n",
            "\u001b[2K   \u001b[90m━━━━━━━━━━━━━━━━━━━━━━━━━━━━━━━━━━━━━━━━\u001b[0m \u001b[32m152.4/152.4 kB\u001b[0m \u001b[31m7.6 MB/s\u001b[0m eta \u001b[36m0:00:00\u001b[0m\n",
            "\u001b[2K   \u001b[90m━━━━━━━━━━━━━━━━━━━━━━━━━━━━━━━━━━━━━━━━\u001b[0m \u001b[32m2.5/2.5 MB\u001b[0m \u001b[31m20.2 MB/s\u001b[0m eta \u001b[36m0:00:00\u001b[0m\n",
            "\u001b[2K   \u001b[90m━━━━━━━━━━━━━━━━━━━━━━━━━━━━━━━━━━━━━━━━\u001b[0m \u001b[32m438.1/438.1 kB\u001b[0m \u001b[31m8.8 MB/s\u001b[0m eta \u001b[36m0:00:00\u001b[0m\n",
            "\u001b[2K   \u001b[90m━━━━━━━━━━━━━━━━━━━━━━━━━━━━━━━━━━━━━━━━\u001b[0m \u001b[32m44.2/44.2 kB\u001b[0m \u001b[31m1.6 MB/s\u001b[0m eta \u001b[36m0:00:00\u001b[0m\n",
            "\u001b[2K   \u001b[90m━━━━━━━━━━━━━━━━━━━━━━━━━━━━━━━━━━━━━━━━\u001b[0m \u001b[32m50.0/50.0 kB\u001b[0m \u001b[31m2.8 MB/s\u001b[0m eta \u001b[36m0:00:00\u001b[0m\n",
            "\u001b[2K   \u001b[90m━━━━━━━━━━━━━━━━━━━━━━━━━━━━━━━━━━━━━━━━\u001b[0m \u001b[32m363.0/363.0 kB\u001b[0m \u001b[31m16.3 MB/s\u001b[0m eta \u001b[36m0:00:00\u001b[0m\n",
            "\u001b[2K   \u001b[90m━━━━━━━━━━━━━━━━━━━━━━━━━━━━━━━━━━━━━━━━\u001b[0m \u001b[32m44.4/44.4 kB\u001b[0m \u001b[31m1.7 MB/s\u001b[0m eta \u001b[36m0:00:00\u001b[0m\n",
            "\u001b[2K   \u001b[90m━━━━━━━━━━━━━━━━━━━━━━━━━━━━━━━━━━━━━━━━\u001b[0m \u001b[32m50.9/50.9 kB\u001b[0m \u001b[31m2.8 MB/s\u001b[0m eta \u001b[36m0:00:00\u001b[0m\n",
            "\u001b[2K   \u001b[90m━━━━━━━━━━━━━━━━━━━━━━━━━━━━━━━━━━━━━━━━\u001b[0m \u001b[32m216.5/216.5 kB\u001b[0m \u001b[31m7.6 MB/s\u001b[0m eta \u001b[36m0:00:00\u001b[0m\n",
            "\u001b[?25h"
          ]
        }
      ],
      "source": [
        "%pip install -qU langchain-openai langchain langgraph langchain_community langgraph-supervisor"
      ]
    },
    {
      "cell_type": "code",
      "execution_count": null,
      "metadata": {
        "id": "9wra2sbRiWax"
      },
      "outputs": [],
      "source": [
        "from pydantic import BaseModel\n",
        "from langchain_openai import ChatOpenAI\n",
        "from google.colab import userdata\n",
        "from langgraph.prebuilt import create_react_agent\n",
        "from langgraph_supervisor import create_supervisor\n",
        "from langchain_core.tools import tool\n",
        "from langchain_core.messages import (\n",
        "    HumanMessage,\n",
        ")\n",
        "from langgraph.prebuilt import create_react_agent\n",
        "import requests\n",
        "key = userdata.get('OPENAI_API_KEY')"
      ]
    },
    {
      "cell_type": "code",
      "execution_count": null,
      "metadata": {
        "id": "CCQSHTMLiWXd"
      },
      "outputs": [],
      "source": [
        "model = ChatOpenAI(api_key=key,model=\"gpt-4o-mini\")"
      ]
    },
    {
      "cell_type": "markdown",
      "metadata": {
        "id": "8RrxVUjTktkj"
      },
      "source": [
        "# Tool"
      ]
    },
    {
      "cell_type": "code",
      "execution_count": null,
      "metadata": {
        "id": "1R7d8SzFiWUp"
      },
      "outputs": [],
      "source": [
        "from langchain_core.tools import tool\n",
        "import requests\n",
        "import os\n",
        "\n",
        "@tool\n",
        "def search_news_by_keyword(keyword: str, region: str = \"en-US\") -> str:\n",
        "    \"\"\"\n",
        "    Search Google News for articles matching a keyword using the google-news13 API.\n",
        "\n",
        "    Args:\n",
        "        keyword (str): The keyword to search for.\n",
        "        region (str): Language-region code (default: 'en-US').\n",
        "\n",
        "    Returns:\n",
        "        str: A summary of the top 3 news articles with title, summary, and link.\n",
        "    \"\"\"\n",
        "    url = \"https://google-news13.p.rapidapi.com/search\"\n",
        "    querystring = {\"keyword\": keyword, \"lr\": region}\n",
        "    headers = {\n",
        "        \"x-rapidapi-key\": \"api key\",\n",
        "        \"x-rapidapi-host\": \"google-news13.p.rapidapi.com\"\n",
        "    }\n",
        "\n",
        "    try:\n",
        "        response = requests.get(url, headers=headers, params=querystring)\n",
        "        response.raise_for_status()\n",
        "        data = response.json()\n",
        "        items = data.get(\"items\", [])\n",
        "\n",
        "        if not items:\n",
        "            return f\"No news found for keyword: {keyword}\"\n",
        "\n",
        "        result = f\"📰 Top News for '{keyword}':\\n\"\n",
        "        for idx, item in enumerate(items[:3], start=1):  # Top 3 items\n",
        "            title = item.get(\"title\", \"No title\")\n",
        "            snippet = item.get(\"snippet\", \"No summary\")\n",
        "            link = item.get(\"newsUrl\", \"No link\")\n",
        "            result += f\"\\n{idx}. {title}\\n📄 {snippet}\\n🔗 {link}\\n\"\n",
        "        return result.strip()\n",
        "\n",
        "    except requests.exceptions.RequestException as e:\n",
        "        return f\"❌ Error fetching news: {str(e)}\"\n",
        "    except (KeyError, TypeError) as e:\n",
        "        return f\"❌ Unexpected response format: {str(e)}\"\n"
      ]
    },
    {
      "cell_type": "markdown",
      "metadata": {
        "id": "Npr1Xb0rkvy4"
      },
      "source": [
        "# Agent"
      ]
    },
    {
      "cell_type": "code",
      "execution_count": null,
      "metadata": {
        "id": "BZmj1snYiWRr"
      },
      "outputs": [],
      "source": [
        "google_assistant = create_react_agent(\n",
        "    model=model,\n",
        "    tools=[search_news_by_keyword],\n",
        "    prompt=\"You are a helpful Google search assistant. Your job is to help users find Google articles based on their search queries.\",\n",
        "    name=\"google_assistant\"\n",
        ")"
      ]
    },
    {
      "cell_type": "markdown",
      "metadata": {
        "id": "obAqzCQukyLQ"
      },
      "source": [
        "# Agent Invoke"
      ]
    },
    {
      "cell_type": "code",
      "execution_count": null,
      "metadata": {
        "colab": {
          "base_uri": "https://localhost:8080/"
        },
        "id": "zPhObCsTiWOV",
        "outputId": "cc4becee-98de-45a4-d12d-dee4442f96a2"
      },
      "outputs": [
        {
          "data": {
            "text/plain": [
              "[HumanMessage(content='mental health', additional_kwargs={}, response_metadata={}, id='f8ca895c-73fc-44a7-8caa-7ef221ecdf6f'),\n",
              " AIMessage(content='', additional_kwargs={'tool_calls': [{'id': 'call_xE835aT8INIGtmAUvc7cvatU', 'function': {'arguments': '{\"keyword\":\"mental health\"}', 'name': 'search_news_by_keyword'}, 'type': 'function'}], 'refusal': None}, response_metadata={'token_usage': {'completion_tokens': 17, 'prompt_tokens': 139, 'total_tokens': 156, 'completion_tokens_details': {'accepted_prediction_tokens': 0, 'audio_tokens': 0, 'reasoning_tokens': 0, 'rejected_prediction_tokens': 0}, 'prompt_tokens_details': {'audio_tokens': 0, 'cached_tokens': 0}}, 'model_name': 'gpt-4o-mini-2024-07-18', 'system_fingerprint': 'fp_34a54ae93c', 'id': 'chatcmpl-Bgw9c5SCnNJI080pkxBaOni9Wl59x', 'service_tier': 'default', 'finish_reason': 'tool_calls', 'logprobs': None}, name='google_assistant', id='run--d7760d33-0f5f-4e73-a019-fb3a2f799fee-0', tool_calls=[{'name': 'search_news_by_keyword', 'args': {'keyword': 'mental health'}, 'id': 'call_xE835aT8INIGtmAUvc7cvatU', 'type': 'tool_call'}], usage_metadata={'input_tokens': 139, 'output_tokens': 17, 'total_tokens': 156, 'input_token_details': {'audio': 0, 'cache_read': 0}, 'output_token_details': {'audio': 0, 'reasoning': 0}}),\n",
              " ToolMessage(content=\"📰 Top News for 'mental health':\\n\\n1. NHS trust cleared of manslaughter after woman takes life in mental health unit\\n📄 Alice Figueiredo died at Goodmayes Hospital in Redbridge in 2015.\\n🔗 https://www.independent.co.uk/news/uk/home-news/alice-figueiredo-nhs-death-suicide-manslaughter-trial-b2766617.html\\n\\n2. Eliza Dushku Graduates with Master’s Degree in Clinical Mental Health Counseling\\n📄 Eliza Dushku graduated with her master's degree in clinical mental health counseling from Lesley University in Cambridge, Mass., on June 6,...\\n🔗 https://people.com/eliza-dushku-graduates-masters-degree-clinical-mental-health-counseling-lesley-university-11750164\\n\\n3. Mothers report worse mental health in new report\\n📄 The decline in maternal mental health occurred across all sociodemographic groups in a recent study.\\n🔗 https://www.washingtonpost.com/health/2025/06/09/mothers-mental-health-decline-parenting/\", name='search_news_by_keyword', id='2e1ba88c-c88e-432a-88e8-6a2b1a500436', tool_call_id='call_xE835aT8INIGtmAUvc7cvatU'),\n",
              " AIMessage(content=\"Here are the top articles related to mental health:\\n\\n1. **NHS trust cleared of manslaughter after woman takes life in mental health unit**\\n   - Alice Figueiredo died at Goodmayes Hospital in Redbridge in 2015.\\n   - [Read more](https://www.independent.co.uk/news/uk/home-news/alice-figueiredo-nhs-death-suicide-manslaughter-trial-b2766617.html)\\n\\n2. **Eliza Dushku Graduates with Master’s Degree in Clinical Mental Health Counseling**\\n   - Eliza Dushku graduated with her master's degree in clinical mental health counseling from Lesley University in Cambridge, Mass., on June 6.\\n   - [Read more](https://people.com/eliza-dushku-graduates-masters-degree-clinical-mental-health-counseling-lesley-university-11750164)\\n\\n3. **Mothers report worse mental health in new report**\\n   - The decline in maternal mental health occurred across all sociodemographic groups in a recent study.\\n   - [Read more](https://www.washingtonpost.com/health/2025/06/09/mothers-mental-health-decline-parenting/)\\n\\nFeel free to ask if you need more information!\", additional_kwargs={'refusal': None}, response_metadata={'token_usage': {'completion_tokens': 264, 'prompt_tokens': 404, 'total_tokens': 668, 'completion_tokens_details': {'accepted_prediction_tokens': 0, 'audio_tokens': 0, 'reasoning_tokens': 0, 'rejected_prediction_tokens': 0}, 'prompt_tokens_details': {'audio_tokens': 0, 'cached_tokens': 0}}, 'model_name': 'gpt-4o-mini-2024-07-18', 'system_fingerprint': 'fp_34a54ae93c', 'id': 'chatcmpl-Bgw9efTgbKoXoi60qSEfGDhPY3J1l', 'service_tier': 'default', 'finish_reason': 'stop', 'logprobs': None}, name='google_assistant', id='run--0497174e-1ddc-41a3-a142-7e14e048866b-0', usage_metadata={'input_tokens': 404, 'output_tokens': 264, 'total_tokens': 668, 'input_token_details': {'audio': 0, 'cache_read': 0}, 'output_token_details': {'audio': 0, 'reasoning': 0}})]"
            ]
          },
          "execution_count": 16,
          "metadata": {},
          "output_type": "execute_result"
        }
      ],
      "source": [
        "response = google_assistant.invoke(\n",
        "    {\n",
        "        \"messages\": [\n",
        "            HumanMessage(content=\"mental health\")\n",
        "            ]\n",
        "    }\n",
        "    )\n",
        "response[\"messages\"]"
      ]
    },
    {
      "cell_type": "code",
      "execution_count": null,
      "metadata": {
        "colab": {
          "base_uri": "https://localhost:8080/",
          "height": 123
        },
        "id": "LiINtLbdig0i",
        "outputId": "b386cbe5-4b73-4d25-a185-2d291c8c5fc8"
      },
      "outputs": [
        {
          "data": {
            "application/vnd.google.colaboratory.intrinsic+json": {
              "type": "string"
            },
            "text/plain": [
              "\"Here are the top articles related to mental health:\\n\\n1. **NHS trust cleared of manslaughter after woman takes life in mental health unit**\\n   - Alice Figueiredo died at Goodmayes Hospital in Redbridge in 2015.\\n   - [Read more](https://www.independent.co.uk/news/uk/home-news/alice-figueiredo-nhs-death-suicide-manslaughter-trial-b2766617.html)\\n\\n2. **Eliza Dushku Graduates with Master’s Degree in Clinical Mental Health Counseling**\\n   - Eliza Dushku graduated with her master's degree in clinical mental health counseling from Lesley University in Cambridge, Mass., on June 6.\\n   - [Read more](https://people.com/eliza-dushku-graduates-masters-degree-clinical-mental-health-counseling-lesley-university-11750164)\\n\\n3. **Mothers report worse mental health in new report**\\n   - The decline in maternal mental health occurred across all sociodemographic groups in a recent study.\\n   - [Read more](https://www.washingtonpost.com/health/2025/06/09/mothers-mental-health-decline-parenting/)\\n\\nFeel free to ask if you need more information!\""
            ]
          },
          "execution_count": 17,
          "metadata": {},
          "output_type": "execute_result"
        }
      ],
      "source": [
        "response[\"messages\"][-1].content"
      ]
    },
    {
      "cell_type": "markdown",
      "metadata": {
        "id": "VLTITTLvk42c"
      },
      "source": [
        "# Class Local"
      ]
    },
    {
      "cell_type": "markdown",
      "metadata": {
        "id": "06KPEdDXk7cJ"
      },
      "source": [
        "# Google News Tool. PY"
      ]
    },
    {
      "cell_type": "code",
      "execution_count": null,
      "metadata": {
        "id": "G7CeNxa8k1Ro"
      },
      "outputs": [],
      "source": [
        "from langchain_core.tools import tool\n",
        "import requests\n",
        "import os\n",
        "from config.setting import RAPIDAPI_KEY\n",
        "@tool\n",
        "def search_news_by_keyword(keyword: str, region: str = \"en-US\") -> str:\n",
        "    \"\"\"\n",
        "    Search Google News for articles matching a keyword using the google-news13 API.\n",
        "\n",
        "    Args:\n",
        "        keyword (str): The keyword to search for.\n",
        "        region (str): Language-region code (default: 'en-US').\n",
        "\n",
        "    Returns:\n",
        "        str: A summary of the top 3 news articles with title, summary, and link.\n",
        "    \"\"\"\n",
        "    rapidapi_key = RAPIDAPI_KEY\n",
        "    url = \"https://google-news13.p.rapidapi.com/search\"\n",
        "    querystring = {\"keyword\": keyword, \"lr\": region}\n",
        "    headers = {\n",
        "        \"x-rapidapi-key\": rapidapi_key,\n",
        "        \"x-rapidapi-host\": \"google-news13.p.rapidapi.com\"\n",
        "    }\n",
        "\n",
        "    try:\n",
        "        response = requests.get(url, headers=headers, params=querystring)\n",
        "        response.raise_for_status()\n",
        "        data = response.json()\n",
        "        items = data.get(\"items\", [])\n",
        "\n",
        "        if not items:\n",
        "            return f\"No news found for keyword: {keyword}\"\n",
        "\n",
        "        result = f\"📰 Top News for '{keyword}':\\n\"\n",
        "        for idx, item in enumerate(items[:3], start=1):  # Top 3 items\n",
        "            title = item.get(\"title\", \"No title\")\n",
        "            snippet = item.get(\"snippet\", \"No summary\")\n",
        "            link = item.get(\"newsUrl\", \"No link\")\n",
        "            result += f\"\\n{idx}. {title}\\n📄 {snippet}\\n🔗 {link}\\n\"\n",
        "        return result.strip()\n",
        "\n",
        "    except requests.exceptions.RequestException as e:\n",
        "        return f\"❌ Error fetching news: {str(e)}\"\n",
        "    except (KeyError, TypeError) as e:\n",
        "        return f\"❌ Unexpected response format: {str(e)}\"\n"
      ]
    },
    {
      "cell_type": "markdown",
      "metadata": {
        "id": "44c5B1jplAPW"
      },
      "source": [
        "# Run google news agent.py"
      ]
    },
    {
      "cell_type": "code",
      "execution_count": null,
      "metadata": {
        "id": "pmiiVrFek1N_"
      },
      "outputs": [],
      "source": [
        "from dotenv import load_dotenv\n",
        "load_dotenv()\n",
        "\n",
        "from agents.google_news_agent import GoogleNewsAgent\n",
        "def main():\n",
        "    agent = GoogleNewsAgent()\n",
        "    query = \"mental health\"\n",
        "    result = agent.run(query)\n",
        "    print(result)\n",
        "\n",
        "if __name__ == \"__main__\":\n",
        "    main()"
      ]
    },
    {
      "cell_type": "markdown",
      "metadata": {
        "id": "co-PTI0ZlDZr"
      },
      "source": [
        "# Google News Agent py"
      ]
    },
    {
      "cell_type": "code",
      "execution_count": null,
      "metadata": {
        "id": "mTl-rmOTk1Kh"
      },
      "outputs": [],
      "source": [
        "from langchain_openai import ChatOpenAI\n",
        "from langgraph.prebuilt import create_react_agent\n",
        "from langchain_core.messages import HumanMessage\n",
        "from tools.spotify_tools import search_spotify_playlists\n",
        "from config.setting import OPENAI_API_KEY\n",
        "\n",
        "class GoogleNewsAgent:\n",
        "    def __init__(self):\n",
        "        self.openai_api_key = OPENAI_API_KEY\n",
        "        self.model = ChatOpenAI(api_key=self.openai_api_key, model=\"gpt-4o-mini\", verbose=True)\n",
        "        self.agent = create_react_agent(\n",
        "            model=self.model,\n",
        "            tools=[search_news_by_keyword],\n",
        "            prompt = (\n",
        "              \"You are a helpful Google search assistant. Your job is to help users find Google articles \"\n",
        "              \"based on their search queries. Use the tool to perform a search and return the top result. \"\n",
        "              \"Once the top result is found, return it as 'Final Answer: <result>' and stop.\"\n",
        "            ),\n",
        "            name=\"google_news_assistant\"\n",
        "        )\n",
        "\n",
        "    def run(self, user_input):\n",
        "        response = self.agent.invoke({\n",
        "            \"messages\": [HumanMessage(content=user_input)]\n",
        "        }, config={\"recursion_limit\": 50})\n",
        "        return response[\"messages\"][-1].content"
      ]
    },
    {
      "cell_type": "code",
      "execution_count": null,
      "metadata": {
        "id": "Q1x7fuU7k1DZ"
      },
      "outputs": [],
      "source": []
    }
  ],
  "metadata": {
    "colab": {
      "provenance": []
    },
    "kernelspec": {
      "display_name": "Python 3",
      "name": "python3"
    },
    "language_info": {
      "name": "python"
    }
  },
  "nbformat": 4,
  "nbformat_minor": 0
}
