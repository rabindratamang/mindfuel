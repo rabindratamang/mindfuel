{
  "cells": [
    {
      "cell_type": "code",
      "execution_count": 1,
      "metadata": {
        "colab": {
          "base_uri": "https://localhost:8080/"
        },
        "id": "Bhl2H8j1l4gy",
        "outputId": "78afd83b-e758-4608-e7ca-ba753bd3fd4e"
      },
      "outputs": [
        {
          "name": "stdout",
          "output_type": "stream",
          "text": [
            "\u001b[2K     \u001b[90m━━━━━━━━━━━━━━━━━━━━━━━━━━━━━━━━━━━━━━━\u001b[0m \u001b[32m43.7/43.7 kB\u001b[0m \u001b[31m689.8 kB/s\u001b[0m eta \u001b[36m0:00:00\u001b[0m\n",
            "\u001b[2K   \u001b[90m━━━━━━━━━━━━━━━━━━━━━━━━━━━━━━━━━━━━━━━━\u001b[0m \u001b[32m65.2/65.2 kB\u001b[0m \u001b[31m2.5 MB/s\u001b[0m eta \u001b[36m0:00:00\u001b[0m\n",
            "\u001b[2K   \u001b[90m━━━━━━━━━━━━━━━━━━━━━━━━━━━━━━━━━━━━━━━━\u001b[0m \u001b[32m152.4/152.4 kB\u001b[0m \u001b[31m6.4 MB/s\u001b[0m eta \u001b[36m0:00:00\u001b[0m\n",
            "\u001b[2K   \u001b[90m━━━━━━━━━━━━━━━━━━━━━━━━━━━━━━━━━━━━━━━━\u001b[0m \u001b[32m2.5/2.5 MB\u001b[0m \u001b[31m14.1 MB/s\u001b[0m eta \u001b[36m0:00:00\u001b[0m\n",
            "\u001b[2K   \u001b[90m━━━━━━━━━━━━━━━━━━━━━━━━━━━━━━━━━━━━━━━━\u001b[0m \u001b[32m438.1/438.1 kB\u001b[0m \u001b[31m14.6 MB/s\u001b[0m eta \u001b[36m0:00:00\u001b[0m\n",
            "\u001b[2K   \u001b[90m━━━━━━━━━━━━━━━━━━━━━━━━━━━━━━━━━━━━━━━━\u001b[0m \u001b[32m44.2/44.2 kB\u001b[0m \u001b[31m2.0 MB/s\u001b[0m eta \u001b[36m0:00:00\u001b[0m\n",
            "\u001b[2K   \u001b[90m━━━━━━━━━━━━━━━━━━━━━━━━━━━━━━━━━━━━━━━━\u001b[0m \u001b[32m50.0/50.0 kB\u001b[0m \u001b[31m3.0 MB/s\u001b[0m eta \u001b[36m0:00:00\u001b[0m\n",
            "\u001b[2K   \u001b[90m━━━━━━━━━━━━━━━━━━━━━━━━━━━━━━━━━━━━━━━━\u001b[0m \u001b[32m363.0/363.0 kB\u001b[0m \u001b[31m9.6 MB/s\u001b[0m eta \u001b[36m0:00:00\u001b[0m\n",
            "\u001b[2K   \u001b[90m━━━━━━━━━━━━━━━━━━━━━━━━━━━━━━━━━━━━━━━━\u001b[0m \u001b[32m44.4/44.4 kB\u001b[0m \u001b[31m1.5 MB/s\u001b[0m eta \u001b[36m0:00:00\u001b[0m\n",
            "\u001b[2K   \u001b[90m━━━━━━━━━━━━━━━━━━━━━━━━━━━━━━━━━━━━━━━━\u001b[0m \u001b[32m50.9/50.9 kB\u001b[0m \u001b[31m1.6 MB/s\u001b[0m eta \u001b[36m0:00:00\u001b[0m\n",
            "\u001b[2K   \u001b[90m━━━━━━━━━━━━━━━━━━━━━━━━━━━━━━━━━━━━━━━━\u001b[0m \u001b[32m216.5/216.5 kB\u001b[0m \u001b[31m9.5 MB/s\u001b[0m eta \u001b[36m0:00:00\u001b[0m\n",
            "\u001b[?25h"
          ]
        }
      ],
      "source": [
        "%pip install -qU langchain-openai langchain langgraph langchain_community langgraph-supervisor"
      ]
    },
    {
      "cell_type": "code",
      "execution_count": 2,
      "metadata": {
        "id": "ID2oibW_mJgn"
      },
      "outputs": [],
      "source": [
        "from pydantic import BaseModel\n",
        "from langchain_openai import ChatOpenAI\n",
        "from google.colab import userdata\n",
        "from langgraph.prebuilt import create_react_agent\n",
        "from langgraph_supervisor import create_supervisor\n",
        "from langchain_core.tools import tool\n",
        "from langchain_core.messages import (\n",
        "    HumanMessage,\n",
        ")\n",
        "from langgraph.prebuilt import create_react_agent\n",
        "import requests\n",
        "key = userdata.get('OPENAI_API_KEY')"
      ]
    },
    {
      "cell_type": "code",
      "execution_count": null,
      "metadata": {
        "id": "QeQa24pRl79e"
      },
      "outputs": [],
      "source": [
        "model = ChatOpenAI(api_key=key,model=\"gpt-4o-mini\")"
      ]
    },
    {
      "cell_type": "code",
      "execution_count": null,
      "metadata": {
        "colab": {
          "base_uri": "https://localhost:8080/"
        },
        "id": "Xc2epipWI1ls",
        "outputId": "7b6832f9-0af1-420e-e4cf-164ff94456d8"
      },
      "outputs": [
        {
          "name": "stdout",
          "output_type": "stream",
          "text": [
            "{'contents': [{'type': 'video', 'video': {'author': {'avatar': [{'height': 68, 'url': 'https://yt3.ggpht.com/HamyHLIfpmtOeEE9Myu3qdyRSnGi3iCWCm5KL7JJ403UG12z3MAVcWqDYRXQcwFrykI7GaC07ys=s88-c-k-c0x00ffffff-no-rj', 'width': 68}], 'badges': [], 'canonicalBaseUrl': None, 'channelId': 'UCOvEMf00DnwdkpOCRWdc6uA', 'title': 'Charli xcx'}, 'badges': ['4K'], 'descriptionSnippet': 'Director: Mitch Ryan Management: Sam Pringle, Twiggy Rowley, Brandon Creed Creative Director: Imogene Strauss Atlantic\\xa0...', 'isLiveNow': False, 'lengthSeconds': 297, 'movingThumbnails': [{'height': 180, 'url': 'https://i.ytimg.com/an_webp/agu22bqGHto/mqdefault_6s.webp?du=3000&sqp=CMzSm8IG&rs=AOn4CLB2zEqdJkFP0gtk08B61LpVLVn7PQ', 'width': 320}], 'publishedTimeText': '3 weeks ago', 'stats': {'views': 11432261}, 'thumbnails': [{'height': 202, 'url': 'https://i.ytimg.com/vi/agu22bqGHto/hq720.jpg?sqp=-oaymwEcCOgCEMoBSFXyq4qpAw4IARUAAIhCGAFwAcABBg==&rs=AOn4CLBS2cmGJ6v7ojW_OkJI7XftmLHx0w', 'width': 360}, {'height': 404, 'url': 'https://i.ytimg.com/vi/agu22bqGHto/hq720.jpg?sqp=-oaymwEcCNAFEJQDSFXyq4qpAw4IARUAAIhCGAFwAcABBg==&rs=AOn4CLBQbU_EJk6dvgcHuZo1_9li3ag6lA', 'width': 720}], 'title': 'Charli xcx - party 4 u (official video)', 'videoId': 'agu22bqGHto'}}, {'type': 'video', 'video': {'author': {'avatar': [{'height': 68, 'url': 'https://yt3.ggpht.com/HamyHLIfpmtOeEE9Myu3qdyRSnGi3iCWCm5KL7JJ403UG12z3MAVcWqDYRXQcwFrykI7GaC07ys=s88-c-k-c0x00ffffff-no-rj', 'width': 68}], 'badges': [], 'canonicalBaseUrl': None, 'channelId': 'UCOvEMf00DnwdkpOCRWdc6uA', 'title': 'Charli xcx'}, 'badges': [], 'descriptionSnippet': \"The official audio for Charli XCX - party 4 u Taken from the fourth studio album how i'm feeling now released in 2020, which\\xa0...\", 'isLiveNow': False, 'lengthSeconds': 297, 'movingThumbnails': [{'height': 180, 'url': 'https://i.ytimg.com/an_webp/fKrTCGGEiWY/mqdefault_6s.webp?du=3000&sqp=CIjEm8IG&rs=AOn4CLB0Z7PE8sHWMwlRlWrj0xOouwMDLQ', 'width': 320}], 'publishedTimeText': '5 years ago', 'stats': {'views': 7493044}, 'thumbnails': [{'height': 202, 'url': 'https://i.ytimg.com/vi/fKrTCGGEiWY/hq720.jpg?sqp=-oaymwE2COgCEMoBSFXyq4qpAygIARUAAIhCGAFwAcABBvABAfgB_gmAAtAFigIMCAAQARhlIGUoZTAP&rs=AOn4CLCCFYNsVWA6Ds7C116VS4U_7U38CQ', 'width': 360}, {'height': 404, 'url': 'https://i.ytimg.com/vi/fKrTCGGEiWY/hq720.jpg?sqp=-oaymwE2CNAFEJQDSFXyq4qpAygIARUAAIhCGAFwAcABBvABAfgB_gmAAtAFigIMCAAQARhlIGUoZTAP&rs=AOn4CLA9YPBvZGfYob4yU3wcpy_tfBdSuQ', 'width': 720}], 'title': 'Charli XCX - party 4 u [Official Audio]', 'videoId': 'fKrTCGGEiWY'}}, {'type': 'video', 'video': {'author': {'avatar': [{'height': 68, 'url': 'https://yt3.ggpht.com/9akqTc59Ou7eaxqr89eTRvOJd68k_Q7bdRRP-JZ8J8RVJWsNzX4L8sTHXbpYNv_66Fz_vmSJGg=s68-c-k-c0x00ffffff-no-rj', 'width': 68}], 'badges': [], 'canonicalBaseUrl': '/@LatinHype.', 'channelId': 'UC-AlofdKECUdhXrbJQZ6iEg', 'title': 'LatinHype'}, 'badges': [], 'descriptionSnippet': 'Charli XCX - PARTY 4 U I only threw this party for you » Apoyo Charli XCX: https://www.instagram.com/charli_xcx/ (Lyrics):\\xa0...', 'isLiveNow': False, 'lengthSeconds': 297, 'movingThumbnails': [{'height': 180, 'url': 'https://i.ytimg.com/an_webp/QzyeZ5vP3PI/mqdefault_6s.webp?du=3000&sqp=CJrSm8IG&rs=AOn4CLDuGVCXOWnyO_e1QGm23XgOzKEAsQ', 'width': 320}], 'publishedTimeText': '1 month ago', 'stats': {'views': 1043904}, 'thumbnails': [{'height': 202, 'url': 'https://i.ytimg.com/vi/QzyeZ5vP3PI/hq720.jpg?sqp=-oaymwEcCOgCEMoBSFXyq4qpAw4IARUAAIhCGAFwAcABBg==&rs=AOn4CLA8qD1p826aA2aLDRoK717B9Q-smQ', 'width': 360}, {'height': 404, 'url': 'https://i.ytimg.com/vi/QzyeZ5vP3PI/hq720.jpg?sqp=-oaymwEcCNAFEJQDSFXyq4qpAw4IARUAAIhCGAFwAcABBg==&rs=AOn4CLC4cQVP1VSfbyze-m66MPdtWj_T0g', 'width': 720}], 'title': 'Charli XCX - PARTY 4 U', 'videoId': 'QzyeZ5vP3PI'}}, {'type': 'video', 'video': {'author': {'avatar': [{'height': 68, 'url': 'https://yt3.ggpht.com/ytc/AIdro_mR9YvVQWryQq9p9QBP8dow8ZDzVdD-SdEo1ZMCXjl79Q=s68-c-k-c0x00ffffff-no-rj', 'width': 68}], 'badges': [{'text': 'Verified', 'type': 'VERIFIED_CHANNEL'}], 'canonicalBaseUrl': '/@pizzamusic6344', 'channelId': 'UCa2Nr1Qm93k07VuwEXCnrog', 'title': 'Pizza Music'}, 'badges': [], 'descriptionSnippet': \"Charli XCX - party 4 u Lyrics: [Chorus] I only threw this party for you Only threw this party for you, for you, for you I was hopin'\\xa0...\", 'isLiveNow': False, 'lengthSeconds': 298, 'movingThumbnails': [{'height': 180, 'url': 'https://i.ytimg.com/an_webp/tmiMR5x30HI/mqdefault_6s.webp?du=3000&sqp=CKjfm8IG&rs=AOn4CLCmLLEc46KJTwADJxeyG2kLP9DnAg', 'width': 320}], 'publishedTimeText': '1 month ago', 'stats': {'views': 1305244}, 'thumbnails': [{'height': 202, 'url': 'https://i.ytimg.com/vi/tmiMR5x30HI/hq720.jpg?sqp=-oaymwEcCOgCEMoBSFXyq4qpAw4IARUAAIhCGAFwAcABBg==&rs=AOn4CLDQ93RByPC9UdbbixjQVv4lSH9lPg', 'width': 360}, {'height': 404, 'url': 'https://i.ytimg.com/vi/tmiMR5x30HI/hq720.jpg?sqp=-oaymwEcCNAFEJQDSFXyq4qpAw4IARUAAIhCGAFwAcABBg==&rs=AOn4CLBGGOTBBdw9wXUdxFUe6wQCEONU6g', 'width': 720}], 'title': 'Charli XCX - PARTY 4 U (Lyrics)', 'videoId': 'tmiMR5x30HI'}}, {'type': 'video', 'video': {'author': {'avatar': [{'height': 68, 'url': 'https://yt3.ggpht.com/ytc/AIdro_korvXCmjDqO5uJZF4Q0fbFGTeHHOnfyZmxdbP-VLqcS_k=s68-c-k-c0x00ffffff-no-rj', 'width': 68}], 'badges': [{'text': 'Verified', 'type': 'VERIFIED_CHANNEL'}], 'canonicalBaseUrl': '/@vibemusic.', 'channelId': 'UChO8h2G8UjOVc081rgYU8XQ', 'title': 'Vibe Music'}, 'badges': [], 'descriptionSnippet': 'Charli XCX - PARTY 4 U I only threw this party for you » Apoyo Charli XCX: https://www.instagram.com/charli_xcx/ (Lyrics):\\xa0...', 'isLiveNow': False, 'lengthSeconds': 298, 'movingThumbnails': [{'height': 180, 'url': 'https://i.ytimg.com/an_webp/xdwK03WDJWk/mqdefault_6s.webp?du=3000&sqp=CN_Em8IG&rs=AOn4CLBZiaxED-IT9UaUEwb5hlUEJapLxw', 'width': 320}], 'publishedTimeText': '1 month ago', 'stats': {'views': 3535046}, 'thumbnails': [{'height': 202, 'url': 'https://i.ytimg.com/vi/xdwK03WDJWk/hq720.jpg?sqp=-oaymwEcCOgCEMoBSFXyq4qpAw4IARUAAIhCGAFwAcABBg==&rs=AOn4CLAUHJ-LQ_KwBG9mynfkG0iCTdY2Sw', 'width': 360}, {'height': 404, 'url': 'https://i.ytimg.com/vi/xdwK03WDJWk/hq720.jpg?sqp=-oaymwEcCNAFEJQDSFXyq4qpAw4IARUAAIhCGAFwAcABBg==&rs=AOn4CLCF-thAl_u-ievzcxfy6j8dSKBKGg', 'width': 720}], 'title': 'Charli XCX - party 4 u (Lyrics)', 'videoId': 'xdwK03WDJWk'}}, {'type': 'video', 'video': {'author': {'avatar': [{'height': 68, 'url': 'https://yt3.ggpht.com/_TnqUHCFB85dJkH6pKO1H7yVXfD4hFjrtdTEXXW0YNqWBZJfgmTiFz1UToUEJuvBxoT-GFg9qEE=s68-c-k-c0x00ffffff-no-rj', 'width': 68}], 'badges': [{'text': 'Verified', 'type': 'VERIFIED_CHANNEL'}], 'canonicalBaseUrl': '/@creativchaos', 'channelId': 'UCAKAf5d5-O5t58gEjXhF3mg', 'title': 'Creative Chaos'}, 'badges': [], 'descriptionSnippet': '⏬ Download / Stream: ⚡️ Charli XCX: https://www.instagram.com/charli_xcx https://x.com/charli_xcx\\xa0...', 'isLiveNow': False, 'lengthSeconds': 298, 'movingThumbnails': [{'height': 180, 'url': 'https://i.ytimg.com/an_webp/3SyHon9HHuY/mqdefault_6s.webp?du=3000&sqp=CNy_m8IG&rs=AOn4CLC7RZHlIVMtAtfVkSm-ML47wBGK-w', 'width': 320}], 'publishedTimeText': '1 month ago', 'stats': {'views': 1361570}, 'thumbnails': [{'height': 202, 'url': 'https://i.ytimg.com/vi/3SyHon9HHuY/hq720.jpg?sqp=-oaymwEcCOgCEMoBSFXyq4qpAw4IARUAAIhCGAFwAcABBg==&rs=AOn4CLDHVxNMLjydt9zVka2iiR2uViLy7A', 'width': 360}, {'height': 404, 'url': 'https://i.ytimg.com/vi/3SyHon9HHuY/hq720.jpg?sqp=-oaymwEcCNAFEJQDSFXyq4qpAw4IARUAAIhCGAFwAcABBg==&rs=AOn4CLA5uPeEIlpFx6gQQk8pT4bmXcRnig', 'width': 720}], 'title': 'Charli XCX - party 4 u (Lyrics)', 'videoId': '3SyHon9HHuY'}}, {'type': 'video', 'video': {'author': {'avatar': [{'height': 68, 'url': 'https://yt3.ggpht.com/mnQBMqGyqDo2hSOq5DxV9XTSdcgDvKJkbaat00ZDiPYZ8DbuZ9iIw26uePRKPQF9nA7suTWsQg=s68-c-k-c0x00ffffff-no-rj', 'width': 68}], 'badges': [], 'canonicalBaseUrl': '/@aidensaesthetics', 'channelId': 'UCgtT0-OPO_-RERRjeJJdbWg', 'title': \"aiden's aesthetics\"}, 'badges': [], 'descriptionSnippet': \"i only threw this party for you ♪ lyrics i only threw this party for you only threw this party for you, for you, for you i was hopin' you\\xa0...\", 'isLiveNow': False, 'lengthSeconds': 258, 'movingThumbnails': None, 'publishedTimeText': '2 months ago', 'stats': {'views': 8400}, 'thumbnails': [{'height': 202, 'url': 'https://i.ytimg.com/vi/25zPIQiUA8o/hq720.jpg?sqp=-oaymwEcCOgCEMoBSFXyq4qpAw4IARUAAIhCGAFwAcABBg==&rs=AOn4CLAoHEl6AYwFJ2SEl67l-UBHS0yvOw', 'width': 360}, {'height': 404, 'url': 'https://i.ytimg.com/vi/25zPIQiUA8o/hq720.jpg?sqp=-oaymwEcCNAFEJQDSFXyq4qpAw4IARUAAIhCGAFwAcABBg==&rs=AOn4CLChBuC0ImEX8jDPyjb9YJzHQHNAdg', 'width': 720}], 'title': 'charli xcx - party 4 u (sped up & reverb)', 'videoId': '25zPIQiUA8o'}}, {'type': 'video', 'video': {'author': {'avatar': [{'height': 68, 'url': 'https://yt3.ggpht.com/ytc/AIdro_khxlZ2aCTi1bIbxB6KwfV0PLGX-UK1yd1FAipC5kawRA=s68-c-k-c0x00ffffff-no-rj', 'width': 68}], 'badges': [], 'canonicalBaseUrl': '/@quietgirls3009', 'channelId': 'UCthr6Zt-S-fdz7vTqQA_f_A', 'title': 'quietgirls'}, 'badges': [], 'descriptionSnippet': 'charli xcx - party 4 u video clip from sailor moon #charlixcx.', 'isLiveNow': False, 'lengthSeconds': 317, 'movingThumbnails': [{'height': 180, 'url': 'https://i.ytimg.com/an_webp/8yZvi25aiug/mqdefault_6s.webp?du=3000&sqp=CIDOm8IG&rs=AOn4CLCi8F1TrNXprJ4pXdWy_Jam7W1Slw', 'width': 320}], 'publishedTimeText': '4 years ago', 'stats': {'views': 78604}, 'thumbnails': [{'height': 202, 'url': 'https://i.ytimg.com/vi/8yZvi25aiug/hq720.jpg?sqp=-oaymwEcCOgCEMoBSFXyq4qpAw4IARUAAIhCGAFwAcABBg==&rs=AOn4CLDI6aCHby3alIvrhTSg70Ac4iqATQ', 'width': 360}, {'height': 404, 'url': 'https://i.ytimg.com/vi/8yZvi25aiug/hq720.jpg?sqp=-oaymwEcCNAFEJQDSFXyq4qpAw4IARUAAIhCGAFwAcABBg==&rs=AOn4CLDRfAWkiZF7auDoEnY6YIrAsZcYZQ', 'width': 720}], 'title': 'charli xcx - party 4 u (slowed and reverb)', 'videoId': '8yZvi25aiug'}}, {'type': 'video', 'video': {'author': {'avatar': [{'height': 68, 'url': 'https://yt3.ggpht.com/7jIdb6_eMLzz6YKZqFLXJofK_8MxTXMMZTnsgE6pZ0H8AlFC2gYh0DXHNYcGYbwSvc5Z95_hwA=s68-c-k-c0x00ffffff-no-rj', 'width': 68}], 'badges': [], 'canonicalBaseUrl': '/@speedcore-', 'channelId': 'UCLFsL8m7wOERtmR2KLdDBCw', 'title': 'speedcore'}, 'badges': [], 'descriptionSnippet': \"[Chorus] I only threw this party for you Only threw this party for you, for you, for you I was hopin' you would come through I was\\xa0...\", 'isLiveNow': False, 'lengthSeconds': 248, 'movingThumbnails': [{'height': 180, 'url': 'https://i.ytimg.com/an_webp/eWmMmelg7Fw/mqdefault_6s.webp?du=3000&sqp=CKjMm8IG&rs=AOn4CLB_KSgKkoFmi5dnalEvTc7zQUSRPA', 'width': 320}], 'publishedTimeText': '2 months ago', 'stats': {'views': 127419}, 'thumbnails': [{'height': 202, 'url': 'https://i.ytimg.com/vi/eWmMmelg7Fw/hq720.jpg?sqp=-oaymwEcCOgCEMoBSFXyq4qpAw4IARUAAIhCGAFwAcABBg==&rs=AOn4CLBOzkHCUvpl-zsUySw3ZnnVVUzkxw', 'width': 360}, {'height': 404, 'url': 'https://i.ytimg.com/vi/eWmMmelg7Fw/hq720.jpg?sqp=-oaymwEcCNAFEJQDSFXyq4qpAw4IARUAAIhCGAFwAcABBg==&rs=AOn4CLC_MPfCGA25YZaJJFhSI9XPZO7Mlw', 'width': 720}], 'title': 'charli xcx - party 4 u [ sped up ] lyrics', 'videoId': 'eWmMmelg7Fw'}}, {'type': 'video', 'video': {'author': {'avatar': [{'height': 68, 'url': 'https://yt3.ggpht.com/ytc/AIdro_nsFMFbkD3L98rRSVIw4VCMb31M-Whdigs4dOBjTfV8I9I=s68-c-k-c0x00ffffff-no-rj', 'width': 68}], 'badges': [], 'canonicalBaseUrl': '/@flofloresti8142', 'channelId': 'UCoxj1PqXNAGWluzkXhDzwHA', 'title': 'Flo'}, 'badges': [], 'descriptionSnippet': None, 'isLiveNow': False, 'lengthSeconds': 361, 'movingThumbnails': [{'height': 180, 'url': 'https://i.ytimg.com/an_webp/tPiJmwSyIOQ/mqdefault_6s.webp?du=3000&sqp=COTfm8IG&rs=AOn4CLALNBXBCeYBjAjxZ4kaUktpm2TiSw', 'width': 320}], 'publishedTimeText': '5 years ago', 'stats': {'views': 297554}, 'thumbnails': [{'height': 202, 'url': 'https://i.ytimg.com/vi/tPiJmwSyIOQ/hq720.jpg?sqp=-oaymwEcCOgCEMoBSFXyq4qpAw4IARUAAIhCGAFwAcABBg==&rs=AOn4CLC65LW-uhjE3zR77QPhjoQgLdQDFQ', 'width': 360}, {'height': 404, 'url': 'https://i.ytimg.com/vi/tPiJmwSyIOQ/hq720.jpg?sqp=-oaymwEcCNAFEJQDSFXyq4qpAw4IARUAAIhCGAFwAcABBg==&rs=AOn4CLChFdBjgUMTmIpNkgsdTsqhWMvIww', 'width': 720}], 'title': 'Charli XCX-party 4 u (slowed + reverb)', 'videoId': 'tPiJmwSyIOQ'}}, {'type': 'video', 'video': {'author': {'avatar': [{'height': 68, 'url': 'https://yt3.ggpht.com/GnDSzzXA_YMHyLsJJu_KB9PUzJopOnOVtxdhN0JBhgQKakUwOUaP3A1N3Igcycpxcb7F0y6K=s68-c-k-c0x00ffffff-no-rj', 'width': 68}], 'badges': [{'text': 'Verified', 'type': 'VERIFIED_CHANNEL'}], 'canonicalBaseUrl': '/@warnermusicthailand', 'channelId': 'UCVc5qanwzYJeVnd7o1lhMGQ', 'title': 'Warner Music Thailand'}, 'badges': ['4K'], 'descriptionSnippet': \"ชี Charli xcx เสิร์ฟปาร์ตี้ให้แบบฉ่ำมง ห้ามพลาดนะ! 'party 4 u' ซับไทย แบบตู้ม! แตก! ระเบิด! มาแล้ว ไปฟังด่วน #party4u\\xa0...\", 'isLiveNow': False, 'lengthSeconds': 297, 'movingThumbnails': None, 'publishedTimeText': '2 months ago', 'stats': {'views': 2785792}, 'thumbnails': [{'height': 202, 'url': 'https://i.ytimg.com/vi/L6Lvy2QmIN4/hq720.jpg?sqp=-oaymwEcCOgCEMoBSFXyq4qpAw4IARUAAIhCGAFwAcABBg==&rs=AOn4CLBOvLk5Eh8OGs1ne35-R8qYEjqCQg', 'width': 360}, {'height': 404, 'url': 'https://i.ytimg.com/vi/L6Lvy2QmIN4/hq720.jpg?sqp=-oaymwEcCNAFEJQDSFXyq4qpAw4IARUAAIhCGAFwAcABBg==&rs=AOn4CLB3rjYnAGEE7eRVM3DzSmxdRJRt9A', 'width': 720}], 'title': '[Sub Thai] party 4 u - Charli xcx', 'videoId': 'L6Lvy2QmIN4'}}, {'type': 'video', 'video': {'author': {'avatar': [{'height': 68, 'url': 'https://yt3.ggpht.com/p5quhPUIQ3mjzF1y6ojhmqowpDgeCVDhVNvsy93u-eL4poWXxhc2Vo9uLd5PYZ93uwzHJvj1JTc=s68-c-k-c0x00ffffff-no-rj', 'width': 68}], 'badges': [], 'canonicalBaseUrl': '/@yyoshix.', 'channelId': 'UCh56XNMULM9EHzJ8KvAdwCA', 'title': 'yoshix'}, 'badges': [], 'descriptionSnippet': 'જ⁀➴ ✰ — artist ; charli xcx ✰ — song ; party 4 u ──────────── ✦ — sub count ; \\u200b5722 !', 'isLiveNow': False, 'lengthSeconds': 249, 'movingThumbnails': None, 'publishedTimeText': '3 months ago', 'stats': {'views': 138210}, 'thumbnails': [{'height': 202, 'url': 'https://i.ytimg.com/vi/wj2CEJKGb8s/hq720.jpg?sqp=-oaymwE2COgCEMoBSFXyq4qpAygIARUAAIhCGAFwAcABBvABAfgB_gmAAtAFigIMCAAQARhUIF8oZTAP&rs=AOn4CLBMsnrCXPI59cFZ5knBRQM_deQRWw', 'width': 360}, {'height': 404, 'url': 'https://i.ytimg.com/vi/wj2CEJKGb8s/hq720.jpg?sqp=-oaymwE2CNAFEJQDSFXyq4qpAygIARUAAIhCGAFwAcABBvABAfgB_gmAAtAFigIMCAAQARhUIF8oZTAP&rs=AOn4CLBP2bBRC4gdiRWzOdiOgkKD7nenVg', 'width': 720}], 'title': 'charli xcx - party 4 u (sped up + reverb)', 'videoId': 'wj2CEJKGb8s'}}, {'type': 'video', 'video': {'author': {'avatar': [{'height': 68, 'url': 'https://yt3.ggpht.com/QFkpXyKnfRnhfsqiLe1-BS13ahlgqsE0ii0BQOFrhPFINYpK8-935jYFSPSX2OZFb1iqPICw=s68-c-k-c0x00ffffff-no-rj', 'width': 68}], 'badges': [], 'canonicalBaseUrl': '/@sloowed_songs', 'channelId': 'UCCXuLSvr3ltF1rHN293T-9g', 'title': 'slowed songs'}, 'badges': [], 'descriptionSnippet': 'charli xcx - party 4 ug [ slowed + reverb ] (lyrics) [Chorus] I only threw this party for you Only threw this party for you, for you, for you\\xa0...', 'isLiveNow': False, 'lengthSeconds': 320, 'movingThumbnails': [{'height': 180, 'url': 'https://i.ytimg.com/an_webp/ImI-7pcKq04/mqdefault_6s.webp?du=3000&sqp=COb3m8IG&rs=AOn4CLAH54lxR0W0rjD4vdb5I4z1ltY9eg', 'width': 320}], 'publishedTimeText': '2 months ago', 'stats': {'views': 42691}, 'thumbnails': [{'height': 202, 'url': 'https://i.ytimg.com/vi/ImI-7pcKq04/hq720.jpg?sqp=-oaymwEcCOgCEMoBSFXyq4qpAw4IARUAAIhCGAFwAcABBg==&rs=AOn4CLCUN9_R0eDQicEdN3ItUVYzPefUaA', 'width': 360}, {'height': 404, 'url': 'https://i.ytimg.com/vi/ImI-7pcKq04/hq720.jpg?sqp=-oaymwEcCNAFEJQDSFXyq4qpAw4IARUAAIhCGAFwAcABBg==&rs=AOn4CLDf9oJ6cvjVayW1tgCd-gXXLXwjIg', 'width': 720}], 'title': 'charli xcx - party 4 u [ slowed + reverb ] (lyrics)', 'videoId': 'ImI-7pcKq04'}}, {'type': 'video', 'video': {'author': {'avatar': [{'height': 68, 'url': 'https://yt3.ggpht.com/wER_TJ76LprlVB15zaBMaIpmHI_kAvXbOXNqex8aGLiKnhZB2eFiRCMwTrplWFTc-DPZwGE6Zg=s68-c-k-c0x00ffffff-no-rj', 'width': 68}], 'badges': [], 'canonicalBaseUrl': '/@Extravaganzamusics', 'channelId': 'UCtRwG0WkMZEWNmEwwPlrY0Q', 'title': 'EXTRAVAGANZA MUSIC'}, 'badges': [], 'descriptionSnippet': 'fypyoutube #music #song #trending #extravaganzamusic #trendsong #party4u #tagalogversion.', 'isLiveNow': False, 'lengthSeconds': 204, 'movingThumbnails': None, 'publishedTimeText': '1 month ago', 'stats': {'views': 1255781}, 'thumbnails': [{'height': 270, 'url': 'https://i.ytimg.com/vi/4xT44VznPuw/hqdefault.jpg?sqp=-oaymwEcCOADEI4CSFXyq4qpAw4IARUAAIhCGAFwAcABBg==&rs=AOn4CLBDYIybVnUNYKjEb-QW4hkNfksYNg', 'width': 480}], 'title': 'Party 4 U - Tagalog Version', 'videoId': '4xT44VznPuw'}}, {'type': 'video', 'video': {'author': {'avatar': [{'height': 68, 'url': 'https://yt3.ggpht.com/xB5L6uM74Zftcyqw23x-THkmjGdtziuWTUecY0xxt8VmFxEOZEZyFFPGBoqc83TBCBLYL_lv=s68-c-k-c0x00ffffff-no-rj', 'width': 68}], 'badges': [], 'canonicalBaseUrl': '/@mellifluous5078', 'channelId': 'UCnI90l_g6CPuNYKEZeRzd8w', 'title': 'Mellifluous'}, 'badges': [], 'descriptionSnippet': \"Lyrics: [Chorus] I only threw this party for you Only threw this party for you, for you, for you I was hopin' you would come through\\xa0...\", 'isLiveNow': False, 'lengthSeconds': 298, 'movingThumbnails': [{'height': 180, 'url': 'https://i.ytimg.com/an_webp/MZG9iKcZAvQ/mqdefault_6s.webp?du=3000&sqp=CPDbm8IG&rs=AOn4CLD-pjJoS8--o3SDgA12MKfod-5lpQ', 'width': 320}], 'publishedTimeText': '3 months ago', 'stats': {'views': 3117324}, 'thumbnails': [{'height': 202, 'url': 'https://i.ytimg.com/vi/MZG9iKcZAvQ/hq720.jpg?sqp=-oaymwEcCOgCEMoBSFXyq4qpAw4IARUAAIhCGAFwAcABBg==&rs=AOn4CLC9iyXdAlQuCM1sQICvKJQsjy6TzA', 'width': 360}, {'height': 404, 'url': 'https://i.ytimg.com/vi/MZG9iKcZAvQ/hq720.jpg?sqp=-oaymwEcCNAFEJQDSFXyq4qpAw4IARUAAIhCGAFwAcABBg==&rs=AOn4CLCF4vQvQbKnX40wf9u5BpCSLzhlIg', 'width': 720}], 'title': 'Charli XCX - party 4 u (Lyrics)', 'videoId': 'MZG9iKcZAvQ'}}, {'type': 'video', 'video': {'author': {'avatar': [{'height': 68, 'url': 'https://yt3.ggpht.com/g19X6PokyQ4n--SVo797zVeyeUs91bVJ3Jzp3mETcbqwsnNF1TBYDB-u36BwzV_rryrb9vNY3g=s88-c-k-c0x00ffffff-no-rj', 'width': 68}], 'badges': [], 'canonicalBaseUrl': None, 'channelId': 'UClo9d5_Wuw5SHoozzVUf5hA', 'title': 'Earl Agustin'}, 'badges': [], 'descriptionSnippet': 'Written & Performed by Earl Agustin Produced by Jean Paul Verona *Lyrics* Nagsimula sa simple na pasulyap-sulyap\\xa0...', 'isLiveNow': False, 'lengthSeconds': 350, 'movingThumbnails': [{'height': 180, 'url': 'https://i.ytimg.com/an_webp/oiAtAzFLDfE/mqdefault_6s.webp?du=3000&sqp=CKfsm8IG&rs=AOn4CLA2OHk8BAMP_aJm0HWJzd1AyMZAZA', 'width': 320}], 'publishedTimeText': '1 year ago', 'stats': {'views': 30763311}, 'thumbnails': [{'height': 202, 'url': 'https://i.ytimg.com/vi/oiAtAzFLDfE/hq720.jpg?sqp=-oaymwEcCOgCEMoBSFXyq4qpAw4IARUAAIhCGAFwAcABBg==&rs=AOn4CLBoO-uPK_twVJu02IhgcWvuh2TWcQ', 'width': 360}, {'height': 404, 'url': 'https://i.ytimg.com/vi/oiAtAzFLDfE/hq720.jpg?sqp=-oaymwEcCNAFEJQDSFXyq4qpAw4IARUAAIhCGAFwAcABBg==&rs=AOn4CLDQ39wCtoP6eAcZ3Y6QN8zfdfO4CQ', 'width': 720}], 'title': 'Tibok  - Earl Agustin (Official Lyric Video)', 'videoId': 'oiAtAzFLDfE'}}, {'type': 'video', 'video': {'author': {'avatar': [{'height': 68, 'url': 'https://yt3.ggpht.com/FLcPt7y5bNg00h4RyQSx_r03VSgJ6pAZ872VHsBKNnKf7pxx1SLZ_kcm_TrI4IfRDGaueOGoiw=s88-c-k-c0x00ffffff-no-rj', 'width': 68}], 'badges': [], 'canonicalBaseUrl': None, 'channelId': 'UCXlqFQmZZOb78teSnAqhuwA', 'title': 'sombr'}, 'badges': ['4K'], 'descriptionSnippet': 'Credits: Director/DP/Editor: Gus Black Producer: Lukas Lennon Executive Producer: Kelly Norris Sarno 1st AC: Mitchell Guynan\\xa0...', 'isLiveNow': False, 'lengthSeconds': 202, 'movingThumbnails': [{'height': 180, 'url': 'https://i.ytimg.com/an_webp/c8zq4kAn_O0/mqdefault_6s.webp?du=3000&sqp=CI6_m8IG&rs=AOn4CLA9TU0uJEqnpWsH4KCEZucoVMsVxQ', 'width': 320}], 'publishedTimeText': '2 months ago', 'stats': {'views': 10502829}, 'thumbnails': [{'height': 202, 'url': 'https://i.ytimg.com/vi/c8zq4kAn_O0/hq720.jpg?sqp=-oaymwEcCOgCEMoBSFXyq4qpAw4IARUAAIhCGAFwAcABBg==&rs=AOn4CLDQcH_vDuhDtY-GlYByoQzcnPkbfQ', 'width': 360}, {'height': 404, 'url': 'https://i.ytimg.com/vi/c8zq4kAn_O0/hq720.jpg?sqp=-oaymwEcCNAFEJQDSFXyq4qpAw4IARUAAIhCGAFwAcABBg==&rs=AOn4CLBwwKhce60MhJusFiBgLMi90MnOrA', 'width': 720}], 'title': 'sombr - back to friends (official video)', 'videoId': 'c8zq4kAn_O0'}}, {'type': 'video', 'video': {'author': {'avatar': [{'height': 68, 'url': 'https://yt3.ggpht.com/w7Psek1OEj7_LV9C2oWuY7p13N7fvSL4YIsOVdcUGq7KHheoyw1ZTCGz8wpc7m4ECeWDEwVNTA=s88-c-k-c0x00ffffff-no-rj', 'width': 68}], 'badges': [], 'canonicalBaseUrl': None, 'channelId': 'UCb-ikMqe9iS8GjG7WgGwCrQ', 'title': 'Teddy Swims'}, 'badges': ['4K'], 'descriptionSnippet': 'LYRICS: Sun is going down, time is running out No one else around but me Steady losing light Steady losing my mind Moving\\xa0...', 'isLiveNow': False, 'lengthSeconds': 185, 'movingThumbnails': [{'height': 180, 'url': 'https://i.ytimg.com/an_webp/Qh8QwVYOSVU/mqdefault_6s.webp?du=3000&sqp=CNjDm8IG&rs=AOn4CLA4rsrOgUiPWkK0JZ9gOxTdZ2-TzA', 'width': 320}], 'publishedTimeText': '8 months ago', 'stats': {'views': 125064225}, 'thumbnails': [{'height': 202, 'url': 'https://i.ytimg.com/vi/Qh8QwVYOSVU/hq720.jpg?sqp=-oaymwEcCOgCEMoBSFXyq4qpAw4IARUAAIhCGAFwAcABBg==&rs=AOn4CLAGCrLQCU3AO_53DXzgt09Pnv-kkA', 'width': 360}, {'height': 404, 'url': 'https://i.ytimg.com/vi/Qh8QwVYOSVU/hq720.jpg?sqp=-oaymwEcCNAFEJQDSFXyq4qpAw4IARUAAIhCGAFwAcABBg==&rs=AOn4CLC68ogBYMnRRWLiW8C_C_UZCRUPVg', 'width': 720}], 'title': 'Teddy Swims - Bad Dreams (Official Music Video)', 'videoId': 'Qh8QwVYOSVU'}}, {'type': 'video', 'video': {'author': {'avatar': [{'height': 68, 'url': 'https://yt3.ggpht.com/-fVumrnu4dt2BHH3ltSK5NIEHCGujXD2P0lHXelzFKKvnmnII20Za6KiElQrwJPcgUPdIePA=s68-c-k-c0x00ffffff-no-rj', 'width': 68}], 'badges': [], 'canonicalBaseUrl': '/@HeartWarmer-i7h', 'channelId': 'UC7oIg8Aln4ZzhVS0Pm2IKUw', 'title': 'Heart Warmer'}, 'badges': [], 'descriptionSnippet': \"Charli XCX - party 4 u (Lyrics)' Turn on notifications to stay updated with new uploads! » Apoyo Charli XCX: / charli_xcx\\xa0...\", 'isLiveNow': False, 'lengthSeconds': 1587, 'movingThumbnails': [{'height': 180, 'url': 'https://i.ytimg.com/an_webp/o1yxCb2lEYE/mqdefault_6s.webp?du=3000&sqp=CNjnm8IG&rs=AOn4CLCt6B75a2fuBywjV9U3fcZr7mNVyw', 'width': 320}], 'publishedTimeText': '2 weeks ago', 'stats': {'views': 66097}, 'thumbnails': [{'height': 202, 'url': 'https://i.ytimg.com/vi/o1yxCb2lEYE/hq720.jpg?sqp=-oaymwEcCOgCEMoBSFXyq4qpAw4IARUAAIhCGAFwAcABBg==&rs=AOn4CLD-ihCwZuh3I5gCaG7XsHxpz6znBw', 'width': 360}, {'height': 404, 'url': 'https://i.ytimg.com/vi/o1yxCb2lEYE/hq720.jpg?sqp=-oaymwEcCNAFEJQDSFXyq4qpAw4IARUAAIhCGAFwAcABBg==&rs=AOn4CLCEjFcdc6ihZB9ltVP1mx52mB0PiQ', 'width': 720}], 'title': 'Charli XCX - party 4 u (Lyrics)', 'videoId': 'o1yxCb2lEYE'}}, {'type': 'video', 'video': {'author': {'avatar': [{'height': 68, 'url': 'https://yt3.ggpht.com/B4Ie5EaPWIsDkkGV5M5NkireF29-8OnARMbTARFTsJFtulVYA47KTzvjBPwFH2zDIA7dCpLdtw=s68-c-k-c0x00ffffff-no-rj', 'width': 68}], 'badges': [], 'canonicalBaseUrl': '/@DriftingInMusic', 'channelId': 'UCmWDX7p3gHMKaLxbu02vyqg', 'title': 'Drifting In Music'}, 'badges': [], 'descriptionSnippet': 'Charli XCX - PARTY 4 U (Lyrics) Turn on notifications to stay updated with new uploads! (Lyrics): [Chorus] I only threw this party\\xa0...', 'isLiveNow': False, 'lengthSeconds': 1587, 'movingThumbnails': [{'height': 180, 'url': 'https://i.ytimg.com/an_webp/nsAGXa3An9g/mqdefault_6s.webp?du=3000&sqp=CPjgm8IG&rs=AOn4CLDXfWg4iDhVhQgyyG9BYeyjHsfRjg', 'width': 320}], 'publishedTimeText': '2 weeks ago', 'stats': {'views': 98874}, 'thumbnails': [{'height': 202, 'url': 'https://i.ytimg.com/vi/nsAGXa3An9g/hq720.jpg?sqp=-oaymwEcCOgCEMoBSFXyq4qpAw4IARUAAIhCGAFwAcABBg==&rs=AOn4CLB-KgW3Q2jWjzZCMLxfyW_CzqJfiA', 'width': 360}, {'height': 404, 'url': 'https://i.ytimg.com/vi/nsAGXa3An9g/hq720.jpg?sqp=-oaymwEcCNAFEJQDSFXyq4qpAw4IARUAAIhCGAFwAcABBg==&rs=AOn4CLCWAp0K-WvScbKJDB7ytKBec6vXtQ', 'width': 720}], 'title': 'Charli XCX - PARTY 4 U (Lyrics)', 'videoId': 'nsAGXa3An9g'}}, {'type': 'video', 'video': {'author': {'avatar': [{'height': 68, 'url': 'https://yt3.ggpht.com/9CHxQKmBb8YZX82ByxwuabofL6epv8vHnAbkypL9ciGxmPYNUuP4V5oL87AdN-qSQrKIgKx_=s68-c-k-c0x00ffffff-no-rj', 'width': 68}], 'badges': [], 'canonicalBaseUrl': '/@NebTunes', 'channelId': 'UCFWhsiTFMNwX3EsXAHLSL6Q', 'title': 'NebTunes'}, 'badges': [], 'descriptionSnippet': '(a lil bit re-edit) **originally performed by Charli xcx** Thank you so much for all the love on my first video! If you have any\\xa0...', 'isLiveNow': False, 'lengthSeconds': 206, 'movingThumbnails': [{'height': 180, 'url': 'https://i.ytimg.com/an_webp/vA_wMBMd_mg/mqdefault_6s.webp?du=3000&sqp=CKDVm8IG&rs=AOn4CLC6WOUGGyON2Xq5MEzfr6iWKArrxw', 'width': 320}], 'publishedTimeText': '1 month ago', 'stats': {'views': 14748}, 'thumbnails': [{'height': 202, 'url': 'https://i.ytimg.com/vi/vA_wMBMd_mg/hq720.jpg?sqp=-oaymwEcCOgCEMoBSFXyq4qpAw4IARUAAIhCGAFwAcABBg==&rs=AOn4CLBWH1ewlBFpUz54PDQJHw8d0-roFw', 'width': 360}, {'height': 404, 'url': 'https://i.ytimg.com/vi/vA_wMBMd_mg/hq720.jpg?sqp=-oaymwEcCNAFEJQDSFXyq4qpAw4IARUAAIhCGAFwAcABBg==&rs=AOn4CLBQE_UDoFRjeKrt315Hx4Xizmj1jQ', 'width': 720}], 'title': 'party 4 u - CHORUS LOOP', 'videoId': 'vA_wMBMd_mg'}}, {'type': 'video', 'video': {'author': {'avatar': [{'height': 68, 'url': 'https://yt3.ggpht.com/AZz3tek6eyvgduBhvz5R4v4Spc4HaTE134kgUPjwPIGOUnsqp6L4-qg3wmZ3o--0Q1jwOhkN8w=s68-c-k-c0x00ffffff-no-rj', 'width': 68}], 'badges': [], 'canonicalBaseUrl': '/@pseasylyrics9979', 'channelId': 'UCk6IKXbtWnih4ab8lyTxjAQ', 'title': 'PS Easy Lyrics'}, 'badges': [], 'descriptionSnippet': 'Charli XCX – party 4 u (Lyrics Video) Dive into the emotional whirlwind of \"party 4 u,\" a track that beautifully captures the\\xa0...', 'isLiveNow': False, 'lengthSeconds': 298, 'movingThumbnails': [{'height': 180, 'url': 'https://i.ytimg.com/an_webp/jnPX3tDKWAE/mqdefault_6s.webp?du=3000&sqp=CMLXm8IG&rs=AOn4CLAIF1HqE_hN7v2SF456mDjlEK-oQg', 'width': 320}], 'publishedTimeText': '2 weeks ago', 'stats': {'views': 271}, 'thumbnails': [{'height': 202, 'url': 'https://i.ytimg.com/vi/jnPX3tDKWAE/hq720.jpg?sqp=-oaymwEcCOgCEMoBSFXyq4qpAw4IARUAAIhCGAFwAcABBg==&rs=AOn4CLBCjJlIq0HNf9DCKL7qceGwS_gaJQ', 'width': 360}, {'height': 404, 'url': 'https://i.ytimg.com/vi/jnPX3tDKWAE/hq720.jpg?sqp=-oaymwEcCNAFEJQDSFXyq4qpAw4IARUAAIhCGAFwAcABBg==&rs=AOn4CLAs6CKxrgAlZzAKoEnlrdhe0OoqQA', 'width': 720}], 'title': 'Charli XCX – party 4 u (Lyrics Video)', 'videoId': 'jnPX3tDKWAE'}}], 'cursorNext': 'Ep4DEglwYXJ0eSA0IHUakANTQlNDQVF0aFozVXlNbUp4UjBoMGI0SUJDMlpMY2xSRFIwZEZhVmRaZ2dFTFVYcDVaVm8xZGxBelVFbUNBUXQwYldsTlVqVjRNekJJU1lJQkRWSkVZV2QxTWpKaWNVZElkRy1DQVF0NFpIZExNRE5YUkVwWGE0SUJDek5UZVVodmJqbElTSFZaZ2dFTE1qVjZVRWxSYVZWQk9HLUNBUXM0ZVZwMmFUSTFZV2wxWjRJQkMyVlhiVTF0Wld4bk4wWjNnZ0VMZEZCcFNtMTNVM2xKVDFHQ0FRdE1Oa3gyZVRKUmJVbE9OSUlCQzNkcU1rTkZTa3RIWWpoemdnRUxTVzFKTFRkd1kwdHhNRFNDQVFzMGVGUTBORlo2YmxCMWQ0SUJDMDFhUnpscFMyTmFRWFpSZ2dFTGJ6RjVlRU5pTW14RldVV0NBUXR1YzBGSFdHRXpRVzQ1WjRJQkMzWkJYM2ROUWsxa1gyMW5nZ0VMYW01UVdETjBSRXRYUVVXeUFRWUtCQWdZRUFMcUFRUUlBaEF5GIHg6BgiC3NlYXJjaC1mZWVk', 'didYouMean': None, 'estimatedResults': 14192167, 'filterGroups': [{'filters': [{'cursorSelect': 'cGFydHkgNCB1JiYmRWdJSUFRJTNEJTNE', 'label': 'Last hour', 'selected': False}, {'cursorSelect': 'cGFydHkgNCB1JiYmRWdJSUFnJTNEJTNE', 'label': 'Today', 'selected': False}, {'cursorSelect': 'cGFydHkgNCB1JiYmRWdJSUF3JTNEJTNE', 'label': 'This week', 'selected': False}, {'cursorSelect': 'cGFydHkgNCB1JiYmRWdJSUJBJTNEJTNE', 'label': 'This month', 'selected': False}, {'cursorSelect': 'cGFydHkgNCB1JiYmRWdJSUJRJTNEJTNE', 'label': 'This year', 'selected': False}], 'title': 'Upload date'}, {'filters': [{'cursorSelect': 'cGFydHkgNCB1JiYmRWdJUUFRJTNEJTNE', 'label': 'Video', 'selected': False}, {'cursorSelect': 'cGFydHkgNCB1JiYmRWdJUUFnJTNEJTNE', 'label': 'Channel', 'selected': False}, {'cursorSelect': 'cGFydHkgNCB1JiYmRWdJUUF3JTNEJTNE', 'label': 'Playlist', 'selected': False}, {'cursorSelect': 'cGFydHkgNCB1JiYmRWdJUUJBJTNEJTNE', 'label': 'Movie', 'selected': False}], 'title': 'Type'}, {'filters': [{'cursorSelect': 'cGFydHkgNCB1JiYmRWdJWUFRJTNEJTNE', 'label': 'Under 4 minutes', 'selected': False}, {'cursorSelect': 'cGFydHkgNCB1JiYmRWdJWUF3JTNEJTNE', 'label': '4 - 20 minutes', 'selected': False}, {'cursorSelect': 'cGFydHkgNCB1JiYmRWdJWUFnJTNEJTNE', 'label': 'Over 20 minutes', 'selected': False}], 'title': 'Duration'}, {'filters': [{'cursorSelect': 'cGFydHkgNCB1JiYmRWdKQUFRJTNEJTNE', 'label': 'Live', 'selected': False}, {'cursorSelect': 'cGFydHkgNCB1JiYmRWdKd0FRJTNEJTNE', 'label': '4K', 'selected': False}, {'cursorSelect': 'cGFydHkgNCB1JiYmRWdJZ0FRJTNEJTNE', 'label': 'HD', 'selected': False}, {'cursorSelect': 'cGFydHkgNCB1JiYmRWdJb0FRJTNEJTNE', 'label': 'Subtitles/CC', 'selected': False}, {'cursorSelect': 'cGFydHkgNCB1JiYmRWdJd0FRJTNEJTNE', 'label': 'Creative Commons', 'selected': False}, {'cursorSelect': 'cGFydHkgNCB1JiYmRWdKNEFRJTNEJTNE', 'label': '360°', 'selected': False}, {'cursorSelect': 'cGFydHkgNCB1JiYmRWdQUUFRRSUzRA==', 'label': 'VR180', 'selected': False}, {'cursorSelect': 'cGFydHkgNCB1JiYmRWdJNEFRJTNEJTNE', 'label': '3D', 'selected': False}, {'cursorSelect': 'cGFydHkgNCB1JiYmRWdQSUFRRSUzRA==', 'label': 'HDR', 'selected': False}, {'cursorSelect': 'cGFydHkgNCB1JiYmRWdPNEFRRSUzRA==', 'label': 'Location', 'selected': False}, {'cursorSelect': 'cGFydHkgNCB1JiYmRWdKSUFRJTNEJTNE', 'label': 'Purchased', 'selected': False}], 'title': 'Features'}, {'filters': [{'cursorSelect': None, 'label': 'Relevance', 'selected': True}, {'cursorSelect': 'cGFydHkgNCB1JiYmQ0FJJTNE', 'label': 'Upload date', 'selected': False}, {'cursorSelect': 'cGFydHkgNCB1JiYmQ0FNJTNE', 'label': 'View count', 'selected': False}, {'cursorSelect': 'cGFydHkgNCB1JiYmQ0FFJTNE', 'label': 'Rating', 'selected': False}], 'title': 'Sort by'}], 'refinements': ['party 4 u charli xcx slowed', 'charli xcx party 4 u reaction', 'party 4 u bass boosted', 'party 4 u charli xcx live', 'party 4 u cover', 'track 10 charli xcx', 'party 4 u instrumental', 'party 4 u karaoke']}\n"
          ]
        }
      ],
      "source": [
        "url = \"https://youtube138.p.rapidapi.com/search/\"\n",
        "\n",
        "querystring = {\"q\":\"party 4 u\",\"hl\":\"en\",\"gl\":\"US\"}\n",
        "\n",
        "headers = {\n",
        "\t\"x-rapidapi-key\": \"api key\",\n",
        "\t\"x-rapidapi-host\": \"youtube138.p.rapidapi.com\"\n",
        "}\n",
        "\n",
        "response = requests.get(url, headers=headers, params=querystring)\n",
        "\n",
        "print(response.json())"
      ]
    },
    {
      "cell_type": "code",
      "execution_count": null,
      "metadata": {
        "id": "n8bXAzz3I1iy"
      },
      "outputs": [],
      "source": [
        "\n",
        "@tool\n",
        "def search_youtube_video(query: str, region: str = \"US\", language: str = \"en\") -> str:\n",
        "    \"\"\"\n",
        "    Search for a video on YouTube using the RapidAPI YouTube138 API.\n",
        "\n",
        "    Args:\n",
        "        query (str): The search query (e.g., video title or keyword).\n",
        "        region (str): The region code (default is 'US').\n",
        "        language (str): The language code (default is 'en').\n",
        "\n",
        "    Returns:\n",
        "        str: The title and URL of the top video result.\n",
        "    \"\"\"\n",
        "    url = \"https://youtube138.p.rapidapi.com/search/\"\n",
        "    params = {\n",
        "        \"q\": query,\n",
        "        \"hl\": language,  # language\n",
        "        \"gl\": region     # geographic location\n",
        "    }\n",
        "    headers = {\n",
        "        \"x-rapidapi-key\": \"api key\",  # Replace with your RapidAPI key\n",
        "        \"x-rapidapi-host\": \"youtube138.p.rapidapi.com\"\n",
        "    }\n",
        "\n",
        "    try:\n",
        "        response = requests.get(url, headers=headers, params=params)\n",
        "        response.raise_for_status()\n",
        "        data = response.json()\n",
        "\n",
        "        # Extract the first video result\n",
        "        for result in data.get(\"contents\", []):\n",
        "            video = result.get(\"video\")\n",
        "            if video:\n",
        "                title = video.get(\"title\")\n",
        "                video_id = video.get(\"videoId\")\n",
        "                video_url = f\"https://www.youtube.com/watch?v={video_id}\"\n",
        "                return f\"Top result:\\nTitle: {title}\\nURL: {video_url}\"\n",
        "\n",
        "        return \"No video found for your query.\"\n",
        "\n",
        "    except requests.exceptions.RequestException as e:\n",
        "        return f\"Error during YouTube search: {str(e)}\"\n",
        "    except (KeyError, IndexError, TypeError) as e:\n",
        "        return f\"Unexpected response format: {str(e)}\""
      ]
    },
    {
      "cell_type": "code",
      "execution_count": null,
      "metadata": {
        "id": "ScOmGzhlI1f5"
      },
      "outputs": [],
      "source": [
        "youtube_assistant = create_react_agent(\n",
        "    model=model,\n",
        "    tools=[search_youtube_video],\n",
        "    prompt=\"You are a helpful YouTube video assistant. Your job is to help users find YouTube videos based on their search queries.\",\n",
        "    name=\"youtube_assistant\"\n",
        ")"
      ]
    },
    {
      "cell_type": "code",
      "execution_count": null,
      "metadata": {
        "colab": {
          "base_uri": "https://localhost:8080/"
        },
        "id": "r6uI3yWUI1dQ",
        "outputId": "d6279de1-a240-4c9a-fea4-9f01f753c446"
      },
      "outputs": [
        {
          "data": {
            "text/plain": [
              "[HumanMessage(content='5 minute video of yoga.', additional_kwargs={}, response_metadata={}, id='f85638f2-e133-48f4-b012-cbab3802f32c'),\n",
              " AIMessage(content='', additional_kwargs={'tool_calls': [{'id': 'call_pXsiy2GNEilA0LxDjtLj4AzW', 'function': {'arguments': '{\"query\":\"5 minute yoga\"}', 'name': 'search_youtube_video'}, 'type': 'function'}], 'refusal': None}, response_metadata={'token_usage': {'completion_tokens': 18, 'prompt_tokens': 168, 'total_tokens': 186, 'completion_tokens_details': {'accepted_prediction_tokens': 0, 'audio_tokens': 0, 'reasoning_tokens': 0, 'rejected_prediction_tokens': 0}, 'prompt_tokens_details': {'audio_tokens': 0, 'cached_tokens': 0}}, 'model_name': 'gpt-4o-mini-2024-07-18', 'system_fingerprint': 'fp_34a54ae93c', 'id': 'chatcmpl-BgYeCovVMictEICdOyoqYZMSixwFR', 'service_tier': 'default', 'finish_reason': 'tool_calls', 'logprobs': None}, name='youtube_assistant', id='run--42ed5e3a-74de-46a7-887d-46bf996a5f5b-0', tool_calls=[{'name': 'search_youtube_video', 'args': {'query': '5 minute yoga'}, 'id': 'call_pXsiy2GNEilA0LxDjtLj4AzW', 'type': 'tool_call'}], usage_metadata={'input_tokens': 168, 'output_tokens': 18, 'total_tokens': 186, 'input_token_details': {'audio': 0, 'cache_read': 0}, 'output_token_details': {'audio': 0, 'reasoning': 0}}),\n",
              " ToolMessage(content='Top result:\\nTitle: 5 Minute Yoga for Back Tension (6 Movements of the Spine)\\nURL: https://www.youtube.com/watch?v=p39GdEUxxAk', name='search_youtube_video', id='fa6a2fea-1290-4d89-a1d8-f6fb9622471c', tool_call_id='call_pXsiy2GNEilA0LxDjtLj4AzW'),\n",
              " AIMessage(content='I found a video for you!\\n\\n**Title:** 5 Minute Yoga for Back Tension (6 Movements of the Spine)  \\n**URL:** [Watch it here](https://www.youtube.com/watch?v=p39GdEUxxAk)', additional_kwargs={'refusal': None}, response_metadata={'token_usage': {'completion_tokens': 51, 'prompt_tokens': 237, 'total_tokens': 288, 'completion_tokens_details': {'accepted_prediction_tokens': 0, 'audio_tokens': 0, 'reasoning_tokens': 0, 'rejected_prediction_tokens': 0}, 'prompt_tokens_details': {'audio_tokens': 0, 'cached_tokens': 0}}, 'model_name': 'gpt-4o-mini-2024-07-18', 'system_fingerprint': 'fp_34a54ae93c', 'id': 'chatcmpl-BgYeDxz7inJ7JuDDrO5Pl5arGtmOW', 'service_tier': 'default', 'finish_reason': 'stop', 'logprobs': None}, name='youtube_assistant', id='run--f5559ca6-6e39-4e06-8c51-a966543cd4e4-0', usage_metadata={'input_tokens': 237, 'output_tokens': 51, 'total_tokens': 288, 'input_token_details': {'audio': 0, 'cache_read': 0}, 'output_token_details': {'audio': 0, 'reasoning': 0}})]"
            ]
          },
          "execution_count": 7,
          "metadata": {},
          "output_type": "execute_result"
        }
      ],
      "source": [
        "response = youtube_assistant.invoke(\n",
        "    {\n",
        "        \"messages\": [\n",
        "            HumanMessage(content=\"5 minute video of yoga.\")\n",
        "            ]\n",
        "    }\n",
        "    )\n",
        "response[\"messages\"]"
      ]
    },
    {
      "cell_type": "code",
      "execution_count": null,
      "metadata": {
        "colab": {
          "base_uri": "https://localhost:8080/",
          "height": 36
        },
        "id": "7YIcPQSUI1X1",
        "outputId": "8545868a-8cbc-4eb1-caa6-9dbecc75862e"
      },
      "outputs": [
        {
          "data": {
            "application/vnd.google.colaboratory.intrinsic+json": {
              "type": "string"
            },
            "text/plain": [
              "'I found a video for you!\\n\\n**Title:** 5 Minute Yoga for Back Tension (6 Movements of the Spine)  \\n**URL:** [Watch it here](https://www.youtube.com/watch?v=p39GdEUxxAk)'"
            ]
          },
          "execution_count": 8,
          "metadata": {},
          "output_type": "execute_result"
        }
      ],
      "source": [
        "response[\"messages\"][-1].content"
      ]
    },
    {
      "cell_type": "markdown",
      "metadata": {
        "id": "rS3ADTRP5Dzw"
      },
      "source": [
        "# Class"
      ]
    },
    {
      "cell_type": "code",
      "execution_count": 26,
      "metadata": {
        "id": "jrYKBJdk5Dov"
      },
      "outputs": [],
      "source": [
        "import requests\n",
        "from langchain_openai import ChatOpenAI\n",
        "from google.colab import userdata\n",
        "from langgraph.prebuilt import create_react_agent\n",
        "from langchain_core.tools import tool\n",
        "from langchain_core.messages import HumanMessage\n",
        "import os\n",
        "from dotenv import load_dotenv\n",
        "os.environ[\"OPENAI_API_KEY\"] = userdata.get(\"OPENAI_API_KEY\")\n",
        "os.environ[\"RAPIDAPI_KEY\"] = userdata.get(\"RAPIDAPI_KEY\")\n",
        "load_dotenv()\n",
        "\n",
        "class YoutubeAgent:\n",
        "    def __init__(self):\n",
        "        self.openai_api_key = os.getenv('OPENAI_API_KEY')\n",
        "        self.rapidapi_key = os.getenv('RAPIDAPI_KEY') # rapidapi_key or \"api key here\"  # Replace with your RapidAPI key\n",
        "        self.model = ChatOpenAI(api_key=self.openai_api_key, model=\"gpt-4o-mini\")\n",
        "        self.agent = create_react_agent(\n",
        "            model=self.model,\n",
        "            verbose=True,\n",
        "            tools=[self.search_youtube_video],\n",
        "            prompt=(\n",
        "    \"You are a helpful YouTube video assistant. Your job is to help users find YouTube videos \"\n",
        "    \"based on their search queries. Use the tool to perform a search and return the top result. \"\n",
        "    \"Once the top result is found, return it as 'Final Answer: <result>' and stop.\"\n",
        "),\n",
        "            name=\"youtube_assistant\"\n",
        "        )\n",
        "        # print(self.openai_api_key)\n",
        "        # print(self.rapidapi_key)\n",
        "\n",
        "    @tool\n",
        "    def search_youtube_video(self, query: str, region: str = \"US\", language: str = \"en\") -> str:\n",
        "        \"\"\"\n",
        "        Search for a video on YouTube using the RapidAPI YouTube138 API.\n",
        "        Args:\n",
        "            query (str): The search query (e.g., video title or keyword).\n",
        "            region (str): The region code (default is 'US').\n",
        "            language (str): The language code (default is 'en').\n",
        "        Returns:\n",
        "            str: The title and URL of the top video result.\n",
        "        \"\"\"\n",
        "        print(\"*********************Tool Invoked\")\n",
        "        url = \"https://youtube138.p.rapidapi.com/search/\"\n",
        "        params = {\n",
        "            \"q\": query,\n",
        "            \"hl\": language,\n",
        "            \"gl\": region\n",
        "        }\n",
        "        headers = {\n",
        "            \"x-rapidapi-key\": self.rapidapi_key,\n",
        "            \"x-rapidapi-host\": \"youtube138.p.rapidapi.com\"\n",
        "        }\n",
        "        try:\n",
        "            response = requests.get(url, headers=headers, params=params)\n",
        "            response.raise_for_status()\n",
        "            data = response.json()\n",
        "            for result in data.get(\"contents\", []):\n",
        "                video = result.get(\"video\")\n",
        "                if video:\n",
        "                    print(\"Hello\")\n",
        "                    title = video.get(\"title\")\n",
        "                    print(\"Hello\", title)\n",
        "                    video_id = video.get(\"videoId\")\n",
        "                    print(\"Hello\", video_id)\n",
        "                    video_url = f\"https://www.youtube.com/watch?v={video_id}\"\n",
        "                    return f\"Final Answer: Top result:\\nTitle: {title}\\nURL: {video_url}\"\n",
        "            return \"Final Answer: No video found for your query.\"\n",
        "        except requests.exceptions.RequestException as e:\n",
        "            return f\"Error during YouTube search: {str(e)}\"\n",
        "        except (KeyError, IndexError, TypeError) as e:\n",
        "            return f\"Unexpected response format: {str(e)}\"\n",
        "\n",
        "    def run(self, user_input):\n",
        "        response = self.agent.invoke({\n",
        "            \"messages\": [HumanMessage(content=user_input)]\n",
        "        },\n",
        "        config={\"recursion_limit\": 50})\n",
        "        return response[\"messages\"][-1].content\n"
      ]
    },
    {
      "cell_type": "code",
      "execution_count": 27,
      "metadata": {
        "colab": {
          "base_uri": "https://localhost:8080/",
          "height": 315
        },
        "id": "B684rrDWNoN_",
        "outputId": "c4ce3d32-f50e-48c4-eef1-7ef1e016c30e"
      },
      "outputs": [
        {
          "ename": "TypeError",
          "evalue": "create_react_agent() got an unexpected keyword argument 'verbose'",
          "output_type": "error",
          "traceback": [
            "\u001b[0;31m---------------------------------------------------------------------------\u001b[0m",
            "\u001b[0;31mTypeError\u001b[0m                                 Traceback (most recent call last)",
            "\u001b[0;32m<ipython-input-27-c35af40d71ad>\u001b[0m in \u001b[0;36m<cell line: 0>\u001b[0;34m()\u001b[0m\n\u001b[1;32m      1\u001b[0m \u001b[0;31m# Usage example for YoutubeAgent class\u001b[0m\u001b[0;34m\u001b[0m\u001b[0;34m\u001b[0m\u001b[0m\n\u001b[0;32m----> 2\u001b[0;31m \u001b[0myoutube_agent\u001b[0m \u001b[0;34m=\u001b[0m \u001b[0mYoutubeAgent\u001b[0m\u001b[0;34m(\u001b[0m\u001b[0;34m)\u001b[0m\u001b[0;34m\u001b[0m\u001b[0;34m\u001b[0m\u001b[0m\n\u001b[0m\u001b[1;32m      3\u001b[0m \u001b[0mresult\u001b[0m \u001b[0;34m=\u001b[0m \u001b[0myoutube_agent\u001b[0m\u001b[0;34m.\u001b[0m\u001b[0mrun\u001b[0m\u001b[0;34m(\u001b[0m\u001b[0;34m\"5 minute yoga video\"\u001b[0m\u001b[0;34m)\u001b[0m\u001b[0;34m\u001b[0m\u001b[0;34m\u001b[0m\u001b[0m\n\u001b[1;32m      4\u001b[0m \u001b[0mprint\u001b[0m\u001b[0;34m(\u001b[0m\u001b[0mresult\u001b[0m\u001b[0;34m)\u001b[0m\u001b[0;34m\u001b[0m\u001b[0;34m\u001b[0m\u001b[0m\n",
            "\u001b[0;32m<ipython-input-26-bdef7e3a6afa>\u001b[0m in \u001b[0;36m__init__\u001b[0;34m(self)\u001b[0m\n\u001b[1;32m     16\u001b[0m         \u001b[0mself\u001b[0m\u001b[0;34m.\u001b[0m\u001b[0mrapidapi_key\u001b[0m \u001b[0;34m=\u001b[0m \u001b[0mos\u001b[0m\u001b[0;34m.\u001b[0m\u001b[0mgetenv\u001b[0m\u001b[0;34m(\u001b[0m\u001b[0;34m'RAPIDAPI_KEY'\u001b[0m\u001b[0;34m)\u001b[0m \u001b[0;31m# rapidapi_key or \"api key here\"  # Replace with your RapidAPI key\u001b[0m\u001b[0;34m\u001b[0m\u001b[0;34m\u001b[0m\u001b[0m\n\u001b[1;32m     17\u001b[0m         \u001b[0mself\u001b[0m\u001b[0;34m.\u001b[0m\u001b[0mmodel\u001b[0m \u001b[0;34m=\u001b[0m \u001b[0mChatOpenAI\u001b[0m\u001b[0;34m(\u001b[0m\u001b[0mapi_key\u001b[0m\u001b[0;34m=\u001b[0m\u001b[0mself\u001b[0m\u001b[0;34m.\u001b[0m\u001b[0mopenai_api_key\u001b[0m\u001b[0;34m,\u001b[0m \u001b[0mmodel\u001b[0m\u001b[0;34m=\u001b[0m\u001b[0;34m\"gpt-4o-mini\"\u001b[0m\u001b[0;34m)\u001b[0m\u001b[0;34m\u001b[0m\u001b[0;34m\u001b[0m\u001b[0m\n\u001b[0;32m---> 18\u001b[0;31m         self.agent = create_react_agent(\n\u001b[0m\u001b[1;32m     19\u001b[0m             \u001b[0mmodel\u001b[0m\u001b[0;34m=\u001b[0m\u001b[0mself\u001b[0m\u001b[0;34m.\u001b[0m\u001b[0mmodel\u001b[0m\u001b[0;34m,\u001b[0m\u001b[0;34m\u001b[0m\u001b[0;34m\u001b[0m\u001b[0m\n\u001b[1;32m     20\u001b[0m             \u001b[0mverbose\u001b[0m\u001b[0;34m=\u001b[0m\u001b[0;32mTrue\u001b[0m\u001b[0;34m,\u001b[0m\u001b[0;34m\u001b[0m\u001b[0;34m\u001b[0m\u001b[0m\n",
            "\u001b[0;31mTypeError\u001b[0m: create_react_agent() got an unexpected keyword argument 'verbose'"
          ]
        }
      ],
      "source": [
        "# Usage example for YoutubeAgent class\n",
        "youtube_agent = YoutubeAgent()\n",
        "result = youtube_agent.run(\"5 minute yoga video\")\n",
        "print(result)"
      ]
    },
    {
      "cell_type": "code",
      "execution_count": 20,
      "metadata": {
        "colab": {
          "base_uri": "https://localhost:8080/"
        },
        "id": "JJ0LgyM-6Tmk",
        "outputId": "1a3533cb-5794-4d97-80d1-1c037cb6a210"
      },
      "outputs": [
        {
          "name": "stdout",
          "output_type": "stream",
          "text": [
            "I'm having trouble retrieving the requested information at the moment. Please try again later.\n"
          ]
        }
      ],
      "source": [
        "# Usage example for YoutubeAgent class\n",
        "youtube_agent = YoutubeAgent()\n",
        "result = youtube_agent.run(\"5 minute yoga video\")\n",
        "print(result)"
      ]
    }
  ],
  "metadata": {
    "colab": {
      "provenance": []
    },
    "kernelspec": {
      "display_name": "Python 3",
      "name": "python3"
    },
    "language_info": {
      "name": "python"
    }
  },
  "nbformat": 4,
  "nbformat_minor": 0
}
