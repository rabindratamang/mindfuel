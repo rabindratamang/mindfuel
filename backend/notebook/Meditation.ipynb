{
  "cells": [
    {
      "cell_type": "code",
      "execution_count": null,
      "metadata": {
        "id": "T5LqMn_tsSnU"
      },
      "outputs": [],
      "source": [
        "%pip install -qU langchain-openai langchain langgraph langchain_community langgraph-supervisor"
      ]
    },
    {
      "cell_type": "code",
      "execution_count": null,
      "metadata": {
        "id": "Cu-qdIc5ts7G"
      },
      "outputs": [],
      "source": [
        "from pydantic import BaseModel\n",
        "from langchain_openai import ChatOpenAI\n",
        "from google.colab import userdata\n",
        "from langgraph.prebuilt import create_react_agent\n",
        "from langgraph_supervisor import create_supervisor\n",
        "from langchain_core.tools import tool\n",
        "from langchain_core.messages import (\n",
        "    HumanMessage,\n",
        ")\n",
        "from langgraph.prebuilt import create_react_agent\n",
        "import requests\n",
        "key = userdata.get('OPENAI_API_KEY')"
      ]
    },
    {
      "cell_type": "code",
      "execution_count": null,
      "metadata": {
        "id": "HSapcfucts4K"
      },
      "outputs": [],
      "source": [
        "model = ChatOpenAI(api_key=key,model=\"gpt-4o-mini\")"
      ]
    },
    {
      "cell_type": "markdown",
      "metadata": {
        "id": "thm2HY1h1_v5"
      },
      "source": [
        "# Tool 1"
      ]
    },
    {
      "cell_type": "code",
      "execution_count": null,
      "metadata": {
        "id": "aHqi-gPtts1b"
      },
      "outputs": [],
      "source": [
        "from langchain_core.tools import tool\n",
        "import time\n",
        "\n",
        "@tool\n",
        "def guided_meditation_tool(style: str = \"mindfulness\", duration: int = 10) -> str:\n",
        "    \"\"\"\n",
        "    Provide a step-by-step guided meditation process with breaks.\n",
        "\n",
        "    Args:\n",
        "        style (str): The type of meditation (e.g., 'mindfulness', 'breathing', 'body_scan').\n",
        "        duration (int): Total duration in minutes (suggested: 5–20 mins).\n",
        "\n",
        "    Returns:\n",
        "        str: Step-by-step meditation guide with optional pause indicators.\n",
        "    \"\"\"\n",
        "    steps = {\n",
        "        \"mindfulness\": [\n",
        "            \"🧘 Step 1: Find a comfortable seated position. Close your eyes gently.\",\n",
        "            \"🌬️ Step 2: Bring attention to your breath. Inhale deeply through your nose, and exhale through your mouth.\",\n",
        "            \"🔄 Step 3: Focus on the rising and falling of your breath. If your mind wanders, gently bring it back.\",\n",
        "            \"💭 Step 4: Acknowledge any thoughts or feelings without judgment. Let them pass like clouds.\",\n",
        "            \"🧠 Step 5: Expand awareness to sounds around you, sensations in the body, and your emotional state.\",\n",
        "            \"💖 Step 6: End by bringing attention to your heart. Think of one thing you're grateful for.\",\n",
        "            \"🔚 Step 7: Slowly open your eyes and return to the space around you.\"\n",
        "        ],\n",
        "        \"breathing\": [\n",
        "            \"🪑 Step 1: Sit or lie down comfortably.\",\n",
        "            \"🫁 Step 2: Breathe in for 4 seconds, hold for 4 seconds, exhale for 6 seconds.\",\n",
        "            \"🔁 Step 3: Repeat this cycle 10 times.\",\n",
        "            \"🎯 Step 4: Focus on the sensation of air passing through your nose and lungs.\",\n",
        "            \"🔄 Step 5: If distracted, calmly return to your breath.\",\n",
        "            \"🧘 Step 6: After a few minutes, let your breath return to normal.\",\n",
        "            \"🔚 Step 7: Take one deep final breath and slowly open your eyes.\"\n",
        "        ],\n",
        "        \"body_scan\": [\n",
        "            \"🛏️ Step 1: Lie down comfortably and close your eyes.\",\n",
        "            \"🧠 Step 2: Bring awareness to your head, relaxing your forehead, eyes, jaw.\",\n",
        "            \"💪 Step 3: Move attention down to your shoulders, arms, and hands.\",\n",
        "            \"🫁 Step 4: Continue to chest, belly, and hips—breathe into each area.\",\n",
        "            \"🦵 Step 5: Bring awareness to thighs, knees, calves, and feet.\",\n",
        "            \"🔁 Step 6: Do a full body scan from head to toe once more.\",\n",
        "            \"🔚 Step 7: When ready, gently wiggle your fingers and toes and open your eyes.\"\n",
        "        ]\n",
        "    }\n",
        "\n",
        "    if style not in steps:\n",
        "        return \"❌ Unknown meditation style. Choose from: 'mindfulness', 'breathing', or 'body_scan'.\"\n",
        "\n",
        "    guide = steps[style]\n",
        "    segment_duration = duration // len(guide)\n",
        "\n",
        "    result = f\"🧘 Guided {style.replace('_', ' ').title()} Meditation ({duration} mins):\\n\"\n",
        "    for i, step in enumerate(guide, start=1):\n",
        "        result += f\"\\n{i}. {step}\\n\"\n",
        "        result += f\"⏸️ (Pause for ~{segment_duration} minutes)\\n\"\n",
        "\n",
        "    return result.strip()\n"
      ]
    },
    {
      "cell_type": "code",
      "execution_count": null,
      "metadata": {
        "id": "ZwRj5TIczuJZ"
      },
      "outputs": [],
      "source": [
        "meditation_assistant = create_react_agent(\n",
        "    model=model,\n",
        "    tools=[guided_meditation_tool],\n",
        "    prompt=\"You are a helpful Meditation expert. Your job is to help users do meditation based on their queries.\",\n",
        "    name=\"meditation_assistant\"\n",
        ")"
      ]
    },
    {
      "cell_type": "code",
      "execution_count": null,
      "metadata": {
        "colab": {
          "base_uri": "https://localhost:8080/"
        },
        "id": "kSG9Yv9dzuF-",
        "outputId": "2d0464c4-0dc1-42fb-9474-10ae17d08383"
      },
      "outputs": [
        {
          "data": {
            "text/plain": [
              "[HumanMessage(content='upper body', additional_kwargs={}, response_metadata={}, id='e4ca9db2-5da2-4bc4-8031-04a4fa719da0'),\n",
              " AIMessage(content='', additional_kwargs={'tool_calls': [{'id': 'call_OH7dXBCXtoqJqQb9Q4nQ25L9', 'function': {'arguments': '{\"style\":\"body_scan\",\"duration\":10}', 'name': 'guided_meditation_tool'}, 'type': 'function'}], 'refusal': None}, response_metadata={'token_usage': {'completion_tokens': 23, 'prompt_tokens': 151, 'total_tokens': 174, 'completion_tokens_details': {'accepted_prediction_tokens': 0, 'audio_tokens': 0, 'reasoning_tokens': 0, 'rejected_prediction_tokens': 0}, 'prompt_tokens_details': {'audio_tokens': 0, 'cached_tokens': 0}}, 'model_name': 'gpt-4o-mini-2024-07-18', 'system_fingerprint': 'fp_34a54ae93c', 'id': 'chatcmpl-BgwnZz9cXb0Op4TUChbcxBKd4mk7E', 'service_tier': 'default', 'finish_reason': 'tool_calls', 'logprobs': None}, name='meditation_assistant', id='run--fd8c5e4b-ae3a-496e-a3ab-7468df61e980-0', tool_calls=[{'name': 'guided_meditation_tool', 'args': {'style': 'body_scan', 'duration': 10}, 'id': 'call_OH7dXBCXtoqJqQb9Q4nQ25L9', 'type': 'tool_call'}], usage_metadata={'input_tokens': 151, 'output_tokens': 23, 'total_tokens': 174, 'input_token_details': {'audio': 0, 'cache_read': 0}, 'output_token_details': {'audio': 0, 'reasoning': 0}}),\n",
              " ToolMessage(content='🧘 Guided Body Scan Meditation (10 mins):\\n\\n1. 🛏️ Step 1: Lie down comfortably and close your eyes.\\n⏸️ (Pause for ~1 minutes)\\n\\n2. 🧠 Step 2: Bring awareness to your head, relaxing your forehead, eyes, jaw.\\n⏸️ (Pause for ~1 minutes)\\n\\n3. 💪 Step 3: Move attention down to your shoulders, arms, and hands.\\n⏸️ (Pause for ~1 minutes)\\n\\n4. 🫁 Step 4: Continue to chest, belly, and hips—breathe into each area.\\n⏸️ (Pause for ~1 minutes)\\n\\n5. 🦵 Step 5: Bring awareness to thighs, knees, calves, and feet.\\n⏸️ (Pause for ~1 minutes)\\n\\n6. 🔁 Step 6: Do a full body scan from head to toe once more.\\n⏸️ (Pause for ~1 minutes)\\n\\n7. 🔚 Step 7: When ready, gently wiggle your fingers and toes and open your eyes.\\n⏸️ (Pause for ~1 minutes)', name='guided_meditation_tool', id='bba16b27-067d-462d-8f0e-eab25da86ecf', tool_call_id='call_OH7dXBCXtoqJqQb9Q4nQ25L9'),\n",
              " AIMessage(content=\"Here's a guided body scan meditation focusing on the upper body that lasts for 10 minutes:\\n\\n🧘 **Guided Body Scan Meditation (10 mins)**:\\n\\n1. **🛏️ Step 1:** Lie down comfortably and close your eyes.  \\n   ⏸️ (Pause for ~1 minute)\\n\\n2. **🧠 Step 2:** Bring awareness to your head. Relax your forehead, eyes, and jaw.  \\n   ⏸️ (Pause for ~1 minute)\\n\\n3. **💪 Step 3:** Move your attention down to your shoulders, arms, and hands. Notice any tension and let it go.  \\n   ⏸️ (Pause for ~1 minute)\\n\\n4. **🫁 Step 4:** Shift your focus to your chest and belly. Breathe into each area, feeling it expand and contract.  \\n   ⏸️ (Pause for ~1 minute)\\n\\n5. **🦵 Step 5:** Bring awareness to the upper part of your thighs and pelvic area. Release any tightness you may feel.  \\n   ⏸️ (Pause for ~1 minute)\\n\\n6. **🔁 Step 6:** Do a full body scan from head to toe once more, noticing how your body feels after the meditation.  \\n   ⏸️ (Pause for ~1 minute)\\n\\n7. **🔚 Step 7:** When ready, gently wiggle your fingers and toes, and open your eyes.  \\n   ⏸️ (Pause for ~1 minute)\\n\\nFeel free to take your time with each step and enjoy the relaxation.\", additional_kwargs={'refusal': None}, response_metadata={'token_usage': {'completion_tokens': 329, 'prompt_tokens': 427, 'total_tokens': 756, 'completion_tokens_details': {'accepted_prediction_tokens': 0, 'audio_tokens': 0, 'reasoning_tokens': 0, 'rejected_prediction_tokens': 0}, 'prompt_tokens_details': {'audio_tokens': 0, 'cached_tokens': 0}}, 'model_name': 'gpt-4o-mini-2024-07-18', 'system_fingerprint': 'fp_34a54ae93c', 'id': 'chatcmpl-BgwnaQQ1vVL9auK3ZIlSDaZCUMqs1', 'service_tier': 'default', 'finish_reason': 'stop', 'logprobs': None}, name='meditation_assistant', id='run--fc046f2b-2095-403d-a694-b7071845e5c6-0', usage_metadata={'input_tokens': 427, 'output_tokens': 329, 'total_tokens': 756, 'input_token_details': {'audio': 0, 'cache_read': 0}, 'output_token_details': {'audio': 0, 'reasoning': 0}})]"
            ]
          },
          "execution_count": 6,
          "metadata": {},
          "output_type": "execute_result"
        }
      ],
      "source": [
        "response = meditation_assistant.invoke(\n",
        "    {\n",
        "        \"messages\": [\n",
        "            HumanMessage(content=\"upper body\")\n",
        "            ]\n",
        "    }\n",
        "    )\n",
        "response[\"messages\"]"
      ]
    },
    {
      "cell_type": "code",
      "execution_count": null,
      "metadata": {
        "colab": {
          "base_uri": "https://localhost:8080/",
          "height": 123
        },
        "id": "tJ-AqKiszypW",
        "outputId": "631c52c9-ca37-47ce-81bf-8ea3deaa2978"
      },
      "outputs": [
        {
          "data": {
            "application/vnd.google.colaboratory.intrinsic+json": {
              "type": "string"
            },
            "text/plain": [
              "\"Here's a guided body scan meditation focusing on the upper body that lasts for 10 minutes:\\n\\n🧘 **Guided Body Scan Meditation (10 mins)**:\\n\\n1. **🛏️ Step 1:** Lie down comfortably and close your eyes.  \\n   ⏸️ (Pause for ~1 minute)\\n\\n2. **🧠 Step 2:** Bring awareness to your head. Relax your forehead, eyes, and jaw.  \\n   ⏸️ (Pause for ~1 minute)\\n\\n3. **💪 Step 3:** Move your attention down to your shoulders, arms, and hands. Notice any tension and let it go.  \\n   ⏸️ (Pause for ~1 minute)\\n\\n4. **🫁 Step 4:** Shift your focus to your chest and belly. Breathe into each area, feeling it expand and contract.  \\n   ⏸️ (Pause for ~1 minute)\\n\\n5. **🦵 Step 5:** Bring awareness to the upper part of your thighs and pelvic area. Release any tightness you may feel.  \\n   ⏸️ (Pause for ~1 minute)\\n\\n6. **🔁 Step 6:** Do a full body scan from head to toe once more, noticing how your body feels after the meditation.  \\n   ⏸️ (Pause for ~1 minute)\\n\\n7. **🔚 Step 7:** When ready, gently wiggle your fingers and toes, and open your eyes.  \\n   ⏸️ (Pause for ~1 minute)\\n\\nFeel free to take your time with each step and enjoy the relaxation.\""
            ]
          },
          "execution_count": 7,
          "metadata": {},
          "output_type": "execute_result"
        }
      ],
      "source": [
        "response[\"messages\"][-1].content"
      ]
    },
    {
      "cell_type": "markdown",
      "metadata": {
        "id": "K4Se6J1Q2DYg"
      },
      "source": [
        "# Tool 2"
      ]
    },
    {
      "cell_type": "code",
      "execution_count": null,
      "metadata": {
        "id": "fxWzkBW12DEL"
      },
      "outputs": [],
      "source": [
        "from langchain_core.tools import tool\n",
        "import random\n",
        "\n",
        "@tool\n",
        "def guided_meditation_tool2(style: str = \"mindfulness\", duration: int = 10, intensity: str = \"relaxing\") -> str:\n",
        "    \"\"\"\n",
        "    Generate a dynamic, step-by-step guided meditation session with varied instructions and timed breaks.\n",
        "\n",
        "    Args:\n",
        "        style (str): Type of meditation ('mindfulness', 'breathing', or 'body_scan').\n",
        "        duration (int): Total duration in minutes.\n",
        "        intensity (str): Type of mood or tone ('relaxing', 'energizing').\n",
        "\n",
        "    Returns:\n",
        "        str: A multi-step, varied meditation script.\n",
        "    \"\"\"\n",
        "    # Define intensity tone modifiers\n",
        "    tone_prefix = {\n",
        "        \"relaxing\": \"Gently\",\n",
        "        \"energizing\": \"With alert awareness\"\n",
        "    }\n",
        "\n",
        "    # Define steps by meditation style\n",
        "    instructions = {\n",
        "        \"mindfulness\": [\n",
        "            \"observe your thoughts as they arise.\",\n",
        "            \"bring awareness to your breath without trying to control it.\",\n",
        "            \"notice the sensations in your body.\",\n",
        "            \"focus on the feeling of the air against your skin.\",\n",
        "            \"be fully present with each sound you hear.\",\n",
        "            \"watch your thoughts pass like clouds in the sky.\",\n",
        "            \"feel grounded by the contact between your body and the seat.\"\n",
        "        ],\n",
        "        \"breathing\": [\n",
        "            \"breathe in deeply through your nose, out through your mouth.\",\n",
        "            \"use box breathing: inhale, hold, exhale, hold — all for 4 counts.\",\n",
        "            \"let your breath become slower and deeper.\",\n",
        "            \"place one hand on your chest, the other on your belly, and feel your breath.\",\n",
        "            \"count each breath cycle: in and out equals one.\",\n",
        "            \"pause after each inhale and exhale, feeling stillness.\",\n",
        "            \"anchor your awareness in the rhythm of your breath.\"\n",
        "        ],\n",
        "        \"body_scan\": [\n",
        "            \"relax your forehead and soften your jaw.\",\n",
        "            \"release tension from your shoulders.\",\n",
        "            \"feel your chest rise and fall naturally.\",\n",
        "            \"observe any sensations in your abdomen.\",\n",
        "            \"notice your legs and let them become heavy.\",\n",
        "            \"feel into your toes and feet — relax completely.\",\n",
        "            \"move attention slowly from head to toe.\"\n",
        "        ]\n",
        "    }\n",
        "\n",
        "    if style not in instructions:\n",
        "        return \"❌ Unknown meditation style. Choose from: 'mindfulness', 'breathing', or 'body_scan'.\"\n",
        "\n",
        "    if intensity not in tone_prefix:\n",
        "        return \"❌ Unknown intensity. Choose from: 'relaxing', 'energizing'.\"\n",
        "\n",
        "    steps = random.sample(instructions[style], k=min(len(instructions[style]), duration))\n",
        "    pause_time = duration // len(steps)\n",
        "\n",
        "    # Tone-based intro\n",
        "    response = f\"🧘 {style.title()} Meditation ({intensity.title()}) for {duration} minutes:\\n\"\n",
        "\n",
        "    for i, step in enumerate(steps, 1):\n",
        "        prefix = tone_prefix[intensity]\n",
        "        response += f\"\\n{i}. {prefix}, {step}\\n⏸️ Pause for ~{pause_time} minutes...\\n\"\n",
        "\n",
        "    # Dynamic closings\n",
        "    closing_relaxing = [\n",
        "        \"Gently bring your awareness back to the present.\",\n",
        "        \"Wiggle your fingers and toes softly.\",\n",
        "        \"Open your eyes when you're ready.\",\n",
        "        \"Notice how your body feels now compared to when you started.\"\n",
        "    ]\n",
        "    closing_energizing = [\n",
        "        \"Take a deep breath and feel refreshed.\",\n",
        "        \"Open your eyes with energy and clarity.\",\n",
        "        \"Stretch your arms and prepare to move forward with focus.\",\n",
        "        \"Smile and carry this awareness into the rest of your day.\"\n",
        "    ]\n",
        "\n",
        "    closing = random.choice(closing_relaxing if intensity == \"relaxing\" else closing_energizing)\n",
        "    response += f\"\\n🔚 Final Step: {closing}\"\n",
        "\n",
        "    return response.strip()\n"
      ]
    },
    {
      "cell_type": "code",
      "execution_count": null,
      "metadata": {
        "id": "FATKI9KR2DBF"
      },
      "outputs": [],
      "source": [
        "meditation_assistant2 = create_react_agent(\n",
        "    model=model,\n",
        "    tools=[guided_meditation_tool2],\n",
        "    prompt=\"You are a helpful Meditation expert. Your job is to help users do meditation based on their queries.\",\n",
        "    name=\"meditation_assistant2\"\n",
        ")"
      ]
    },
    {
      "cell_type": "code",
      "execution_count": null,
      "metadata": {
        "colab": {
          "base_uri": "https://localhost:8080/"
        },
        "id": "E66ru-1m2JB4",
        "outputId": "b6293223-55d6-42ac-e77d-7ee5fa321b89"
      },
      "outputs": [
        {
          "data": {
            "text/plain": [
              "[HumanMessage(content='mindful meditation that is relaxing for 10 minutes.', additional_kwargs={}, response_metadata={}, id='ac51a73a-982c-44c4-93c2-d00bcf5c1583'),\n",
              " AIMessage(content='', additional_kwargs={'tool_calls': [{'id': 'call_JDCwTcgakXlt1Dcgr3raq6qO', 'function': {'arguments': '{\"style\":\"mindfulness\",\"duration\":10,\"intensity\":\"relaxing\"}', 'name': 'guided_meditation_tool2'}, 'type': 'function'}], 'refusal': None}, response_metadata={'token_usage': {'completion_tokens': 31, 'prompt_tokens': 183, 'total_tokens': 214, 'completion_tokens_details': {'accepted_prediction_tokens': 0, 'audio_tokens': 0, 'reasoning_tokens': 0, 'rejected_prediction_tokens': 0}, 'prompt_tokens_details': {'audio_tokens': 0, 'cached_tokens': 0}}, 'model_name': 'gpt-4o-mini-2024-07-18', 'system_fingerprint': 'fp_34a54ae93c', 'id': 'chatcmpl-BgwuRWZftHcJYXGjs0H1kwEY26d8G', 'service_tier': 'default', 'finish_reason': 'tool_calls', 'logprobs': None}, name='meditation_assistant2', id='run--46ee4703-0a8a-406c-bc4d-10042f5ff7a6-0', tool_calls=[{'name': 'guided_meditation_tool2', 'args': {'style': 'mindfulness', 'duration': 10, 'intensity': 'relaxing'}, 'id': 'call_JDCwTcgakXlt1Dcgr3raq6qO', 'type': 'tool_call'}], usage_metadata={'input_tokens': 183, 'output_tokens': 31, 'total_tokens': 214, 'input_token_details': {'audio': 0, 'cache_read': 0}, 'output_token_details': {'audio': 0, 'reasoning': 0}}),\n",
              " ToolMessage(content=\"🧘 Mindfulness Meditation (Relaxing) for 10 minutes:\\n\\n1. Gently, focus on the feeling of the air against your skin.\\n⏸️ Pause for ~1 minutes...\\n\\n2. Gently, feel grounded by the contact between your body and the seat.\\n⏸️ Pause for ~1 minutes...\\n\\n3. Gently, be fully present with each sound you hear.\\n⏸️ Pause for ~1 minutes...\\n\\n4. Gently, bring awareness to your breath without trying to control it.\\n⏸️ Pause for ~1 minutes...\\n\\n5. Gently, observe your thoughts as they arise.\\n⏸️ Pause for ~1 minutes...\\n\\n6. Gently, watch your thoughts pass like clouds in the sky.\\n⏸️ Pause for ~1 minutes...\\n\\n7. Gently, notice the sensations in your body.\\n⏸️ Pause for ~1 minutes...\\n\\n🔚 Final Step: Open your eyes when you're ready.\", name='guided_meditation_tool2', id='6acdb510-437e-4e34-b797-613a7ecebf25', tool_call_id='call_JDCwTcgakXlt1Dcgr3raq6qO'),\n",
              " AIMessage(content=\"Here's a 10-minute guided mindfulness meditation that is designed to be relaxing:\\n\\n### Mindfulness Meditation (Relaxing) for 10 Minutes\\n\\n1. **Focus on the Air**: Gently, focus on the feeling of the air against your skin.\\n   ⏸️ Pause for ~1 minute...\\n\\n2. **Grounding**: Gently, feel grounded by the contact between your body and the seat.\\n   ⏸️ Pause for ~1 minute...\\n\\n3. **Listening**: Gently, be fully present with each sound you hear.\\n   ⏸️ Pause for ~1 minute...\\n\\n4. **Breath Awareness**: Gently, bring awareness to your breath without trying to control it.\\n   ⏸️ Pause for ~1 minute...\\n\\n5. **Thought Observation**: Gently, observe your thoughts as they arise.\\n   ⏸️ Pause for ~1 minute...\\n\\n6. **Clouds in the Sky**: Gently, watch your thoughts pass like clouds in the sky.\\n   ⏸️ Pause for ~1 minute...\\n\\n7. **Sensations**: Gently, notice the sensations in your body.\\n   ⏸️ Pause for ~1 minute...\\n\\n🔚 **Final Step**: Open your eyes when you're ready.\\n\\nTake your time with each step and enjoy the moment of relaxation.\", additional_kwargs={'refusal': None}, response_metadata={'token_usage': {'completion_tokens': 275, 'prompt_tokens': 431, 'total_tokens': 706, 'completion_tokens_details': {'accepted_prediction_tokens': 0, 'audio_tokens': 0, 'reasoning_tokens': 0, 'rejected_prediction_tokens': 0}, 'prompt_tokens_details': {'audio_tokens': 0, 'cached_tokens': 0}}, 'model_name': 'gpt-4o-mini-2024-07-18', 'system_fingerprint': 'fp_34a54ae93c', 'id': 'chatcmpl-BgwuSccBLPXORWwGOh8sYVoVAJRk8', 'service_tier': 'default', 'finish_reason': 'stop', 'logprobs': None}, name='meditation_assistant2', id='run--aff226e7-cd5c-42c7-9845-b0447e94063f-0', usage_metadata={'input_tokens': 431, 'output_tokens': 275, 'total_tokens': 706, 'input_token_details': {'audio': 0, 'cache_read': 0}, 'output_token_details': {'audio': 0, 'reasoning': 0}})]"
            ]
          },
          "execution_count": 10,
          "metadata": {},
          "output_type": "execute_result"
        }
      ],
      "source": [
        "response2 = meditation_assistant2.invoke(\n",
        "    {\n",
        "        \"messages\": [\n",
        "            HumanMessage(content=\"mindful meditation that is relaxing for 10 minutes.\")\n",
        "            ]\n",
        "    }\n",
        "    )\n",
        "response2[\"messages\"]"
      ]
    },
    {
      "cell_type": "code",
      "execution_count": null,
      "metadata": {
        "colab": {
          "base_uri": "https://localhost:8080/",
          "height": 123
        },
        "id": "87GIGmeb2C7A",
        "outputId": "38718b8d-c62e-45ae-a94c-8de6afc9d73b"
      },
      "outputs": [
        {
          "data": {
            "application/vnd.google.colaboratory.intrinsic+json": {
              "type": "string"
            },
            "text/plain": [
              "\"Here's a 10-minute guided mindfulness meditation that is designed to be relaxing:\\n\\n### Mindfulness Meditation (Relaxing) for 10 Minutes\\n\\n1. **Focus on the Air**: Gently, focus on the feeling of the air against your skin.\\n   ⏸️ Pause for ~1 minute...\\n\\n2. **Grounding**: Gently, feel grounded by the contact between your body and the seat.\\n   ⏸️ Pause for ~1 minute...\\n\\n3. **Listening**: Gently, be fully present with each sound you hear.\\n   ⏸️ Pause for ~1 minute...\\n\\n4. **Breath Awareness**: Gently, bring awareness to your breath without trying to control it.\\n   ⏸️ Pause for ~1 minute...\\n\\n5. **Thought Observation**: Gently, observe your thoughts as they arise.\\n   ⏸️ Pause for ~1 minute...\\n\\n6. **Clouds in the Sky**: Gently, watch your thoughts pass like clouds in the sky.\\n   ⏸️ Pause for ~1 minute...\\n\\n7. **Sensations**: Gently, notice the sensations in your body.\\n   ⏸️ Pause for ~1 minute...\\n\\n🔚 **Final Step**: Open your eyes when you're ready.\\n\\nTake your time with each step and enjoy the moment of relaxation.\""
            ]
          },
          "execution_count": 11,
          "metadata": {},
          "output_type": "execute_result"
        }
      ],
      "source": [
        "response2[\"messages\"][-1].content"
      ]
    },
    {
      "cell_type": "markdown",
      "metadata": {
        "id": "BbeXl32AlCL6"
      },
      "source": [
        "# Class Local"
      ]
    },
    {
      "cell_type": "markdown",
      "metadata": {
        "id": "pU-mr5FVlFG6"
      },
      "source": [
        "# Meditation Tool. PY"
      ]
    },
    {
      "cell_type": "code",
      "execution_count": null,
      "metadata": {
        "id": "VGyQsED4ucQt"
      },
      "outputs": [],
      "source": [
        "from langchain_core.tools import tool\n",
        "import random\n",
        "\n",
        "@tool\n",
        "def guided_meditation_tool2(style: str = \"mindfulness\", duration: int = 10, intensity: str = \"relaxing\") -> str:\n",
        "    \"\"\"\n",
        "    Generate a dynamic, step-by-step guided meditation session with varied instructions and timed breaks.\n",
        "\n",
        "    Args:\n",
        "        style (str): Type of meditation ('mindfulness', 'breathing', or 'body_scan').\n",
        "        duration (int): Total duration in minutes.\n",
        "        intensity (str): Type of mood or tone ('relaxing', 'energizing').\n",
        "\n",
        "    Returns:\n",
        "        str: A multi-step, varied meditation script.\n",
        "    \"\"\"\n",
        "    # Define intensity tone modifiers\n",
        "    tone_prefix = {\n",
        "        \"relaxing\": \"Gently\",\n",
        "        \"energizing\": \"With alert awareness\"\n",
        "    }\n",
        "\n",
        "    # Define steps by meditation style\n",
        "    instructions = {\n",
        "        \"mindfulness\": [\n",
        "            \"observe your thoughts as they arise.\",\n",
        "            \"bring awareness to your breath without trying to control it.\",\n",
        "            \"notice the sensations in your body.\",\n",
        "            \"focus on the feeling of the air against your skin.\",\n",
        "            \"be fully present with each sound you hear.\",\n",
        "            \"watch your thoughts pass like clouds in the sky.\",\n",
        "            \"feel grounded by the contact between your body and the seat.\"\n",
        "        ],\n",
        "        \"breathing\": [\n",
        "            \"breathe in deeply through your nose, out through your mouth.\",\n",
        "            \"use box breathing: inhale, hold, exhale, hold — all for 4 counts.\",\n",
        "            \"let your breath become slower and deeper.\",\n",
        "            \"place one hand on your chest, the other on your belly, and feel your breath.\",\n",
        "            \"count each breath cycle: in and out equals one.\",\n",
        "            \"pause after each inhale and exhale, feeling stillness.\",\n",
        "            \"anchor your awareness in the rhythm of your breath.\"\n",
        "        ],\n",
        "        \"body_scan\": [\n",
        "            \"relax your forehead and soften your jaw.\",\n",
        "            \"release tension from your shoulders.\",\n",
        "            \"feel your chest rise and fall naturally.\",\n",
        "            \"observe any sensations in your abdomen.\",\n",
        "            \"notice your legs and let them become heavy.\",\n",
        "            \"feel into your toes and feet — relax completely.\",\n",
        "            \"move attention slowly from head to toe.\"\n",
        "        ]\n",
        "    }\n",
        "\n",
        "    if style not in instructions:\n",
        "        return \"❌ Unknown meditation style. Choose from: 'mindfulness', 'breathing', or 'body_scan'.\"\n",
        "\n",
        "    if intensity not in tone_prefix:\n",
        "        return \"❌ Unknown intensity. Choose from: 'relaxing', 'energizing'.\"\n",
        "\n",
        "    steps = random.sample(instructions[style], k=min(len(instructions[style]), duration))\n",
        "    pause_time = duration // len(steps)\n",
        "\n",
        "    # Tone-based intro\n",
        "    response = f\"🧘 {style.title()} Meditation ({intensity.title()}) for {duration} minutes:\\n\"\n",
        "\n",
        "    for i, step in enumerate(steps, 1):\n",
        "        prefix = tone_prefix[intensity]\n",
        "        response += f\"\\n{i}. {prefix}, {step}\\n⏸️ Pause for ~{pause_time} minutes...\\n\"\n",
        "\n",
        "    # Dynamic closings\n",
        "    closing_relaxing = [\n",
        "        \"Gently bring your awareness back to the present.\",\n",
        "        \"Wiggle your fingers and toes softly.\",\n",
        "        \"Open your eyes when you're ready.\",\n",
        "        \"Notice how your body feels now compared to when you started.\"\n",
        "    ]\n",
        "    closing_energizing = [\n",
        "        \"Take a deep breath and feel refreshed.\",\n",
        "        \"Open your eyes with energy and clarity.\",\n",
        "        \"Stretch your arms and prepare to move forward with focus.\",\n",
        "        \"Smile and carry this awareness into the rest of your day.\"\n",
        "    ]\n",
        "\n",
        "    closing = random.choice(closing_relaxing if intensity == \"relaxing\" else closing_energizing)\n",
        "    response += f\"\\n🔚 Final Step: {closing}\"\n",
        "\n",
        "    return response.strip()\n"
      ]
    },
    {
      "cell_type": "markdown",
      "metadata": {
        "id": "PnYEk1DVlMDv"
      },
      "source": [
        "# Run_meditation agent.py"
      ]
    },
    {
      "cell_type": "code",
      "execution_count": null,
      "metadata": {
        "id": "MB8edKv6k7Ay"
      },
      "outputs": [],
      "source": [
        "from dotenv import load_dotenv\n",
        "load_dotenv()\n",
        "\n",
        "from agents.meditation_agent import MeditationAgent\n",
        "def main():\n",
        "    agent = MeditationAgent()\n",
        "    query = \"mindful meditation that is relaxing for 10 minutes.\"\n",
        "    result = agent.run(query)\n",
        "    print(result)\n",
        "\n",
        "if __name__ == \"__main__\":\n",
        "    main()"
      ]
    },
    {
      "cell_type": "markdown",
      "metadata": {
        "id": "bkNNKB7BlRTO"
      },
      "source": [
        "# Meditation Agent py"
      ]
    },
    {
      "cell_type": "code",
      "execution_count": null,
      "metadata": {
        "id": "XBGgToC1k694"
      },
      "outputs": [],
      "source": [
        "from langchain_openai import ChatOpenAI\n",
        "from langgraph.prebuilt import create_react_agent\n",
        "from langchain_core.messages import HumanMessage\n",
        "from tools.email_tools import guided_meditation_tool2\n",
        "from config.setting import OPENAI_API_KEY\n",
        "\n",
        "class MeditationAgent:\n",
        "    def __init__(self):\n",
        "        self.openai_api_key = OPENAI_API_KEY\n",
        "        self.model = ChatOpenAI(api_key=self.openai_api_key, model=\"gpt-4o-mini\", verbose=True)\n",
        "        self.agent = create_react_agent(\n",
        "            model=self.model,\n",
        "            tools=[guided_meditation_tool2],\n",
        "            prompt = (\n",
        "              \"You are a helpful Meditation expert. Your job is to help users do meditation \"\n",
        "              \"based on their requests. Use the tool to generate steps for meditation.\"\n",
        "\n",
        "            ),\n",
        "            name=\"meditation_assistant\"\n",
        "        )\n",
        "\n",
        "    def run(self, user_input):\n",
        "        response = self.agent.invoke({\n",
        "            \"messages\": [HumanMessage(content=user_input)]\n",
        "        }, config={\"recursion_limit\": 50})\n",
        "        return response[\"messages\"][-1].content"
      ]
    }
  ],
  "metadata": {
    "colab": {
      "provenance": [],
      "toc_visible": true
    },
    "kernelspec": {
      "display_name": "Python 3",
      "name": "python3"
    },
    "language_info": {
      "name": "python"
    }
  },
  "nbformat": 4,
  "nbformat_minor": 0
}
