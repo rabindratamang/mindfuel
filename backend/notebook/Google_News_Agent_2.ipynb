{
  "cells": [
    {
      "cell_type": "code",
      "execution_count": 1,
      "metadata": {
        "colab": {
          "base_uri": "https://localhost:8080/"
        },
        "id": "Typ045EDiVKV",
        "outputId": "e011b875-18ec-4b07-dfea-25bb163b4c66"
      },
      "outputs": [
        {
          "name": "stdout",
          "output_type": "stream",
          "text": [
            "\u001b[2K     \u001b[90m━━━━━━━━━━━━━━━━━━━━━━━━━━━━━━━━━━━━━━━━\u001b[0m \u001b[32m43.7/43.7 kB\u001b[0m \u001b[31m1.5 MB/s\u001b[0m eta \u001b[36m0:00:00\u001b[0m\n",
            "\u001b[2K   \u001b[90m━━━━━━━━━━━━━━━━━━━━━━━━━━━━━━━━━━━━━━━━\u001b[0m \u001b[32m69.0/69.0 kB\u001b[0m \u001b[31m4.2 MB/s\u001b[0m eta \u001b[36m0:00:00\u001b[0m\n",
            "\u001b[2K   \u001b[90m━━━━━━━━━━━━━━━━━━━━━━━━━━━━━━━━━━━━━━━━\u001b[0m \u001b[32m152.4/152.4 kB\u001b[0m \u001b[31m9.0 MB/s\u001b[0m eta \u001b[36m0:00:00\u001b[0m\n",
            "\u001b[2K   \u001b[90m━━━━━━━━━━━━━━━━━━━━━━━━━━━━━━━━━━━━━━━━\u001b[0m \u001b[32m2.5/2.5 MB\u001b[0m \u001b[31m54.3 MB/s\u001b[0m eta \u001b[36m0:00:00\u001b[0m\n",
            "\u001b[2K   \u001b[90m━━━━━━━━━━━━━━━━━━━━━━━━━━━━━━━━━━━━━━━━\u001b[0m \u001b[32m43.8/43.8 kB\u001b[0m \u001b[31m2.1 MB/s\u001b[0m eta \u001b[36m0:00:00\u001b[0m\n",
            "\u001b[2K   \u001b[90m━━━━━━━━━━━━━━━━━━━━━━━━━━━━━━━━━━━━━━━━\u001b[0m \u001b[32m50.0/50.0 kB\u001b[0m \u001b[31m2.8 MB/s\u001b[0m eta \u001b[36m0:00:00\u001b[0m\n",
            "\u001b[2K   \u001b[90m━━━━━━━━━━━━━━━━━━━━━━━━━━━━━━━━━━━━━━━━\u001b[0m \u001b[32m44.4/44.4 kB\u001b[0m \u001b[31m976.2 kB/s\u001b[0m eta \u001b[36m0:00:00\u001b[0m\n",
            "\u001b[2K   \u001b[90m━━━━━━━━━━━━━━━━━━━━━━━━━━━━━━━━━━━━━━━━\u001b[0m \u001b[32m50.9/50.9 kB\u001b[0m \u001b[31m1.6 MB/s\u001b[0m eta \u001b[36m0:00:00\u001b[0m\n",
            "\u001b[2K   \u001b[90m━━━━━━━━━━━━━━━━━━━━━━━━━━━━━━━━━━━━━━━━\u001b[0m \u001b[32m216.5/216.5 kB\u001b[0m \u001b[31m9.8 MB/s\u001b[0m eta \u001b[36m0:00:00\u001b[0m\n",
            "\u001b[?25h"
          ]
        }
      ],
      "source": [
        "%pip install -qU langchain-openai langchain langgraph langchain_community langgraph-supervisor"
      ]
    },
    {
      "cell_type": "code",
      "execution_count": 2,
      "metadata": {
        "id": "9wra2sbRiWax"
      },
      "outputs": [],
      "source": [
        "from pydantic import BaseModel\n",
        "from langchain_openai import ChatOpenAI\n",
        "from google.colab import userdata\n",
        "from langgraph.prebuilt import create_react_agent\n",
        "from langgraph_supervisor import create_supervisor\n",
        "from langchain_core.tools import tool\n",
        "from langchain_core.messages import (\n",
        "    HumanMessage,\n",
        ")\n",
        "from langgraph.prebuilt import create_react_agent\n",
        "import requests\n",
        "key = userdata.get('OPENAI_API_KEY')"
      ]
    },
    {
      "cell_type": "code",
      "execution_count": 3,
      "metadata": {
        "id": "CCQSHTMLiWXd"
      },
      "outputs": [],
      "source": [
        "model = ChatOpenAI(api_key=key,model=\"gpt-4o-mini\")"
      ]
    },
    {
      "cell_type": "markdown",
      "metadata": {
        "id": "8RrxVUjTktkj"
      },
      "source": [
        "# Tool"
      ]
    },
    {
      "cell_type": "code",
      "execution_count": null,
      "metadata": {
        "id": "1R7d8SzFiWUp"
      },
      "outputs": [],
      "source": [
        "# from langchain_core.tools import tool\n",
        "# import requests\n",
        "# import os\n",
        "\n",
        "# tool\n",
        "# def search_news_by_keyword(keyword: str, region: str = \"en-US\") -> str:\n",
        "#     \"\"\"\n",
        "#     Search Google News for articles matching a keyword using the google-news13 API.\n",
        "\n",
        "#     Args:\n",
        "#         keyword (str): The keyword to search for.\n",
        "#         region (str): Language-region code (default: 'en-US').\n",
        "\n",
        "#     Returns:\n",
        "#         str: A summary of the top 3 news articles with title, summary, and link.\n",
        "#     \"\"\"\n",
        "#     url = \"https://google-news13.p.rapidapi.com/search\"\n",
        "#     querystring = {\"keyword\": keyword, \"lr\": region}\n",
        "#     headers = {\n",
        "#         \"x-rapidapi-key\": \"api key\",\n",
        "#         \"x-rapidapi-host\": \"google-news13.p.rapidapi.com\"\n",
        "#     }\n",
        "\n",
        "#     try:\n",
        "#         response = requests.get(url, headers=headers, params=querystring)\n",
        "#         response.raise_for_status()\n",
        "#         data = response.json()\n",
        "#         items = data.get(\"items\", [])\n",
        "\n",
        "#         if not items:\n",
        "#             return f\"No news found for keyword: {keyword}\"\n",
        "\n",
        "#         result = f\"📰 Top News for '{keyword}':\\n\"\n",
        "#         for idx, item in enumerate(items[:3], start=1):  # Top 3 items\n",
        "#             title = item.get(\"title\", \"No title\")\n",
        "#             snippet = item.get(\"snippet\", \"No summary\")\n",
        "#             link = item.get(\"newsUrl\", \"No link\")\n",
        "#             result += f\"\\n{idx}. {title}\\n📄 {snippet}\\n🔗 {link}\\n\"\n",
        "#         return result.strip()\n",
        "\n",
        "#     except requests.exceptions.RequestException as e:\n",
        "#         return f\"❌ Error fetching news: {str(e)}\"\n",
        "#     except (KeyError, TypeError) as e:\n",
        "#         return f\"❌ Unexpected response format: {str(e)}\"\n",
        "from langchain_core.tools import tool\n",
        "import requests\n",
        "import time\n",
        "\n",
        "@tool\n",
        "def search_news_by_keyword(keyword: str, region: str = \"en-US\") -> dict:\n",
        "    \"\"\"\n",
        "    Search Google News for articles matching a keyword using the google-news13 API.\n",
        "\n",
        "    Args:\n",
        "        keyword (str): The keyword to search for.\n",
        "        region (str): Language-region code (default: 'en-US').\n",
        "\n",
        "    Returns:\n",
        "        dict: A JSON object containing the keyword and a list of top 3 news articles.\n",
        "    \"\"\"\n",
        "    url = \"https://google-news13.p.rapidapi.com/search\"\n",
        "    querystring = {\"keyword\": keyword, \"lr\": region}\n",
        "    headers = {\n",
        "        \"x-rapidapi-key\": \"api key\",  # Replace with your RapidAPI key\n",
        "        \"x-rapidapi-host\": \"google-news13.p.rapidapi.com\"\n",
        "    }\n",
        "\n",
        "    try:\n",
        "        response = requests.get(url, headers=headers, params=querystring)\n",
        "        response.raise_for_status()\n",
        "        data = response.json()\n",
        "        items = data.get(\"items\", [])\n",
        "\n",
        "        articles = []\n",
        "        for item in items[:3]:  # Limit to top 3 articles\n",
        "            timestamp = item.get(\"timestamp\")\n",
        "            readable_time = time.strftime('%Y-%m-%d %H:%M:%S', time.localtime(int(timestamp) / 1000)) if timestamp else None\n",
        "\n",
        "            articles.append({\n",
        "                \"title\": item.get(\"title\", \"No title\"),\n",
        "                \"snippet\": item.get(\"snippet\", \"No summary\"),\n",
        "                \"news_url\": item.get(\"newsUrl\", \"No link\"),\n",
        "                \"thumbnail\": item.get(\"images\", {}).get(\"thumbnail\", \"\"),\n",
        "                \"publisher\": item.get(\"publisher\", \"Unknown\"),\n",
        "                \"timestamp\": timestamp,\n",
        "                \"published_time\": readable_time\n",
        "            })\n",
        "\n",
        "        return {\n",
        "            \"query\": keyword,\n",
        "            \"total\": len(articles),\n",
        "            \"articles\": articles\n",
        "        }\n",
        "\n",
        "    except requests.exceptions.RequestException as e:\n",
        "        return {\"error\": f\"Request failed: {str(e)}\"}\n",
        "    except (KeyError, TypeError) as e:\n",
        "        return {\"error\": f\"Unexpected response format: {str(e)}\"}\n"
      ]
    },
    {
      "cell_type": "markdown",
      "metadata": {
        "id": "Npr1Xb0rkvy4"
      },
      "source": [
        "# Agent"
      ]
    },
    {
      "cell_type": "code",
      "execution_count": 5,
      "metadata": {
        "id": "BZmj1snYiWRr"
      },
      "outputs": [],
      "source": [
        "# google_assistant = create_react_agent(\n",
        "#     model=model,\n",
        "#     tools=[search_news_by_keyword],\n",
        "#     prompt=\"You are a helpful Google search assistant. Your job is to help users find Google articles based on their search queries.\",\n",
        "#     name=\"google_assistant\"\n",
        "# )\n",
        "google_assistant = create_react_agent(\n",
        "    model=model,\n",
        "    tools=[search_news_by_keyword],\n",
        "    prompt=(\n",
        "        \"You are a helpful Google News assistant. Your task is to help users find recent news articles based on their search queries.\\n\\n\"\n",
        "        \"Use the `search_news_by_keyword` tool by passing the keyword provided by the user.\\n\\n\"\n",
        "        \"Always return the results strictly in this JSON format:\\n\"\n",
        "        \"{\\n\"\n",
        "        '  \"query\": string,\\n'\n",
        "        '  \"total\": integer,\\n'\n",
        "        '  \"articles\": [\\n'\n",
        "        '    {\\n'\n",
        "        '      \"title\": string,\\n'\n",
        "        '      \"snippet\": string,\\n'\n",
        "        '      \"news_url\": string,\\n'\n",
        "        '      \"thumbnail\": string,\\n'\n",
        "        '      \"publisher\": string,\\n'\n",
        "        '      \"timestamp\": integer,\\n'\n",
        "        '      \"published_time\": string\\n'\n",
        "        '    },\\n'\n",
        "        \"    ... (up to 3 items)\\n\"\n",
        "        \"  ]\\n\"\n",
        "        \"}\\n\\n\"\n",
        "        \"Do not include markdown, extra explanations, or formatting — only return clean JSON.\"\n",
        "    ),\n",
        "    name=\"google_assistant\"\n",
        ")\n"
      ]
    },
    {
      "cell_type": "markdown",
      "metadata": {
        "id": "obAqzCQukyLQ"
      },
      "source": [
        "# Agent Invoke"
      ]
    },
    {
      "cell_type": "code",
      "execution_count": 6,
      "metadata": {
        "colab": {
          "base_uri": "https://localhost:8080/"
        },
        "id": "zPhObCsTiWOV",
        "outputId": "a7290d21-07f3-4f0b-836f-cfbb3e83ce65"
      },
      "outputs": [
        {
          "data": {
            "text/plain": [
              "[HumanMessage(content='mental health', additional_kwargs={}, response_metadata={}, id='27ed6741-c76b-45b7-adcc-4465e63aa07c'),\n",
              " AIMessage(content='', additional_kwargs={'tool_calls': [{'id': 'call_pk3te8VeRpuyuKU7rnlhlkzR', 'function': {'arguments': '{\"keyword\":\"mental health\"}', 'name': 'search_news_by_keyword'}, 'type': 'function'}], 'refusal': None}, response_metadata={'token_usage': {'completion_tokens': 17, 'prompt_tokens': 261, 'total_tokens': 278, 'completion_tokens_details': {'accepted_prediction_tokens': 0, 'audio_tokens': 0, 'reasoning_tokens': 0, 'rejected_prediction_tokens': 0}, 'prompt_tokens_details': {'audio_tokens': 0, 'cached_tokens': 0}}, 'model_name': 'gpt-4o-mini-2024-07-18', 'system_fingerprint': 'fp_34a54ae93c', 'id': 'chatcmpl-BjeMUte1jcjAWefcUu5C6We9Py0Ej', 'service_tier': 'default', 'finish_reason': 'tool_calls', 'logprobs': None}, name='google_assistant', id='run--411b8227-9f1a-4ff7-9e12-0478d1ea0bf9-0', tool_calls=[{'name': 'search_news_by_keyword', 'args': {'keyword': 'mental health'}, 'id': 'call_pk3te8VeRpuyuKU7rnlhlkzR', 'type': 'tool_call'}], usage_metadata={'input_tokens': 261, 'output_tokens': 17, 'total_tokens': 278, 'input_token_details': {'audio': 0, 'cache_read': 0}, 'output_token_details': {'audio': 0, 'reasoning': 0}}),\n",
              " ToolMessage(content='{\"query\": \"mental health\", \"total\": 3, \"articles\": [{\"title\": \"A father’s poor mental health may harm his children’s development, study finds\", \"snippet\": \"A father\\'s poor mental health may harm child development, a new study has found. Here\\'s how fathers, too, can get the support they need.\", \"news_url\": \"https://www.cnn.com/2025/06/16/health/father-mental-health-child-development-wellness\", \"thumbnail\": \"https://news.google.com/api/attachments/CC8iI0NnNDNXblpwUVdORlRURjFaMXBtVFJERUF4aW5CU2dLTWdB=-w280-h168-p-df-rw\", \"publisher\": \"CNN\", \"timestamp\": \"1750086000000\", \"published_time\": \"2025-06-16 15:00:00\"}, {\"title\": \"Pain management startup Sword Health expands into mental health, raises $40 million\", \"snippet\": \"Sword Health is pulling in additional capital as it expands into mental health care with a new artificial intelligence tool.\", \"news_url\": \"https://www.cnbc.com/2025/06/17/sword-health-raises-40-million-expands-into-mental-health-with-ai.html\", \"thumbnail\": \"https://news.google.com/api/attachments/CC8iI0NnNUlWRmhVVVV3d1h6WTJhVm8wVFJDZkF4ampCU2dLTWdB=-w280-h168-p-df-rw\", \"publisher\": \"CNBC\", \"timestamp\": \"1750159801000\", \"published_time\": \"2025-06-17 11:30:01\"}, {\"title\": \"Fear at 30,000 ft: The mental health aftermath of the Air India crash\", \"snippet\": \"The recent Air India crash has triggered widespread flight anxiety, with many travellers reconsidering air travel and experiencing...\", \"news_url\": \"https://www.indiatoday.in/lifestyle/travel/story/air-india-crash-flight-anxiety-mental-health-experts-2742221-2025-06-18\", \"thumbnail\": \"https://news.google.com/api/attachments/CC8iK0NnNTJTR1Z6U1VkT2VHUXlORVpUVFJDZkF4ampCU2dLTWdhcFpaTE5LUWM=-w280-h168-p-df-rw\", \"publisher\": \"India Today\", \"timestamp\": \"1750217052000\", \"published_time\": \"2025-06-18 03:24:12\"}]}', name='search_news_by_keyword', id='5548681e-3779-4119-bbbb-36d99239ebe5', tool_call_id='call_pk3te8VeRpuyuKU7rnlhlkzR'),\n",
              " AIMessage(content='{\\n  \"query\": \"mental health\",\\n  \"total\": 3,\\n  \"articles\": [\\n    {\\n      \"title\": \"A father’s poor mental health may harm his children’s development, study finds\",\\n      \"snippet\": \"A father\\'s poor mental health may harm child development, a new study has found. Here\\'s how fathers, too, can get the support they need.\",\\n      \"news_url\": \"https://www.cnn.com/2025/06/16/health/father-mental-health-child-development-wellness\",\\n      \"thumbnail\": \"https://news.google.com/api/attachments/CC8iI0NnNDNXblpwUVdORlRURjFaMXBtVFJERUF4aW5CU2dLTWdB=-w280-h168-p-df-rw\",\\n      \"publisher\": \"CNN\",\\n      \"timestamp\": 1750086000000,\\n      \"published_time\": \"2025-06-16 15:00:00\"\\n    },\\n    {\\n      \"title\": \"Pain management startup Sword Health expands into mental health, raises $40 million\",\\n      \"snippet\": \"Sword Health is pulling in additional capital as it expands into mental health care with a new artificial intelligence tool.\",\\n      \"news_url\": \"https://www.cnbc.com/2025/06/17/sword-health-raises-40-million-expands-into-mental-health-with-ai.html\",\\n      \"thumbnail\": \"https://news.google.com/api/attachments/CC8iI0NnNUlWRmhVVVV3d1h6WTJhVm8wVFJDZkF4ampCU2dLTWdB=-w280-h168-p-df-rw\",\\n      \"publisher\": \"CNBC\",\\n      \"timestamp\": 1750159801000,\\n      \"published_time\": \"2025-06-17 11:30:01\"\\n    },\\n    {\\n      \"title\": \"Fear at 30,000 ft: The mental health aftermath of the Air India crash\",\\n      \"snippet\": \"The recent Air India crash has triggered widespread flight anxiety, with many travellers reconsidering air travel and experiencing...\",\\n      \"news_url\": \"https://www.indiatoday.in/lifestyle/travel/story/air-india-crash-flight-anxiety-mental-health-experts-2742221-2025-06-18\",\\n      \"thumbnail\": \"https://news.google.com/api/attachments/CC8iK0NnNTJTR1Z6U1VkT2VHUXlORVpUVFJDZkF4ampCU2dLTWdhcFpaTE5LUWM=-w280-h168-p-df-rw\",\\n      \"publisher\": \"India Today\",\\n      \"timestamp\": 1750217052000,\\n      \"published_time\": \"2025-06-18 03:24:12\"\\n    }\\n  ]\\n}', additional_kwargs={'refusal': None}, response_metadata={'token_usage': {'completion_tokens': 606, 'prompt_tokens': 857, 'total_tokens': 1463, 'completion_tokens_details': {'accepted_prediction_tokens': 0, 'audio_tokens': 0, 'reasoning_tokens': 0, 'rejected_prediction_tokens': 0}, 'prompt_tokens_details': {'audio_tokens': 0, 'cached_tokens': 0}}, 'model_name': 'gpt-4o-mini-2024-07-18', 'system_fingerprint': 'fp_34a54ae93c', 'id': 'chatcmpl-BjeMVZFkEZolIfZfjdXv9DlpvOujL', 'service_tier': 'default', 'finish_reason': 'stop', 'logprobs': None}, name='google_assistant', id='run--52688549-1ff3-4e1e-9f80-4189f582ac2f-0', usage_metadata={'input_tokens': 857, 'output_tokens': 606, 'total_tokens': 1463, 'input_token_details': {'audio': 0, 'cache_read': 0}, 'output_token_details': {'audio': 0, 'reasoning': 0}})]"
            ]
          },
          "execution_count": 6,
          "metadata": {},
          "output_type": "execute_result"
        }
      ],
      "source": [
        "response = google_assistant.invoke(\n",
        "    {\n",
        "        \"messages\": [\n",
        "            HumanMessage(content=\"mental health\")\n",
        "            ]\n",
        "    }\n",
        "    )\n",
        "response[\"messages\"]"
      ]
    },
    {
      "cell_type": "code",
      "execution_count": 7,
      "metadata": {
        "colab": {
          "base_uri": "https://localhost:8080/",
          "height": 123
        },
        "id": "LiINtLbdig0i",
        "outputId": "33abb761-6e4b-4557-f8ec-bf6f020287e6"
      },
      "outputs": [
        {
          "data": {
            "application/vnd.google.colaboratory.intrinsic+json": {
              "type": "string"
            },
            "text/plain": [
              "'{\\n  \"query\": \"mental health\",\\n  \"total\": 3,\\n  \"articles\": [\\n    {\\n      \"title\": \"A father’s poor mental health may harm his children’s development, study finds\",\\n      \"snippet\": \"A father\\'s poor mental health may harm child development, a new study has found. Here\\'s how fathers, too, can get the support they need.\",\\n      \"news_url\": \"https://www.cnn.com/2025/06/16/health/father-mental-health-child-development-wellness\",\\n      \"thumbnail\": \"https://news.google.com/api/attachments/CC8iI0NnNDNXblpwUVdORlRURjFaMXBtVFJERUF4aW5CU2dLTWdB=-w280-h168-p-df-rw\",\\n      \"publisher\": \"CNN\",\\n      \"timestamp\": 1750086000000,\\n      \"published_time\": \"2025-06-16 15:00:00\"\\n    },\\n    {\\n      \"title\": \"Pain management startup Sword Health expands into mental health, raises $40 million\",\\n      \"snippet\": \"Sword Health is pulling in additional capital as it expands into mental health care with a new artificial intelligence tool.\",\\n      \"news_url\": \"https://www.cnbc.com/2025/06/17/sword-health-raises-40-million-expands-into-mental-health-with-ai.html\",\\n      \"thumbnail\": \"https://news.google.com/api/attachments/CC8iI0NnNUlWRmhVVVV3d1h6WTJhVm8wVFJDZkF4ampCU2dLTWdB=-w280-h168-p-df-rw\",\\n      \"publisher\": \"CNBC\",\\n      \"timestamp\": 1750159801000,\\n      \"published_time\": \"2025-06-17 11:30:01\"\\n    },\\n    {\\n      \"title\": \"Fear at 30,000 ft: The mental health aftermath of the Air India crash\",\\n      \"snippet\": \"The recent Air India crash has triggered widespread flight anxiety, with many travellers reconsidering air travel and experiencing...\",\\n      \"news_url\": \"https://www.indiatoday.in/lifestyle/travel/story/air-india-crash-flight-anxiety-mental-health-experts-2742221-2025-06-18\",\\n      \"thumbnail\": \"https://news.google.com/api/attachments/CC8iK0NnNTJTR1Z6U1VkT2VHUXlORVpUVFJDZkF4ampCU2dLTWdhcFpaTE5LUWM=-w280-h168-p-df-rw\",\\n      \"publisher\": \"India Today\",\\n      \"timestamp\": 1750217052000,\\n      \"published_time\": \"2025-06-18 03:24:12\"\\n    }\\n  ]\\n}'"
            ]
          },
          "execution_count": 7,
          "metadata": {},
          "output_type": "execute_result"
        }
      ],
      "source": [
        "response[\"messages\"][-1].content"
      ]
    },
    {
      "cell_type": "markdown",
      "metadata": {
        "id": "VLTITTLvk42c"
      },
      "source": [
        "# Class Local"
      ]
    },
    {
      "cell_type": "markdown",
      "metadata": {
        "id": "06KPEdDXk7cJ"
      },
      "source": [
        "# Google News Tool. PY"
      ]
    },
    {
      "cell_type": "code",
      "execution_count": null,
      "metadata": {
        "id": "G7CeNxa8k1Ro"
      },
      "outputs": [],
      "source": [
        "from langchain_core.tools import tool\n",
        "import requests\n",
        "import os\n",
        "from config.setting import RAPIDAPI_KEY\n",
        "@tool\n",
        "def search_news_by_keyword(keyword: str, region: str = \"en-US\") -> str:\n",
        "    \"\"\"\n",
        "    Search Google News for articles matching a keyword using the google-news13 API.\n",
        "\n",
        "    Args:\n",
        "        keyword (str): The keyword to search for.\n",
        "        region (str): Language-region code (default: 'en-US').\n",
        "\n",
        "    Returns:\n",
        "        str: A summary of the top 3 news articles with title, summary, and link.\n",
        "    \"\"\"\n",
        "    rapidapi_key = RAPIDAPI_KEY\n",
        "    url = \"https://google-news13.p.rapidapi.com/search\"\n",
        "    querystring = {\"keyword\": keyword, \"lr\": region}\n",
        "    headers = {\n",
        "        \"x-rapidapi-key\": rapidapi_key,\n",
        "        \"x-rapidapi-host\": \"google-news13.p.rapidapi.com\"\n",
        "    }\n",
        "\n",
        "    try:\n",
        "        response = requests.get(url, headers=headers, params=querystring)\n",
        "        response.raise_for_status()\n",
        "        data = response.json()\n",
        "        items = data.get(\"items\", [])\n",
        "\n",
        "        if not items:\n",
        "            return f\"No news found for keyword: {keyword}\"\n",
        "\n",
        "        result = f\"📰 Top News for '{keyword}':\\n\"\n",
        "        for idx, item in enumerate(items[:3], start=1):  # Top 3 items\n",
        "            title = item.get(\"title\", \"No title\")\n",
        "            snippet = item.get(\"snippet\", \"No summary\")\n",
        "            link = item.get(\"newsUrl\", \"No link\")\n",
        "            result += f\"\\n{idx}. {title}\\n📄 {snippet}\\n🔗 {link}\\n\"\n",
        "        return result.strip()\n",
        "\n",
        "    except requests.exceptions.RequestException as e:\n",
        "        return f\"❌ Error fetching news: {str(e)}\"\n",
        "    except (KeyError, TypeError) as e:\n",
        "        return f\"❌ Unexpected response format: {str(e)}\"\n"
      ]
    },
    {
      "cell_type": "markdown",
      "metadata": {
        "id": "44c5B1jplAPW"
      },
      "source": [
        "# Run google news agent.py"
      ]
    },
    {
      "cell_type": "code",
      "execution_count": null,
      "metadata": {
        "id": "pmiiVrFek1N_"
      },
      "outputs": [],
      "source": [
        "from dotenv import load_dotenv\n",
        "load_dotenv()\n",
        "\n",
        "from agents.google_news_agent import GoogleNewsAgent\n",
        "def main():\n",
        "    agent = GoogleNewsAgent()\n",
        "    query = \"mental health\"\n",
        "    result = agent.run(query)\n",
        "    print(result)\n",
        "\n",
        "if __name__ == \"__main__\":\n",
        "    main()"
      ]
    },
    {
      "cell_type": "markdown",
      "metadata": {
        "id": "co-PTI0ZlDZr"
      },
      "source": [
        "# Google News Agent py"
      ]
    },
    {
      "cell_type": "code",
      "execution_count": null,
      "metadata": {
        "id": "mTl-rmOTk1Kh"
      },
      "outputs": [],
      "source": [
        "from langchain_openai import ChatOpenAI\n",
        "from langgraph.prebuilt import create_react_agent\n",
        "from langchain_core.messages import HumanMessage\n",
        "from tools.spotify_tools import search_spotify_playlists\n",
        "from config.setting import OPENAI_API_KEY\n",
        "\n",
        "class GoogleNewsAgent:\n",
        "    def __init__(self):\n",
        "        self.openai_api_key = OPENAI_API_KEY\n",
        "        self.model = ChatOpenAI(api_key=self.openai_api_key, model=\"gpt-4o-mini\", verbose=True)\n",
        "        self.agent = create_react_agent(\n",
        "            model=self.model,\n",
        "            tools=[search_news_by_keyword],\n",
        "            prompt = (\n",
        "              \"You are a helpful Google search assistant. Your job is to help users find Google articles \"\n",
        "              \"based on their search queries. Use the tool to perform a search and return the top result. \"\n",
        "              \"Once the top result is found, return it as 'Final Answer: <result>' and stop.\"\n",
        "            ),\n",
        "            name=\"google_news_assistant\"\n",
        "        )\n",
        "\n",
        "    def run(self, user_input):\n",
        "        response = self.agent.invoke({\n",
        "            \"messages\": [HumanMessage(content=user_input)]\n",
        "        }, config={\"recursion_limit\": 50})\n",
        "        return response[\"messages\"][-1].content"
      ]
    },
    {
      "cell_type": "code",
      "execution_count": null,
      "metadata": {
        "id": "Q1x7fuU7k1DZ"
      },
      "outputs": [],
      "source": []
    }
  ],
  "metadata": {
    "colab": {
      "provenance": []
    },
    "kernelspec": {
      "display_name": "Python 3",
      "name": "python3"
    },
    "language_info": {
      "name": "python"
    }
  },
  "nbformat": 4,
  "nbformat_minor": 0
}
