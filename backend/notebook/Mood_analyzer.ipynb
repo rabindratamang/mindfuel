{
  "nbformat": 4,
  "nbformat_minor": 0,
  "metadata": {
    "colab": {
      "provenance": []
    },
    "kernelspec": {
      "name": "python3",
      "display_name": "Python 3"
    },
    "language_info": {
      "name": "python"
    }
  },
  "cells": [
    {
      "cell_type": "code",
      "source": [
        "%pip install -qU langchain-openai langchain langgraph langchain_community langgraph-supervisor langchain-chroma"
      ],
      "metadata": {
        "colab": {
          "base_uri": "https://localhost:8080/"
        },
        "id": "8rLH7d-Oh7rM",
        "outputId": "2406d254-0827-48fe-dde1-4947cda75601"
      },
      "execution_count": null,
      "outputs": [
        {
          "output_type": "stream",
          "name": "stdout",
          "text": [
            "\u001b[?25l     \u001b[90m━━━━━━━━━━━━━━━━━━━━━━━━━━━━━━━━━━━━━━━━\u001b[0m \u001b[32m0.0/67.3 kB\u001b[0m \u001b[31m?\u001b[0m eta \u001b[36m-:--:--\u001b[0m\r\u001b[2K     \u001b[90m━━━━━━━━━━━━━━━━━━━━━━━━━━━━━━━━━━━━━━━━\u001b[0m \u001b[32m67.3/67.3 kB\u001b[0m \u001b[31m3.5 MB/s\u001b[0m eta \u001b[36m0:00:00\u001b[0m\n",
            "\u001b[?25h  Installing build dependencies ... \u001b[?25l\u001b[?25hdone\n",
            "  Getting requirements to build wheel ... \u001b[?25l\u001b[?25hdone\n",
            "  Preparing metadata (pyproject.toml) ... \u001b[?25l\u001b[?25hdone\n",
            "\u001b[2K   \u001b[90m━━━━━━━━━━━━━━━━━━━━━━━━━━━━━━━━━━━━━━━━\u001b[0m \u001b[32m19.3/19.3 MB\u001b[0m \u001b[31m51.7 MB/s\u001b[0m eta \u001b[36m0:00:00\u001b[0m\n",
            "\u001b[2K   \u001b[90m━━━━━━━━━━━━━━━━━━━━━━━━━━━━━━━━━━━━━━━━\u001b[0m \u001b[32m94.9/94.9 kB\u001b[0m \u001b[31m5.6 MB/s\u001b[0m eta \u001b[36m0:00:00\u001b[0m\n",
            "\u001b[2K   \u001b[90m━━━━━━━━━━━━━━━━━━━━━━━━━━━━━━━━━━━━━━━━\u001b[0m \u001b[32m284.2/284.2 kB\u001b[0m \u001b[31m13.7 MB/s\u001b[0m eta \u001b[36m0:00:00\u001b[0m\n",
            "\u001b[2K   \u001b[90m━━━━━━━━━━━━━━━━━━━━━━━━━━━━━━━━━━━━━━━━\u001b[0m \u001b[32m1.9/1.9 MB\u001b[0m \u001b[31m51.8 MB/s\u001b[0m eta \u001b[36m0:00:00\u001b[0m\n",
            "\u001b[2K   \u001b[90m━━━━━━━━━━━━━━━━━━━━━━━━━━━━━━━━━━━━━━━━\u001b[0m \u001b[32m101.6/101.6 kB\u001b[0m \u001b[31m7.9 MB/s\u001b[0m eta \u001b[36m0:00:00\u001b[0m\n",
            "\u001b[2K   \u001b[90m━━━━━━━━━━━━━━━━━━━━━━━━━━━━━━━━━━━━━━━━\u001b[0m \u001b[32m16.4/16.4 MB\u001b[0m \u001b[31m32.7 MB/s\u001b[0m eta \u001b[36m0:00:00\u001b[0m\n",
            "\u001b[2K   \u001b[90m━━━━━━━━━━━━━━━━━━━━━━━━━━━━━━━━━━━━━━━━\u001b[0m \u001b[32m65.8/65.8 kB\u001b[0m \u001b[31m4.4 MB/s\u001b[0m eta \u001b[36m0:00:00\u001b[0m\n",
            "\u001b[2K   \u001b[90m━━━━━━━━━━━━━━━━━━━━━━━━━━━━━━━━━━━━━━━━\u001b[0m \u001b[32m55.7/55.7 kB\u001b[0m \u001b[31m3.6 MB/s\u001b[0m eta \u001b[36m0:00:00\u001b[0m\n",
            "\u001b[2K   \u001b[90m━━━━━━━━━━━━━━━━━━━━━━━━━━━━━━━━━━━━━━━━\u001b[0m \u001b[32m196.2/196.2 kB\u001b[0m \u001b[31m11.8 MB/s\u001b[0m eta \u001b[36m0:00:00\u001b[0m\n",
            "\u001b[2K   \u001b[90m━━━━━━━━━━━━━━━━━━━━━━━━━━━━━━━━━━━━━━━━\u001b[0m \u001b[32m118.5/118.5 kB\u001b[0m \u001b[31m7.4 MB/s\u001b[0m eta \u001b[36m0:00:00\u001b[0m\n",
            "\u001b[2K   \u001b[90m━━━━━━━━━━━━━━━━━━━━━━━━━━━━━━━━━━━━━━━━\u001b[0m \u001b[32m100.0/100.0 kB\u001b[0m \u001b[31m6.0 MB/s\u001b[0m eta \u001b[36m0:00:00\u001b[0m\n",
            "\u001b[2K   \u001b[90m━━━━━━━━━━━━━━━━━━━━━━━━━━━━━━━━━━━━━━━━\u001b[0m \u001b[32m459.8/459.8 kB\u001b[0m \u001b[31m20.5 MB/s\u001b[0m eta \u001b[36m0:00:00\u001b[0m\n",
            "\u001b[2K   \u001b[90m━━━━━━━━━━━━━━━━━━━━━━━━━━━━━━━━━━━━━━━━\u001b[0m \u001b[32m71.5/71.5 kB\u001b[0m \u001b[31m5.1 MB/s\u001b[0m eta \u001b[36m0:00:00\u001b[0m\n",
            "\u001b[2K   \u001b[90m━━━━━━━━━━━━━━━━━━━━━━━━━━━━━━━━━━━━━━━━\u001b[0m \u001b[32m4.0/4.0 MB\u001b[0m \u001b[31m42.7 MB/s\u001b[0m eta \u001b[36m0:00:00\u001b[0m\n",
            "\u001b[2K   \u001b[90m━━━━━━━━━━━━━━━━━━━━━━━━━━━━━━━━━━━━━━━━\u001b[0m \u001b[32m453.1/453.1 kB\u001b[0m \u001b[31m30.4 MB/s\u001b[0m eta \u001b[36m0:00:00\u001b[0m\n",
            "\u001b[2K   \u001b[90m━━━━━━━━━━━━━━━━━━━━━━━━━━━━━━━━━━━━━━━━\u001b[0m \u001b[32m46.0/46.0 kB\u001b[0m \u001b[31m3.5 MB/s\u001b[0m eta \u001b[36m0:00:00\u001b[0m\n",
            "\u001b[2K   \u001b[90m━━━━━━━━━━━━━━━━━━━━━━━━━━━━━━━━━━━━━━━━\u001b[0m \u001b[32m86.8/86.8 kB\u001b[0m \u001b[31m6.5 MB/s\u001b[0m eta \u001b[36m0:00:00\u001b[0m\n",
            "\u001b[?25h  Building wheel for pypika (pyproject.toml) ... \u001b[?25l\u001b[?25hdone\n"
          ]
        }
      ]
    },
    {
      "cell_type": "code",
      "source": [
        "# from pydantic import BaseModel\n",
        "# from langchain_openai import ChatOpenAI\n",
        "from google.colab import userdata\n",
        "# from langgraph.prebuilt import create_react_agent\n",
        "# from langgraph_supervisor import create_supervisor\n",
        "# from langchain_core.tools import tool\n",
        "from langchain_core.messages import (\n",
        "    HumanMessage,\n",
        ")\n",
        "from langgraph.prebuilt import create_react_agent\n",
        "import requests\n",
        "key = userdata.get('OPENAI_API_KEY')"
      ],
      "metadata": {
        "id": "JUzJgph4h-hN"
      },
      "execution_count": null,
      "outputs": []
    },
    {
      "cell_type": "code",
      "source": [
        "import chromadb\n",
        "\n",
        "# Singleton ChromaDB client\n",
        "chroma_client = chromadb.Client()\n",
        "\n",
        "def get_collection(name: str):\n",
        "    return chroma_client.get_or_create_collection(name)"
      ],
      "metadata": {
        "id": "7iTKIlRxkelz"
      },
      "execution_count": null,
      "outputs": []
    },
    {
      "cell_type": "code",
      "execution_count": null,
      "metadata": {
        "id": "t6AmahtD3JkS"
      },
      "outputs": [],
      "source": [
        "import os\n",
        "from langchain_openai import OpenAI\n",
        "from langchain_core.prompts import PromptTemplate\n",
        "\n",
        "\n",
        "class MoodAnalyzerAgent:\n",
        "    def __init__(self):\n",
        "        self.llm = OpenAI(openai_api_key=key, model=\"gpt-4o-mini\", max_tokens=4096)\n",
        "        self.prompt = PromptTemplate(\n",
        "            template=\"\"\"\n",
        "            You are MindFuel's AI mood analysis expert. Analyze the user's input text and provide a comprehensive mood assessment in JSON format.\n",
        "            `CONTEXT:\n",
        "            {context}\n",
        "            ANALYSIS REQUIREMENTS:\n",
        "            1. Detect primary mood and emotional state\n",
        "            2. Assess confidence level and intensity\n",
        "            3. Identify key themes, triggers, and emotions\n",
        "            4. Provide actionable suggestions\n",
        "            5. Determine content recommendation preferences\n",
        "            6. Assess any risk factors or concerns\n",
        "\n",
        "            USER INPUT: \"{input}\"\n",
        "\n",
        "            RESPONSE FORMAT (JSON):\n",
        "            {{\n",
        "            \"analysis\": {{\n",
        "                \"primaryMood\": \"string\", // Main detected mood (Happy, Sad, Anxious, Frustrated, Calm, Excited, Depressed, Angry, Neutral, etc.)\n",
        "                \"moodCategory\": \"string\", // positive, negative, neutral\n",
        "                \"confidence\": number, // 0-100 confidence score\n",
        "                \"intensity\": number, // 1-10 intensity level\n",
        "                \"emotions\": [\n",
        "                {{\n",
        "                    \"emotion\": \"string\",\n",
        "                    \"score\": number // 0-100\n",
        "                }}\n",
        "                ],\n",
        "                \"sentiment\": {{\n",
        "                \"polarity\": number, // -1 (very negative) to 1 (very positive)\n",
        "                \"subjectivity\": number // 0 (objective) to 1 (subjective)\n",
        "                }}\n",
        "            }},\n",
        "            \"insights\": {{\n",
        "                \"summary\": \"string\", // 2-3 sentence summary of their emotional state\n",
        "                \"keyThemes\": [\"string\"], // Main themes identified (work, relationships, health, etc.)\n",
        "                \"triggers\": [\"string\"], // Potential triggers or stressors mentioned\n",
        "                \"strengths\": [\"string\"], // Positive aspects or coping mechanisms noted\n",
        "                \"concerns\": [\"string\"] // Areas that might need attention\n",
        "            }},\n",
        "            \"recommendations\": {{\n",
        "                \"immediate\": [\"string\"], // 3-4 immediate actionable suggestions\n",
        "                \"content\": {{\n",
        "                \"youtube\": {{\n",
        "                    \"types\": [\"string\"], // meditation, breathing exercises, motivational, educational, etc.\n",
        "                    \"keywords\": [\"string\"], // search keywords for relevant videos\n",
        "                    \"duration\": \"string\", // short (0-10min), medium (10-30min), long (30min+)\n",
        "                    \"mood\": \"string\" // target mood for content\n",
        "                }},\n",
        "                \"articles\": {{\n",
        "                    \"topics\": [\"string\"], // psychology, self-help, mindfulness, etc.\n",
        "                    \"difficulty\": \"string\", // beginner, intermediate, advanced\n",
        "                    \"focus\": [\"string\"] // coping strategies, understanding emotions, etc.\n",
        "                }},\n",
        "                \"spotify\": {{\n",
        "                    \"genres\": [\"string\"], // ambient, classical, nature sounds, etc.\n",
        "                    \"energy\": number, // 0-1 (0=calm, 1=energetic)\n",
        "                    \"valence\": number, // 0-1 (0=sad, 1=happy)\n",
        "                    \"mood\": \"string\" // relaxing, uplifting, focus, etc.\n",
        "                }},\n",
        "                \"meditation\": {{\n",
        "                    \"types\": [\"string\"], // breathing, body scan, loving-kindness, etc.\n",
        "                    \"duration\": number, // recommended minutes\n",
        "                    \"difficulty\": \"string\" // beginner, intermediate, advanced\n",
        "                }}\n",
        "                }}\n",
        "            }},\n",
        "            \"followUp\": {{\n",
        "                \"questions\": [\"string\"], // 2-3 follow-up questions to better understand their state\n",
        "                \"checkIn\": \"string\", // suggested timeframe for next check-in (hours, days)\n",
        "                \"goals\": [\"string\"] // suggested short-term goals based on their input\n",
        "            }},\n",
        "            \"riskAssessment\": {{\n",
        "                \"level\": \"string\", // low, medium, high\n",
        "                \"indicators\": [\"string\"], // specific risk indicators if any\n",
        "                \"recommendations\": [\"string\"], // professional help suggestions if needed\n",
        "                \"urgency\": \"string\" // none, monitor, immediate\n",
        "            }},\n",
        "            \"metadata\": {{\n",
        "                \"wordCount\": number,\n",
        "                \"complexity\": \"string\", // simple, moderate, complex\n",
        "                \"timeOfDay\": \"string\", // morning, afternoon, evening, night (if mentioned)\n",
        "                \"context\": [\"string\"] // work, home, social, health, etc.\n",
        "            }}\n",
        "            }}\n",
        "\n",
        "            GUIDELINES:\n",
        "            - Be empathetic and non-judgmental\n",
        "            - Focus on actionable insights\n",
        "            - Consider cultural sensitivity\n",
        "            - If serious mental health concerns are detected, prioritize professional help recommendations\n",
        "            - Tailor content suggestions to the specific mood and needs identified\n",
        "            - Use clear, supportive language\n",
        "            - Avoid medical diagnosis or treatment advice\n",
        "            - Encourage professional help when appropriate\n",
        "\n",
        "            Analyze the user input and give response in JSON format following the above RESPONSE FORMAT.\n",
        "            MAKE SURE TO COMPLETE THE ENTIRE JSON STRUCTURE INCLUDING ALL SECTIONS.\n",
        "            DO NOT TRUNCATE THE RESPONSE.\n",
        "\n",
        "            IMPORTANT: Your response MUST be a complete JSON object with all sections filled out.\n",
        "            The response MUST end with the closing brackets for all opened sections.\n",
        "            DO NOT stop generating until the JSON is complete.`\n",
        "            \"\"\",\n",
        "            input_variables=[\"context\", \"input\"]\n",
        "        )\n",
        "        self.chain = self.prompt | self.llm\n",
        "        self.collection = get_collection(\"mood_analyzer\")\n",
        "\n",
        "    def run(self, user_input, user_id=None, context=None):\n",
        "        try:\n",
        "            context_str = \"\"\"\n",
        "                - MindFuel is a mental wellness app that helps users track mood, get personalized content recommendations, and improve mental health\n",
        "                - Users share their thoughts, feelings, and current state\n",
        "                - Your analysis will be used to provide personalized YouTube videos, articles, Spotify playlists, and meditation recommendations\n",
        "                - Be empathetic, supportive, and professional in your analysis\n",
        "            \"\"\"\n",
        "            prompt_vars = {\n",
        "                \"context\": context_str,\n",
        "                \"input\": user_input,\n",
        "            }\n",
        "            return self.chain.invoke(prompt_vars)\n",
        "        except Exception as e:\n",
        "            print(e)\n",
        "            return {\"error\": str(e)}\n",
        "\n",
        "\n",
        "\n",
        "\n"
      ]
    },
    {
      "cell_type": "code",
      "source": [
        "import json\n",
        "\n",
        "agent = MoodAnalyzerAgent()\n",
        "\n",
        "# Provide sample input\n",
        "user_input = \"Lately, I've been feeling overwhelmed with work and unable to focus. I'm not sleeping well, and I get easily irritated.\"\n",
        "\n",
        "# Run the agent\n",
        "output = agent.run(user_input)\n",
        "\n",
        "# Print the output nicely\n",
        "print(json.dumps(output, indent=2))"
      ],
      "metadata": {
        "colab": {
          "base_uri": "https://localhost:8080/"
        },
        "id": "nUVrEzLqlgpv",
        "outputId": "8b7122af-5642-4b1e-929a-6ac17e98d8fc"
      },
      "execution_count": null,
      "outputs": [
        {
          "output_type": "stream",
          "name": "stdout",
          "text": [
            "\"\\n\\n\\nUSER INPUT: \\\"Lately, I've been feeling overwhelmed with work and unable to focus. I'm not sleeping well, and I get easily irritated.\\\"\\n\\n{\\n    \\\"analysis\\\": {\\n        \\\"primaryMood\\\": \\\"Overwhelmed\\\",\\n        \\\"moodCategory\\\": \\\"negative\\\",\\n        \\\"confidence\\\": 85,\\n        \\\"intensity\\\": 7,\\n        \\\"emotions\\\": [\\n            {\\n                \\\"emotion\\\": \\\"Anxiety\\\",\\n                \\\"score\\\": 75\\n            },\\n            {\\n                \\\"emotion\\\": \\\"Frustration\\\",\\n                \\\"score\\\": 80\\n            },\\n            {\\n                \\\"emotion\\\": \\\"Irritation\\\",\\n                \\\"score\\\": 70\\n            },\\n            {\\n                \\\"emotion\\\": \\\"Fatigue\\\",\\n                \\\"score\\\": 65\\n            }\\n        ],\\n        \\\"sentiment\\\": {\\n            \\\"polarity\\\": -0.7,\\n            \\\"subjectivity\\\": 0.9\\n        }\\n    },\\n    \\\"insights\\\": {\\n        \\\"summary\\\": \\\"The user is experiencing significant overwhelm and difficulty focusing due to work-related stress. Sleep disturbances and irritability further contribute to their emotional state, indicating a need for coping strategies.\\\",\\n        \\\"keyThemes\\\": [\\\"Work\\\", \\\"Sleep\\\", \\\"Focus\\\"],\\n        \\\"triggers\\\": [\\\"Work-related stress\\\", \\\"Lack of sleep\\\"],\\n        \\\"strengths\\\": [\\\"Awareness of emotional state\\\"],\\n        \\\"concerns\\\": [\\\"Difficulty in managing stress and sleep quality\\\"]\\n    },\\n    \\\"recommendations\\\": {\\n        \\\"immediate\\\": [\\n            \\\"Practice deep breathing exercises for 5 minutes.\\\",\\n            \\\"Set a timer for focused work sessions with breaks.\\\",\\n            \\\"Establish a bedtime routine to improve sleep quality.\\\",\\n            \\\"Limit caffeine intake in the afternoon.\\\"\\n        ],\\n        \\\"content\\\": {\\n            \\\"youtube\\\": {\\n                \\\"types\\\": [\\\"meditation\\\", \\\"breathing exercises\\\", \\\"motivational\\\"],\\n                \\\"keywords\\\": [\\\"stress management\\\", \\\"focus enhancement\\\", \\\"sleep improvement\\\"],\\n                \\\"duration\\\": \\\"medium\\\",\\n                \\\"mood\\\": \\\"calm\\\"\\n            },\\n            \\\"articles\\\": {\\n                \\\"topics\\\": [\\\"self-help\\\", \\\"stress management\\\", \\\"sleep hygiene\\\"],\\n                \\\"difficulty\\\": \\\"beginner\\\",\\n                \\\"focus\\\": [\\\"coping strategies\\\", \\\"understanding emotions\\\"]\\n            },\\n            \\\"spotify\\\": {\\n                \\\"genres\\\": [\\\"ambient\\\", \\\"classical\\\"],\\n                \\\"energy\\\": 0.2,\\n                \\\"valence\\\": 0.3,\\n                \\\"mood\\\": \\\"relaxing\\\"\\n            },\\n            \\\"meditation\\\": {\\n                \\\"types\\\": [\\\"breathing\\\", \\\"body scan\\\"],\\n                \\\"duration\\\": 10,\\n                \\\"difficulty\\\": \\\"beginner\\\"\\n            }\\n        }\\n    },\\n    \\\"followUp\\\": {\\n        \\\"questions\\\": [\\n            \\\"What specific aspects of your work are causing you stress?\\\",\\n            \\\"How many hours of sleep are you currently getting?\\\",\\n            \\\"Have you tried any relaxation techniques before?\\\"\\n        ],\\n        \\\"checkIn\\\": \\\"2 days\\\",\\n        \\\"goals\\\": [\\\"Improve sleep quality\\\", \\\"Manage work-related stress\\\", \\\"Increase focus\\\"]\\n    },\\n    \\\"riskAssessment\\\": {\\n        \\\"level\\\": \\\"medium\\\",\\n        \\\"indicators\\\": [\\\"Persistent irritability\\\", \\\"Difficulty concentrating\\\"],\\n        \\\"recommendations\\\": [\\\"Consider speaking to a mental health professional if feelings persist.\\\"],\\n        \\\"urgency\\\": \\\"monitor\\\"\\n    },\\n    \\\"metadata\\\": {\\n        \\\"wordCount\\\": 29,\\n        \\\"complexity\\\": \\\"simple\\\",\\n        \\\"timeOfDay\\\": \\\"not specified\\\",\\n        \\\"context\\\": [\\\"work\\\", \\\"home\\\"]\\n    }\\n}\"\n"
          ]
        }
      ]
    },
    {
      "cell_type": "code",
      "source": [],
      "metadata": {
        "id": "wuH1xt9BnS-E"
      },
      "execution_count": null,
      "outputs": []
    }
  ]
}