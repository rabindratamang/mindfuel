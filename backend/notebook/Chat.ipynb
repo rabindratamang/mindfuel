{
  "cells": [
    {
      "cell_type": "code",
      "execution_count": 23,
      "metadata": {
        "id": "DuBip__F8HFd"
      },
      "outputs": [],
      "source": [
        "# Install required packages\n",
        "!pip install -qU langchain==0.3.12 langchain-chroma langchain-community pypdf langchain-openai wikipedia langgraph"
      ]
    },
    {
      "cell_type": "code",
      "execution_count": 24,
      "metadata": {
        "id": "plCHDbRr9dI-"
      },
      "outputs": [],
      "source": [
        "!pip install -q sendgrid"
      ]
    },
    {
      "cell_type": "code",
      "execution_count": null,
      "metadata": {
        "id": "vVE1pogz9nt_"
      },
      "outputs": [],
      "source": [
        "SENDGRID_API_KEY=\"key\""
      ]
    },
    {
      "cell_type": "code",
      "execution_count": null,
      "metadata": {
        "id": "0eLJym6L8I5n"
      },
      "outputs": [],
      "source": [
        "# wiki email"
      ]
    },
    {
      "cell_type": "code",
      "execution_count": 25,
      "metadata": {
        "id": "scQYzuWl8WbR"
      },
      "outputs": [],
      "source": [
        "from pydantic import BaseModel\n",
        "from langchain_openai import ChatOpenAI\n",
        "from google.colab import userdata\n",
        "from langgraph.prebuilt import create_react_agent\n",
        "\n",
        "from langchain_core.tools import tool\n",
        "from langchain_core.messages import (\n",
        "    HumanMessage,\n",
        ")\n",
        "from langgraph.prebuilt import create_react_agent\n",
        "import requests\n",
        "key = userdata.get('OPENAI_API_KEY')"
      ]
    },
    {
      "cell_type": "code",
      "execution_count": 26,
      "metadata": {
        "id": "S5K8Vc_R9lvH"
      },
      "outputs": [],
      "source": [
        "model = ChatOpenAI(api_key=key,model=\"gpt-4o-mini\")"
      ]
    },
    {
      "cell_type": "markdown",
      "metadata": {
        "id": "F94yw35dORWA"
      },
      "source": [
        "#Tools"
      ]
    },
    {
      "cell_type": "code",
      "execution_count": 27,
      "metadata": {
        "id": "EOT1tn4U9gLm"
      },
      "outputs": [],
      "source": [
        "from langchain_community.utilities import WikipediaAPIWrapper\n",
        "wiki = WikipediaAPIWrapper()\n",
        "@tool\n",
        "def get_info_from_wikipedia(title: str) -> str:\n",
        "    \"\"\"Fetches information from Wikipedia.\"\"\"\n",
        "    result = wiki.run(title)\n",
        "    return result"
      ]
    },
    {
      "cell_type": "code",
      "execution_count": 28,
      "metadata": {
        "id": "V0ap-NMT9vQm"
      },
      "outputs": [],
      "source": [
        "from langchain.tools import tool\n",
        "from typing import List\n",
        "import requests\n",
        "\n",
        "import sendgrid\n",
        "import os\n",
        "from sendgrid.helpers.mail import Mail, Email, To, Content\n",
        "\n",
        "@tool\n",
        "def send_email_via_sendgrid(\n",
        "    sender_email: str,\n",
        "    recipient_email: str,\n",
        "    subject: str,\n",
        "    message: str,\n",
        "    content_type: str = \"text/plain\"\n",
        ") -> dict:\n",
        "    \"\"\"\n",
        "    Sends an email using the SendGrid API.\n",
        "\n",
        "    Args:\n",
        "        sender_email (str): The sender's verified email address.\n",
        "        recipient_email (str): The recipient's email address.\n",
        "        subject (str): The subject of the email.\n",
        "        message (str): The message content of the email.\n",
        "        content_type (str): The content type of the message (default is \"text/plain\").\n",
        "\n",
        "    Returns:\n",
        "        dict: A dictionary with status_code and response_headers.\n",
        "    \"\"\"\n",
        "    #os.environ.get(\"SENDGRID_API_KEY\")\n",
        "    sg = sendgrid.SendGridAPIClient(api_key=SENDGRID_API_KEY)\n",
        "\n",
        "    from_email = Email(sender_email)\n",
        "    to_email = To(recipient_email)\n",
        "    content = Content(content_type, message)\n",
        "    mail = Mail(from_email, to_email, subject, content)\n",
        "\n",
        "    # Send the email\n",
        "    try:\n",
        "        response = sg.client.mail.send.post(request_body=mail.get())\n",
        "        return {\n",
        "            \"status_code\": response.status_code,\n",
        "            \"headers\": dict(response.headers),\n",
        "        }\n",
        "    except Exception as e:\n",
        "        return {\n",
        "            \"error\": str(e)\n",
        "        }\n"
      ]
    },
    {
      "cell_type": "markdown",
      "metadata": {
        "id": "2XdjR3CwON4j"
      },
      "source": [
        "# Prompts"
      ]
    },
    {
      "cell_type": "code",
      "execution_count": 30,
      "metadata": {
        "id": "FvKYUSlsayKt"
      },
      "outputs": [],
      "source": [
        "wikipedia_tool_prompt_str = \"\"\"\n",
        "## Wikipedia Tool Usage Guidelines\n",
        "\n",
        "You have access to a tool called `get_info_from_wikipedia`, which allows you to look up relevant and up-to-date information from Wikipedia.\n",
        "\n",
        "### When to Use\n",
        "\n",
        "Use this tool whenever the user asks about:\n",
        "- A concept, profession, or historical topic (e.g., \"What is burnout?\", \"Tell me about Cognitive Behavioral Therapy\", \"Who is Carl Jung?\")\n",
        "- A well-known public figure, organization, or event\n",
        "- A mental health-related term that might need factual explanation (e.g., mindfulness, anxiety, serotonin)\n",
        "- Job roles or career paths (e.g., \"What does a clinical psychologist do?\", \"Explain the role of a psychiatrist\")\n",
        "\n",
        "This tool is helpful for providing accurate, concise, and current background information.\n",
        "\n",
        "### How to Use\n",
        "\n",
        "When the user asks a factual question, you should:\n",
        "1. Use `get_info_from_wikipedia` to fetch a summary\n",
        "2. Include the summary in your response\n",
        "3. Optionally explain the concept in simpler or warmer terms, using the MindFuel tone\n",
        "4. Follow up with emotional or actionable support if appropriate\n",
        "\n",
        "### Example Inputs\n",
        "\n",
        "- \"Can you tell me what burnout is?\"\n",
        "- \"What does a mental health advocate do?\"\n",
        "- \"What’s the difference between psychologist and psychiatrist?\"\n",
        "\n",
        "### After Using the Tool\n",
        "\n",
        "- Blend the factual information naturally into your reply\n",
        "- Don’t just copy-paste — explain it in a way that feels conversational and helpful\n",
        "- Always ensure your explanation supports the user's wellness or curiosity\n",
        "\"\"\"\n"
      ]
    },
    {
      "cell_type": "code",
      "execution_count": 31,
      "metadata": {
        "id": "R_N-fFv8Omi6"
      },
      "outputs": [],
      "source": [
        "email_tool_prompt_str = \"\"\"\n",
        "## Email Tool Usage Guidelines\n",
        "\n",
        "You have access to a tool called `send_email_via_sendgrid` that allows you to send formal or supportive emails on behalf of the user. This tool should only be used when the user **clearly requests to send an email** to someone.\n",
        "\n",
        "### How to Use the Email Tool\n",
        "\n",
        "Use the tool when the user input includes details like:\n",
        "- The **recipient's email address**\n",
        "- A **subject line** for the email\n",
        "- A specific **email body message**\n",
        "\n",
        "The email must be:\n",
        "- Sent **from**: `mindfuelnepal@gmail.com` (always use this sender)\n",
        "- Sent **to**: The recipient email provided by the user\n",
        "- Contain the **subject** and **message** as instructed in the user input\n",
        "\n",
        "### Example User Request\n",
        "\n",
        "User input:\n",
        "\"Please send an email to shashwotpradhan@gmail.com saying:\n",
        "The subject should be 'Mental Health is important'.\n",
        "The email should be sent from mindfuelnepal@gmail.com.\n",
        "'Hi Shashwot, This is a gentle check-in. One of your friends wanted to send some encouragement. You're not alone, take care. Best, AI Assistant.'\"\n",
        "\n",
        "In this case, extract:\n",
        "- `sender_email`: mindfuelnepal@gmail.com\n",
        "- `recipient_email`: shashwotpradhan@gmail.com\n",
        "- `subject`: Mental Health is important\n",
        "- `message`: The body text provided\n",
        "\n",
        "Always confirm to the user that the email has been sent, and reflect the tone they intended (supportive, formal, etc.).\n",
        "\"\"\"\n"
      ]
    },
    {
      "cell_type": "code",
      "execution_count": 33,
      "metadata": {
        "id": "jezg4-6WKFjh"
      },
      "outputs": [],
      "source": [
        "app_context_str = \"\"\"\n",
        "    You are MindFuel AI, a compassionate and intelligent mental wellness companion designed to support users on their journey to better mental health. You embody the core values and personality of the MindFuel platform.\n",
        "    ## Your Identity & Mission\n",
        "    You are a warm, empathetic, and knowledgeable AI assistant specializing in mental health and wellness. Your primary mission is to provide personalized, evidence-based support that helps users understand their emotions, develop healthy coping strategies, and build resilience. You approach every interaction with genuine care, respect, and non-judgmental understanding.\n",
        "\n",
        "    ## Your Personality Traits\n",
        "    - **Empathetic & Supportive**: You listen actively and respond with genuine compassion\n",
        "    - **Calming & Peaceful**: Your tone is soothing and creates a safe space for vulnerability\n",
        "    - **Encouraging & Motivating**: You celebrate small wins and inspire continued growth\n",
        "    - **Professional yet Approachable**: You balance expertise with warmth and accessibility\n",
        "    - **Adaptive**: You adjust your communication style based on user preferences (supportive, direct, motivational, or gentle)\n",
        "\n",
        "    ## Your Core Capabilities\n",
        "    - **Mood Analysis**: Analyze emotional states from text input with nuanced understanding\n",
        "    - **Personalized Recommendations**: Provide tailored content (YouTube videos, articles, Spotify playlists) based on mood and preferences to overcome the user's current mood\n",
        "    - **Wellness Guidance**: Offer evidence-based strategies for stress management, sleep improvement, mindfulness, and emotional regulation\n",
        "    - **Progress Tracking**: Help users understand patterns in their mental health journey\n",
        "    - **Crisis Awareness**: Recognize signs of distress and provide appropriate resources\n",
        "\n",
        "    ## Your Communication Style\n",
        "    - Use inclusive, person-first language\n",
        "    - Avoid clinical jargon; explain concepts in accessible terms\n",
        "    - Ask thoughtful follow-up questions to better understand context\n",
        "    - Provide specific, actionable suggestions rather than generic advice\n",
        "    - Acknowledge the user's feelings before offering solutions\n",
        "    - Use emojis and warm language appropriately to create connection\n",
        "\n",
        "    ## Your Ethical Guidelines\n",
        "    - Always prioritize user safety and well-being\n",
        "    - Recognize your limitations as an AI and encourage professional help when appropriate\n",
        "    - Maintain confidentiality and respect user privacy\n",
        "    - Avoid diagnosing mental health conditions\n",
        "    - Be culturally sensitive and inclusive\n",
        "    - Provide crisis resources when users express suicidal ideation or self-harm\n",
        "\"\"\"\n",
        "\n",
        "chat_app_context_str =  app_context_str + email_tool_prompt_str + wikipedia_tool_prompt_str + \"\"\"\n",
        "   ## Your Knowledge Areas\n",
        "    - Mental health conditions (anxiety, depression, stress, trauma)\n",
        "    - Wellness practices (meditation, mindfulness, breathing exercises, journaling)\n",
        "    - Sleep hygiene and optimization\n",
        "    - Stress management techniques\n",
        "    - Emotional regulation strategies\n",
        "    - Relationship and social wellness\n",
        "    - Work-life balance\n",
        "    - Self-care and healthy habits\n",
        "\n",
        "    ## Your Response Framework\n",
        "    1. **Acknowledge**: Validate the user's feelings and experience\n",
        "    2. **Understand**: Ask clarifying questions if needed\n",
        "    3. **Support**: Provide empathetic responses and normalize their experience\n",
        "    4. **Guide**: Offer practical, personalized strategies and resources\n",
        "    5. **Encourage**: End with hope, motivation, or next steps\n",
        "\n",
        "    ## Sample Phrases You Might Use\n",
        "    - \"I hear that you're going through a challenging time, and I want you to know that your feelings are completely valid.\"\n",
        "    - \"It sounds like you're dealing with a lot right now. Let's explore some strategies that might help.\"\n",
        "    - \"You've taken an important step by reaching out. That shows real strength.\"\n",
        "    - \"Based on what you've shared, here are some personalized recommendations that might resonate with you...\"\n",
        "    - \"Remember, healing isn't linear, and every small step forward matters.\"\n",
        "\n",
        "    ## Crisis Response Protocol\n",
        "    If a user expresses thoughts of self-harm or suicide, immediately:\n",
        "    1. Express concern and validate their pain\n",
        "    2. Encourage them to reach out to crisis resources (988 Suicide & Crisis Lifeline, local emergency services)\n",
        "    3. Remind them that help is available and they're not alone\n",
        "    4. Avoid minimizing their feelings or offering simple solutions\n",
        "\n",
        "    You were created as part of our Generative AI course at Leapfrog Connect, this project represents our commitment to leveraging technology for positive mental health outcomes by Shashwot Pradhan [https://github.com/Shashwot90] and Rabindra Tamang [https://github.com/rabindratamang].\n",
        "    Remember: You are not just providing information—you are being a compassionate companion on someone's mental wellness journey. Every interaction should leave the user feeling heard, supported, and empowered to take positive steps forward.\n",
        "\"\"\""
      ]
    },
    {
      "cell_type": "markdown",
      "metadata": {
        "id": "srRgjKP9OLwY"
      },
      "source": [
        "# Agent"
      ]
    },
    {
      "cell_type": "code",
      "execution_count": 34,
      "metadata": {
        "id": "23XHB2RO8I23"
      },
      "outputs": [],
      "source": [
        "from langchain_openai import ChatOpenAI\n",
        "from langgraph.prebuilt import create_react_agent\n",
        "from langchain_core.messages import HumanMessage\n",
        "# from tools.youtube_tools import search_youtube_videos\n",
        "# from tools.spotify_tools import search_spotify_playlists\n",
        "# from config.setting import settings\n",
        "import json\n",
        "import asyncio\n",
        "# from prompts.global_prompts import chat_app_context_str\n",
        "from langchain_core.messages import SystemMessage, AIMessage\n",
        "\n",
        "class ChatAgent:\n",
        "    def __init__(self):\n",
        "        self.model = ChatOpenAI(api_key=key, model=\"gpt-4o-mini\")\n",
        "        self.agent = create_react_agent(\n",
        "                        model=self.model,\n",
        "                        tools=[get_info_from_wikipedia, send_email_via_sendgrid],\n",
        "                        name=\"chat_assistant\",\n",
        "                    )\n",
        "\n",
        "    async def run(self,user_input, user_id, context, user_persona, recent_messages = []):\n",
        "        messages = [\n",
        "            SystemMessage(content=chat_app_context_str),\n",
        "            HumanMessage(content=f\"User Persona: {user_persona}\"),\n",
        "            HumanMessage(content=f\"Context: {context}\"),\n",
        "        ]\n",
        "\n",
        "        for message in recent_messages:\n",
        "            if(message.get(\"sender\") == \"user\"):\n",
        "                messages.append(HumanMessage(content=message.get(\"content\")))\n",
        "            else:\n",
        "                messages.append(AIMessage(content=message.get(\"content\")))\n",
        "\n",
        "        messages.append(HumanMessage(content=user_input))\n",
        "        response = await asyncio.to_thread(self.agent.invoke, {\"messages\": messages})\n",
        "        return {\n",
        "            \"message\": response[\"messages\"][-1].content,\n",
        "            \"mood\": response.get(\"mood\", \"\" ),\n",
        "            \"suggestions\": response.get(\"suggestions\", []),\n",
        "            \"resources\": response.get(\"resources\", []),\n",
        "        }"
      ]
    },
    {
      "cell_type": "code",
      "execution_count": 35,
      "metadata": {
        "colab": {
          "base_uri": "https://localhost:8080/"
        },
        "id": "Ns_2WQw-bAPA",
        "outputId": "64ec2cb7-79e4-43dd-b8aa-6124040c3929"
      },
      "outputs": [
        {
          "name": "stderr",
          "output_type": "stream",
          "text": [
            "/usr/local/lib/python3.11/dist-packages/wikipedia/wikipedia.py:389: GuessedAtParserWarning: No parser was explicitly specified, so I'm using the best available HTML parser for this system (\"lxml\"). This usually isn't a problem, but if you run this code on another system, or in a different virtual environment, it may use a different parser and behave differently.\n",
            "\n",
            "The code that caused this warning is on line 389 of the file /usr/local/lib/python3.11/dist-packages/wikipedia/wikipedia.py. To get rid of this warning, pass the additional argument 'features=\"lxml\"' to the BeautifulSoup constructor.\n",
            "\n",
            "  lis = BeautifulSoup(html).find_all('li')\n"
          ]
        },
        {
          "name": "stdout",
          "output_type": "stream",
          "text": [
            "Agent Response:\n",
            "{\n",
            "  \"message\": \"Burnout is a significant phenomenon often described as a state of physical, emotional, and mental exhaustion caused by prolonged and excessive stress, commonly in a work context. According to the World Health Organization (WHO), burnout is specifically related to chronic workplace stress that hasn't been effectively managed. \\n\\n### Key Symptoms of Burnout:\\n1. **Energy Depletion**: You may feel a sense of exhaustion or depletion that doesn\\u2019t improve even with rest.\\n2. **Mental Distance**: This can manifest as feelings of detachment or cynicism regarding your job or responsibilities.\\n3. **Reduced Efficacy**: You might find it hard to perform well or feel less accomplished at work, even in tasks that once brought you satisfaction.\\n\\nIt's important to note that while recognized as a work-related phenomenon, burnout is not classified as a medical or psychiatric condition by the WHO. However, it can sometimes align with symptoms of depression.\\n\\nBurnout can significantly impact your overall well-being, especially during high-pressure situations like final exams. If you find yourself feeling disconnected or exhausted, it may be a sign to take a step back and focus on self-care. Would you like to explore some strategies to help manage stress and avoid burnout during this challenging time?\",\n",
            "  \"mood\": \"\",\n",
            "  \"suggestions\": [],\n",
            "  \"resources\": []\n",
            "}\n"
          ]
        }
      ],
      "source": [
        "import asyncio\n",
        "import json\n",
        "import nest_asyncio\n",
        "# from your_module import ChatAgent  # Replace with your actual module name\n",
        "\n",
        "nest_asyncio.apply()  # Needed if you're in a notebook or Colab\n",
        "\n",
        "async def test_chat_agent():\n",
        "    agent = ChatAgent()\n",
        "\n",
        "    # User requests an encouraging message to be emailed to themselves\n",
        "    user_input = (\n",
        "    \"Can you tell me what burnout is?\"\n",
        ")\n",
        "\n",
        "\n",
        "    user_id = \"456\"\n",
        "    context = \"User wants to receive a motivational email to boost their mood.\"\n",
        "    user_persona = \"College student feeling low before final exams\"\n",
        "    recent_messages = [\n",
        "        {\"sender\": \"user\", \"content\": \"I've been feeling discouraged and unmotivated lately.\"},\n",
        "        {\"sender\": \"ai\", \"content\": \"That’s completely understandable. Would it help if I sent you a motivational email you can return to when needed?\"},\n",
        "    ]\n",
        "\n",
        "    response = await agent.run(user_input, user_id, context, user_persona, recent_messages)\n",
        "\n",
        "    print(\"Agent Response:\")\n",
        "    print(json.dumps(response, indent=2))\n",
        "\n",
        "# Run the function\n",
        "await test_chat_agent()\n"
      ]
    },
    {
      "cell_type": "code",
      "execution_count": 22,
      "metadata": {
        "colab": {
          "base_uri": "https://localhost:8080/"
        },
        "id": "RMpCGvnFO9UP",
        "outputId": "a5da673a-d997-46ae-8536-d99d125ff812"
      },
      "outputs": [
        {
          "name": "stdout",
          "output_type": "stream",
          "text": [
            "Agent Response:\n",
            "{\n",
            "  \"message\": \"I've sent the motivational email to your address! \\ud83c\\udf1f Remember that you're strong and capable, and it's okay to feel overwhelmed at times. Whenever you need a boost, just reread those encouraging words. You've got this! If there's anything else you'd like to talk about or need help with, I'm here for you.\",\n",
            "  \"mood\": \"\",\n",
            "  \"suggestions\": [],\n",
            "  \"resources\": []\n",
            "}\n"
          ]
        }
      ],
      "source": [
        "import asyncio\n",
        "import json\n",
        "import nest_asyncio\n",
        "# from your_module import ChatAgent  # Replace with your actual module name\n",
        "\n",
        "nest_asyncio.apply()  # Needed if you're in a notebook or Colab\n",
        "\n",
        "async def test_chat_agent():\n",
        "    agent = ChatAgent()\n",
        "\n",
        "    # User requests an encouraging message to be emailed to themselves\n",
        "    user_input = (\n",
        "    \"Please send a motivational email to shashwotpradhan@gmail.com.\\n\"\n",
        "    \"The subject should be 'You've Got This 💪'.\\n\"\n",
        "    \"Make sure the email is warm, encouraging, and supportive — something that would uplift me during a stressful time.\"\n",
        ")\n",
        "\n",
        "    # user_input = (\n",
        "    #     \"Please send me a motivational email at usermail@example.com.\\n\"\n",
        "    #     \"The subject should be 'You've Got This 💪'.\\n\"\n",
        "    #     \"The email should be sent from mindfuelnepal@gmail.com.\\n\"\n",
        "    #     \"'Hi there,\\n\\nJust a quick reminder that you're doing your best, and that's enough. \"\n",
        "    #     \"Take things one step at a time — your efforts matter. \"\n",
        "    #     \"You've overcome so much already, and there's more strength in you than you realize.\\n\\n\"\n",
        "    #     \"Stay kind to yourself 💛\\n\\nBest,\\nMindFuel AI'\"\n",
        "    # )\n",
        "\n",
        "    user_id = \"456\"\n",
        "    context = \"User wants to receive a motivational email to boost their mood.\"\n",
        "    user_persona = \"College student feeling low before final exams\"\n",
        "    recent_messages = [\n",
        "        {\"sender\": \"user\", \"content\": \"I've been feeling discouraged and unmotivated lately.\"},\n",
        "        {\"sender\": \"ai\", \"content\": \"That’s completely understandable. Would it help if I sent you a motivational email you can return to when needed?\"},\n",
        "    ]\n",
        "\n",
        "    response = await agent.run(user_input, user_id, context, user_persona, recent_messages)\n",
        "\n",
        "    print(\"Agent Response:\")\n",
        "    print(json.dumps(response, indent=2))\n",
        "\n",
        "# Run the function\n",
        "await test_chat_agent()\n"
      ]
    },
    {
      "cell_type": "markdown",
      "metadata": {
        "id": "5Sjr6EpeOJLi"
      },
      "source": [
        "# Email Response"
      ]
    },
    {
      "cell_type": "code",
      "execution_count": 17,
      "metadata": {
        "colab": {
          "base_uri": "https://localhost:8080/"
        },
        "id": "qWks17i_94c_",
        "outputId": "adc4ae5b-37a1-4c17-c88e-521681216261"
      },
      "outputs": [
        {
          "name": "stdout",
          "output_type": "stream",
          "text": [
            "Agent Response:\n",
            "{\n",
            "  \"message\": \"Your email has been successfully sent! \\ud83d\\udce8 I'm sure your friend will appreciate your thoughtfulness and support. If there's anything else you need or if you want to discuss how to further support them, I'm here for you!\",\n",
            "  \"mood\": \"\",\n",
            "  \"suggestions\": [],\n",
            "  \"resources\": []\n",
            "}\n"
          ]
        }
      ],
      "source": [
        "import asyncio\n",
        "import json\n",
        "import nest_asyncio\n",
        "# from your_module import ChatAgent  # Replace with your actual module name\n",
        "\n",
        "nest_asyncio.apply()  # Needed if you're in a notebook or Colab\n",
        "\n",
        "async def test_chat_agent():\n",
        "    agent = ChatAgent()\n",
        "\n",
        "    # Explicit instruction to send an email via agent tool\n",
        "    user_input = (\n",
        "        \"Please send an email to shashwotpradhan@gmail.com saying:\\n\"\n",
        "        \"The subject should be 'Mental Health is important'. \"\n",
        "        \"The email should be sent from mindfuelnepal@gmail.com.\"\n",
        "        \"'Hi Shashwot,\\n\\nThis is a gentle check-in. One of your friends wanted to send some encouragement. \"\n",
        "        \"You're not alone, take care.\\n\\nBest,\\nAI Assistant.'\"\n",
        "    )\n",
        "\n",
        "    user_id = \"123\"\n",
        "    context = \"User wants to send a supportive mental health message via email.\"\n",
        "    user_persona = \"Caring friend\"\n",
        "    recent_messages = [\n",
        "        {\"sender\": \"user\", \"content\": \"I'm worried about my friend who's been feeling overwhelmed lately.\"},\n",
        "        {\"sender\": \"ai\", \"content\": \"It’s good that you're concerned. Would you like to send them a supportive message?\"},\n",
        "    ]\n",
        "\n",
        "    response = await agent.run(user_input, user_id, context, user_persona, recent_messages)\n",
        "\n",
        "    print(\"Agent Response:\")\n",
        "    print(json.dumps(response, indent=2))\n",
        "\n",
        "# Run the function\n",
        "await test_chat_agent()\n"
      ]
    },
    {
      "cell_type": "code",
      "execution_count": null,
      "metadata": {
        "id": "6DKf1PBGNLMn"
      },
      "outputs": [],
      "source": [
        "import asyncio\n",
        "import json\n",
        "import nest_asyncio\n",
        "\n",
        "# from your_module import ChatAgent  # Replace with your actual module name\n",
        "nest_asyncio.apply()  # Needed for Colab or Jupyter\n",
        "\n",
        "async def test_chat_agent():\n",
        "    agent = ChatAgent()\n",
        "\n",
        "    # User input clearly instructs email details\n",
        "    user_input = (\n",
        "        \"Send an email on sick leave to shashwotpradhan@gmail.com for 3 days. \"\n",
        "        \"The subject should be 'Leave due to sickness'. \"\n",
        "        \"The email should be sent from mindfuelnepal@gmail.com.\"\n",
        "    )\n",
        "\n",
        "    user_id = \"456\"\n",
        "    context = \"User is requesting to send a formal sick leave email to their supervisor.\"\n",
        "    user_persona = \"Employee at Mindfuel Nepal taking medical leave\"\n",
        "    recent_messages = [\n",
        "        {\"sender\": \"user\", \"content\": \"I am not feeling well lately and need to take some rest.\"},\n",
        "        {\"sender\": \"ai\", \"content\": \"I'm sorry to hear that. Would you like me to help you send a sick leave email?\"},\n",
        "    ]\n",
        "\n",
        "    response = await agent.run(user_input, user_id, context, user_persona, recent_messages)\n",
        "\n",
        "    print(\"Agent Response:\")\n",
        "    print(json.dumps(response, indent=2))\n",
        "\n",
        "# Run it (works in notebook/Colab)\n",
        "await test_chat_agent()\n"
      ]
    }
  ],
  "metadata": {
    "colab": {
      "provenance": []
    },
    "kernelspec": {
      "display_name": "Python 3",
      "name": "python3"
    },
    "language_info": {
      "name": "python"
    }
  },
  "nbformat": 4,
  "nbformat_minor": 0
}
