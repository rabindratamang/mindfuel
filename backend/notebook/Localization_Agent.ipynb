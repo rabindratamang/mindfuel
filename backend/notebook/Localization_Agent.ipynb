{
  "nbformat": 4,
  "nbformat_minor": 0,
  "metadata": {
    "colab": {
      "provenance": []
    },
    "kernelspec": {
      "name": "python3",
      "display_name": "Python 3"
    },
    "language_info": {
      "name": "python"
    }
  },
  "cells": [
    {
      "cell_type": "code",
      "execution_count": 1,
      "metadata": {
        "colab": {
          "base_uri": "https://localhost:8080/"
        },
        "id": "uz5q8Fq2a3Tk",
        "outputId": "8ef5f82e-2dcf-44fc-bc51-9733166d45ac"
      },
      "outputs": [
        {
          "output_type": "stream",
          "name": "stdout",
          "text": [
            "\u001b[2K     \u001b[90m━━━━━━━━━━━━━━━━━━━━━━━━━━━━━━━━━━━━━━━━\u001b[0m \u001b[32m43.7/43.7 kB\u001b[0m \u001b[31m1.6 MB/s\u001b[0m eta \u001b[36m0:00:00\u001b[0m\n",
            "\u001b[2K   \u001b[90m━━━━━━━━━━━━━━━━━━━━━━━━━━━━━━━━━━━━━━━━\u001b[0m \u001b[32m65.4/65.4 kB\u001b[0m \u001b[31m2.8 MB/s\u001b[0m eta \u001b[36m0:00:00\u001b[0m\n",
            "\u001b[2K   \u001b[90m━━━━━━━━━━━━━━━━━━━━━━━━━━━━━━━━━━━━━━━━\u001b[0m \u001b[32m152.4/152.4 kB\u001b[0m \u001b[31m5.8 MB/s\u001b[0m eta \u001b[36m0:00:00\u001b[0m\n",
            "\u001b[2K   \u001b[90m━━━━━━━━━━━━━━━━━━━━━━━━━━━━━━━━━━━━━━━━\u001b[0m \u001b[32m2.5/2.5 MB\u001b[0m \u001b[31m27.2 MB/s\u001b[0m eta \u001b[36m0:00:00\u001b[0m\n",
            "\u001b[2K   \u001b[90m━━━━━━━━━━━━━━━━━━━━━━━━━━━━━━━━━━━━━━━━\u001b[0m \u001b[32m438.1/438.1 kB\u001b[0m \u001b[31m14.7 MB/s\u001b[0m eta \u001b[36m0:00:00\u001b[0m\n",
            "\u001b[2K   \u001b[90m━━━━━━━━━━━━━━━━━━━━━━━━━━━━━━━━━━━━━━━━\u001b[0m \u001b[32m44.2/44.2 kB\u001b[0m \u001b[31m1.3 MB/s\u001b[0m eta \u001b[36m0:00:00\u001b[0m\n",
            "\u001b[2K   \u001b[90m━━━━━━━━━━━━━━━━━━━━━━━━━━━━━━━━━━━━━━━━\u001b[0m \u001b[32m50.0/50.0 kB\u001b[0m \u001b[31m887.5 kB/s\u001b[0m eta \u001b[36m0:00:00\u001b[0m\n",
            "\u001b[2K   \u001b[90m━━━━━━━━━━━━━━━━━━━━━━━━━━━━━━━━━━━━━━━━\u001b[0m \u001b[32m363.0/363.0 kB\u001b[0m \u001b[31m7.4 MB/s\u001b[0m eta \u001b[36m0:00:00\u001b[0m\n",
            "\u001b[2K   \u001b[90m━━━━━━━━━━━━━━━━━━━━━━━━━━━━━━━━━━━━━━━━\u001b[0m \u001b[32m44.4/44.4 kB\u001b[0m \u001b[31m2.1 MB/s\u001b[0m eta \u001b[36m0:00:00\u001b[0m\n",
            "\u001b[2K   \u001b[90m━━━━━━━━━━━━━━━━━━━━━━━━━━━━━━━━━━━━━━━━\u001b[0m \u001b[32m50.9/50.9 kB\u001b[0m \u001b[31m1.4 MB/s\u001b[0m eta \u001b[36m0:00:00\u001b[0m\n",
            "\u001b[2K   \u001b[90m━━━━━━━━━━━━━━━━━━━━━━━━━━━━━━━━━━━━━━━━\u001b[0m \u001b[32m216.5/216.5 kB\u001b[0m \u001b[31m9.9 MB/s\u001b[0m eta \u001b[36m0:00:00\u001b[0m\n",
            "\u001b[?25h"
          ]
        }
      ],
      "source": [
        "%pip install -qU langchain-openai langchain langgraph langchain_community langgraph-supervisor"
      ]
    },
    {
      "cell_type": "code",
      "source": [
        "# !pip install -qU  googletrans==4.0.0-rc1\n",
        "!pip install -qU googletrans\n"
      ],
      "metadata": {
        "id": "qLU14brchJJU"
      },
      "execution_count": 2,
      "outputs": []
    },
    {
      "cell_type": "code",
      "source": [
        "!pip install  -qU langchain-openai openai"
      ],
      "metadata": {
        "colab": {
          "base_uri": "https://localhost:8080/"
        },
        "id": "hkcaPJc9kQxN",
        "outputId": "264d32b6-bb81-4fb9-f49f-67c5626e6461"
      },
      "execution_count": 3,
      "outputs": [
        {
          "output_type": "stream",
          "name": "stdout",
          "text": [
            "\u001b[?25l   \u001b[90m━━━━━━━━━━━━━━━━━━━━━━━━━━━━━━━━━━━━━━━━\u001b[0m \u001b[32m0.0/730.3 kB\u001b[0m \u001b[31m?\u001b[0m eta \u001b[36m-:--:--\u001b[0m\r\u001b[2K   \u001b[91m━━━━━━━━━━━\u001b[0m\u001b[90m╺\u001b[0m\u001b[90m━━━━━━━━━━━━━━━━━━━━━━━━━━━━\u001b[0m \u001b[32m204.8/730.3 kB\u001b[0m \u001b[31m6.8 MB/s\u001b[0m eta \u001b[36m0:00:01\u001b[0m\r\u001b[2K   \u001b[91m━━━━━━━━━━━━━━━━━━━━━━━━━━━━━━━━━━━━━━━\u001b[0m\u001b[91m╸\u001b[0m \u001b[32m727.0/730.3 kB\u001b[0m \u001b[31m13.8 MB/s\u001b[0m eta \u001b[36m0:00:01\u001b[0m\r\u001b[2K   \u001b[90m━━━━━━━━━━━━━━━━━━━━━━━━━━━━━━━━━━━━━━━━\u001b[0m \u001b[32m730.3/730.3 kB\u001b[0m \u001b[31m8.6 MB/s\u001b[0m eta \u001b[36m0:00:00\u001b[0m\n",
            "\u001b[?25h"
          ]
        }
      ]
    },
    {
      "cell_type": "code",
      "source": [
        "from pydantic import BaseModel\n",
        "\n",
        "from google.colab import userdata\n",
        "from langgraph.prebuilt import create_react_agent\n",
        "from langchain_core.tools import tool\n",
        "from langchain_core.messages import (\n",
        "    HumanMessage,\n",
        ")\n",
        "\n",
        "key = userdata.get('OPENAI_API_KEY')"
      ],
      "metadata": {
        "id": "28a18hW2dwL3"
      },
      "execution_count": 4,
      "outputs": []
    },
    {
      "cell_type": "code",
      "source": [
        "from langchain_openai import ChatOpenAI"
      ],
      "metadata": {
        "id": "-I6VHgJajcF7"
      },
      "execution_count": 5,
      "outputs": []
    },
    {
      "cell_type": "code",
      "source": [
        "model = ChatOpenAI(api_key=key,model=\"gpt-4o-mini\")"
      ],
      "metadata": {
        "id": "y9rFw2FddwJR"
      },
      "execution_count": 6,
      "outputs": []
    },
    {
      "cell_type": "code",
      "source": [
        "from langchain.tools import tool\n",
        "from googletrans import Translator\n",
        "\n",
        "@tool\n",
        "async def localize_to_nepali(content: str) -> str:\n",
        "    \"\"\"\n",
        "    Translates/adapts the given English content to Nepali.\n",
        "\n",
        "    Args:\n",
        "        content (str): The English text content to be localized.\n",
        "\n",
        "    Returns:\n",
        "        str: The translated content in Nepali.\n",
        "    \"\"\"\n",
        "    translator = Translator()\n",
        "    try:\n",
        "        translated = await translator.translate(content, src='en', dest='ne')\n",
        "        return translated.text\n",
        "    except Exception as e:\n",
        "        return f\"Translation failed due to: {str(e)}\"\n"
      ],
      "metadata": {
        "id": "dz2ux1RJdwGM"
      },
      "execution_count": 19,
      "outputs": []
    },
    {
      "cell_type": "code",
      "source": [
        "result = await localize_to_nepali(\"Hello! Welcome to our service. How can I help you today?\")\n",
        "print(result)\n"
      ],
      "metadata": {
        "colab": {
          "base_uri": "https://localhost:8080/"
        },
        "id": "RgrHaPGolsv8",
        "outputId": "48d4b948-5ced-4b8f-c3a9-ed45c7506d91"
      },
      "execution_count": 17,
      "outputs": [
        {
          "output_type": "stream",
          "name": "stdout",
          "text": [
            "नमस्ते! हाम्रो सेवामा स्वागत छ। आज म तपाईंलाई कसरी मद्दत गर्न सक्छु?\n"
          ]
        }
      ]
    },
    {
      "cell_type": "code",
      "source": [
        "result = await localize_to_nepali(\"Hello! How are you?\")\n",
        "print(result)\n"
      ],
      "metadata": {
        "colab": {
          "base_uri": "https://localhost:8080/"
        },
        "id": "nvgTWikvlxhf",
        "outputId": "07d665ee-0e00-4c97-ca25-b64a023492b1"
      },
      "execution_count": 18,
      "outputs": [
        {
          "output_type": "stream",
          "name": "stdout",
          "text": [
            "नमस्ते! तिमीलाई कस्तो छ?\n"
          ]
        }
      ]
    },
    {
      "cell_type": "markdown",
      "source": [
        "Works"
      ],
      "metadata": {
        "id": "1vHMaolindU-"
      }
    },
    {
      "cell_type": "markdown",
      "source": [
        "# Tools"
      ],
      "metadata": {
        "id": "XxfL7dJjpLq7"
      }
    },
    {
      "cell_type": "code",
      "source": [
        "import asyncio\n",
        "\n",
        "@tool\n",
        "def localize_to_nepali(content: str) -> str:\n",
        "    \"\"\"\n",
        "    Translates English text into Nepali using an async translator wrapped in sync.\n",
        "    \"\"\"   # Hypothetical example\n",
        "    async def translate_async():\n",
        "        translator = Translator()\n",
        "        translated = await translator.translate(content, src='en', dest='ne')\n",
        "        return translated.text\n",
        "\n",
        "    try:\n",
        "        return asyncio.run(translate_async())\n",
        "    except Exception as e:\n",
        "        return f\"Translation failed due to: {str(e)}\"\n"
      ],
      "metadata": {
        "id": "ECzOIzNMnQrO"
      },
      "execution_count": 30,
      "outputs": []
    },
    {
      "cell_type": "markdown",
      "source": [
        "# Agent"
      ],
      "metadata": {
        "id": "eMiu6IFDpPw7"
      }
    },
    {
      "cell_type": "code",
      "source": [
        "localization_assistant = create_react_agent(\n",
        "    model=model,\n",
        "    tools=[localize_to_nepali],\n",
        "    prompt=(\n",
        "    \"You are a helpful Localization Assistant. \"\n",
        "    \"Your job is to translate and adapt English content into the Nepali language, \"\n",
        "    \"preserving the original meaning, tone, and cultural context. \"\n",
        "    \"Always use the `localize_to_nepali` tool to translate any user input into Nepali. \"\n",
        "    \"Do not respond on your own unless explicitly instructed.\"\n",
        "),\n",
        "    name=\"localization_assistant\"\n",
        ")\n"
      ],
      "metadata": {
        "id": "GULdzWuldwDe"
      },
      "execution_count": 31,
      "outputs": []
    },
    {
      "cell_type": "markdown",
      "source": [
        "# Agent Invoke"
      ],
      "metadata": {
        "id": "vqBMuWa_pRVW"
      }
    },
    {
      "cell_type": "code",
      "source": [
        "response = localization_assistant.invoke(\n",
        "    {\n",
        "        \"messages\": [\n",
        "             HumanMessage(content=\"Translate to Nepali: Hello. How are you doing?\")\n",
        "\n",
        "            ]\n",
        "    }, config={\"recursion_limit\": 50}\n",
        "    )\n",
        "response[\"messages\"]"
      ],
      "metadata": {
        "colab": {
          "base_uri": "https://localhost:8080/"
        },
        "id": "tIRZrVsngrsF",
        "outputId": "552c5cc4-15de-4c0e-d962-e68b82359e32"
      },
      "execution_count": 32,
      "outputs": [
        {
          "output_type": "execute_result",
          "data": {
            "text/plain": [
              "[HumanMessage(content='Translate to Nepali: Hello. How are you doing?', additional_kwargs={}, response_metadata={}, id='13845be3-815d-4abc-8432-660be6609380'),\n",
              " AIMessage(content='', additional_kwargs={'tool_calls': [{'id': 'call_hjuyHESpsHnodhYKqfoHivA1', 'function': {'arguments': '{\"content\":\"Hello. How are you doing?\"}', 'name': 'localize_to_nepali'}, 'type': 'function'}], 'refusal': None}, response_metadata={'token_usage': {'completion_tokens': 24, 'prompt_tokens': 132, 'total_tokens': 156, 'completion_tokens_details': {'accepted_prediction_tokens': 0, 'audio_tokens': 0, 'reasoning_tokens': 0, 'rejected_prediction_tokens': 0}, 'prompt_tokens_details': {'audio_tokens': 0, 'cached_tokens': 0}}, 'model_name': 'gpt-4o-mini-2024-07-18', 'system_fingerprint': 'fp_34a54ae93c', 'id': 'chatcmpl-Bicd2PyAR6oIy6w7neQF2nTq0Je2w', 'service_tier': 'default', 'finish_reason': 'tool_calls', 'logprobs': None}, name='localization_assistant', id='run--1838bbc3-0f70-4aec-adff-947cf44b9860-0', tool_calls=[{'name': 'localize_to_nepali', 'args': {'content': 'Hello. How are you doing?'}, 'id': 'call_hjuyHESpsHnodhYKqfoHivA1', 'type': 'tool_call'}], usage_metadata={'input_tokens': 132, 'output_tokens': 24, 'total_tokens': 156, 'input_token_details': {'audio': 0, 'cache_read': 0}, 'output_token_details': {'audio': 0, 'reasoning': 0}}),\n",
              " ToolMessage(content='नमस्कार। तिमीलाई कस्तो छ?', name='localize_to_nepali', id='3bb15204-6460-48ab-8560-5cb8d2e3f703', tool_call_id='call_hjuyHESpsHnodhYKqfoHivA1'),\n",
              " AIMessage(content='नमस्कार। तिमीलाई कस्तो छ?', additional_kwargs={'refusal': None}, response_metadata={'token_usage': {'completion_tokens': 12, 'prompt_tokens': 184, 'total_tokens': 196, 'completion_tokens_details': {'accepted_prediction_tokens': 0, 'audio_tokens': 0, 'reasoning_tokens': 0, 'rejected_prediction_tokens': 0}, 'prompt_tokens_details': {'audio_tokens': 0, 'cached_tokens': 0}}, 'model_name': 'gpt-4o-mini-2024-07-18', 'system_fingerprint': 'fp_34a54ae93c', 'id': 'chatcmpl-Bicd4ZuCBwjmCxpNz0XzdUNrNzj86', 'service_tier': 'default', 'finish_reason': 'stop', 'logprobs': None}, name='localization_assistant', id='run--6c4b9bc2-ee2d-4efb-ba9b-dfa2e80bf41f-0', usage_metadata={'input_tokens': 184, 'output_tokens': 12, 'total_tokens': 196, 'input_token_details': {'audio': 0, 'cache_read': 0}, 'output_token_details': {'audio': 0, 'reasoning': 0}})]"
            ]
          },
          "metadata": {},
          "execution_count": 32
        }
      ]
    },
    {
      "cell_type": "code",
      "source": [
        "response[\"messages\"][-1].content"
      ],
      "metadata": {
        "colab": {
          "base_uri": "https://localhost:8080/",
          "height": 35
        },
        "id": "ajfS0s4CgrpV",
        "outputId": "84eb1269-f41c-4de5-da3a-cb5d70d1b09e"
      },
      "execution_count": 33,
      "outputs": [
        {
          "output_type": "execute_result",
          "data": {
            "text/plain": [
              "'नमस्कार। तिमीलाई कस्तो छ?'"
            ],
            "application/vnd.google.colaboratory.intrinsic+json": {
              "type": "string"
            }
          },
          "metadata": {},
          "execution_count": 33
        }
      ]
    },
    {
      "cell_type": "code",
      "source": [
        "response = localization_assistant.invoke(\n",
        "    {\n",
        "        \"messages\": [\n",
        "             HumanMessage(content=\"Translate to Nepali: Today is  a nice day for picnic.\")\n",
        "\n",
        "            ]\n",
        "    }, config={\"recursion_limit\": 50}\n",
        "    )\n",
        "response[\"messages\"]"
      ],
      "metadata": {
        "colab": {
          "base_uri": "https://localhost:8080/"
        },
        "id": "NnyiP-AQngqw",
        "outputId": "228e93a9-3537-4218-d767-6f2695acd1ea"
      },
      "execution_count": 34,
      "outputs": [
        {
          "output_type": "execute_result",
          "data": {
            "text/plain": [
              "[HumanMessage(content='Translate to Nepali: Today is  a nice day for picnic.', additional_kwargs={}, response_metadata={}, id='18860915-7ca8-46c8-a319-bcf408490a01'),\n",
              " AIMessage(content='', additional_kwargs={'tool_calls': [{'id': 'call_o6NUXNfLKUD9lIflLqFPvzBz', 'function': {'arguments': '{\"content\":\"Today is a nice day for picnic.\"}', 'name': 'localize_to_nepali'}, 'type': 'function'}], 'refusal': None}, response_metadata={'token_usage': {'completion_tokens': 25, 'prompt_tokens': 134, 'total_tokens': 159, 'completion_tokens_details': {'accepted_prediction_tokens': 0, 'audio_tokens': 0, 'reasoning_tokens': 0, 'rejected_prediction_tokens': 0}, 'prompt_tokens_details': {'audio_tokens': 0, 'cached_tokens': 0}}, 'model_name': 'gpt-4o-mini-2024-07-18', 'system_fingerprint': 'fp_34a54ae93c', 'id': 'chatcmpl-BicdvR1QyV44Qlqwwd3j3rQlMXLpC', 'service_tier': 'default', 'finish_reason': 'tool_calls', 'logprobs': None}, name='localization_assistant', id='run--c445f287-7a8b-4007-b7f6-8999d893cef1-0', tool_calls=[{'name': 'localize_to_nepali', 'args': {'content': 'Today is a nice day for picnic.'}, 'id': 'call_o6NUXNfLKUD9lIflLqFPvzBz', 'type': 'tool_call'}], usage_metadata={'input_tokens': 134, 'output_tokens': 25, 'total_tokens': 159, 'input_token_details': {'audio': 0, 'cache_read': 0}, 'output_token_details': {'audio': 0, 'reasoning': 0}}),\n",
              " ToolMessage(content='आज पिकनिकको लागि राम्रो दिन हो।', name='localize_to_nepali', id='57ef780e-cce1-45f9-8f89-a0630f819027', tool_call_id='call_o6NUXNfLKUD9lIflLqFPvzBz'),\n",
              " AIMessage(content='आज पिकनिकको लागि राम्रो दिन हो।', additional_kwargs={'refusal': None}, response_metadata={'token_usage': {'completion_tokens': 11, 'prompt_tokens': 186, 'total_tokens': 197, 'completion_tokens_details': {'accepted_prediction_tokens': 0, 'audio_tokens': 0, 'reasoning_tokens': 0, 'rejected_prediction_tokens': 0}, 'prompt_tokens_details': {'audio_tokens': 0, 'cached_tokens': 0}}, 'model_name': 'gpt-4o-mini-2024-07-18', 'system_fingerprint': 'fp_34a54ae93c', 'id': 'chatcmpl-Bicdy5bPijeWaQKLd4xpmvFZTyiWY', 'service_tier': 'default', 'finish_reason': 'stop', 'logprobs': None}, name='localization_assistant', id='run--ce15afde-3a3c-412d-bcbb-24a97e791501-0', usage_metadata={'input_tokens': 186, 'output_tokens': 11, 'total_tokens': 197, 'input_token_details': {'audio': 0, 'cache_read': 0}, 'output_token_details': {'audio': 0, 'reasoning': 0}})]"
            ]
          },
          "metadata": {},
          "execution_count": 34
        }
      ]
    },
    {
      "cell_type": "code",
      "source": [
        "response[\"messages\"][-1].content"
      ],
      "metadata": {
        "colab": {
          "base_uri": "https://localhost:8080/",
          "height": 35
        },
        "id": "ICZYxYSCnobv",
        "outputId": "ad420b23-6e97-488a-d600-9f6a06c9d057"
      },
      "execution_count": 35,
      "outputs": [
        {
          "output_type": "execute_result",
          "data": {
            "text/plain": [
              "'आज पिकनिकको लागि राम्रो दिन हो।'"
            ],
            "application/vnd.google.colaboratory.intrinsic+json": {
              "type": "string"
            }
          },
          "metadata": {},
          "execution_count": 35
        }
      ]
    },
    {
      "cell_type": "code",
      "source": [
        "response = localization_assistant.invoke(\n",
        "    {\n",
        "        \"messages\": [\n",
        "             HumanMessage(content=\"Today is not sunny day.\")\n",
        "\n",
        "            ]\n",
        "    }, config={\"recursion_limit\": 50}\n",
        "    )\n",
        "response[\"messages\"]"
      ],
      "metadata": {
        "colab": {
          "base_uri": "https://localhost:8080/"
        },
        "id": "aEFYuYsapVOa",
        "outputId": "0eb02ad7-b07b-4670-8d87-91eda37770c1"
      },
      "execution_count": 38,
      "outputs": [
        {
          "output_type": "execute_result",
          "data": {
            "text/plain": [
              "[HumanMessage(content='Today is not sunny day.', additional_kwargs={}, response_metadata={}, id='210e26fb-d858-4257-8b92-424f79ef0be1'),\n",
              " AIMessage(content='', additional_kwargs={'tool_calls': [{'id': 'call_5Z3eWDQBGzai5pKLW1iIaMOh', 'function': {'arguments': '{\"content\":\"Today is not sunny day.\"}', 'name': 'localize_to_nepali'}, 'type': 'function'}], 'refusal': None}, response_metadata={'token_usage': {'completion_tokens': 23, 'prompt_tokens': 126, 'total_tokens': 149, 'completion_tokens_details': {'accepted_prediction_tokens': 0, 'audio_tokens': 0, 'reasoning_tokens': 0, 'rejected_prediction_tokens': 0}, 'prompt_tokens_details': {'audio_tokens': 0, 'cached_tokens': 0}}, 'model_name': 'gpt-4o-mini-2024-07-18', 'system_fingerprint': 'fp_34a54ae93c', 'id': 'chatcmpl-Biclpu5AMuRYVJzaRhjlGf1Vvb1fj', 'service_tier': 'default', 'finish_reason': 'tool_calls', 'logprobs': None}, name='localization_assistant', id='run--8baaf9a0-2df3-40a8-a3c8-e2c65d5c62f2-0', tool_calls=[{'name': 'localize_to_nepali', 'args': {'content': 'Today is not sunny day.'}, 'id': 'call_5Z3eWDQBGzai5pKLW1iIaMOh', 'type': 'tool_call'}], usage_metadata={'input_tokens': 126, 'output_tokens': 23, 'total_tokens': 149, 'input_token_details': {'audio': 0, 'cache_read': 0}, 'output_token_details': {'audio': 0, 'reasoning': 0}}),\n",
              " ToolMessage(content='आज घमाइलो दिन होइन।', name='localize_to_nepali', id='672e7481-8075-45dd-84ba-3e7928060e31', tool_call_id='call_5Z3eWDQBGzai5pKLW1iIaMOh'),\n",
              " AIMessage(content='आज घमाइलो दिन होइन।', additional_kwargs={'refusal': None}, response_metadata={'token_usage': {'completion_tokens': 9, 'prompt_tokens': 174, 'total_tokens': 183, 'completion_tokens_details': {'accepted_prediction_tokens': 0, 'audio_tokens': 0, 'reasoning_tokens': 0, 'rejected_prediction_tokens': 0}, 'prompt_tokens_details': {'audio_tokens': 0, 'cached_tokens': 0}}, 'model_name': 'gpt-4o-mini-2024-07-18', 'system_fingerprint': 'fp_34a54ae93c', 'id': 'chatcmpl-Biclr2VMJhqc8ZU6APGs9yZ61naRz', 'service_tier': 'default', 'finish_reason': 'stop', 'logprobs': None}, name='localization_assistant', id='run--5534573a-b201-450b-a244-5a55c828cc51-0', usage_metadata={'input_tokens': 174, 'output_tokens': 9, 'total_tokens': 183, 'input_token_details': {'audio': 0, 'cache_read': 0}, 'output_token_details': {'audio': 0, 'reasoning': 0}})]"
            ]
          },
          "metadata": {},
          "execution_count": 38
        }
      ]
    },
    {
      "cell_type": "code",
      "source": [
        "response[\"messages\"][-1].content"
      ],
      "metadata": {
        "colab": {
          "base_uri": "https://localhost:8080/",
          "height": 35
        },
        "id": "dVwhw0tfpZYb",
        "outputId": "45db71a4-d6a5-42fe-bcb3-0ffe8b22e9ae"
      },
      "execution_count": 39,
      "outputs": [
        {
          "output_type": "execute_result",
          "data": {
            "text/plain": [
              "'आज घमाइलो दिन होइन।'"
            ],
            "application/vnd.google.colaboratory.intrinsic+json": {
              "type": "string"
            }
          },
          "metadata": {},
          "execution_count": 39
        }
      ]
    },
    {
      "cell_type": "markdown",
      "source": [
        "# Class Local"
      ],
      "metadata": {
        "id": "-HDe8thgpn5a"
      }
    },
    {
      "cell_type": "markdown",
      "source": [
        "# Localization Tool. PY"
      ],
      "metadata": {
        "id": "fuhCFircpr_M"
      }
    },
    {
      "cell_type": "code",
      "source": [
        "import asyncio\n",
        "from langchain.tools import tool\n",
        "from typing import List\n",
        "import os\n",
        "\n",
        "@tool\n",
        "def localize_to_nepali(content: str) -> str:\n",
        "    \"\"\"\n",
        "    Translates English text into Nepali using an async translator wrapped in sync.\n",
        "    \"\"\"\n",
        "    async def translate_async():\n",
        "        translator = Translator()\n",
        "        translated = await translator.translate(content, src='en', dest='ne')\n",
        "        return translated.text\n",
        "\n",
        "    try:\n",
        "        return asyncio.run(translate_async())\n",
        "    except Exception as e:\n",
        "        return f\"Translation failed due to: {str(e)}\"\n"
      ],
      "metadata": {
        "id": "7EJnCsZMpnpM"
      },
      "execution_count": null,
      "outputs": []
    },
    {
      "cell_type": "markdown",
      "source": [
        "# Run_localization agent.py"
      ],
      "metadata": {
        "id": "z_fqnkbIpwVa"
      }
    },
    {
      "cell_type": "code",
      "source": [
        "from dotenv import load_dotenv\n",
        "load_dotenv()\n",
        "\n",
        "from agents.localization_agent import LocalizationAgent\n",
        "def main():\n",
        "    agent = LocalizationAgent()\n",
        "    query = \"Hello. How are you doing?\"\n",
        "    result = agent.run(query)\n",
        "    print(result)\n",
        "\n",
        "if __name__ == \"__main__\":\n",
        "    main()"
      ],
      "metadata": {
        "id": "7KfDp0efpnlj"
      },
      "execution_count": null,
      "outputs": []
    },
    {
      "cell_type": "markdown",
      "source": [
        "# Localization Agent py"
      ],
      "metadata": {
        "id": "pXakrw_Wp1Dg"
      }
    },
    {
      "cell_type": "code",
      "source": [
        "from langchain_openai import ChatOpenAI\n",
        "from langgraph.prebuilt import create_react_agent\n",
        "from langchain_core.messages import HumanMessage\n",
        "from tools.localization_tools import localize_to_nepali\n",
        "from config.setting import OPENAI_API_KEY\n",
        "\n",
        "class LocalizationAgent:\n",
        "    def __init__(self):\n",
        "        self.openai_api_key = OPENAI_API_KEY\n",
        "        self.model = ChatOpenAI(api_key=self.openai_api_key, model=\"gpt-4o-mini\", verbose=True)\n",
        "        self.agent = create_react_agent(\n",
        "            model=self.model,\n",
        "            tools=[localize_to_nepali],\n",
        "            prompt = (\n",
        "            \"You are a helpful Localization Assistant. \"\n",
        "            \"Your job is to translate and adapt English content into the Nepali language, \"\n",
        "            \"preserving the original meaning, tone, and cultural context. \"\n",
        "            \"Always use the `localize_to_nepali` tool to translate any user input into Nepali. \"\n",
        "            \"Do not respond on your own unless explicitly instructed.\"\n",
        "            ),\n",
        "            name=\"localization_assistant\"\n",
        "        )\n",
        "\n",
        "    def run(self, user_input):\n",
        "        response = self.agent.invoke({\n",
        "            \"messages\": [HumanMessage(content=user_input)]\n",
        "        }, config={\"recursion_limit\": 50})\n",
        "        return response[\"messages\"][-1].content"
      ],
      "metadata": {
        "id": "wWTvYELipni_"
      },
      "execution_count": null,
      "outputs": []
    }
  ]
}