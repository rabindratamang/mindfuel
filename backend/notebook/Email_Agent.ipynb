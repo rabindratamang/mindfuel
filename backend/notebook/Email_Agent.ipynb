{
  "cells": [
    {
      "cell_type": "code",
      "execution_count": null,
      "metadata": {
        "id": "Fsts_ksxCpoa"
      },
      "outputs": [],
      "source": [
        "%pip install -qU langchain-openai langchain langgraph langchain_community langgraph-supervisor"
      ]
    },
    {
      "cell_type": "code",
      "execution_count": null,
      "metadata": {
        "id": "xdkGjRtjCplo"
      },
      "outputs": [],
      "source": [
        "from pydantic import BaseModel\n",
        "from langchain_openai import ChatOpenAI\n",
        "from google.colab import userdata\n",
        "from langgraph.prebuilt import create_react_agent\n",
        "from langgraph_supervisor import create_supervisor\n",
        "from langchain_core.tools import tool\n",
        "from langchain_core.messages import (\n",
        "    HumanMessage,\n",
        ")\n",
        "from langgraph.prebuilt import create_react_agent\n",
        "import requests\n",
        "key = userdata.get('OPENAI_API_KEY')"
      ]
    },
    {
      "cell_type": "code",
      "execution_count": null,
      "metadata": {
        "id": "-_7RZX9CCpfe"
      },
      "outputs": [],
      "source": [
        "model = ChatOpenAI(api_key=key,model=\"gpt-4o-mini\")"
      ]
    },
    {
      "cell_type": "code",
      "execution_count": null,
      "metadata": {
        "id": "slYb8BCSE66K"
      },
      "outputs": [],
      "source": [
        "!pip install -q sendgrid"
      ]
    },
    {
      "cell_type": "code",
      "execution_count": null,
      "metadata": {
        "id": "Sir2nYUOCge_"
      },
      "outputs": [],
      "source": [
        "SENDGRID_API_KEY=\"api key\""
      ]
    },
    {
      "cell_type": "markdown",
      "metadata": {
        "id": "evnXa86Tgt4T"
      },
      "source": [
        "# Tool"
      ]
    },
    {
      "cell_type": "code",
      "execution_count": null,
      "metadata": {
        "id": "qlNuHvkoCpbn"
      },
      "outputs": [],
      "source": [
        "from langchain.tools import tool\n",
        "from typing import List\n",
        "import requests\n",
        "\n",
        "import sendgrid\n",
        "import os\n",
        "from sendgrid.helpers.mail import Mail, Email, To, Content\n",
        "\n",
        "@tool\n",
        "def send_email_via_sendgrid(\n",
        "    sender_email: str,\n",
        "    recipient_email: str,\n",
        "    subject: str,\n",
        "    message: str,\n",
        "    content_type: str = \"text/plain\"\n",
        ") -> dict:\n",
        "    \"\"\"\n",
        "    Sends an email using the SendGrid API.\n",
        "\n",
        "    Args:\n",
        "        sender_email (str): The sender's verified email address.\n",
        "        recipient_email (str): The recipient's email address.\n",
        "        subject (str): The subject of the email.\n",
        "        message (str): The message content of the email.\n",
        "        content_type (str): The content type of the message (default is \"text/plain\").\n",
        "\n",
        "    Returns:\n",
        "        dict: A dictionary with status_code and response_headers.\n",
        "    \"\"\"\n",
        "    #os.environ.get(\"SENDGRID_API_KEY\")\n",
        "    sg = sendgrid.SendGridAPIClient(api_key=SENDGRID_API_KEY)\n",
        "\n",
        "    from_email = Email(sender_email)\n",
        "    to_email = To(recipient_email)\n",
        "    content = Content(content_type, message)\n",
        "    mail = Mail(from_email, to_email, subject, content)\n",
        "\n",
        "    # Send the email\n",
        "    try:\n",
        "        response = sg.client.mail.send.post(request_body=mail.get())\n",
        "        return {\n",
        "            \"status_code\": response.status_code,\n",
        "            \"headers\": dict(response.headers),\n",
        "        }\n",
        "    except Exception as e:\n",
        "        return {\n",
        "            \"error\": str(e)\n",
        "        }\n"
      ]
    },
    {
      "cell_type": "markdown",
      "metadata": {
        "id": "AfkhG404gxiJ"
      },
      "source": [
        "# Agent"
      ]
    },
    {
      "cell_type": "code",
      "execution_count": null,
      "metadata": {
        "id": "gAYeVwEWDjJV"
      },
      "outputs": [],
      "source": [
        "email_assistant = create_react_agent(\n",
        "    model=model,\n",
        "    tools=[send_email_via_sendgrid],\n",
        "    prompt=\"You are a helpful Email assistant. Your job is to help users send emails. \",\n",
        "    name=\"email_assistant\"\n",
        ")\n"
      ]
    },
    {
      "cell_type": "markdown",
      "metadata": {
        "id": "4zn1oKiogzgu"
      },
      "source": [
        "# Agent Invoke"
      ]
    },
    {
      "cell_type": "code",
      "execution_count": null,
      "metadata": {
        "colab": {
          "base_uri": "https://localhost:8080/"
        },
        "id": "kjAzYg7PDjGS",
        "outputId": "6531ba96-f9e6-4ae4-d980-8060c3b68bf7"
      },
      "outputs": [
        {
          "data": {
            "text/plain": [
              "[HumanMessage(content='Send an email on sick leave to shashwotpradhan@gmail.com', additional_kwargs={}, response_metadata={}, id='052b2211-60db-4bc4-9b28-46a4898ebbc4'),\n",
              " AIMessage(content=\"Could you please provide me with the details you'd like to include in the sick leave email? Specifically, I need:\\n\\n1. Your email address (sender's email).\\n2. A subject for the email.\\n3. The message content (you can include details like the duration of your leave, any specific reasons if you wish, and any other relevant information).\", additional_kwargs={'refusal': None}, response_metadata={'token_usage': {'completion_tokens': 72, 'prompt_tokens': 187, 'total_tokens': 259, 'completion_tokens_details': {'accepted_prediction_tokens': 0, 'audio_tokens': 0, 'reasoning_tokens': 0, 'rejected_prediction_tokens': 0}, 'prompt_tokens_details': {'audio_tokens': 0, 'cached_tokens': 0}}, 'model_name': 'gpt-4o-mini-2024-07-18', 'system_fingerprint': 'fp_62a23a81ef', 'id': 'chatcmpl-BhWoibJiGJIQ1LQcewh6kAHmnUJ2U', 'service_tier': 'default', 'finish_reason': 'stop', 'logprobs': None}, name='email_assistant', id='run--21f28e0f-d7f2-4726-a2d9-52d28c604a18-0', usage_metadata={'input_tokens': 187, 'output_tokens': 72, 'total_tokens': 259, 'input_token_details': {'audio': 0, 'cache_read': 0}, 'output_token_details': {'audio': 0, 'reasoning': 0}})]"
            ]
          },
          "execution_count": 9,
          "metadata": {},
          "output_type": "execute_result"
        }
      ],
      "source": [
        "response = email_assistant.invoke(\n",
        "    {\n",
        "        \"messages\": [\n",
        "            HumanMessage(content=\"Send an email on sick leave to shashwotpradhan@gmail.com\")\n",
        "            ]\n",
        "    }\n",
        "    )\n",
        "response[\"messages\"]"
      ]
    },
    {
      "cell_type": "code",
      "execution_count": null,
      "metadata": {
        "colab": {
          "base_uri": "https://localhost:8080/",
          "height": 53
        },
        "id": "kdAiDXwpDjDp",
        "outputId": "b938f69c-fae2-4976-dbbf-88238d2a9b26"
      },
      "outputs": [
        {
          "data": {
            "application/vnd.google.colaboratory.intrinsic+json": {
              "type": "string"
            },
            "text/plain": [
              "\"Could you please provide me with the details you'd like to include in the sick leave email? Specifically, I need:\\n\\n1. Your email address (sender's email).\\n2. A subject for the email.\\n3. The message content (you can include details like the duration of your leave, any specific reasons if you wish, and any other relevant information).\""
            ]
          },
          "execution_count": 10,
          "metadata": {},
          "output_type": "execute_result"
        }
      ],
      "source": [
        "response[\"messages\"][-1].content"
      ]
    },
    {
      "cell_type": "code",
      "execution_count": null,
      "metadata": {
        "colab": {
          "base_uri": "https://localhost:8080/"
        },
        "id": "HjXSWDwcCpYx",
        "outputId": "f444f299-f669-432b-a8f0-26f56141c851"
      },
      "outputs": [
        {
          "data": {
            "text/plain": [
              "[HumanMessage(content='Send an email on sick leave to shashwotpradhan@gmail.com for 3 days and subject should be leave due to sickness. Email is from mindfuelnepal@gmail.com', additional_kwargs={}, response_metadata={}, id='25e8d178-244c-41f6-a58c-353043cb65a4'),\n",
              " AIMessage(content='', additional_kwargs={'tool_calls': [{'id': 'call_DOVaHg5YnuSzYHB5lJuJ6LNl', 'function': {'arguments': '{\"sender_email\":\"mindfuelnepal@gmail.com\",\"recipient_email\":\"shashwotpradhan@gmail.com\",\"subject\":\"Leave Due to Sickness\",\"message\":\"Dear Shashwot,\\\\n\\\\nI hope this message finds you well. I am writing to inform you that I will be unable to attend work for the next 3 days due to illness. I apologize for any inconvenience this may cause and appreciate your understanding during this time.\\\\n\\\\nThank you for your support.\\\\n\\\\nBest regards,\\\\n\\\\nMind Fuel Nepal\"}', 'name': 'send_email_via_sendgrid'}, 'type': 'function'}], 'refusal': None}, response_metadata={'token_usage': {'completion_tokens': 121, 'prompt_tokens': 209, 'total_tokens': 330, 'completion_tokens_details': {'accepted_prediction_tokens': 0, 'audio_tokens': 0, 'reasoning_tokens': 0, 'rejected_prediction_tokens': 0}, 'prompt_tokens_details': {'audio_tokens': 0, 'cached_tokens': 0}}, 'model_name': 'gpt-4o-mini-2024-07-18', 'system_fingerprint': 'fp_62a23a81ef', 'id': 'chatcmpl-BhY5CWemyAKNc2IMBfSu5GJ2DgprS', 'service_tier': 'default', 'finish_reason': 'tool_calls', 'logprobs': None}, name='email_assistant', id='run--85a4ce8a-a7dc-4eeb-8991-679166eef12f-0', tool_calls=[{'name': 'send_email_via_sendgrid', 'args': {'sender_email': 'mindfuelnepal@gmail.com', 'recipient_email': 'shashwotpradhan@gmail.com', 'subject': 'Leave Due to Sickness', 'message': 'Dear Shashwot,\\n\\nI hope this message finds you well. I am writing to inform you that I will be unable to attend work for the next 3 days due to illness. I apologize for any inconvenience this may cause and appreciate your understanding during this time.\\n\\nThank you for your support.\\n\\nBest regards,\\n\\nMind Fuel Nepal'}, 'id': 'call_DOVaHg5YnuSzYHB5lJuJ6LNl', 'type': 'tool_call'}], usage_metadata={'input_tokens': 209, 'output_tokens': 121, 'total_tokens': 330, 'input_token_details': {'audio': 0, 'cache_read': 0}, 'output_token_details': {'audio': 0, 'reasoning': 0}}),\n",
              " ToolMessage(content='{\"status_code\": 202, \"headers\": {\"Server\": \"nginx\", \"Date\": \"Thu, 12 Jun 2025 09:00:21 GMT\", \"Content-Length\": \"0\", \"Connection\": \"close\", \"X-Message-Id\": \"Jn6lLAsjScKmj6u_TYQmdA\", \"Access-Control-Allow-Origin\": \"https://sendgrid.api-docs.io\", \"Access-Control-Allow-Methods\": \"POST\", \"Access-Control-Allow-Headers\": \"Authorization, Content-Type, On-behalf-of, x-sg-elas-acl\", \"Access-Control-Max-Age\": \"600\", \"X-No-CORS-Reason\": \"https://sendgrid.com/docs/Classroom/Basics/API/cors.html\", \"Strict-Transport-Security\": \"max-age=31536000; includeSubDomains\", \"Content-Security-Policy\": \"frame-ancestors \\'none\\'\", \"Cache-Control\": \"no-cache\", \"X-Content-Type-Options\": \"no-sniff\", \"Referrer-Policy\": \"strict-origin-when-cross-origin\"}}', name='send_email_via_sendgrid', id='59b6b97a-054a-41ae-91eb-209f9ee2a726', tool_call_id='call_DOVaHg5YnuSzYHB5lJuJ6LNl'),\n",
              " AIMessage(content='The email regarding sick leave has been successfully sent to shashwotpradhan@gmail.com.', additional_kwargs={'refusal': None}, response_metadata={'token_usage': {'completion_tokens': 20, 'prompt_tokens': 576, 'total_tokens': 596, 'completion_tokens_details': {'accepted_prediction_tokens': 0, 'audio_tokens': 0, 'reasoning_tokens': 0, 'rejected_prediction_tokens': 0}, 'prompt_tokens_details': {'audio_tokens': 0, 'cached_tokens': 0}}, 'model_name': 'gpt-4o-mini-2024-07-18', 'system_fingerprint': 'fp_62a23a81ef', 'id': 'chatcmpl-BhY5HOBMh4Qy24FTFCeHfCU7Y1I2p', 'service_tier': 'default', 'finish_reason': 'stop', 'logprobs': None}, name='email_assistant', id='run--6c15a700-af2a-4f20-9f1d-e9132b754864-0', usage_metadata={'input_tokens': 576, 'output_tokens': 20, 'total_tokens': 596, 'input_token_details': {'audio': 0, 'cache_read': 0}, 'output_token_details': {'audio': 0, 'reasoning': 0}})]"
            ]
          },
          "execution_count": 16,
          "metadata": {},
          "output_type": "execute_result"
        }
      ],
      "source": [
        "response = email_assistant.invoke(\n",
        "    {\n",
        "        \"messages\": [\n",
        "            HumanMessage(content=\"Send an email on sick leave to shashwotpradhan@gmail.com for 3 days and subject should be leave due to sickness. Email is from mindfuelnepal@gmail.com\")\n",
        "            ]\n",
        "    }\n",
        "    )\n",
        "response[\"messages\"]"
      ]
    },
    {
      "cell_type": "code",
      "execution_count": null,
      "metadata": {
        "colab": {
          "base_uri": "https://localhost:8080/",
          "height": 36
        },
        "id": "SV6ZrUEyFNtW",
        "outputId": "c66fddab-765a-4589-82fb-f497c6f1f47a"
      },
      "outputs": [
        {
          "data": {
            "application/vnd.google.colaboratory.intrinsic+json": {
              "type": "string"
            },
            "text/plain": [
              "'The email regarding sick leave has been successfully sent to shashwotpradhan@gmail.com.'"
            ]
          },
          "execution_count": 17,
          "metadata": {},
          "output_type": "execute_result"
        }
      ],
      "source": [
        "response[\"messages\"][-1].content"
      ]
    },
    {
      "cell_type": "code",
      "execution_count": null,
      "metadata": {
        "colab": {
          "base_uri": "https://localhost:8080/"
        },
        "id": "uxYAUoH6FhOk",
        "outputId": "e42e651a-f51f-4e3a-b574-02198d388983"
      },
      "outputs": [
        {
          "data": {
            "text/plain": [
              "[HumanMessage(content=\"Send an email on mental health awareness to rabindratamangstudy@gmail.com subject should be 🌿 Let's Talk About Mental Health. Email is from mindfuelnepal@gmail.com\", additional_kwargs={}, response_metadata={}, id='f4e17d6e-06ac-45b9-9c84-b86726397b89'),\n",
              " AIMessage(content='', additional_kwargs={'tool_calls': [{'id': 'call_ll1ekq3EXhFsP6yot8xFAXug', 'function': {'arguments': '{\"sender_email\":\"mindfuelnepal@gmail.com\",\"recipient_email\":\"rabindratamangstudy@gmail.com\",\"subject\":\"🌿 Let\\'s Talk About Mental Health\",\"message\":\"Dear Friends,\\\\n\\\\nMental health is just as important as physical health, and it\\'s time we bring more awareness to it. Let\\'s break the stigma and open up the conversation around mental health.\\\\n\\\\nJoin us in raising awareness about mental health and understanding its impact on our lives.\\\\n\\\\nTogether, we can create a supportive environment for those in need. \\\\n\\\\nFeel free to reach out if you want to discuss more or if you\\'re feeling overwhelmed; remember, you’re not alone.\\\\n\\\\nBest regards,\\\\nMind Fuel Nepal\"}', 'name': 'send_email_via_sendgrid'}, 'type': 'function'}], 'refusal': None}, response_metadata={'token_usage': {'completion_tokens': 155, 'prompt_tokens': 207, 'total_tokens': 362, 'completion_tokens_details': {'accepted_prediction_tokens': 0, 'audio_tokens': 0, 'reasoning_tokens': 0, 'rejected_prediction_tokens': 0}, 'prompt_tokens_details': {'audio_tokens': 0, 'cached_tokens': 0}}, 'model_name': 'gpt-4o-mini-2024-07-18', 'system_fingerprint': 'fp_62a23a81ef', 'id': 'chatcmpl-BhYBzm74OpORKhjOQPshuEieQp438', 'service_tier': 'default', 'finish_reason': 'tool_calls', 'logprobs': None}, name='email_assistant', id='run--c5b4e9d1-9552-4628-b340-52fa58ea5cf2-0', tool_calls=[{'name': 'send_email_via_sendgrid', 'args': {'sender_email': 'mindfuelnepal@gmail.com', 'recipient_email': 'rabindratamangstudy@gmail.com', 'subject': \"🌿 Let's Talk About Mental Health\", 'message': \"Dear Friends,\\n\\nMental health is just as important as physical health, and it's time we bring more awareness to it. Let's break the stigma and open up the conversation around mental health.\\n\\nJoin us in raising awareness about mental health and understanding its impact on our lives.\\n\\nTogether, we can create a supportive environment for those in need. \\n\\nFeel free to reach out if you want to discuss more or if you're feeling overwhelmed; remember, you’re not alone.\\n\\nBest regards,\\nMind Fuel Nepal\"}, 'id': 'call_ll1ekq3EXhFsP6yot8xFAXug', 'type': 'tool_call'}], usage_metadata={'input_tokens': 207, 'output_tokens': 155, 'total_tokens': 362, 'input_token_details': {'audio': 0, 'cache_read': 0}, 'output_token_details': {'audio': 0, 'reasoning': 0}}),\n",
              " ToolMessage(content='{\"status_code\": 202, \"headers\": {\"Server\": \"nginx\", \"Date\": \"Thu, 12 Jun 2025 09:07:22 GMT\", \"Content-Length\": \"0\", \"Connection\": \"close\", \"X-Message-Id\": \"MK0Fokq6Re2eLSWz3c2MMw\", \"Access-Control-Allow-Origin\": \"https://sendgrid.api-docs.io\", \"Access-Control-Allow-Methods\": \"POST\", \"Access-Control-Allow-Headers\": \"Authorization, Content-Type, On-behalf-of, x-sg-elas-acl\", \"Access-Control-Max-Age\": \"600\", \"X-No-CORS-Reason\": \"https://sendgrid.com/docs/Classroom/Basics/API/cors.html\", \"Strict-Transport-Security\": \"max-age=31536000; includeSubDomains\", \"Content-Security-Policy\": \"frame-ancestors \\'none\\'\", \"Cache-Control\": \"no-cache\", \"X-Content-Type-Options\": \"no-sniff\", \"Referrer-Policy\": \"strict-origin-when-cross-origin\"}}', name='send_email_via_sendgrid', id='4d54ca7e-c5d6-4561-ad5a-b3f9cbe57917', tool_call_id='call_ll1ekq3EXhFsP6yot8xFAXug'),\n",
              " AIMessage(content='The email on mental health awareness has been successfully sent to rabindratamangstudy@gmail.com with the subject \"🌿 Let\\'s Talk About Mental Health\" from mindfuelnepal@gmail.com. If you need any further assistance, feel free to ask!', additional_kwargs={'refusal': None}, response_metadata={'token_usage': {'completion_tokens': 51, 'prompt_tokens': 609, 'total_tokens': 660, 'completion_tokens_details': {'accepted_prediction_tokens': 0, 'audio_tokens': 0, 'reasoning_tokens': 0, 'rejected_prediction_tokens': 0}, 'prompt_tokens_details': {'audio_tokens': 0, 'cached_tokens': 0}}, 'model_name': 'gpt-4o-mini-2024-07-18', 'system_fingerprint': 'fp_34a54ae93c', 'id': 'chatcmpl-BhYC2pEusfmP0sQgUuS0hZD57nt6Y', 'service_tier': 'default', 'finish_reason': 'stop', 'logprobs': None}, name='email_assistant', id='run--dab6450c-1736-46aa-a28a-fbd1f1d7db48-0', usage_metadata={'input_tokens': 609, 'output_tokens': 51, 'total_tokens': 660, 'input_token_details': {'audio': 0, 'cache_read': 0}, 'output_token_details': {'audio': 0, 'reasoning': 0}})]"
            ]
          },
          "execution_count": 18,
          "metadata": {},
          "output_type": "execute_result"
        }
      ],
      "source": [
        "response = email_assistant.invoke(\n",
        "    {\n",
        "        \"messages\": [\n",
        "            HumanMessage(content=\"Send an email on mental health awareness to rabindratamangstudy@gmail.com subject should be 🌿 Let's Talk About Mental Health. Email is from mindfuelnepal@gmail.com\")\n",
        "            ]\n",
        "    }\n",
        "    )\n",
        "response[\"messages\"]"
      ]
    },
    {
      "cell_type": "code",
      "execution_count": null,
      "metadata": {
        "colab": {
          "base_uri": "https://localhost:8080/",
          "height": 53
        },
        "id": "-IRp2eNAYm9T",
        "outputId": "0dac9504-5f73-47dd-de33-160ea174a876"
      },
      "outputs": [
        {
          "data": {
            "application/vnd.google.colaboratory.intrinsic+json": {
              "type": "string"
            },
            "text/plain": [
              "'The email on mental health awareness has been successfully sent to rabindratamangstudy@gmail.com with the subject \"🌿 Let\\'s Talk About Mental Health\" from mindfuelnepal@gmail.com. If you need any further assistance, feel free to ask!'"
            ]
          },
          "execution_count": 19,
          "metadata": {},
          "output_type": "execute_result"
        }
      ],
      "source": [
        "response[\"messages\"][-1].content"
      ]
    },
    {
      "cell_type": "code",
      "execution_count": null,
      "metadata": {
        "colab": {
          "base_uri": "https://localhost:8080/"
        },
        "id": "qH3sq_nAjHwE",
        "outputId": "4aa2f1a2-3fe0-4bdc-ceb4-8954fd66f1b0"
      },
      "outputs": [
        {
          "data": {
            "text/plain": [
              "[HumanMessage(content=\"Send an email on mental health awareness to rougepradhan@gmail.com and shashwotpradhan@gmail.com subject should be 🌿 Let's Talk About Mental Health. Email is from mindfuelnepal@gmail.com\", additional_kwargs={}, response_metadata={}, id='9a33c5a5-aab7-4bc0-b8b8-a30fa9dd46f6'),\n",
              " AIMessage(content='', additional_kwargs={'tool_calls': [{'id': 'call_MxqIWQfLW0ogWSOrS3uw5h96', 'function': {'arguments': '{\"sender_email\": \"mindfuelnepal@gmail.com\", \"recipient_email\": \"rougepradhan@gmail.com\", \"subject\": \"🌿 Let\\'s Talk About Mental Health\", \"message\": \"Dear Recipient,\\\\n\\\\nMental health is a crucial aspect of our overall well-being. It affects how we think, feel, and act. We encourage open conversations about mental health to reduce stigma and promote understanding. Remember, it’s okay to seek help and support.\\\\n\\\\nLet’s talk about mental health and support each other.\\\\n\\\\nBest regards,\\\\nMind Fuel Nepal\"}', 'name': 'send_email_via_sendgrid'}, 'type': 'function'}, {'id': 'call_eUlHR9aN0vUcd2Ae7hSFbxx5', 'function': {'arguments': '{\"sender_email\": \"mindfuelnepal@gmail.com\", \"recipient_email\": \"shashwotpradhan@gmail.com\", \"subject\": \"🌿 Let\\'s Talk About Mental Health\", \"message\": \"Dear Recipient,\\\\n\\\\nMental health is a crucial aspect of our overall well-being. It affects how we think, feel, and act. We encourage open conversations about mental health to reduce stigma and promote understanding. Remember, it’s okay to seek help and support.\\\\n\\\\nLet’s talk about mental health and support each other.\\\\n\\\\nBest regards,\\\\nMind Fuel Nepal\"}', 'name': 'send_email_via_sendgrid'}, 'type': 'function'}], 'refusal': None}, response_metadata={'token_usage': {'completion_tokens': 262, 'prompt_tokens': 214, 'total_tokens': 476, 'completion_tokens_details': {'accepted_prediction_tokens': 0, 'audio_tokens': 0, 'reasoning_tokens': 0, 'rejected_prediction_tokens': 0}, 'prompt_tokens_details': {'audio_tokens': 0, 'cached_tokens': 0}}, 'model_name': 'gpt-4o-mini-2024-07-18', 'system_fingerprint': 'fp_34a54ae93c', 'id': 'chatcmpl-BhYwG5zPfPocR02dxJPMKPyJqoqqi', 'service_tier': 'default', 'finish_reason': 'tool_calls', 'logprobs': None}, name='email_assistant', id='run--0f3f05e3-c3df-4fb5-8dca-872d917093aa-0', tool_calls=[{'name': 'send_email_via_sendgrid', 'args': {'sender_email': 'mindfuelnepal@gmail.com', 'recipient_email': 'rougepradhan@gmail.com', 'subject': \"🌿 Let's Talk About Mental Health\", 'message': 'Dear Recipient,\\n\\nMental health is a crucial aspect of our overall well-being. It affects how we think, feel, and act. We encourage open conversations about mental health to reduce stigma and promote understanding. Remember, it’s okay to seek help and support.\\n\\nLet’s talk about mental health and support each other.\\n\\nBest regards,\\nMind Fuel Nepal'}, 'id': 'call_MxqIWQfLW0ogWSOrS3uw5h96', 'type': 'tool_call'}, {'name': 'send_email_via_sendgrid', 'args': {'sender_email': 'mindfuelnepal@gmail.com', 'recipient_email': 'shashwotpradhan@gmail.com', 'subject': \"🌿 Let's Talk About Mental Health\", 'message': 'Dear Recipient,\\n\\nMental health is a crucial aspect of our overall well-being. It affects how we think, feel, and act. We encourage open conversations about mental health to reduce stigma and promote understanding. Remember, it’s okay to seek help and support.\\n\\nLet’s talk about mental health and support each other.\\n\\nBest regards,\\nMind Fuel Nepal'}, 'id': 'call_eUlHR9aN0vUcd2Ae7hSFbxx5', 'type': 'tool_call'}], usage_metadata={'input_tokens': 214, 'output_tokens': 262, 'total_tokens': 476, 'input_token_details': {'audio': 0, 'cache_read': 0}, 'output_token_details': {'audio': 0, 'reasoning': 0}}),\n",
              " ToolMessage(content='{\"status_code\": 202, \"headers\": {\"Server\": \"nginx\", \"Date\": \"Thu, 12 Jun 2025 09:55:12 GMT\", \"Content-Length\": \"0\", \"Connection\": \"close\", \"X-Message-Id\": \"SEMyQKiXToyHllWaYDjyHA\", \"Access-Control-Allow-Origin\": \"https://sendgrid.api-docs.io\", \"Access-Control-Allow-Methods\": \"POST\", \"Access-Control-Allow-Headers\": \"Authorization, Content-Type, On-behalf-of, x-sg-elas-acl\", \"Access-Control-Max-Age\": \"600\", \"X-No-CORS-Reason\": \"https://sendgrid.com/docs/Classroom/Basics/API/cors.html\", \"Strict-Transport-Security\": \"max-age=31536000; includeSubDomains\", \"Content-Security-Policy\": \"frame-ancestors \\'none\\'\", \"Cache-Control\": \"no-cache\", \"X-Content-Type-Options\": \"no-sniff\", \"Referrer-Policy\": \"strict-origin-when-cross-origin\"}}', name='send_email_via_sendgrid', id='3f485c63-6fcd-4505-b40e-dc87f20fc8c0', tool_call_id='call_MxqIWQfLW0ogWSOrS3uw5h96'),\n",
              " ToolMessage(content='{\"status_code\": 202, \"headers\": {\"Server\": \"nginx\", \"Date\": \"Thu, 12 Jun 2025 09:55:12 GMT\", \"Content-Length\": \"0\", \"Connection\": \"close\", \"X-Message-Id\": \"UHIoFHaXREumqxvxI_hXew\", \"Access-Control-Allow-Origin\": \"https://sendgrid.api-docs.io\", \"Access-Control-Allow-Methods\": \"POST\", \"Access-Control-Allow-Headers\": \"Authorization, Content-Type, On-behalf-of, x-sg-elas-acl\", \"Access-Control-Max-Age\": \"600\", \"X-No-CORS-Reason\": \"https://sendgrid.com/docs/Classroom/Basics/API/cors.html\", \"Strict-Transport-Security\": \"max-age=31536000; includeSubDomains\", \"Content-Security-Policy\": \"frame-ancestors \\'none\\'\", \"Cache-Control\": \"no-cache\", \"X-Content-Type-Options\": \"no-sniff\", \"Referrer-Policy\": \"strict-origin-when-cross-origin\"}}', name='send_email_via_sendgrid', id='67b43bb0-60bb-4ed8-a85c-90eac69659b4', tool_call_id='call_eUlHR9aN0vUcd2Ae7hSFbxx5'),\n",
              " AIMessage(content='The emails have been successfully sent to both recipients, **rougepradhan@gmail.com** and **shashwotpradhan@gmail.com**, with the subject \"🌿 Let\\'s Talk About Mental Health.\" If you need any further assistance, feel free to ask!', additional_kwargs={'refusal': None}, response_metadata={'token_usage': {'completion_tokens': 54, 'prompt_tokens': 947, 'total_tokens': 1001, 'completion_tokens_details': {'accepted_prediction_tokens': 0, 'audio_tokens': 0, 'reasoning_tokens': 0, 'rejected_prediction_tokens': 0}, 'prompt_tokens_details': {'audio_tokens': 0, 'cached_tokens': 0}}, 'model_name': 'gpt-4o-mini-2024-07-18', 'system_fingerprint': 'fp_34a54ae93c', 'id': 'chatcmpl-BhYwKcq52vs8VNA6h28HNnckQfy80', 'service_tier': 'default', 'finish_reason': 'stop', 'logprobs': None}, name='email_assistant', id='run--af670963-15b5-41da-adf4-fb528eac418d-0', usage_metadata={'input_tokens': 947, 'output_tokens': 54, 'total_tokens': 1001, 'input_token_details': {'audio': 0, 'cache_read': 0}, 'output_token_details': {'audio': 0, 'reasoning': 0}})]"
            ]
          },
          "execution_count": 29,
          "metadata": {},
          "output_type": "execute_result"
        }
      ],
      "source": [
        "response = email_assistant.invoke(\n",
        "    {\n",
        "        \"messages\": [\n",
        "            HumanMessage(content=\"Send an email on mental health awareness to rougepradhan@gmail.com and shashwotpradhan@gmail.com subject should be 🌿 Let's Talk About Mental Health. Email is from mindfuelnepal@gmail.com\")\n",
        "            ]\n",
        "    }\n",
        "    )\n",
        "response[\"messages\"]"
      ]
    },
    {
      "cell_type": "code",
      "execution_count": null,
      "metadata": {
        "colab": {
          "base_uri": "https://localhost:8080/",
          "height": 53
        },
        "id": "Op-IGnOPjI2P",
        "outputId": "7aa216b5-17a8-49f5-f91a-68b3d220bc50"
      },
      "outputs": [
        {
          "data": {
            "application/vnd.google.colaboratory.intrinsic+json": {
              "type": "string"
            },
            "text/plain": [
              "'The emails have been successfully sent to both recipients, **rougepradhan@gmail.com** and **shashwotpradhan@gmail.com**, with the subject \"🌿 Let\\'s Talk About Mental Health.\" If you need any further assistance, feel free to ask!'"
            ]
          },
          "execution_count": 30,
          "metadata": {},
          "output_type": "execute_result"
        }
      ],
      "source": [
        "response[\"messages\"][-1].content"
      ]
    },
    {
      "cell_type": "markdown",
      "metadata": {
        "id": "ou3FE_emg4oq"
      },
      "source": [
        "# API Try"
      ]
    },
    {
      "cell_type": "code",
      "execution_count": null,
      "metadata": {
        "colab": {
          "base_uri": "https://localhost:8080/"
        },
        "id": "mXj_hrV4G4Eq",
        "outputId": "74466464-bc10-4484-dac0-e05d7ce68e63"
      },
      "outputs": [
        {
          "name": "stdout",
          "output_type": "stream",
          "text": [
            "Status Code: 202\n",
            "Headers: Server: nginx\n",
            "Date: Thu, 12 Jun 2025 08:58:54 GMT\n",
            "Content-Length: 0\n",
            "Connection: close\n",
            "X-Message-Id: Y0uzz35hQrKowuIhhvZPyQ\n",
            "Access-Control-Allow-Origin: https://sendgrid.api-docs.io\n",
            "Access-Control-Allow-Methods: POST\n",
            "Access-Control-Allow-Headers: Authorization, Content-Type, On-behalf-of, x-sg-elas-acl\n",
            "Access-Control-Max-Age: 600\n",
            "X-No-CORS-Reason: https://sendgrid.com/docs/Classroom/Basics/API/cors.html\n",
            "Strict-Transport-Security: max-age=31536000; includeSubDomains\n",
            "Content-Security-Policy: frame-ancestors 'none'\n",
            "Cache-Control: no-cache\n",
            "X-Content-Type-Options: no-sniff\n",
            "Referrer-Policy: strict-origin-when-cross-origin\n",
            "\n",
            "\n"
          ]
        }
      ],
      "source": [
        "import os\n",
        "import sendgrid\n",
        "from sendgrid.helpers.mail import Mail, Email, To, Content\n",
        "\n",
        "SENDGRID_API_KEY=\"api key\"#os.environ.get(\"SENDGRID_API_KEY\")  # or paste the key directly for testing\n",
        "sg = sendgrid.SendGridAPIClient(api_key=SENDGRID_API_KEY)\n",
        "\n",
        "from_email = Email(\"mindfuelnepal@gmail.com\")  # must be verified in SendGrid\n",
        "to_email = To(\"shashwotpradhan@gmail.com\")\n",
        "subject = \"Sending with SendGrid is Fun\"\n",
        "content = Content(\"text/plain\", \"and easy to do anywhere, even with Python\")\n",
        "\n",
        "mail = Mail(from_email, to_email, subject, content)\n",
        "mail_json = mail.get()\n",
        "\n",
        "try:\n",
        "    response = sg.client.mail.send.post(request_body=mail_json)\n",
        "    print(\"Status Code:\", response.status_code)\n",
        "    print(\"Headers:\", response.headers)\n",
        "except Exception as e:\n",
        "    print(\"Error sending email:\", e)\n"
      ]
    },
    {
      "cell_type": "markdown",
      "metadata": {
        "id": "rXeiZjCXg_CM"
      },
      "source": [
        "# Class Local"
      ]
    },
    {
      "cell_type": "markdown",
      "metadata": {
        "id": "rlCx1-HvhBn1"
      },
      "source": [
        "# Email Tool. PY"
      ]
    },
    {
      "cell_type": "code",
      "execution_count": null,
      "metadata": {
        "id": "IJZM0oSGg8wt"
      },
      "outputs": [],
      "source": [
        "from langchain.tools import tool\n",
        "from typing import List\n",
        "import requests\n",
        "from config.setting import SENDGRID_API_KEY\n",
        "import sendgrid\n",
        "import os\n",
        "from sendgrid.helpers.mail import Mail, Email, To, Content\n",
        "\n",
        "@tool\n",
        "def send_email_via_sendgrid(\n",
        "    sender_email: str,\n",
        "    recipient_email: str,\n",
        "    subject: str,\n",
        "    message: str,\n",
        "    content_type: str = \"text/plain\"\n",
        ") -> dict:\n",
        "    \"\"\"\n",
        "    Sends an email using the SendGrid API.\n",
        "\n",
        "    Args:\n",
        "        sender_email (str): The sender's verified email address.\n",
        "        recipient_email (str): The recipient's email address.\n",
        "        subject (str): The subject of the email.\n",
        "        message (str): The message content of the email.\n",
        "        content_type (str): The content type of the message (default is \"text/plain\").\n",
        "\n",
        "    Returns:\n",
        "        dict: A dictionary with status_code and response_headers.\n",
        "    \"\"\"\n",
        "    #os.environ.get(\"SENDGRID_API_KEY\")\n",
        "    sg = sendgrid.SendGridAPIClient(api_key=SENDGRID_API_KEY)\n",
        "\n",
        "    from_email = Email(sender_email)\n",
        "    to_email = To(recipient_email)\n",
        "    content = Content(content_type, message)\n",
        "    mail = Mail(from_email, to_email, subject, content)\n",
        "\n",
        "    # Send the email\n",
        "    try:\n",
        "        response = sg.client.mail.send.post(request_body=mail.get())\n",
        "        return {\n",
        "            \"status_code\": response.status_code,\n",
        "            \"headers\": dict(response.headers),\n",
        "        }\n",
        "    except Exception as e:\n",
        "        return {\n",
        "            \"error\": str(e)\n",
        "        }\n"
      ]
    },
    {
      "cell_type": "markdown",
      "metadata": {
        "id": "8khJcDEthHWf"
      },
      "source": [
        "# Run_email agent.py"
      ]
    },
    {
      "cell_type": "code",
      "execution_count": null,
      "metadata": {
        "id": "t-qwAiFAg8p_"
      },
      "outputs": [],
      "source": [
        "from dotenv import load_dotenv\n",
        "load_dotenv()\n",
        "\n",
        "from agents.email_agent import EmailAgent\n",
        "def main():\n",
        "    agent = EmailAgent()\n",
        "    query = \"Send an email on physical fitness to shashwotpradhan@gmail.com and rabindratamangstudy@gmail.com subject should be 💪 Prioritize Your Health: The Power of Physical Fitness. Email is from mindfuelnepal@gmail.com\"\n",
        "    result = agent.run(query)\n",
        "    print(result)\n",
        "\n",
        "if __name__ == \"__main__\":\n",
        "    main()"
      ]
    },
    {
      "cell_type": "markdown",
      "metadata": {
        "id": "fyfKMv4-h1Nb"
      },
      "source": [
        "# Email Agent py"
      ]
    },
    {
      "cell_type": "code",
      "execution_count": null,
      "metadata": {
        "id": "zLbiHxMWg8On"
      },
      "outputs": [],
      "source": [
        "from langchain_openai import ChatOpenAI\n",
        "from langgraph.prebuilt import create_react_agent\n",
        "from langchain_core.messages import HumanMessage\n",
        "from tools.email_tools import send_email_via_sendgrid\n",
        "from config.setting import OPENAI_API_KEY\n",
        "\n",
        "class EmailAgent:\n",
        "    def __init__(self):\n",
        "        self.openai_api_key = OPENAI_API_KEY\n",
        "        self.model = ChatOpenAI(api_key=self.openai_api_key, model=\"gpt-4o-mini\", verbose=True)\n",
        "        self.agent = create_react_agent(\n",
        "            model=self.model,\n",
        "            tools=[send_email_via_sendgrid],\n",
        "            prompt = (\n",
        "              \"You are a helpful Email assistant. Your job is to help users send emails.\"\n",
        "              \"based on their requests. Use the tool to send emails to respective people.\"\n",
        "\n",
        "            ),\n",
        "            name=\"email_assistant\"\n",
        "        )\n",
        "\n",
        "    def run(self, user_input):\n",
        "        response = self.agent.invoke({\n",
        "            \"messages\": [HumanMessage(content=user_input)]\n",
        "        }, config={\"recursion_limit\": 50})\n",
        "        return response[\"messages\"][-1].content"
      ]
    }
  ],
  "metadata": {
    "colab": {
      "provenance": []
    },
    "kernelspec": {
      "display_name": "Python 3",
      "name": "python3"
    },
    "language_info": {
      "name": "python"
    }
  },
  "nbformat": 4,
  "nbformat_minor": 0
}
