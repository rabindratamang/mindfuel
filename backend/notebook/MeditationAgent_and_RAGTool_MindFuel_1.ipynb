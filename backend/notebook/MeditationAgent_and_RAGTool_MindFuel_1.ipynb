{
  "nbformat": 4,
  "nbformat_minor": 0,
  "metadata": {
    "colab": {
      "provenance": [],
      "toc_visible": true
    },
    "kernelspec": {
      "name": "python3",
      "display_name": "Python 3"
    },
    "language_info": {
      "name": "python"
    }
  },
  "cells": [
    {
      "cell_type": "code",
      "execution_count": null,
      "metadata": {
        "id": "xCighDY8wOCH",
        "colab": {
          "base_uri": "https://localhost:8080/"
        },
        "outputId": "df02206c-8c84-4569-c022-4f9a74324fde"
      },
      "outputs": [
        {
          "output_type": "stream",
          "name": "stdout",
          "text": [
            "  Preparing metadata (setup.py) ... \u001b[?25l\u001b[?25hdone\n",
            "\u001b[2K     \u001b[90m━━━━━━━━━━━━━━━━━━━━━━━━━━━━━━━━━━━━━━━━\u001b[0m \u001b[32m61.0/61.0 kB\u001b[0m \u001b[31m3.5 MB/s\u001b[0m eta \u001b[36m0:00:00\u001b[0m\n",
            "\u001b[2K     \u001b[90m━━━━━━━━━━━━━━━━━━━━━━━━━━━━━━━━━━━━━━━━\u001b[0m \u001b[32m67.3/67.3 kB\u001b[0m \u001b[31m4.9 MB/s\u001b[0m eta \u001b[36m0:00:00\u001b[0m\n",
            "\u001b[?25h  Installing build dependencies ... \u001b[?25l\u001b[?25hdone\n",
            "  Getting requirements to build wheel ... \u001b[?25l\u001b[?25hdone\n",
            "  Preparing metadata (pyproject.toml) ... \u001b[?25l\u001b[?25hdone\n",
            "\u001b[2K     \u001b[90m━━━━━━━━━━━━━━━━━━━━━━━━━━━━━━━━━━━━━━━━\u001b[0m \u001b[32m43.7/43.7 kB\u001b[0m \u001b[31m3.0 MB/s\u001b[0m eta \u001b[36m0:00:00\u001b[0m\n",
            "\u001b[2K   \u001b[90m━━━━━━━━━━━━━━━━━━━━━━━━━━━━━━━━━━━━━━━━\u001b[0m \u001b[32m1.0/1.0 MB\u001b[0m \u001b[31m34.2 MB/s\u001b[0m eta \u001b[36m0:00:00\u001b[0m\n",
            "\u001b[2K   \u001b[90m━━━━━━━━━━━━━━━━━━━━━━━━━━━━━━━━━━━━━━━━\u001b[0m \u001b[32m2.5/2.5 MB\u001b[0m \u001b[31m63.2 MB/s\u001b[0m eta \u001b[36m0:00:00\u001b[0m\n",
            "\u001b[2K   \u001b[90m━━━━━━━━━━━━━━━━━━━━━━━━━━━━━━━━━━━━━━━━\u001b[0m \u001b[32m304.2/304.2 kB\u001b[0m \u001b[31m19.9 MB/s\u001b[0m eta \u001b[36m0:00:00\u001b[0m\n",
            "\u001b[2K   \u001b[90m━━━━━━━━━━━━━━━━━━━━━━━━━━━━━━━━━━━━━━━━\u001b[0m \u001b[32m326.9/326.9 kB\u001b[0m \u001b[31m19.9 MB/s\u001b[0m eta \u001b[36m0:00:00\u001b[0m\n",
            "\u001b[2K   \u001b[90m━━━━━━━━━━━━━━━━━━━━━━━━━━━━━━━━━━━━━━━━\u001b[0m \u001b[32m64.5/64.5 kB\u001b[0m \u001b[31m5.0 MB/s\u001b[0m eta \u001b[36m0:00:00\u001b[0m\n",
            "\u001b[2K   \u001b[90m━━━━━━━━━━━━━━━━━━━━━━━━━━━━━━━━━━━━━━━━\u001b[0m \u001b[32m152.4/152.4 kB\u001b[0m \u001b[31m12.8 MB/s\u001b[0m eta \u001b[36m0:00:00\u001b[0m\n",
            "\u001b[2K   \u001b[90m━━━━━━━━━━━━━━━━━━━━━━━━━━━━━━━━━━━━━━━━\u001b[0m \u001b[32m19.3/19.3 MB\u001b[0m \u001b[31m63.5 MB/s\u001b[0m eta \u001b[36m0:00:00\u001b[0m\n",
            "\u001b[2K   \u001b[90m━━━━━━━━━━━━━━━━━━━━━━━━━━━━━━━━━━━━━━━━\u001b[0m \u001b[32m94.9/94.9 kB\u001b[0m \u001b[31m6.6 MB/s\u001b[0m eta \u001b[36m0:00:00\u001b[0m\n",
            "\u001b[2K   \u001b[90m━━━━━━━━━━━━━━━━━━━━━━━━━━━━━━━━━━━━━━━━\u001b[0m \u001b[32m44.2/44.2 kB\u001b[0m \u001b[31m3.2 MB/s\u001b[0m eta \u001b[36m0:00:00\u001b[0m\n",
            "\u001b[2K   \u001b[90m━━━━━━━━━━━━━━━━━━━━━━━━━━━━━━━━━━━━━━━━\u001b[0m \u001b[32m50.0/50.0 kB\u001b[0m \u001b[31m3.5 MB/s\u001b[0m eta \u001b[36m0:00:00\u001b[0m\n",
            "\u001b[2K   \u001b[90m━━━━━━━━━━━━━━━━━━━━━━━━━━━━━━━━━━━━━━━━\u001b[0m \u001b[32m18.3/18.3 MB\u001b[0m \u001b[31m63.4 MB/s\u001b[0m eta \u001b[36m0:00:00\u001b[0m\n",
            "\u001b[2K   \u001b[90m━━━━━━━━━━━━━━━━━━━━━━━━━━━━━━━━━━━━━━━━\u001b[0m \u001b[32m44.4/44.4 kB\u001b[0m \u001b[31m2.8 MB/s\u001b[0m eta \u001b[36m0:00:00\u001b[0m\n",
            "\u001b[2K   \u001b[90m━━━━━━━━━━━━━━━━━━━━━━━━━━━━━━━━━━━━━━━━\u001b[0m \u001b[32m284.2/284.2 kB\u001b[0m \u001b[31m19.2 MB/s\u001b[0m eta \u001b[36m0:00:00\u001b[0m\n",
            "\u001b[2K   \u001b[90m━━━━━━━━━━━━━━━━━━━━━━━━━━━━━━━━━━━━━━━━\u001b[0m \u001b[32m1.9/1.9 MB\u001b[0m \u001b[31m65.3 MB/s\u001b[0m eta \u001b[36m0:00:00\u001b[0m\n",
            "\u001b[2K   \u001b[90m━━━━━━━━━━━━━━━━━━━━━━━━━━━━━━━━━━━━━━━━\u001b[0m \u001b[32m50.9/50.9 kB\u001b[0m \u001b[31m3.5 MB/s\u001b[0m eta \u001b[36m0:00:00\u001b[0m\n",
            "\u001b[2K   \u001b[90m━━━━━━━━━━━━━━━━━━━━━━━━━━━━━━━━━━━━━━━━\u001b[0m \u001b[32m101.6/101.6 kB\u001b[0m \u001b[31m7.0 MB/s\u001b[0m eta \u001b[36m0:00:00\u001b[0m\n",
            "\u001b[2K   \u001b[90m━━━━━━━━━━━━━━━━━━━━━━━━━━━━━━━━━━━━━━━━\u001b[0m \u001b[32m16.4/16.4 MB\u001b[0m \u001b[31m86.1 MB/s\u001b[0m eta \u001b[36m0:00:00\u001b[0m\n",
            "\u001b[2K   \u001b[90m━━━━━━━━━━━━━━━━━━━━━━━━━━━━━━━━━━━━━━━━\u001b[0m \u001b[32m65.8/65.8 kB\u001b[0m \u001b[31m5.2 MB/s\u001b[0m eta \u001b[36m0:00:00\u001b[0m\n",
            "\u001b[2K   \u001b[90m━━━━━━━━━━━━━━━━━━━━━━━━━━━━━━━━━━━━━━━━\u001b[0m \u001b[32m55.7/55.7 kB\u001b[0m \u001b[31m3.9 MB/s\u001b[0m eta \u001b[36m0:00:00\u001b[0m\n",
            "\u001b[2K   \u001b[90m━━━━━━━━━━━━━━━━━━━━━━━━━━━━━━━━━━━━━━━━\u001b[0m \u001b[32m196.2/196.2 kB\u001b[0m \u001b[31m12.9 MB/s\u001b[0m eta \u001b[36m0:00:00\u001b[0m\n",
            "\u001b[2K   \u001b[90m━━━━━━━━━━━━━━━━━━━━━━━━━━━━━━━━━━━━━━━━\u001b[0m \u001b[32m118.5/118.5 kB\u001b[0m \u001b[31m7.2 MB/s\u001b[0m eta \u001b[36m0:00:00\u001b[0m\n",
            "\u001b[2K   \u001b[90m━━━━━━━━━━━━━━━━━━━━━━━━━━━━━━━━━━━━━━━━\u001b[0m \u001b[32m216.5/216.5 kB\u001b[0m \u001b[31m11.9 MB/s\u001b[0m eta \u001b[36m0:00:00\u001b[0m\n",
            "\u001b[2K   \u001b[90m━━━━━━━━━━━━━━━━━━━━━━━━━━━━━━━━━━━━━━━━\u001b[0m \u001b[32m102.5/102.5 kB\u001b[0m \u001b[31m6.8 MB/s\u001b[0m eta \u001b[36m0:00:00\u001b[0m\n",
            "\u001b[2K   \u001b[90m━━━━━━━━━━━━━━━━━━━━━━━━━━━━━━━━━━━━━━━━\u001b[0m \u001b[32m459.8/459.8 kB\u001b[0m \u001b[31m28.2 MB/s\u001b[0m eta \u001b[36m0:00:00\u001b[0m\n",
            "\u001b[2K   \u001b[90m━━━━━━━━━━━━━━━━━━━━━━━━━━━━━━━━━━━━━━━━\u001b[0m \u001b[32m71.5/71.5 kB\u001b[0m \u001b[31m5.6 MB/s\u001b[0m eta \u001b[36m0:00:00\u001b[0m\n",
            "\u001b[2K   \u001b[90m━━━━━━━━━━━━━━━━━━━━━━━━━━━━━━━━━━━━━━━━\u001b[0m \u001b[32m4.0/4.0 MB\u001b[0m \u001b[31m92.3 MB/s\u001b[0m eta \u001b[36m0:00:00\u001b[0m\n",
            "\u001b[2K   \u001b[90m━━━━━━━━━━━━━━━━━━━━━━━━━━━━━━━━━━━━━━━━\u001b[0m \u001b[32m454.8/454.8 kB\u001b[0m \u001b[31m27.9 MB/s\u001b[0m eta \u001b[36m0:00:00\u001b[0m\n",
            "\u001b[2K   \u001b[90m━━━━━━━━━━━━━━━━━━━━━━━━━━━━━━━━━━━━━━━━\u001b[0m \u001b[32m46.0/46.0 kB\u001b[0m \u001b[31m3.2 MB/s\u001b[0m eta \u001b[36m0:00:00\u001b[0m\n",
            "\u001b[2K   \u001b[90m━━━━━━━━━━━━━━━━━━━━━━━━━━━━━━━━━━━━━━━━\u001b[0m \u001b[32m86.8/86.8 kB\u001b[0m \u001b[31m5.4 MB/s\u001b[0m eta \u001b[36m0:00:00\u001b[0m\n",
            "\u001b[?25h  Building wheel for wikipedia (setup.py) ... \u001b[?25l\u001b[?25hdone\n",
            "  Building wheel for pypika (pyproject.toml) ... \u001b[?25l\u001b[?25hdone\n",
            "\u001b[31mERROR: pip's dependency resolver does not currently take into account all the packages that are installed. This behaviour is the source of the following dependency conflicts.\n",
            "thinc 8.3.6 requires numpy<3.0.0,>=2.0.0, but you have numpy 1.26.4 which is incompatible.\u001b[0m\u001b[31m\n",
            "\u001b[0m"
          ]
        }
      ],
      "source": [
        "# Install required packages\n",
        "!pip install -qU langchain==0.3.12 langchain-chroma langchain-community pypdf langchain-openai wikipedia langgraph"
      ]
    },
    {
      "cell_type": "code",
      "source": [
        "# Environment setup\n",
        "import os\n",
        "from google.colab import userdata\n",
        "os.environ[\"OPENAI_API_KEY\"] = userdata.get('OPENAI_API_KEY')"
      ],
      "metadata": {
        "id": "ac20VpZnwO2p"
      },
      "execution_count": null,
      "outputs": []
    },
    {
      "cell_type": "markdown",
      "source": [
        "# PDF Load"
      ],
      "metadata": {
        "id": "Rjyvv2_RF3wT"
      }
    },
    {
      "cell_type": "code",
      "source": [
        "# PDF Loading\n",
        "from langchain.document_loaders import PyPDFLoader\n",
        "pdf_files = [\"Meditation_Techniques.pdf\", \"how-to-meditate.pdf\"]\n",
        "all_documents = []\n",
        "for pdf_file in pdf_files:\n",
        "    loader = PyPDFLoader(pdf_file)\n",
        "    docs = loader.load()\n",
        "    all_documents.extend(docs)\n",
        "documents = all_documents\n",
        "print(f\"Loaded {len(documents)} documents from {len(pdf_files)} PDFs.\")"
      ],
      "metadata": {
        "id": "qoYtbfShwO0i",
        "colab": {
          "base_uri": "https://localhost:8080/"
        },
        "outputId": "2ff48a2b-a801-48cd-f475-a1743177dd75"
      },
      "execution_count": null,
      "outputs": [
        {
          "output_type": "stream",
          "name": "stdout",
          "text": [
            "Loaded 39 documents from 2 PDFs.\n"
          ]
        }
      ]
    },
    {
      "cell_type": "code",
      "source": [
        "len(documents)"
      ],
      "metadata": {
        "colab": {
          "base_uri": "https://localhost:8080/"
        },
        "id": "XWbPEYIdQfLc",
        "outputId": "7fb052b3-7028-47c7-da6a-b514d748ec93"
      },
      "execution_count": null,
      "outputs": [
        {
          "output_type": "execute_result",
          "data": {
            "text/plain": [
              "39"
            ]
          },
          "metadata": {},
          "execution_count": 4
        }
      ]
    },
    {
      "cell_type": "markdown",
      "source": [
        "# Text Split"
      ],
      "metadata": {
        "id": "4G_HCfIqF6LD"
      }
    },
    {
      "cell_type": "code",
      "source": [
        "# Text Splitting\n",
        "from langchain.text_splitter import RecursiveCharacterTextSplitter\n",
        "text_splitter = RecursiveCharacterTextSplitter(chunk_size=1000, chunk_overlap=200)\n",
        "texts = text_splitter.split_documents(documents)\n",
        "print(f\"Split into {len(texts)} chunks.\")"
      ],
      "metadata": {
        "id": "GlOn_0QVwOyU",
        "colab": {
          "base_uri": "https://localhost:8080/"
        },
        "outputId": "b5f98b63-8c2f-4b40-c9c2-be29ee396135"
      },
      "execution_count": null,
      "outputs": [
        {
          "output_type": "stream",
          "name": "stdout",
          "text": [
            "Split into 89 chunks.\n"
          ]
        }
      ]
    },
    {
      "cell_type": "markdown",
      "source": [
        "# Embedding"
      ],
      "metadata": {
        "id": "Kimtg3wJF79X"
      }
    },
    {
      "cell_type": "code",
      "source": [
        "# Embedding\n",
        "from langchain_openai import OpenAIEmbeddings\n",
        "embeddings = OpenAIEmbeddings(model=\"text-embedding-ada-002\")"
      ],
      "metadata": {
        "id": "C4yi5wgDwOtm"
      },
      "execution_count": null,
      "outputs": []
    },
    {
      "cell_type": "markdown",
      "source": [
        "# Vector Store"
      ],
      "metadata": {
        "id": "9UOBJ3DnF9f_"
      }
    },
    {
      "cell_type": "code",
      "source": [
        "# Vectorstore (ChromaDB)\n",
        "from langchain_chroma import Chroma as ch\n",
        "persist_directory = \"chroma_db\"\n",
        "db = ch.from_documents(\n",
        "    documents=texts,\n",
        "    embedding=embeddings,\n",
        "    persist_directory=persist_directory\n",
        ")"
      ],
      "metadata": {
        "id": "u1ynFtiwMCCy"
      },
      "execution_count": null,
      "outputs": []
    },
    {
      "cell_type": "markdown",
      "source": [
        "# Retriever"
      ],
      "metadata": {
        "id": "qFQee0ycF_SD"
      }
    },
    {
      "cell_type": "code",
      "source": [
        "# Retriever with similarity score threshold\n",
        "retriever = db.as_retriever(\n",
        "    search_type=\"similarity\", #change\n",
        "    search_kwargs={\"k\": 4}\n",
        ")"
      ],
      "metadata": {
        "id": "X_oTt9-hMB7i"
      },
      "execution_count": null,
      "outputs": []
    },
    {
      "cell_type": "code",
      "source": [
        "# RAG Prompt\n",
        "from langchain_core.prompts import ChatPromptTemplate\n",
        "from langchain_core.output_parsers import StrOutputParser\n",
        "from langchain_core.runnables import RunnablePassthrough\n",
        "from langchain.chat_models import ChatOpenAI\n",
        "\n",
        "custom_prompt_template = \"\"\"\n",
        "Use ONLY the pieces of information provided in the context to answer the user's question.\n",
        "If the answer is not present in the context, explicitly return: I don't know.\n",
        "Do NOT try to make up an answer or use outside knowledge.\n",
        "Question: {question}\n",
        "Context: {context}\n",
        "Answer:\n",
        "\"\"\"\n",
        "prompt = ChatPromptTemplate.from_template(custom_prompt_template)\n",
        "llm = ChatOpenAI(model_name=\"gpt-4o-mini\", temperature=0)\n",
        "\n",
        "# RAG LCEL chain\n",
        "rag_chain = (\n",
        "    {\n",
        "        \"context\": lambda x: retriever.invoke(x[\"question\"]),\n",
        "        \"question\": RunnablePassthrough(),\n",
        "    }\n",
        "    | prompt\n",
        "    | llm\n",
        "    | StrOutputParser()\n",
        ")"
      ],
      "metadata": {
        "id": "AVIgoFZ9MHLu"
      },
      "execution_count": null,
      "outputs": []
    },
    {
      "cell_type": "code",
      "source": [
        "rag_chain.invoke({\"question\": \"What is meditation?\"})"
      ],
      "metadata": {
        "colab": {
          "base_uri": "https://localhost:8080/",
          "height": 70
        },
        "id": "_bvPkR5LOqMv",
        "outputId": "40f12b1b-a110-4c17-9f1f-8139a9126b0e"
      },
      "execution_count": null,
      "outputs": [
        {
          "output_type": "execute_result",
          "data": {
            "text/plain": [
              "'Meditation is commonly described as a training of mental attention that awakens us beyond the conditioned mind and habitual thinking, and reveals the nature of reality. It is understood as Natural Presence, which is a mindful, clear recognition of what is happening—here, now—and the open, allowing space that includes all experience.'"
            ],
            "application/vnd.google.colaboratory.intrinsic+json": {
              "type": "string"
            }
          },
          "metadata": {},
          "execution_count": 13
        }
      ]
    },
    {
      "cell_type": "code",
      "source": [
        "rag_chain.invoke({\"question\": \"How to do breathing exercises?\"})"
      ],
      "metadata": {
        "colab": {
          "base_uri": "https://localhost:8080/",
          "height": 140
        },
        "id": "ylHUrWwcS_uL",
        "outputId": "c9b44bc5-1009-4e6d-a14f-4c67b064145e"
      },
      "execution_count": null,
      "outputs": [
        {
          "output_type": "execute_result",
          "data": {
            "text/plain": [
              "\"To do breathing exercises, you can follow these steps:\\n\\n1. **Proper Breathing**: Breathe in slowly and quietly, so that a tiny thread placed in front of your nose does not move. Breathe out even more slowly than you breathed in. If possible, leave a short pause between your exhalation and the next inhalation. You can hold your breath for a few seconds if it's comfortable.\\n\\n2. **Life-Energy in the Chakras**: Breathe in and hold your breath at the third eye for a couple of seconds, then at the heart center during the second inhalation.\\n\\n3. **One-Four-Two Breathing**: Inhale for one count while repeating a name or mantra, hold your breath for four counts repeating the same name four times, and exhale for two counts repeating the name or mantra twice.\\n\\n4. **Gradual Increase**: As you progress, you can try breathing in for four counts, holding for sixteen, and breathing out for eight, but do this gradually.\\n\\n5. **Alternate Nostril Breathing**: Press the right nostril with your thumb and inhale through the left nostril while repeating a name. Hold your breath for four counts, then switch to exhale through the right nostril while repeating the name twice. Repeat this process starting with the left nostril.\\n\\nThese exercises are simple and effective, and they should not harm your lungs.\""
            ],
            "application/vnd.google.colaboratory.intrinsic+json": {
              "type": "string"
            }
          },
          "metadata": {},
          "execution_count": 14
        }
      ]
    },
    {
      "cell_type": "code",
      "source": [],
      "metadata": {
        "id": "TpuSJ9-MTXp4"
      },
      "execution_count": null,
      "outputs": []
    },
    {
      "cell_type": "markdown",
      "source": [
        "# Agent 1"
      ],
      "metadata": {
        "id": "4gSXajuUnWzV"
      }
    },
    {
      "cell_type": "code",
      "source": [
        "from pydantic import BaseModel\n",
        "from langchain_openai import ChatOpenAI\n",
        "from google.colab import userdata\n",
        "from langchain_core.prompts import ChatPromptTemplate\n",
        "from langchain_core.output_parsers import PydanticOutputParser\n",
        "from langchain.agents import create_tool_calling_agent, AgentExecutor\n",
        "# from langchain_community.tools import WikipediaQueryRun\n",
        "# from langchain_community.utilities import WikipediaAPIWrapper\n",
        "from langchain.tools import Tool\n",
        "\n",
        "# Define a RAG tool that takes a query and returns the RAG answer\n",
        "# def is_rag_no_answer(result):\n",
        "#     result_str = str(result).strip().lower()\n",
        "#     return (\n",
        "#         result_str in [\"i don't know\", \"i do not know\", \"not present\", \"no relevant information\", \"sorry\", \"\"]\n",
        "#         or len(result_str) < 10\n",
        "#     )\n",
        "\n",
        "class RAGTool:\n",
        "    def __init__(self, qa_chain):\n",
        "        self.qa_chain = qa_chain\n",
        "    def __call__(self, input_dict) -> str:\n",
        "        # Accepts a dict, extracts the 'query' key\n",
        "        query = input_dict[\"query\"] if isinstance(input_dict, dict) else input_dict\n",
        "        # Always pass as {\"question\": ...} to the chain\n",
        "        result = self.qa_chain.invoke({\"question\": query})\n",
        "        # Normalize and check for \"I don't know\" or similar\n",
        "        result_str = str(result).strip().lower()\n",
        "        if result_str in [\n",
        "            \"i don't know\", \"i do not know\", \"not present\", \"no relevant information\", \"sorry\", \"\"\n",
        "        ] or len(result_str) < 10:\n",
        "            return \"__RAG_NO_ANSWER__\"\n",
        "        return result\n",
        "\n",
        "rag_tool = Tool(\n",
        "    name=\"RAG\",\n",
        "    func=RAGTool(rag_chain),\n",
        "    description=\"Use this tool to answer questions using the provided PDF documents. Always try this tool first. If it returns __RAG_NO_ANSWER__, then try other tools.\"\n",
        ")\n",
        "\n",
        "# api_wrapper = WikipediaAPIWrapper(top_k_results=1, doc_content_chars_max=100)\n",
        "# wiki_tool = WikipediaQueryRun(api_wrapper=api_wrapper)\n",
        "\n",
        "tools = [rag_tool]\n",
        "\n",
        "# Custom agent logic: always call RAG first, if it returns __RAG_NO_ANSWER__, then call Wikipedia\n",
        "key = userdata.get('OPENAI_API_KEY')\n",
        "llm = ChatOpenAI(api_key=key, model=\"gpt-4o-mini\")\n",
        "\n",
        "class ResearchResponse(BaseModel):\n",
        "    topic: str\n",
        "    answer: str\n",
        "    sources: list[str]\n",
        "    tools_used: list[str]\n",
        "\n",
        "parser = PydanticOutputParser(pydantic_object=ResearchResponse)\n",
        "\n",
        "prompt = ChatPromptTemplate.from_messages(\n",
        "    [\n",
        "        (\n",
        "            \"system\",\n",
        "            '''\n",
        "            You are a research assistant with access to two tools:\n",
        "            - \"RAG\": Answers questions using the provided PDF documents. Always try this tool first.\n",
        "              If it returns \"__RAG_NO_ANSWER__\", then return I don't know.\n",
        "            '''\n",
        "        ),\n",
        "        (\"placeholder\", \"{chat_history}\"),\n",
        "        (\"human\", \"{query}\"),\n",
        "        (\"placeholder\", \"{agent_scratchpad}\"),\n",
        "    ]\n",
        ").partial(format_instructions=parser.get_format_instructions())\n",
        "agent = create_tool_calling_agent(\n",
        "    llm=llm,\n",
        "    prompt=prompt,\n",
        "    tools=tools\n",
        ")\n",
        "\n",
        "agent_executor = AgentExecutor(agent=agent, tools=tools, verbose=True)\n",
        "\n"
      ],
      "metadata": {
        "id": "L7d052QuMBxf"
      },
      "execution_count": null,
      "outputs": []
    },
    {
      "cell_type": "code",
      "source": [
        "# Now, just call the agent_executor. The agent will decide which tool(s) to use.\n",
        "user_query = input(\"What can I help you research? \")\n",
        "response = agent_executor.invoke({\"query\": user_query})\n",
        "print(response)\n",
        "#explain the distance from the main sequence and its formula."
      ],
      "metadata": {
        "colab": {
          "base_uri": "https://localhost:8080/"
        },
        "id": "bTHxFDDSMbiV",
        "outputId": "d9731b2e-ca16-41b8-bbb8-23c73766d319"
      },
      "execution_count": null,
      "outputs": [
        {
          "output_type": "stream",
          "name": "stdout",
          "text": [
            "What can I help you research? give me breathing exerciese steps\n",
            "\n",
            "\n",
            "\u001b[1m> Entering new AgentExecutor chain...\u001b[0m\n",
            "\u001b[32;1m\u001b[1;3m\n",
            "Invoking: `RAG` with `breathing exercises steps`\n",
            "\n",
            "\n",
            "\u001b[0m\u001b[36;1m\u001b[1;3mI don't know.\u001b[0m\u001b[32;1m\u001b[1;3mI don't know.\u001b[0m\n",
            "\n",
            "\u001b[1m> Finished chain.\u001b[0m\n",
            "{'query': 'give me breathing exerciese steps', 'output': \"I don't know.\"}\n"
          ]
        }
      ]
    },
    {
      "cell_type": "code",
      "source": [],
      "metadata": {
        "id": "gsBS7v5yT1fz"
      },
      "execution_count": null,
      "outputs": []
    },
    {
      "cell_type": "code",
      "source": [],
      "metadata": {
        "id": "iFeI5kiUUTZq"
      },
      "execution_count": null,
      "outputs": []
    },
    {
      "cell_type": "markdown",
      "source": [
        "# RAG Agent 2"
      ],
      "metadata": {
        "id": "uz-lgEM7VYtS"
      }
    },
    {
      "cell_type": "code",
      "source": [
        "from langchain.tools import tool\n",
        "from typing import List\n",
        "import requests\n",
        "import os\n",
        "from langchain_core.prompts import ChatPromptTemplate\n",
        "from langchain_core.output_parsers import StrOutputParser\n",
        "from langchain_core.runnables import RunnablePassthrough, RunnableLambda\n",
        "from langchain.chat_models import ChatOpenAI\n",
        "\n",
        "# RAG Prompt Template\n",
        "custom_prompt_template = \"\"\"\n",
        "Use ONLY the pieces of information provided in the context to answer the user's question.\n",
        "If the answer is not present in the context, explicitly return: I don't know.\n",
        "Do NOT try to make up an answer or use outside knowledge.\n",
        "Question: {question}\n",
        "Context: {context}\n",
        "Answer:\n",
        "\"\"\"\n",
        "prompt = ChatPromptTemplate.from_template(custom_prompt_template)\n",
        "llm = ChatOpenAI(model_name=\"gpt-4o-mini\", temperature=0)\n",
        "\n",
        "# RAG Chain\n",
        "rag_chain = (\n",
        "    {\n",
        "        \"context\": RunnableLambda(lambda x: retriever.invoke(x[\"question\"])),\n",
        "        \"question\": RunnablePassthrough(),\n",
        "    }\n",
        "    | prompt\n",
        "    | llm\n",
        "    | StrOutputParser()\n",
        ")\n",
        "\n",
        "# Define tool\n",
        "@tool\n",
        "def rag_tool(question: str) -> str:\n",
        "    \"\"\"\n",
        "    Answers a question using a retrieval-augmented generation (RAG) approach.\n",
        "    Retrieves relevant documents from a vector store and uses an LLM to generate the final answer.\n",
        "    \"\"\"\n",
        "    return rag_chain.invoke({\"question\": question})\n"
      ],
      "metadata": {
        "id": "ZzTV5Zt5UTW8"
      },
      "execution_count": null,
      "outputs": []
    },
    {
      "cell_type": "code",
      "source": [
        "rag_chain.invoke({\"question\": \"How to do breathing exercises?\"})"
      ],
      "metadata": {
        "colab": {
          "base_uri": "https://localhost:8080/",
          "height": 140
        },
        "id": "KiuMskW4WVYI",
        "outputId": "1e354b75-f81e-4288-a8f3-27c331a22d0c"
      },
      "execution_count": null,
      "outputs": [
        {
          "output_type": "execute_result",
          "data": {
            "text/plain": [
              "\"To do breathing exercises, you can follow these steps:\\n\\n1. **Basic Breathing**: Breathe in slowly and quietly, ensuring that a tiny thread placed in front of your nose does not move. Breathe out even more slowly than you inhaled. If possible, leave a short pause between exhalation and inhalation. You can hold your breath for a few seconds if it's comfortable.\\n\\n2. **Life-Energy in Chakras**: Breathe in and hold your breath at the third eye for a couple of seconds, then at the heart center during your next inhalation.\\n\\n3. **One-Four-Two Breathing**: Inhale for one count while repeating a name or mantra, hold your breath for four counts repeating the same name, and exhale for two counts repeating the name or mantra again.\\n\\n4. **Alternate Nostril Breathing**: Press the right nostril with your thumb and inhale through the left nostril while repeating a name. Hold your breath for four counts, then switch to exhale through the right nostril while repeating the name twice. Repeat this process starting with the left nostril.\\n\\nThese exercises can be practiced gradually, and it's important to ensure they are done safely.\""
            ],
            "application/vnd.google.colaboratory.intrinsic+json": {
              "type": "string"
            }
          },
          "metadata": {},
          "execution_count": 23
        }
      ]
    },
    {
      "cell_type": "code",
      "source": [
        "from langgraph.prebuilt import create_react_agent\n",
        "from langchain_openai import ChatOpenAI\n",
        "\n",
        "model = ChatOpenAI(api_key=key,model=\"gpt-4o-mini\")\n",
        "\n",
        "meditation_assistant = create_react_agent(\n",
        "    model=model,\n",
        "    tools=[rag_tool],\n",
        "    prompt=\"You are a helpful Meditation assistant. Your job is to use RAG tool to Answers questions using the provided PDF documents. \",\n",
        "    name=\"meditation_assistant\"\n",
        ")\n"
      ],
      "metadata": {
        "id": "HlnX8RfGUPPP"
      },
      "execution_count": null,
      "outputs": []
    },
    {
      "cell_type": "code",
      "source": [
        "from langchain_core.messages import (\n",
        "    HumanMessage,\n",
        ")\n",
        "response = meditation_assistant.invoke(\n",
        "    {\n",
        "        \"messages\": [\n",
        "            HumanMessage(content=\"How to do breathing exercises?\")\n",
        "            ]\n",
        "    }\n",
        "    )\n",
        "response[\"messages\"]"
      ],
      "metadata": {
        "colab": {
          "base_uri": "https://localhost:8080/"
        },
        "id": "7vVIRp7FUPMs",
        "outputId": "dcfce42a-a36b-4a8f-c404-b73cf94019af"
      },
      "execution_count": null,
      "outputs": [
        {
          "output_type": "execute_result",
          "data": {
            "text/plain": [
              "[HumanMessage(content='How to do breathing exercises?', additional_kwargs={}, response_metadata={}, id='2c02a15f-1ac6-40d2-ae14-76ad2f6ad371'),\n",
              " AIMessage(content='', additional_kwargs={'tool_calls': [{'id': 'call_Zm1EXojvK5ZhvsQYLo8HTUOf', 'function': {'arguments': '{\"question\":\"How to do breathing exercises?\"}', 'name': 'rag_tool'}, 'type': 'function'}], 'refusal': None}, response_metadata={'token_usage': {'completion_tokens': 20, 'prompt_tokens': 102, 'total_tokens': 122, 'completion_tokens_details': {'accepted_prediction_tokens': 0, 'audio_tokens': 0, 'reasoning_tokens': 0, 'rejected_prediction_tokens': 0}, 'prompt_tokens_details': {'audio_tokens': 0, 'cached_tokens': 0}}, 'model_name': 'gpt-4o-mini-2024-07-18', 'system_fingerprint': 'fp_34a54ae93c', 'id': 'chatcmpl-BiBIUtPoSrlC4hYYgKhR3CW4EHagf', 'service_tier': 'default', 'finish_reason': 'tool_calls', 'logprobs': None}, name='meditation_assistant', id='run--028b0273-f478-41dc-b45b-1b734b9f91c0-0', tool_calls=[{'name': 'rag_tool', 'args': {'question': 'How to do breathing exercises?'}, 'id': 'call_Zm1EXojvK5ZhvsQYLo8HTUOf', 'type': 'tool_call'}], usage_metadata={'input_tokens': 102, 'output_tokens': 20, 'total_tokens': 122, 'input_token_details': {'audio': 0, 'cache_read': 0}, 'output_token_details': {'audio': 0, 'reasoning': 0}}),\n",
              " ToolMessage(content=\"To do breathing exercises, you can follow these steps:\\n\\n1. **Basic Breathing**: Breathe in slowly and quietly, ensuring that a tiny thread placed in front of your nose does not move. Exhale even more slowly than you inhaled. If possible, leave a short pause between your exhalation and the next inhalation. You can hold your breath for a few seconds if it's comfortable.\\n\\n2. **Life-Energy Breathing**: Breathe in and hold your breath at the third eye for a couple of seconds, focusing your concentration there. On the second inhalation, hold the breath at the heart center.\\n\\n3. **One-Four-Two Breathing**: Inhale for one count while repeating a name or mantra. Hold your breath for four counts, repeating the same name or mantra four times. Exhale for two counts, repeating the name or mantra twice.\\n\\n4. **Gradual Breathing**: As you progress, you can try breathing in for four counts, holding for sixteen counts, and exhaling for eight counts. This should be done gradually.\\n\\n5. **Alternate Nostril Breathing**: Press the right nostril with your thumb and inhale through the left nostril while repeating a name. Hold your breath for four counts, then switch to exhale through the right nostril while repeating the name twice. Repeat the process starting with the left nostril.\\n\\nThese exercises are simple and effective, and they should not harm your lungs.\", name='rag_tool', id='8fb61d02-47b7-48ac-bfb0-f07985442404', tool_call_id='call_Zm1EXojvK5ZhvsQYLo8HTUOf'),\n",
              " AIMessage(content='To perform breathing exercises, you can follow these steps:\\n\\n1. **Basic Breathing**:\\n   - Inhale slowly and quietly through your nose, ensuring that a tiny thread placed in front of your nose does not move.\\n   - Exhale even more slowly than you inhaled, allowing for a short pause between exhaling and your next inhalation.\\n   - If comfortable, you can hold your breath for a few seconds between breaths.\\n\\n2. **Life-Energy Breathing**:\\n   - Inhale and hold your breath at the third eye (forehead center) for a couple of seconds, focusing your concentration there.\\n   - On your next inhalation, hold your breath at the heart center.\\n\\n3. **One-Four-Two Breathing**:\\n   - Inhale for one count while repeating a name or mantra.\\n   - Hold your breath for four counts, repeating the same name or mantra four times.\\n   - Exhale for two counts, repeating the name or mantra twice.\\n\\n4. **Gradual Breathing**:\\n   - As you advance, you can try inhaling for four counts, holding for sixteen counts, and exhaling for eight counts. Increase the duration gradually as you become more comfortable.\\n\\n5. **Alternate Nostril Breathing**:\\n   - Press the right nostril with your thumb and breathe in through the left nostril while repeating a name or mantra.\\n   - Hold your breath for four counts, then switch to exhale through the right nostril while repeating the name twice.\\n   - Repeat the process starting with the left nostril.\\n\\nThese exercises are simple yet effective and should not cause discomfort. Enjoy your practice!', additional_kwargs={'refusal': None}, response_metadata={'token_usage': {'completion_tokens': 336, 'prompt_tokens': 434, 'total_tokens': 770, 'completion_tokens_details': {'accepted_prediction_tokens': 0, 'audio_tokens': 0, 'reasoning_tokens': 0, 'rejected_prediction_tokens': 0}, 'prompt_tokens_details': {'audio_tokens': 0, 'cached_tokens': 0}}, 'model_name': 'gpt-4o-mini-2024-07-18', 'system_fingerprint': 'fp_34a54ae93c', 'id': 'chatcmpl-BiBIZ050dOa40fnMGbRIX6TenOOGC', 'service_tier': 'default', 'finish_reason': 'stop', 'logprobs': None}, name='meditation_assistant', id='run--9e32d710-0c1e-419a-b23c-7f2c8624aeb1-0', usage_metadata={'input_tokens': 434, 'output_tokens': 336, 'total_tokens': 770, 'input_token_details': {'audio': 0, 'cache_read': 0}, 'output_token_details': {'audio': 0, 'reasoning': 0}})]"
            ]
          },
          "metadata": {},
          "execution_count": 26
        }
      ]
    },
    {
      "cell_type": "code",
      "source": [
        "response[\"messages\"][-1].content"
      ],
      "metadata": {
        "colab": {
          "base_uri": "https://localhost:8080/",
          "height": 140
        },
        "id": "Lksapf2zVM1n",
        "outputId": "4b82f52a-17a9-4f8c-cd38-16ed768ca106"
      },
      "execution_count": null,
      "outputs": [
        {
          "output_type": "execute_result",
          "data": {
            "text/plain": [
              "'To perform breathing exercises, you can follow these steps:\\n\\n1. **Basic Breathing**:\\n   - Inhale slowly and quietly through your nose, ensuring that a tiny thread placed in front of your nose does not move.\\n   - Exhale even more slowly than you inhaled, allowing for a short pause between exhaling and your next inhalation.\\n   - If comfortable, you can hold your breath for a few seconds between breaths.\\n\\n2. **Life-Energy Breathing**:\\n   - Inhale and hold your breath at the third eye (forehead center) for a couple of seconds, focusing your concentration there.\\n   - On your next inhalation, hold your breath at the heart center.\\n\\n3. **One-Four-Two Breathing**:\\n   - Inhale for one count while repeating a name or mantra.\\n   - Hold your breath for four counts, repeating the same name or mantra four times.\\n   - Exhale for two counts, repeating the name or mantra twice.\\n\\n4. **Gradual Breathing**:\\n   - As you advance, you can try inhaling for four counts, holding for sixteen counts, and exhaling for eight counts. Increase the duration gradually as you become more comfortable.\\n\\n5. **Alternate Nostril Breathing**:\\n   - Press the right nostril with your thumb and breathe in through the left nostril while repeating a name or mantra.\\n   - Hold your breath for four counts, then switch to exhale through the right nostril while repeating the name twice.\\n   - Repeat the process starting with the left nostril.\\n\\nThese exercises are simple yet effective and should not cause discomfort. Enjoy your practice!'"
            ],
            "application/vnd.google.colaboratory.intrinsic+json": {
              "type": "string"
            }
          },
          "metadata": {},
          "execution_count": 27
        }
      ]
    },
    {
      "cell_type": "code",
      "source": [
        "from langchain_core.messages import (\n",
        "    HumanMessage,\n",
        ")\n",
        "response = meditation_assistant.invoke(\n",
        "    {\n",
        "        \"messages\": [\n",
        "            HumanMessage(content=\"How to know about natural presence?\")\n",
        "            ]\n",
        "    }\n",
        "    )\n",
        "response[\"messages\"]"
      ],
      "metadata": {
        "colab": {
          "base_uri": "https://localhost:8080/"
        },
        "id": "yQMuJrGUWuKS",
        "outputId": "1f4d0d1f-5832-454a-9a0b-b2c814338b57"
      },
      "execution_count": null,
      "outputs": [
        {
          "output_type": "execute_result",
          "data": {
            "text/plain": [
              "[HumanMessage(content='How to know about natural presence?', additional_kwargs={}, response_metadata={}, id='97cc1ee7-596e-4d4b-9728-62c8664bd819'),\n",
              " AIMessage(content='', additional_kwargs={'tool_calls': [{'id': 'call_bNgWEW2JW0rZJs0rtkSdAljm', 'function': {'arguments': '{\"question\":\"What is natural presence?\"}', 'name': 'rag_tool'}, 'type': 'function'}], 'refusal': None}, response_metadata={'token_usage': {'completion_tokens': 19, 'prompt_tokens': 103, 'total_tokens': 122, 'completion_tokens_details': {'accepted_prediction_tokens': 0, 'audio_tokens': 0, 'reasoning_tokens': 0, 'rejected_prediction_tokens': 0}, 'prompt_tokens_details': {'audio_tokens': 0, 'cached_tokens': 0}}, 'model_name': 'gpt-4o-mini-2024-07-18', 'system_fingerprint': 'fp_34a54ae93c', 'id': 'chatcmpl-BiBJs170UQypGl9WEwZLM1vhH6XG2', 'service_tier': 'default', 'finish_reason': 'tool_calls', 'logprobs': None}, name='meditation_assistant', id='run--54da76b7-2dc3-44b7-8a7b-bde40fc6786a-0', tool_calls=[{'name': 'rag_tool', 'args': {'question': 'What is natural presence?'}, 'id': 'call_bNgWEW2JW0rZJs0rtkSdAljm', 'type': 'tool_call'}], usage_metadata={'input_tokens': 103, 'output_tokens': 19, 'total_tokens': 122, 'input_token_details': {'audio': 0, 'cache_read': 0}, 'output_token_details': {'audio': 0, 'reasoning': 0}}),\n",
              " ToolMessage(content='Natural Presence is a mindful, clear recognition of what is happening—here, now—and the open, allowing space that includes all experience. It is described as the loving awareness that is our essence, and it simply recognizes what is arising (thoughts, feelings, sounds, emotions) and allows life to unfold, just as it is.', name='rag_tool', id='998244c5-0256-4519-b6e3-d89463b98656', tool_call_id='call_bNgWEW2JW0rZJs0rtkSdAljm'),\n",
              " AIMessage(content='Natural presence refers to a mindful and clear recognition of what is happening in the present moment—here and now. It embodies an open space that includes all experiences and is often described as the loving awareness that is our essence. In this state, you simply recognize what is arising, such as thoughts, feelings, sounds, and emotions, and allow life to unfold as it is.', additional_kwargs={'refusal': None}, response_metadata={'token_usage': {'completion_tokens': 76, 'prompt_tokens': 202, 'total_tokens': 278, 'completion_tokens_details': {'accepted_prediction_tokens': 0, 'audio_tokens': 0, 'reasoning_tokens': 0, 'rejected_prediction_tokens': 0}, 'prompt_tokens_details': {'audio_tokens': 0, 'cached_tokens': 0}}, 'model_name': 'gpt-4o-mini-2024-07-18', 'system_fingerprint': 'fp_34a54ae93c', 'id': 'chatcmpl-BiBJvedUMdtg7jpvMk5F83UAwnxfe', 'service_tier': 'default', 'finish_reason': 'stop', 'logprobs': None}, name='meditation_assistant', id='run--ff99e390-9d9c-4b89-93c5-b19f0c9b7c74-0', usage_metadata={'input_tokens': 202, 'output_tokens': 76, 'total_tokens': 278, 'input_token_details': {'audio': 0, 'cache_read': 0}, 'output_token_details': {'audio': 0, 'reasoning': 0}})]"
            ]
          },
          "metadata": {},
          "execution_count": 28
        }
      ]
    },
    {
      "cell_type": "code",
      "source": [
        "response[\"messages\"][-1].content"
      ],
      "metadata": {
        "colab": {
          "base_uri": "https://localhost:8080/",
          "height": 70
        },
        "id": "zatINozBWvyI",
        "outputId": "12311e0e-3309-41c3-fa01-0ed05b31fe18"
      },
      "execution_count": null,
      "outputs": [
        {
          "output_type": "execute_result",
          "data": {
            "text/plain": [
              "'Natural presence refers to a mindful and clear recognition of what is happening in the present moment—here and now. It embodies an open space that includes all experiences and is often described as the loving awareness that is our essence. In this state, you simply recognize what is arising, such as thoughts, feelings, sounds, and emotions, and allow life to unfold as it is.'"
            ],
            "application/vnd.google.colaboratory.intrinsic+json": {
              "type": "string"
            }
          },
          "metadata": {},
          "execution_count": 29
        }
      ]
    },
    {
      "cell_type": "code",
      "source": [
        "from langchain_core.messages import (\n",
        "    HumanMessage,\n",
        ")\n",
        "response = meditation_assistant.invoke(\n",
        "    {\n",
        "        \"messages\": [\n",
        "            HumanMessage(content=\"List out common issues for meditators\")\n",
        "            ]\n",
        "    }\n",
        "    )\n",
        "response[\"messages\"]"
      ],
      "metadata": {
        "colab": {
          "base_uri": "https://localhost:8080/"
        },
        "id": "R3yb6fn8XKbt",
        "outputId": "ead6ef4b-0946-471f-f9ed-0adfb7d4e944"
      },
      "execution_count": null,
      "outputs": [
        {
          "output_type": "execute_result",
          "data": {
            "text/plain": [
              "[HumanMessage(content='List out common issues for meditators', additional_kwargs={}, response_metadata={}, id='63b59bb7-d31d-4549-a4f5-4ec1fd20fc1e'),\n",
              " AIMessage(content='', additional_kwargs={'tool_calls': [{'id': 'call_T8Ddu3QgMjiJ6DzoLvT82NlE', 'function': {'arguments': '{\"question\":\"What are common issues faced by meditators?\"}', 'name': 'rag_tool'}, 'type': 'function'}], 'refusal': None}, response_metadata={'token_usage': {'completion_tokens': 23, 'prompt_tokens': 103, 'total_tokens': 126, 'completion_tokens_details': {'accepted_prediction_tokens': 0, 'audio_tokens': 0, 'reasoning_tokens': 0, 'rejected_prediction_tokens': 0}, 'prompt_tokens_details': {'audio_tokens': 0, 'cached_tokens': 0}}, 'model_name': 'gpt-4o-mini-2024-07-18', 'system_fingerprint': 'fp_34a54ae93c', 'id': 'chatcmpl-BiBL5pX4u8rS8ebtNXs60M4CsAIZd', 'service_tier': 'default', 'finish_reason': 'tool_calls', 'logprobs': None}, name='meditation_assistant', id='run--9a15991f-bf1a-4f47-a0d3-4ddc552779fa-0', tool_calls=[{'name': 'rag_tool', 'args': {'question': 'What are common issues faced by meditators?'}, 'id': 'call_T8Ddu3QgMjiJ6DzoLvT82NlE', 'type': 'tool_call'}], usage_metadata={'input_tokens': 103, 'output_tokens': 23, 'total_tokens': 126, 'input_token_details': {'audio': 0, 'cache_read': 0}, 'output_token_details': {'audio': 0, 'reasoning': 0}}),\n",
              " ToolMessage(content='Common issues faced by meditators include:\\n\\n1. Getting lost in thought: Many meditators find their minds to be very active and uncontrolled at first, leading to a state of thinking trance where they may identify with their thoughts.\\n\\n2. Difficult emotional energies: Meditators may encounter feelings of vulnerability, fear, or anger, which can be challenging to navigate.\\n\\n3. Physical pain: Discomfort may arise from sitting still, especially if one is not used to the posture, or due to existing injuries or sickness.\\n\\n4. The five classic challenges (hindrances) as described in Buddhist texts:\\n   - Grasping: wanting more or something different from the present moment.\\n   - Aversion: fear, anger, or any form of pushing away.\\n   - Restlessness: jumpy energy or agitation.\\n   - Sloth and torpor: feelings of sleepiness or sinking states of mind and body.\\n   - Doubt: a mindset that questions the effectiveness of meditation.\\n\\nThese issues are not considered problems but rather energies that can be met with mindfulness and care, potentially leading to increased aliveness and spiritual awakening.', name='rag_tool', id='a553fd35-af2f-4035-9531-cedd33cd716f', tool_call_id='call_T8Ddu3QgMjiJ6DzoLvT82NlE'),\n",
              " AIMessage(content=\"Common issues faced by meditators include:\\n\\n1. **Getting Lost in Thought**: Many meditators struggle with an active mind, leading to distractions and a loss of focus during meditation.\\n\\n2. **Difficult Emotional Energies**: Emotions such as vulnerability, fear, or anger may surface, which can be challenging to deal with.\\n\\n3. **Physical Pain**: Discomfort from sitting still, particularly for those unaccustomed to the posture, or due to existing injuries or health conditions.\\n\\n4. **The Five Classic Challenges (Hindrances)**:\\n   - **Grasping**: A desire for something more or different from the present moment.\\n   - **Aversion**: Feelings of fear, anger, or a tendency to push away experiences.\\n   - **Restlessness**: Agitation or jumpy energy that disrupts focus.\\n   - **Sloth and Torpor**: Experiences of sleepiness or a heavy, lethargic state of mind and body.\\n   - **Doubt**: Questions about the effectiveness of meditation and one's practice.\\n\\nThese issues are not necessarily problems but can be opportunities for deeper mindfulness and personal growth on the spiritual journey.\", additional_kwargs={'refusal': None}, response_metadata={'token_usage': {'completion_tokens': 240, 'prompt_tokens': 364, 'total_tokens': 604, 'completion_tokens_details': {'accepted_prediction_tokens': 0, 'audio_tokens': 0, 'reasoning_tokens': 0, 'rejected_prediction_tokens': 0}, 'prompt_tokens_details': {'audio_tokens': 0, 'cached_tokens': 0}}, 'model_name': 'gpt-4o-mini-2024-07-18', 'system_fingerprint': 'fp_34a54ae93c', 'id': 'chatcmpl-BiBLDMeBtFHNdiwt21eE89HwCRmIv', 'service_tier': 'default', 'finish_reason': 'stop', 'logprobs': None}, name='meditation_assistant', id='run--a2ea939e-3ffe-493c-844d-b93b526b54fd-0', usage_metadata={'input_tokens': 364, 'output_tokens': 240, 'total_tokens': 604, 'input_token_details': {'audio': 0, 'cache_read': 0}, 'output_token_details': {'audio': 0, 'reasoning': 0}})]"
            ]
          },
          "metadata": {},
          "execution_count": 30
        }
      ]
    },
    {
      "cell_type": "code",
      "source": [
        "response[\"messages\"][-1].content"
      ],
      "metadata": {
        "colab": {
          "base_uri": "https://localhost:8080/",
          "height": 140
        },
        "id": "XVNqOl-DXKZD",
        "outputId": "c2f86c94-90f0-4654-acc6-152dc0b21651"
      },
      "execution_count": null,
      "outputs": [
        {
          "output_type": "execute_result",
          "data": {
            "text/plain": [
              "\"Common issues faced by meditators include:\\n\\n1. **Getting Lost in Thought**: Many meditators struggle with an active mind, leading to distractions and a loss of focus during meditation.\\n\\n2. **Difficult Emotional Energies**: Emotions such as vulnerability, fear, or anger may surface, which can be challenging to deal with.\\n\\n3. **Physical Pain**: Discomfort from sitting still, particularly for those unaccustomed to the posture, or due to existing injuries or health conditions.\\n\\n4. **The Five Classic Challenges (Hindrances)**:\\n   - **Grasping**: A desire for something more or different from the present moment.\\n   - **Aversion**: Feelings of fear, anger, or a tendency to push away experiences.\\n   - **Restlessness**: Agitation or jumpy energy that disrupts focus.\\n   - **Sloth and Torpor**: Experiences of sleepiness or a heavy, lethargic state of mind and body.\\n   - **Doubt**: Questions about the effectiveness of meditation and one's practice.\\n\\nThese issues are not necessarily problems but can be opportunities for deeper mindfulness and personal growth on the spiritual journey.\""
            ],
            "application/vnd.google.colaboratory.intrinsic+json": {
              "type": "string"
            }
          },
          "metadata": {},
          "execution_count": 31
        }
      ]
    },
    {
      "cell_type": "code",
      "source": [
        "from langchain_core.messages import (\n",
        "    HumanMessage,\n",
        ")\n",
        "response = meditation_assistant.invoke(\n",
        "    {\n",
        "        \"messages\": [\n",
        "            HumanMessage(content=\"How to chant mantras? Give me an example mantra and its name.\")\n",
        "            ]\n",
        "    }\n",
        "    )\n",
        "response[\"messages\"]"
      ],
      "metadata": {
        "colab": {
          "base_uri": "https://localhost:8080/"
        },
        "id": "AjAi843uXkjg",
        "outputId": "bfc60297-543b-4d0b-9bec-15850e268a38"
      },
      "execution_count": null,
      "outputs": [
        {
          "output_type": "execute_result",
          "data": {
            "text/plain": [
              "[HumanMessage(content='How to chant mantras? Give me an example mantra and its name.', additional_kwargs={}, response_metadata={}, id='28bffd1e-8f38-43fb-bc03-ee02e61b6a16'),\n",
              " AIMessage(content='', additional_kwargs={'tool_calls': [{'id': 'call_zmFVVNWSjvU2Nalk1h6vRe7A', 'function': {'arguments': '{\"question\":\"How to chant mantras? Give me an example mantra and its name.\"}', 'name': 'rag_tool'}, 'type': 'function'}], 'refusal': None}, response_metadata={'token_usage': {'completion_tokens': 29, 'prompt_tokens': 111, 'total_tokens': 140, 'completion_tokens_details': {'accepted_prediction_tokens': 0, 'audio_tokens': 0, 'reasoning_tokens': 0, 'rejected_prediction_tokens': 0}, 'prompt_tokens_details': {'audio_tokens': 0, 'cached_tokens': 0}}, 'model_name': 'gpt-4o-mini-2024-07-18', 'system_fingerprint': 'fp_34a54ae93c', 'id': 'chatcmpl-BiBND01tyRw6Hbzue0IWrEC2xUPAz', 'service_tier': 'default', 'finish_reason': 'tool_calls', 'logprobs': None}, name='meditation_assistant', id='run--e4599273-0681-4886-8ea5-21b9ae451407-0', tool_calls=[{'name': 'rag_tool', 'args': {'question': 'How to chant mantras? Give me an example mantra and its name.'}, 'id': 'call_zmFVVNWSjvU2Nalk1h6vRe7A', 'type': 'tool_call'}], usage_metadata={'input_tokens': 111, 'output_tokens': 29, 'total_tokens': 140, 'input_token_details': {'audio': 0, 'cache_read': 0}, 'output_token_details': {'audio': 0, 'reasoning': 0}}),\n",
              " ToolMessage(content='To chant mantras, you can inwardly repeat words such as \"love,\" \"peace,\" or \"light\" while feeling their essence in your heart. An example of a mantra is the Gayatri mantra, which is considered the best of all mantras according to the Bhagavad Gita.', name='rag_tool', id='4e0bc458-e5c2-4259-bca1-1c5324854aef', tool_call_id='call_zmFVVNWSjvU2Nalk1h6vRe7A'),\n",
              " AIMessage(content='To chant mantras, you can inwardly repeat words while feeling their essence in your heart. An example of a mantra is the **Gayatri Mantra**, which is considered one of the most powerful mantras according to the Bhagavad Gita.', additional_kwargs={'refusal': None}, response_metadata={'token_usage': {'completion_tokens': 51, 'prompt_tokens': 212, 'total_tokens': 263, 'completion_tokens_details': {'accepted_prediction_tokens': 0, 'audio_tokens': 0, 'reasoning_tokens': 0, 'rejected_prediction_tokens': 0}, 'prompt_tokens_details': {'audio_tokens': 0, 'cached_tokens': 0}}, 'model_name': 'gpt-4o-mini-2024-07-18', 'system_fingerprint': 'fp_34a54ae93c', 'id': 'chatcmpl-BiBNFMFTacnkEkPljzceoLg9Tb2RX', 'service_tier': 'default', 'finish_reason': 'stop', 'logprobs': None}, name='meditation_assistant', id='run--fb41c4ef-a3bf-4c84-b2dd-855f9a68f5a5-0', usage_metadata={'input_tokens': 212, 'output_tokens': 51, 'total_tokens': 263, 'input_token_details': {'audio': 0, 'cache_read': 0}, 'output_token_details': {'audio': 0, 'reasoning': 0}})]"
            ]
          },
          "metadata": {},
          "execution_count": 32
        }
      ]
    },
    {
      "cell_type": "code",
      "source": [
        "response[\"messages\"][-1].content"
      ],
      "metadata": {
        "colab": {
          "base_uri": "https://localhost:8080/",
          "height": 53
        },
        "id": "7sGXJIf2Xkg8",
        "outputId": "c43e107b-1cd7-4e0a-a7b3-42dc8acfeb9f"
      },
      "execution_count": null,
      "outputs": [
        {
          "output_type": "execute_result",
          "data": {
            "text/plain": [
              "'To chant mantras, you can inwardly repeat words while feeling their essence in your heart. An example of a mantra is the **Gayatri Mantra**, which is considered one of the most powerful mantras according to the Bhagavad Gita.'"
            ],
            "application/vnd.google.colaboratory.intrinsic+json": {
              "type": "string"
            }
          },
          "metadata": {},
          "execution_count": 33
        }
      ]
    },
    {
      "cell_type": "code",
      "source": [
        "from langchain_core.messages import (\n",
        "    HumanMessage,\n",
        ")\n",
        "response = meditation_assistant.invoke(\n",
        "    {\n",
        "        \"messages\": [\n",
        "            HumanMessage(content=\"Give the Gayatri mantra and its meaning.\")\n",
        "            ]\n",
        "    }\n",
        "    )\n",
        "response[\"messages\"]"
      ],
      "metadata": {
        "colab": {
          "base_uri": "https://localhost:8080/"
        },
        "id": "vmx23QmFX2An",
        "outputId": "5ef4ce45-d5f4-49f2-ee47-07d542431708"
      },
      "execution_count": null,
      "outputs": [
        {
          "output_type": "execute_result",
          "data": {
            "text/plain": [
              "[HumanMessage(content='Give the Gayatri mantra and its meaning.', additional_kwargs={}, response_metadata={}, id='82cd736b-177b-4cab-afaf-5e59d1ca5ba8'),\n",
              " AIMessage(content='', additional_kwargs={'tool_calls': [{'id': 'call_lirH7ytyWgxJQe1oYST6ZZYy', 'function': {'arguments': '{\"question\":\"What is the Gayatri mantra and what does it mean?\"}', 'name': 'rag_tool'}, 'type': 'function'}], 'refusal': None}, response_metadata={'token_usage': {'completion_tokens': 26, 'prompt_tokens': 105, 'total_tokens': 131, 'completion_tokens_details': {'accepted_prediction_tokens': 0, 'audio_tokens': 0, 'reasoning_tokens': 0, 'rejected_prediction_tokens': 0}, 'prompt_tokens_details': {'audio_tokens': 0, 'cached_tokens': 0}}, 'model_name': 'gpt-4o-mini-2024-07-18', 'system_fingerprint': 'fp_34a54ae93c', 'id': 'chatcmpl-BiBOIJWWpD3Cz5M0mPBKnRTIhKKrb', 'service_tier': 'default', 'finish_reason': 'tool_calls', 'logprobs': None}, name='meditation_assistant', id='run--43651034-47c1-41d8-a780-9dde9aefb434-0', tool_calls=[{'name': 'rag_tool', 'args': {'question': 'What is the Gayatri mantra and what does it mean?'}, 'id': 'call_lirH7ytyWgxJQe1oYST6ZZYy', 'type': 'tool_call'}], usage_metadata={'input_tokens': 105, 'output_tokens': 26, 'total_tokens': 131, 'input_token_details': {'audio': 0, 'cache_read': 0}, 'output_token_details': {'audio': 0, 'reasoning': 0}}),\n",
              " ToolMessage(content='The Gayatri mantra is a sacred mantra found in the Bhagavad Gita, where Sri Krishna states that it is the best of all mantras. The mantra is as follows:\\n\\nAum bhur bhuvah svah  \\nTat savitur varenyam  \\nBhargo devasya dhimahi  \\nDhiyo yo nah prachodayat  \\n\\nIts meaning is:  \\n\"We meditate on the transcendental glory of the Deity Supreme, Who is inside the heart of the earth, inside the life of the sky, and inside the soul of the Heaven. May He stimulate and illumine our minds.\" \\n\\nBy repeating this mantra soulfully, many seekers have attained spiritual perfection.', name='rag_tool', id='1675a723-b730-4b15-ac6f-dba6af53f174', tool_call_id='call_lirH7ytyWgxJQe1oYST6ZZYy'),\n",
              " AIMessage(content='The Gayatri mantra is a revered hymn found in the Bhagavad Gita, known for its spiritual significance. The mantra is:\\n\\nAum bhur bhuvah svah  \\nTat savitur varenyam  \\nBhargo devasya dhimahi  \\nDhiyo yo nah prachodayat  \\n\\n### Meaning:\\n\"We meditate on the transcendental glory of the Deity Supreme, Who is inside the heart of the earth, inside the life of the sky, and inside the soul of the Heaven. May He stimulate and illumine our minds.\"\\n\\nReciting this mantra with devotion has led many spiritual seekers to attain perfection.', additional_kwargs={'refusal': None}, response_metadata={'token_usage': {'completion_tokens': 123, 'prompt_tokens': 278, 'total_tokens': 401, 'completion_tokens_details': {'accepted_prediction_tokens': 0, 'audio_tokens': 0, 'reasoning_tokens': 0, 'rejected_prediction_tokens': 0}, 'prompt_tokens_details': {'audio_tokens': 0, 'cached_tokens': 0}}, 'model_name': 'gpt-4o-mini-2024-07-18', 'system_fingerprint': 'fp_62a23a81ef', 'id': 'chatcmpl-BiBOMWISEeKcgvo6QQeWTSso91IaY', 'service_tier': 'default', 'finish_reason': 'stop', 'logprobs': None}, name='meditation_assistant', id='run--3ee47732-113d-4e5b-8359-1ad3e684fc4d-0', usage_metadata={'input_tokens': 278, 'output_tokens': 123, 'total_tokens': 401, 'input_token_details': {'audio': 0, 'cache_read': 0}, 'output_token_details': {'audio': 0, 'reasoning': 0}})]"
            ]
          },
          "metadata": {},
          "execution_count": 34
        }
      ]
    },
    {
      "cell_type": "code",
      "source": [
        "response[\"messages\"][-1].content"
      ],
      "metadata": {
        "colab": {
          "base_uri": "https://localhost:8080/",
          "height": 88
        },
        "id": "UrUVyZvbX4qS",
        "outputId": "1b781cec-f398-4ac0-e0bc-48edf5d0118e"
      },
      "execution_count": null,
      "outputs": [
        {
          "output_type": "execute_result",
          "data": {
            "text/plain": [
              "'The Gayatri mantra is a revered hymn found in the Bhagavad Gita, known for its spiritual significance. The mantra is:\\n\\nAum bhur bhuvah svah  \\nTat savitur varenyam  \\nBhargo devasya dhimahi  \\nDhiyo yo nah prachodayat  \\n\\n### Meaning:\\n\"We meditate on the transcendental glory of the Deity Supreme, Who is inside the heart of the earth, inside the life of the sky, and inside the soul of the Heaven. May He stimulate and illumine our minds.\"\\n\\nReciting this mantra with devotion has led many spiritual seekers to attain perfection.'"
            ],
            "application/vnd.google.colaboratory.intrinsic+json": {
              "type": "string"
            }
          },
          "metadata": {},
          "execution_count": 35
        }
      ]
    },
    {
      "cell_type": "markdown",
      "source": [
        "# Class Local"
      ],
      "metadata": {
        "id": "7k-FLyiIFNtl"
      }
    },
    {
      "cell_type": "markdown",
      "source": [
        "# Meditation RAG Tool. PY"
      ],
      "metadata": {
        "id": "PeuDbAkhFQoq"
      }
    },
    {
      "cell_type": "code",
      "source": [],
      "metadata": {
        "id": "J3B_2f3eD1XF"
      },
      "execution_count": null,
      "outputs": []
    },
    {
      "cell_type": "markdown",
      "source": [
        "# Run_meditation_RAG agent.py"
      ],
      "metadata": {
        "id": "4A6JlaLGFYeq"
      }
    },
    {
      "cell_type": "code",
      "source": [
        "from dotenv import load_dotenv\n",
        "load_dotenv()\n",
        "\n",
        "from agents.email_agent import EmailAgent\n",
        "def main():\n",
        "    agent = EmailAgent()\n",
        "    query = \"Send an email on physical fitness to shashwotpradhan@gmail.com and rabindratamangstudy@gmail.com subject should be 💪 Prioritize Your Health: The Power of Physical Fitness. Email is from mindfuelnepal@gmail.com\"\n",
        "    result = agent.run(query)\n",
        "    print(result)\n",
        "\n",
        "if __name__ == \"__main__\":\n",
        "    main()"
      ],
      "metadata": {
        "id": "5O-4xfqtD1UI"
      },
      "execution_count": null,
      "outputs": []
    },
    {
      "cell_type": "markdown",
      "source": [
        "# Meditation RAG Agent py"
      ],
      "metadata": {
        "id": "1kpafxT6Fgb-"
      }
    },
    {
      "cell_type": "code",
      "source": [
        "from langchain_openai import ChatOpenAI\n",
        "from langgraph.prebuilt import create_react_agent\n",
        "from langchain_core.messages import HumanMessage\n",
        "from tools.email_tools import send_email_via_sendgrid\n",
        "from config.setting import OPENAI_API_KEY\n",
        "\n",
        "class EmailAgent:\n",
        "    def __init__(self):\n",
        "        self.openai_api_key = OPENAI_API_KEY\n",
        "        self.model = ChatOpenAI(api_key=self.openai_api_key, model=\"gpt-4o-mini\", verbose=True)\n",
        "        self.agent = create_react_agent(\n",
        "            model=self.model,\n",
        "            tools=[send_email_via_sendgrid],\n",
        "            prompt = (\n",
        "              \"You are a helpful Email assistant. Your job is to help users send emails.\"\n",
        "              \"based on their requests. Use the tool to send emails to respective people.\"\n",
        "\n",
        "            ),\n",
        "            name=\"email_assistant\"\n",
        "        )\n",
        "\n",
        "    def run(self, user_input):\n",
        "        response = self.agent.invoke({\n",
        "            \"messages\": [HumanMessage(content=user_input)]\n",
        "        }, config={\"recursion_limit\": 50})\n",
        "        return response[\"messages\"][-1].content"
      ],
      "metadata": {
        "id": "ad9a958bD1Q9"
      },
      "execution_count": null,
      "outputs": []
    }
  ]
}