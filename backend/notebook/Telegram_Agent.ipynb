{
  "cells": [
    {
      "cell_type": "code",
      "execution_count": null,
      "metadata": {
        "colab": {
          "base_uri": "https://localhost:8080/"
        },
        "id": "nnx_jwaxm99y",
        "outputId": "6857070a-5b3b-4ae1-9519-1f99cfc3eec2"
      },
      "outputs": [
        {
          "name": "stdout",
          "output_type": "stream",
          "text": [
            "\u001b[2K     \u001b[90m━━━━━━━━━━━━━━━━━━━━━━━━━━━━━━━━━━━━━━━━\u001b[0m \u001b[32m43.7/43.7 kB\u001b[0m \u001b[31m2.7 MB/s\u001b[0m eta \u001b[36m0:00:00\u001b[0m\n",
            "\u001b[2K   \u001b[90m━━━━━━━━━━━━━━━━━━━━━━━━━━━━━━━━━━━━━━━━\u001b[0m \u001b[32m65.4/65.4 kB\u001b[0m \u001b[31m4.5 MB/s\u001b[0m eta \u001b[36m0:00:00\u001b[0m\n",
            "\u001b[2K   \u001b[90m━━━━━━━━━━━━━━━━━━━━━━━━━━━━━━━━━━━━━━━━\u001b[0m \u001b[32m152.4/152.4 kB\u001b[0m \u001b[31m13.0 MB/s\u001b[0m eta \u001b[36m0:00:00\u001b[0m\n",
            "\u001b[2K   \u001b[90m━━━━━━━━━━━━━━━━━━━━━━━━━━━━━━━━━━━━━━━━\u001b[0m \u001b[32m2.5/2.5 MB\u001b[0m \u001b[31m51.0 MB/s\u001b[0m eta \u001b[36m0:00:00\u001b[0m\n",
            "\u001b[2K   \u001b[90m━━━━━━━━━━━━━━━━━━━━━━━━━━━━━━━━━━━━━━━━\u001b[0m \u001b[32m438.1/438.1 kB\u001b[0m \u001b[31m30.2 MB/s\u001b[0m eta \u001b[36m0:00:00\u001b[0m\n",
            "\u001b[2K   \u001b[90m━━━━━━━━━━━━━━━━━━━━━━━━━━━━━━━━━━━━━━━━\u001b[0m \u001b[32m44.2/44.2 kB\u001b[0m \u001b[31m2.8 MB/s\u001b[0m eta \u001b[36m0:00:00\u001b[0m\n",
            "\u001b[2K   \u001b[90m━━━━━━━━━━━━━━━━━━━━━━━━━━━━━━━━━━━━━━━━\u001b[0m \u001b[32m50.0/50.0 kB\u001b[0m \u001b[31m3.8 MB/s\u001b[0m eta \u001b[36m0:00:00\u001b[0m\n",
            "\u001b[2K   \u001b[90m━━━━━━━━━━━━━━━━━━━━━━━━━━━━━━━━━━━━━━━━\u001b[0m \u001b[32m363.0/363.0 kB\u001b[0m \u001b[31m25.5 MB/s\u001b[0m eta \u001b[36m0:00:00\u001b[0m\n",
            "\u001b[2K   \u001b[90m━━━━━━━━━━━━━━━━━━━━━━━━━━━━━━━━━━━━━━━━\u001b[0m \u001b[32m44.4/44.4 kB\u001b[0m \u001b[31m3.1 MB/s\u001b[0m eta \u001b[36m0:00:00\u001b[0m\n",
            "\u001b[2K   \u001b[90m━━━━━━━━━━━━━━━━━━━━━━━━━━━━━━━━━━━━━━━━\u001b[0m \u001b[32m50.9/50.9 kB\u001b[0m \u001b[31m3.9 MB/s\u001b[0m eta \u001b[36m0:00:00\u001b[0m\n",
            "\u001b[2K   \u001b[90m━━━━━━━━━━━━━━━━━━━━━━━━━━━━━━━━━━━━━━━━\u001b[0m \u001b[32m216.5/216.5 kB\u001b[0m \u001b[31m17.7 MB/s\u001b[0m eta \u001b[36m0:00:00\u001b[0m\n",
            "\u001b[?25h"
          ]
        }
      ],
      "source": [
        "%pip install -qU langchain-openai langchain langgraph langchain_community langgraph-supervisor notion-client"
      ]
    },
    {
      "cell_type": "code",
      "execution_count": null,
      "metadata": {
        "colab": {
          "base_uri": "https://localhost:8080/"
        },
        "id": "gtE8ddnipgH7",
        "outputId": "0ce0471c-a2f9-4e5e-a771-4bc6f80c9e02"
      },
      "outputs": [
        {
          "name": "stdout",
          "output_type": "stream",
          "text": [
            "\u001b[?25l   \u001b[90m━━━━━━━━━━━━━━━━━━━━━━━━━━━━━━━━━━━━━━━━\u001b[0m \u001b[32m0.0/702.3 kB\u001b[0m \u001b[31m?\u001b[0m eta \u001b[36m-:--:--\u001b[0m\r\u001b[2K   \u001b[91m━━━━━━━━━━━━━━━━━━━━━\u001b[0m\u001b[91m╸\u001b[0m\u001b[90m━━━━━━━━━━━━━━━━━━\u001b[0m \u001b[32m378.9/702.3 kB\u001b[0m \u001b[31m11.1 MB/s\u001b[0m eta \u001b[36m0:00:01\u001b[0m\r\u001b[2K   \u001b[90m━━━━━━━━━━━━━━━━━━━━━━━━━━━━━━━━━━━━━━━━\u001b[0m \u001b[32m702.3/702.3 kB\u001b[0m \u001b[31m11.9 MB/s\u001b[0m eta \u001b[36m0:00:00\u001b[0m\n",
            "\u001b[?25h"
          ]
        }
      ],
      "source": [
        "!pip install -qU python-telegram-bot"
      ]
    },
    {
      "cell_type": "code",
      "execution_count": null,
      "metadata": {
        "id": "1qLup-kAnSPy"
      },
      "outputs": [],
      "source": [
        "from pydantic import BaseModel\n",
        "from langchain_openai import ChatOpenAI\n",
        "from google.colab import userdata\n",
        "from langgraph.prebuilt import create_react_agent\n",
        "from langgraph_supervisor import create_supervisor\n",
        "from langchain_core.tools import tool\n",
        "from langchain_core.messages import (\n",
        "    HumanMessage,\n",
        ")\n",
        "from langgraph.prebuilt import create_react_agent\n",
        "import requests\n",
        "key = userdata.get('OPENAI_API_KEY')"
      ]
    },
    {
      "cell_type": "code",
      "execution_count": null,
      "metadata": {
        "id": "Gdy--HVInV6P"
      },
      "outputs": [],
      "source": [
        "model = ChatOpenAI(api_key=key,model=\"gpt-4o-mini\")"
      ]
    },
    {
      "cell_type": "markdown",
      "metadata": {
        "id": "aPJBwjsanVaX"
      },
      "source": []
    },
    {
      "cell_type": "code",
      "execution_count": null,
      "metadata": {
        "id": "QCo4oK1-nSMq"
      },
      "outputs": [],
      "source": [
        "TELEGRAM_TOKEN = \"Token here\"\n",
        "BOT_USERNAME = \"@MindFuel_Nepal_Bot\""
      ]
    },
    {
      "cell_type": "code",
      "execution_count": null,
      "metadata": {
        "id": "wtWhDhkot8IH"
      },
      "outputs": [],
      "source": [
        "from typing import Final\n",
        "from telegram import Update\n",
        "from telegram.ext import Application, CommandHandler, MessageHandler, filters, ContextTypes"
      ]
    },
    {
      "cell_type": "code",
      "execution_count": null,
      "metadata": {
        "id": "lu6flqmiuMTw"
      },
      "outputs": [],
      "source": [
        "async def start_command(update: Update, context: ContextTypes.DEFAULT_TYPE):\n",
        "    await update.message.reply_text('Hello there! I am MindFuel bot. What\\'s up?')\n",
        "\n",
        "async def help_command(update: Update, context: ContextTypes.DEFAULT_TYPE):\n",
        "    await update.message.reply_text('I am MindFuel bot. Please type something so I can respond!')\n",
        "\n",
        "async def custom_command(update: Update, context: ContextTypes.DEFAULT_TYPE):\n",
        "    await update.message.reply_text('This is custom command!')"
      ]
    },
    {
      "cell_type": "code",
      "execution_count": null,
      "metadata": {
        "id": "Mh503bVcvhBs"
      },
      "outputs": [],
      "source": [
        "def handle_response(text: str) -> str:\n",
        "  processed: str = text.lower()\n",
        "  if processed == 'hello':\n",
        "    return 'Hey there!'\n",
        "  if processed == 'hi':\n",
        "    return 'Hey there!'\n",
        "  return 'I do not know'"
      ]
    },
    {
      "cell_type": "code",
      "execution_count": null,
      "metadata": {
        "id": "GywN1PoI33pY"
      },
      "outputs": [],
      "source": [
        "async def handle_message(update: Update, context: ContextTypes.DEFAULT_TYPE):\n",
        "    message_type: str = update.message.chat.type\n",
        "    text: str = update.message.text\n",
        "    print(f'User ({update.message.chat.id}) in {message_type}: \"{text}\"')\n",
        "\n",
        "    if message_type == 'group':\n",
        "        if BOT_USERNAME in text:\n",
        "            new_text: str = text.replace(BOT_USERNAME, '').strip()\n",
        "            response: str = handle_response(new_text)\n",
        "        else:\n",
        "            return\n",
        "\n",
        "    else:\n",
        "      response: str = handle_response(text)\n",
        "\n",
        "    print('Bot:', response)\n",
        "    await update.message.reply_text(response)"
      ]
    },
    {
      "cell_type": "code",
      "execution_count": null,
      "metadata": {
        "id": "jW9TSRaTvg5n"
      },
      "outputs": [],
      "source": [
        "async def error(update: Update, context: ContextTypes.DEFAULT_TYPE):\n",
        "    print(f'Update {update} caused error {context.error}')"
      ]
    },
    {
      "cell_type": "code",
      "execution_count": null,
      "metadata": {
        "colab": {
          "base_uri": "https://localhost:8080/",
          "height": 529
        },
        "id": "0Bjw5p8Z6b1D",
        "outputId": "94111028-7f41-43d3-c457-07e3daacf290"
      },
      "outputs": [
        {
          "name": "stdout",
          "output_type": "stream",
          "text": [
            "Starting bot...\n",
            "Polling...\n"
          ]
        },
        {
          "ename": "RuntimeError",
          "evalue": "Cannot close a running event loop",
          "output_type": "error",
          "traceback": [
            "\u001b[0;31m---------------------------------------------------------------------------\u001b[0m",
            "\u001b[0;31mRuntimeError\u001b[0m                              Traceback (most recent call last)",
            "\u001b[0;32m/usr/local/lib/python3.11/dist-packages/telegram/ext/_application.py\u001b[0m in \u001b[0;36m__run\u001b[0;34m(self, updater_coroutine, stop_signals, bootstrap_retries, close_loop)\u001b[0m\n\u001b[1;32m   1041\u001b[0m         \u001b[0;32mtry\u001b[0m\u001b[0;34m:\u001b[0m\u001b[0;34m\u001b[0m\u001b[0;34m\u001b[0m\u001b[0m\n\u001b[0;32m-> 1042\u001b[0;31m             \u001b[0mloop\u001b[0m\u001b[0;34m.\u001b[0m\u001b[0mrun_until_complete\u001b[0m\u001b[0;34m(\u001b[0m\u001b[0mself\u001b[0m\u001b[0;34m.\u001b[0m\u001b[0m_bootstrap_initialize\u001b[0m\u001b[0;34m(\u001b[0m\u001b[0mmax_retries\u001b[0m\u001b[0;34m=\u001b[0m\u001b[0mbootstrap_retries\u001b[0m\u001b[0;34m)\u001b[0m\u001b[0;34m)\u001b[0m\u001b[0;34m\u001b[0m\u001b[0;34m\u001b[0m\u001b[0m\n\u001b[0m\u001b[1;32m   1043\u001b[0m             \u001b[0;32mif\u001b[0m \u001b[0mself\u001b[0m\u001b[0;34m.\u001b[0m\u001b[0mpost_init\u001b[0m\u001b[0;34m:\u001b[0m\u001b[0;34m\u001b[0m\u001b[0;34m\u001b[0m\u001b[0m\n",
            "\u001b[0;32m/usr/lib/python3.11/asyncio/base_events.py\u001b[0m in \u001b[0;36mrun_until_complete\u001b[0;34m(self, future)\u001b[0m\n\u001b[1;32m    629\u001b[0m         \u001b[0mself\u001b[0m\u001b[0;34m.\u001b[0m\u001b[0m_check_closed\u001b[0m\u001b[0;34m(\u001b[0m\u001b[0;34m)\u001b[0m\u001b[0;34m\u001b[0m\u001b[0;34m\u001b[0m\u001b[0m\n\u001b[0;32m--> 630\u001b[0;31m         \u001b[0mself\u001b[0m\u001b[0;34m.\u001b[0m\u001b[0m_check_running\u001b[0m\u001b[0;34m(\u001b[0m\u001b[0;34m)\u001b[0m\u001b[0;34m\u001b[0m\u001b[0;34m\u001b[0m\u001b[0m\n\u001b[0m\u001b[1;32m    631\u001b[0m \u001b[0;34m\u001b[0m\u001b[0m\n",
            "\u001b[0;32m/usr/lib/python3.11/asyncio/base_events.py\u001b[0m in \u001b[0;36m_check_running\u001b[0;34m(self)\u001b[0m\n\u001b[1;32m    588\u001b[0m         \u001b[0;32mif\u001b[0m \u001b[0mself\u001b[0m\u001b[0;34m.\u001b[0m\u001b[0mis_running\u001b[0m\u001b[0;34m(\u001b[0m\u001b[0;34m)\u001b[0m\u001b[0;34m:\u001b[0m\u001b[0;34m\u001b[0m\u001b[0;34m\u001b[0m\u001b[0m\n\u001b[0;32m--> 589\u001b[0;31m             \u001b[0;32mraise\u001b[0m \u001b[0mRuntimeError\u001b[0m\u001b[0;34m(\u001b[0m\u001b[0;34m'This event loop is already running'\u001b[0m\u001b[0;34m)\u001b[0m\u001b[0;34m\u001b[0m\u001b[0;34m\u001b[0m\u001b[0m\n\u001b[0m\u001b[1;32m    590\u001b[0m         \u001b[0;32mif\u001b[0m \u001b[0mevents\u001b[0m\u001b[0;34m.\u001b[0m\u001b[0m_get_running_loop\u001b[0m\u001b[0;34m(\u001b[0m\u001b[0;34m)\u001b[0m \u001b[0;32mis\u001b[0m \u001b[0;32mnot\u001b[0m \u001b[0;32mNone\u001b[0m\u001b[0;34m:\u001b[0m\u001b[0;34m\u001b[0m\u001b[0;34m\u001b[0m\u001b[0m\n",
            "\u001b[0;31mRuntimeError\u001b[0m: This event loop is already running",
            "\nDuring handling of the above exception, another exception occurred:\n",
            "\u001b[0;31mRuntimeError\u001b[0m                              Traceback (most recent call last)",
            "\u001b[0;32m/usr/local/lib/python3.11/dist-packages/telegram/ext/_application.py\u001b[0m in \u001b[0;36m__run\u001b[0;34m(self, updater_coroutine, stop_signals, bootstrap_retries, close_loop)\u001b[0m\n\u001b[1;32m   1066\u001b[0m                         \u001b[0mloop\u001b[0m\u001b[0;34m.\u001b[0m\u001b[0mrun_until_complete\u001b[0m\u001b[0;34m(\u001b[0m\u001b[0mself\u001b[0m\u001b[0;34m.\u001b[0m\u001b[0mpost_stop\u001b[0m\u001b[0;34m(\u001b[0m\u001b[0mself\u001b[0m\u001b[0;34m)\u001b[0m\u001b[0;34m)\u001b[0m\u001b[0;34m\u001b[0m\u001b[0;34m\u001b[0m\u001b[0m\n\u001b[0;32m-> 1067\u001b[0;31m                 \u001b[0mloop\u001b[0m\u001b[0;34m.\u001b[0m\u001b[0mrun_until_complete\u001b[0m\u001b[0;34m(\u001b[0m\u001b[0mself\u001b[0m\u001b[0;34m.\u001b[0m\u001b[0mshutdown\u001b[0m\u001b[0;34m(\u001b[0m\u001b[0;34m)\u001b[0m\u001b[0;34m)\u001b[0m\u001b[0;34m\u001b[0m\u001b[0;34m\u001b[0m\u001b[0m\n\u001b[0m\u001b[1;32m   1068\u001b[0m                 \u001b[0;32mif\u001b[0m \u001b[0mself\u001b[0m\u001b[0;34m.\u001b[0m\u001b[0mpost_shutdown\u001b[0m\u001b[0;34m:\u001b[0m\u001b[0;34m\u001b[0m\u001b[0;34m\u001b[0m\u001b[0m\n",
            "\u001b[0;32m/usr/lib/python3.11/asyncio/base_events.py\u001b[0m in \u001b[0;36mrun_until_complete\u001b[0;34m(self, future)\u001b[0m\n\u001b[1;32m    629\u001b[0m         \u001b[0mself\u001b[0m\u001b[0;34m.\u001b[0m\u001b[0m_check_closed\u001b[0m\u001b[0;34m(\u001b[0m\u001b[0;34m)\u001b[0m\u001b[0;34m\u001b[0m\u001b[0;34m\u001b[0m\u001b[0m\n\u001b[0;32m--> 630\u001b[0;31m         \u001b[0mself\u001b[0m\u001b[0;34m.\u001b[0m\u001b[0m_check_running\u001b[0m\u001b[0;34m(\u001b[0m\u001b[0;34m)\u001b[0m\u001b[0;34m\u001b[0m\u001b[0;34m\u001b[0m\u001b[0m\n\u001b[0m\u001b[1;32m    631\u001b[0m \u001b[0;34m\u001b[0m\u001b[0m\n",
            "\u001b[0;32m/usr/lib/python3.11/asyncio/base_events.py\u001b[0m in \u001b[0;36m_check_running\u001b[0;34m(self)\u001b[0m\n\u001b[1;32m    588\u001b[0m         \u001b[0;32mif\u001b[0m \u001b[0mself\u001b[0m\u001b[0;34m.\u001b[0m\u001b[0mis_running\u001b[0m\u001b[0;34m(\u001b[0m\u001b[0;34m)\u001b[0m\u001b[0;34m:\u001b[0m\u001b[0;34m\u001b[0m\u001b[0;34m\u001b[0m\u001b[0m\n\u001b[0;32m--> 589\u001b[0;31m             \u001b[0;32mraise\u001b[0m \u001b[0mRuntimeError\u001b[0m\u001b[0;34m(\u001b[0m\u001b[0;34m'This event loop is already running'\u001b[0m\u001b[0;34m)\u001b[0m\u001b[0;34m\u001b[0m\u001b[0;34m\u001b[0m\u001b[0m\n\u001b[0m\u001b[1;32m    590\u001b[0m         \u001b[0;32mif\u001b[0m \u001b[0mevents\u001b[0m\u001b[0;34m.\u001b[0m\u001b[0m_get_running_loop\u001b[0m\u001b[0;34m(\u001b[0m\u001b[0;34m)\u001b[0m \u001b[0;32mis\u001b[0m \u001b[0;32mnot\u001b[0m \u001b[0;32mNone\u001b[0m\u001b[0;34m:\u001b[0m\u001b[0;34m\u001b[0m\u001b[0;34m\u001b[0m\u001b[0m\n",
            "\u001b[0;31mRuntimeError\u001b[0m: This event loop is already running",
            "\nDuring handling of the above exception, another exception occurred:\n",
            "\u001b[0;31mRuntimeError\u001b[0m                              Traceback (most recent call last)",
            "\u001b[0;32m<ipython-input-9-3024902622>\u001b[0m in \u001b[0;36m<cell line: 0>\u001b[0;34m()\u001b[0m\n\u001b[1;32m     19\u001b[0m \u001b[0;34m\u001b[0m\u001b[0m\n\u001b[1;32m     20\u001b[0m     \u001b[0mprint\u001b[0m\u001b[0;34m(\u001b[0m\u001b[0;34m'Polling...'\u001b[0m\u001b[0;34m)\u001b[0m\u001b[0;34m\u001b[0m\u001b[0;34m\u001b[0m\u001b[0m\n\u001b[0;32m---> 21\u001b[0;31m     \u001b[0mapp\u001b[0m\u001b[0;34m.\u001b[0m\u001b[0mrun_polling\u001b[0m\u001b[0;34m(\u001b[0m\u001b[0mpoll_interval\u001b[0m\u001b[0;34m=\u001b[0m\u001b[0;36m3\u001b[0m\u001b[0;34m)\u001b[0m\u001b[0;34m\u001b[0m\u001b[0;34m\u001b[0m\u001b[0m\n\u001b[0m",
            "\u001b[0;32m/usr/local/lib/python3.11/dist-packages/telegram/ext/_application.py\u001b[0m in \u001b[0;36mrun_polling\u001b[0;34m(self, poll_interval, timeout, bootstrap_retries, allowed_updates, drop_pending_updates, close_loop, stop_signals)\u001b[0m\n\u001b[1;32m    830\u001b[0m             \u001b[0mself\u001b[0m\u001b[0;34m.\u001b[0m\u001b[0mcreate_task\u001b[0m\u001b[0;34m(\u001b[0m\u001b[0mself\u001b[0m\u001b[0;34m.\u001b[0m\u001b[0mprocess_error\u001b[0m\u001b[0;34m(\u001b[0m\u001b[0merror\u001b[0m\u001b[0;34m=\u001b[0m\u001b[0mexc\u001b[0m\u001b[0;34m,\u001b[0m \u001b[0mupdate\u001b[0m\u001b[0;34m=\u001b[0m\u001b[0;32mNone\u001b[0m\u001b[0;34m)\u001b[0m\u001b[0;34m)\u001b[0m\u001b[0;34m\u001b[0m\u001b[0;34m\u001b[0m\u001b[0m\n\u001b[1;32m    831\u001b[0m \u001b[0;34m\u001b[0m\u001b[0m\n\u001b[0;32m--> 832\u001b[0;31m         return self.__run(\n\u001b[0m\u001b[1;32m    833\u001b[0m             updater_coroutine=self.updater.start_polling(\n\u001b[1;32m    834\u001b[0m                 \u001b[0mpoll_interval\u001b[0m\u001b[0;34m=\u001b[0m\u001b[0mpoll_interval\u001b[0m\u001b[0;34m,\u001b[0m\u001b[0;34m\u001b[0m\u001b[0;34m\u001b[0m\u001b[0m\n",
            "\u001b[0;32m/usr/local/lib/python3.11/dist-packages/telegram/ext/_application.py\u001b[0m in \u001b[0;36m__run\u001b[0;34m(self, updater_coroutine, stop_signals, bootstrap_retries, close_loop)\u001b[0m\n\u001b[1;32m   1070\u001b[0m             \u001b[0;32mfinally\u001b[0m\u001b[0;34m:\u001b[0m\u001b[0;34m\u001b[0m\u001b[0;34m\u001b[0m\u001b[0m\n\u001b[1;32m   1071\u001b[0m                 \u001b[0;32mif\u001b[0m \u001b[0mclose_loop\u001b[0m\u001b[0;34m:\u001b[0m\u001b[0;34m\u001b[0m\u001b[0;34m\u001b[0m\u001b[0m\n\u001b[0;32m-> 1072\u001b[0;31m                     \u001b[0mloop\u001b[0m\u001b[0;34m.\u001b[0m\u001b[0mclose\u001b[0m\u001b[0;34m(\u001b[0m\u001b[0;34m)\u001b[0m\u001b[0;34m\u001b[0m\u001b[0;34m\u001b[0m\u001b[0m\n\u001b[0m\u001b[1;32m   1073\u001b[0m \u001b[0;34m\u001b[0m\u001b[0m\n\u001b[1;32m   1074\u001b[0m     def create_task(\n",
            "\u001b[0;32m/usr/lib/python3.11/asyncio/unix_events.py\u001b[0m in \u001b[0;36mclose\u001b[0;34m(self)\u001b[0m\n\u001b[1;32m     66\u001b[0m \u001b[0;34m\u001b[0m\u001b[0m\n\u001b[1;32m     67\u001b[0m     \u001b[0;32mdef\u001b[0m \u001b[0mclose\u001b[0m\u001b[0;34m(\u001b[0m\u001b[0mself\u001b[0m\u001b[0;34m)\u001b[0m\u001b[0;34m:\u001b[0m\u001b[0;34m\u001b[0m\u001b[0;34m\u001b[0m\u001b[0m\n\u001b[0;32m---> 68\u001b[0;31m         \u001b[0msuper\u001b[0m\u001b[0;34m(\u001b[0m\u001b[0;34m)\u001b[0m\u001b[0;34m.\u001b[0m\u001b[0mclose\u001b[0m\u001b[0;34m(\u001b[0m\u001b[0;34m)\u001b[0m\u001b[0;34m\u001b[0m\u001b[0;34m\u001b[0m\u001b[0m\n\u001b[0m\u001b[1;32m     69\u001b[0m         \u001b[0;32mif\u001b[0m \u001b[0;32mnot\u001b[0m \u001b[0msys\u001b[0m\u001b[0;34m.\u001b[0m\u001b[0mis_finalizing\u001b[0m\u001b[0;34m(\u001b[0m\u001b[0;34m)\u001b[0m\u001b[0;34m:\u001b[0m\u001b[0;34m\u001b[0m\u001b[0;34m\u001b[0m\u001b[0m\n\u001b[1;32m     70\u001b[0m             \u001b[0;32mfor\u001b[0m \u001b[0msig\u001b[0m \u001b[0;32min\u001b[0m \u001b[0mlist\u001b[0m\u001b[0;34m(\u001b[0m\u001b[0mself\u001b[0m\u001b[0;34m.\u001b[0m\u001b[0m_signal_handlers\u001b[0m\u001b[0;34m)\u001b[0m\u001b[0;34m:\u001b[0m\u001b[0;34m\u001b[0m\u001b[0;34m\u001b[0m\u001b[0m\n",
            "\u001b[0;32m/usr/lib/python3.11/asyncio/selector_events.py\u001b[0m in \u001b[0;36mclose\u001b[0;34m(self)\u001b[0m\n\u001b[1;32m     86\u001b[0m     \u001b[0;32mdef\u001b[0m \u001b[0mclose\u001b[0m\u001b[0;34m(\u001b[0m\u001b[0mself\u001b[0m\u001b[0;34m)\u001b[0m\u001b[0;34m:\u001b[0m\u001b[0;34m\u001b[0m\u001b[0;34m\u001b[0m\u001b[0m\n\u001b[1;32m     87\u001b[0m         \u001b[0;32mif\u001b[0m \u001b[0mself\u001b[0m\u001b[0;34m.\u001b[0m\u001b[0mis_running\u001b[0m\u001b[0;34m(\u001b[0m\u001b[0;34m)\u001b[0m\u001b[0;34m:\u001b[0m\u001b[0;34m\u001b[0m\u001b[0;34m\u001b[0m\u001b[0m\n\u001b[0;32m---> 88\u001b[0;31m             \u001b[0;32mraise\u001b[0m \u001b[0mRuntimeError\u001b[0m\u001b[0;34m(\u001b[0m\u001b[0;34m\"Cannot close a running event loop\"\u001b[0m\u001b[0;34m)\u001b[0m\u001b[0;34m\u001b[0m\u001b[0;34m\u001b[0m\u001b[0m\n\u001b[0m\u001b[1;32m     89\u001b[0m         \u001b[0;32mif\u001b[0m \u001b[0mself\u001b[0m\u001b[0;34m.\u001b[0m\u001b[0mis_closed\u001b[0m\u001b[0;34m(\u001b[0m\u001b[0;34m)\u001b[0m\u001b[0;34m:\u001b[0m\u001b[0;34m\u001b[0m\u001b[0;34m\u001b[0m\u001b[0m\n\u001b[1;32m     90\u001b[0m             \u001b[0;32mreturn\u001b[0m\u001b[0;34m\u001b[0m\u001b[0;34m\u001b[0m\u001b[0m\n",
            "\u001b[0;31mRuntimeError\u001b[0m: Cannot close a running event loop"
          ]
        }
      ],
      "source": [
        "from telegram.ext import Application, CommandHandler, MessageHandler, filters\n",
        "\n",
        "# Assume TELEGRAM_TOKEN, start_command, help_command, custom_command, handle_message, and error are defined\n",
        "\n",
        "if __name__ == '__main__':\n",
        "    print('Starting bot...')\n",
        "    app = Application.builder().token(TELEGRAM_TOKEN).build()\n",
        "\n",
        "    # Commands\n",
        "    app.add_handler(CommandHandler('start', start_command))\n",
        "    app.add_handler(CommandHandler('help', help_command))\n",
        "    app.add_handler(CommandHandler('custom', custom_command))\n",
        "\n",
        "    # Message handler\n",
        "    app.add_handler(MessageHandler(filters.TEXT, handle_message))\n",
        "\n",
        "    # Error handler\n",
        "    app.add_error_handler(error)\n",
        "\n",
        "    print('Polling...')\n",
        "    app.run_polling(poll_interval=3)\n"
      ]
    },
    {
      "cell_type": "markdown",
      "metadata": {
        "id": "qlXJgSpU-9iO"
      },
      "source": [
        "# Script"
      ]
    },
    {
      "cell_type": "code",
      "execution_count": null,
      "metadata": {
        "colab": {
          "base_uri": "https://localhost:8080/"
        },
        "id": "6hvyIe7W6byh",
        "outputId": "4ea52af7-3f3f-4433-cfe5-37afa78f9589"
      },
      "outputs": [
        {
          "name": "stdout",
          "output_type": "stream",
          "text": [
            "Starting bot...\n",
            "Bot is running...\n"
          ]
        }
      ],
      "source": [
        "import asyncio\n",
        "from telegram import Update\n",
        "from telegram.ext import (\n",
        "    Application, CommandHandler, MessageHandler,\n",
        "    ContextTypes, filters\n",
        ")\n",
        "\n",
        "TELEGRAM_TOKEN = \"{TOKEN HERE}\"\n",
        "BOT_USERNAME = \"@MindFuel_Nepal_Bot\"\n",
        "\n",
        "# Command Handlers\n",
        "async def start_command(update: Update, context: ContextTypes.DEFAULT_TYPE):\n",
        "    await update.message.reply_text(\"Hello there! I am MindFuel bot. What’s up?\")\n",
        "\n",
        "async def help_command(update: Update, context: ContextTypes.DEFAULT_TYPE):\n",
        "    await update.message.reply_text(\"I am MindFuel bot. Please type something so I can respond!\")\n",
        "\n",
        "async def custom_command(update: Update, context: ContextTypes.DEFAULT_TYPE):\n",
        "    await update.message.reply_text(\"This is a custom command!\")\n",
        "# New command handlers\n",
        "async def remindme_command(update: Update, context: ContextTypes.DEFAULT_TYPE):\n",
        "    chat_id = str(update.effective_chat.id)\n",
        "    message = telegram_agent.invoke(f\"Start hydration reminders every 2 hours for chat ID {chat_id}\")\n",
        "    await update.message.reply_text(message)\n",
        "\n",
        "async def stopreminder_command(update: Update, context: ContextTypes.DEFAULT_TYPE):\n",
        "    chat_id = str(update.effective_chat.id)\n",
        "    message = telegram_agent.invoke(f\"Stop hydration reminders for chat ID {chat_id}\")\n",
        "    await update.message.reply_text(message)\n",
        "\n",
        "\n",
        "\n",
        "# Message processing logic\n",
        "def handle_response(text: str) -> str:\n",
        "    processed = text.lower()\n",
        "    if processed in ['hello', 'hi']:\n",
        "        return \"Hey there!\"\n",
        "    return \"I do not know\"\n",
        "\n",
        "# Message Handler\n",
        "async def handle_message(update: Update, context: ContextTypes.DEFAULT_TYPE):\n",
        "    message_type = update.message.chat.type\n",
        "    text = update.message.text\n",
        "\n",
        "    print(f'User ({update.message.chat.id}) in {message_type}: \"{text}\"')\n",
        "\n",
        "    if message_type == 'group':\n",
        "        if BOT_USERNAME in text:\n",
        "            new_text = text.replace(BOT_USERNAME, '').strip()\n",
        "            response = handle_response(new_text)\n",
        "        else:\n",
        "            return\n",
        "    else:\n",
        "        response = handle_response(text)\n",
        "\n",
        "    print('Bot:', response)\n",
        "    await update.message.reply_text(response)\n",
        "\n",
        "# Error Handler\n",
        "async def error(update: object, context: ContextTypes.DEFAULT_TYPE):\n",
        "    print(f'Update {update} caused error {context.error}')\n",
        "\n",
        "\n",
        "# Async bot runner (to support Jupyter/Colab)\n",
        "async def run_bot():\n",
        "    print(\"Starting bot...\")\n",
        "    app = Application.builder().token(TELEGRAM_TOKEN).build()\n",
        "\n",
        "    # Add handlers\n",
        "    app.add_handler(CommandHandler(\"start\", start_command))\n",
        "    app.add_handler(CommandHandler(\"help\", help_command))\n",
        "    app.add_handler(CommandHandler(\"custom\", custom_command))\n",
        "    # Add to your app handlers\n",
        "    app.add_handler(CommandHandler(\"remindme\", remindme_command))\n",
        "    app.add_handler(CommandHandler(\"stopreminder\", stopreminder_command))\n",
        "    app.add_handler(MessageHandler(filters.TEXT, handle_message))\n",
        "    app.add_error_handler(error)\n",
        "\n",
        "    # Run the bot in a Jupyter/Colab-safe way\n",
        "    await app.initialize()\n",
        "    await app.start()\n",
        "    await app.updater.start_polling()\n",
        "    print(\"Bot is running...\")\n",
        "\n",
        "# Await it directly in Colab/Jupyter\n",
        "await run_bot()\n"
      ]
    },
    {
      "cell_type": "markdown",
      "metadata": {
        "id": "IyJd_CsPBIgK"
      },
      "source": [
        "# Agent"
      ]
    },
    {
      "cell_type": "code",
      "execution_count": null,
      "metadata": {
        "colab": {
          "base_uri": "https://localhost:8080/"
        },
        "id": "tnf-HwRjAeuS",
        "outputId": "8aa88e17-5faf-4fb2-c8c4-9f3c4b56ba8c"
      },
      "outputs": [
        {
          "name": "stdout",
          "output_type": "stream",
          "text": [
            "\u001b[?25l   \u001b[90m━━━━━━━━━━━━━━━━━━━━━━━━━━━━━━━━━━━━━━━━\u001b[0m \u001b[32m0.0/64.0 kB\u001b[0m \u001b[31m?\u001b[0m eta \u001b[36m-:--:--\u001b[0m\r\u001b[2K   \u001b[90m━━━━━━━━━━━━━━━━━━━━━━━━━━━━━━━━━━━━━━━━\u001b[0m \u001b[32m64.0/64.0 kB\u001b[0m \u001b[31m1.9 MB/s\u001b[0m eta \u001b[36m0:00:00\u001b[0m\n",
            "\u001b[?25h"
          ]
        },
        {
          "name": "stderr",
          "output_type": "stream",
          "text": [
            "/usr/lib/python3.11/pathlib.py:540: RuntimeWarning: coroutine 'Application.shutdown' was never awaited\n",
            "  return self._str\n",
            "RuntimeWarning: Enable tracemalloc to get the object allocation traceback\n",
            "/usr/lib/python3.11/pathlib.py:540: RuntimeWarning: coroutine 'Application._bootstrap_initialize' was never awaited\n",
            "  return self._str\n",
            "RuntimeWarning: Enable tracemalloc to get the object allocation traceback\n"
          ]
        }
      ],
      "source": [
        "!pip install -qU apscheduler\n"
      ]
    },
    {
      "cell_type": "code",
      "execution_count": null,
      "metadata": {
        "id": "Hriisx5WnSJ_"
      },
      "outputs": [],
      "source": [
        "# from langchain.tools import tool\n",
        "# from apscheduler.schedulers.background import BackgroundScheduler\n",
        "# import requests\n",
        "\n",
        "# # Your Telegram bot token\n",
        "# TELEGRAM_TOKEN = \"{TOKEN HERE}\"\n",
        "# scheduler = BackgroundScheduler()\n",
        "# scheduler.start()\n",
        "\n",
        "# # Send message through Telegram API\n",
        "# def send_telegram_message(chat_id: str, message: str) -> None:\n",
        "#     url = f\"https://api.telegram.org/bot{TELEGRAM_TOKEN}/sendMessage\"\n",
        "#     payload = {\n",
        "#         \"chat_id\": chat_id,\n",
        "#         \"text\": message\n",
        "#     }\n",
        "#     response = requests.post(url, data=payload)\n",
        "#     response.raise_for_status()\n",
        "\n",
        "# # tool\n",
        "# # def start_water_reminder(chat_id: str) -> str:\n",
        "# #     \"\"\"\n",
        "# #     Starts a water reminder for a Telegram user every 2 hours.\n",
        "\n",
        "# #     Args:\n",
        "# #         chat_id (str): The chat ID of the Telegram user or group.\n",
        "\n",
        "# #     Returns:\n",
        "# #         str: Confirmation message that the reminder has been scheduled.\n",
        "# #     \"\"\"\n",
        "\n",
        "# #     def job():\n",
        "# #         send_telegram_message(chat_id, \"💧 Time to drink water! Stay hydrated.\")\n",
        "\n",
        "# #     job_id = f\"water_reminder_{chat_id}\"\n",
        "\n",
        "# #     if scheduler.get_job(job_id):\n",
        "# #         return \"🚰 Water reminder is already running for this user.\"\n",
        "\n",
        "# #     scheduler.add_job(job, 'interval', hours=2, id=job_id)\n",
        "# #     return \"✅ Water reminder started. You'll get a message every 2 hours.\"\n",
        "# from langchain.tools import tool\n",
        "# import asyncio\n",
        "\n",
        "@tool\n",
        "def start_water_reminder(chat_id: str) -> str:\n",
        "    \"\"\"Start sending hydration reminders every 2 hours to the specified Telegram chat ID.\"\"\"\n",
        "    loop = asyncio.get_event_loop()\n",
        "\n",
        "    async def send_reminders():\n",
        "        while True:\n",
        "            await asyncio.sleep(2 * 60 * 60)  # 2 hours in seconds\n",
        "            await bot.send_message(chat_id=chat_id, text=\"💧 Time to drink water!\")\n",
        "\n",
        "    loop.create_task(send_reminders())\n",
        "    return f\"Hydration reminders started for chat ID {chat_id}.\"\n",
        "\n",
        "@tool\n",
        "def stop_water_reminder(chat_id: str) -> str:\n",
        "    \"\"\"\n",
        "    Stops the water reminder for a Telegram user.\n",
        "\n",
        "    Args:\n",
        "        chat_id (str): The chat ID of the Telegram user or group.\n",
        "\n",
        "    Returns:\n",
        "        str: Confirmation that the reminder has been stopped.\n",
        "    \"\"\"\n",
        "    job_id = f\"water_reminder_{chat_id}\"\n",
        "    if scheduler.get_job(job_id):\n",
        "        scheduler.remove_job(job_id)\n",
        "        return \"❌ Water reminder stopped.\"\n",
        "    return \"⚠️ No water reminder was running for this user.\"\n"
      ]
    },
    {
      "cell_type": "code",
      "execution_count": null,
      "metadata": {
        "id": "_3djU5KcazOw"
      },
      "outputs": [],
      "source": [
        "async def start_command(update: Update, context: ContextTypes.DEFAULT_TYPE):\n",
        "    chat_id = update.effective_chat.id\n",
        "    print(f\"Chat ID: {chat_id}\")\n",
        "    await update.message.reply_text(f\"Your chat ID is {chat_id}\")\n"
      ]
    },
    {
      "cell_type": "code",
      "execution_count": null,
      "metadata": {
        "id": "8yiVsM1MJ2iU"
      },
      "outputs": [],
      "source": [
        "from langchain.tools import tool\n",
        "from apscheduler.schedulers.background import BackgroundScheduler\n",
        "import requests\n",
        "\n",
        "TELEGRAM_TOKEN = \"{TOKEN HERE}\"\n",
        "scheduler = BackgroundScheduler()\n",
        "scheduler.start()\n",
        "\n",
        "def send_telegram_message(chat_id: str, message: str) -> None:\n",
        "    url = f\"https://api.telegram.org/bot{TELEGRAM_TOKEN}/sendMessage\"\n",
        "    payload = {\n",
        "        \"chat_id\": chat_id,\n",
        "        \"text\": message\n",
        "    }\n",
        "    response = requests.post(url, data=payload)\n",
        "    response.raise_for_status()\n",
        "\n",
        "\n",
        "\n",
        "# send_telegram_message(message=\"Hi\", chat_id=)\n",
        "\n",
        "@tool\n",
        "def start_water_reminder(chat_id: str) -> str:\n",
        "  \"\"\"Start sending hydration reminders every 2 hours to the specified Telegram chat ID.\"\"\"\n",
        "  job_id = f\"water_reminder_{chat_id}\"\n",
        "\n",
        "  if scheduler.get_job(job_id):\n",
        "      return \"🚰 Water reminder is already running for this user.\"\n",
        "\n",
        "  def job():\n",
        "      send_telegram_message(chat_id, \"💧 Time to drink water! Stay hydrated.\")\n",
        "\n",
        "  scheduler.add_job(job, 'interval', hours=2, id=job_id)\n",
        "  return \"✅ Water reminder started. You'll get a message every 2 hours.\"\n",
        "\n",
        "@tool\n",
        "def stop_water_reminder(chat_id: str) -> str:\n",
        "    \"\"\"\n",
        "    Stops the water reminder for a Telegram user.\n",
        "\n",
        "    Args:\n",
        "        chat_id (str): The chat ID of the Telegram user or group.\n",
        "\n",
        "    Returns:\n",
        "        str: Confirmation that the reminder has been stopped.\n",
        "    \"\"\"\n",
        "    job_id = f\"water_reminder_{chat_id}\"\n",
        "\n",
        "    if scheduler.get_job(job_id):\n",
        "        scheduler.remove_job(job_id)\n",
        "        return \"❌ Water reminder stopped.\"\n",
        "    return \"⚠️ No water reminder was running for this user.\"\n"
      ]
    },
    {
      "cell_type": "code",
      "execution_count": null,
      "metadata": {
        "colab": {
          "base_uri": "https://localhost:8080/"
        },
        "id": "eR8Fk1qkLCpm",
        "outputId": "fecab5ab-18d6-4cd7-8109-3c6078835f8b"
      },
      "outputs": [
        {
          "data": {
            "text/plain": [
              "<coroutine object some_command at 0x788df639a7a0>"
            ]
          },
          "execution_count": 30,
          "metadata": {},
          "output_type": "execute_result"
        }
      ],
      "source": [
        "# async def some_command(update: Update, context: ContextTypes.DEFAULT_TYPE):\n",
        "#     chat_id = update.effective_chat.id  # This is an integer\n",
        "#     # Convert to string if needed\n",
        "#     chat_id_str = str(chat_id)\n",
        "\n",
        "#     await update.message.reply_text(f\"Your chat ID is {chat_id_str}\")\n",
        "# some_command(update=\"hi\", context=\"hi\")"
      ]
    },
    {
      "cell_type": "code",
      "execution_count": null,
      "metadata": {
        "id": "mSZtbiV3Bp5I"
      },
      "outputs": [],
      "source": [
        "# telegram_agent_prompt = \"\"\"\n",
        "# You are a helpful Telegram assistant called MindFuel Bot. Your primary job is to keep users hydrated and healthy by reminding them to drink water.\n",
        "\n",
        "# You can perform the following actions using tools:\n",
        "\n",
        "# 1. Use `start_water_reminder` to begin sending hydration reminders every 2 hours to a specific user. You must provide their `chat_id`.\n",
        "# 2. Use `stop_water_reminder` to stop sending reminders to a user.\n",
        "\n",
        "# Guidelines:\n",
        "# - Be polite and concise.\n",
        "# - Always confirm before starting or stopping reminders.\n",
        "# - Do not assume the chat_id — always ask the user to confirm it or ensure it is provided.\n",
        "\n",
        "# Example Conversations:\n",
        "\n",
        "# User: I want hydration reminders every 2 hours.\n",
        "# Thought: The user wants regular hydration reminders.\n",
        "# Action: start_water_reminder\n",
        "# Action Input: {\"chat_id\": \"123456789\"}\n",
        "\n",
        "# User: Stop sending me water messages.\n",
        "# Thought: The user wants to stop the reminders.\n",
        "# Action: stop_water_reminder\n",
        "# Action Input: {\"chat_id\": \"123456789\"}\n",
        "\n",
        "# You are now ready to help users stay hydrated!\n",
        "# \"\"\"\n",
        "telegram_agent_prompt = \"\"\"\n",
        "You are a helpful health assistant Telegram bot.\n",
        "Your job is to help users stay hydrated.\n",
        "\n",
        "If a user says something like:\n",
        "- \"Remind me to drink water\"\n",
        "- \"Send me hydration reminders every 2 hours\"\n",
        "- \"Start water alert\"\n",
        "Then you must call the `start_water_reminder` tool with their Telegram chat ID.\n",
        "\n",
        "If a user says something like:\n",
        "- \"Stop water reminders\"\n",
        "- \"Stop hydration alerts\"\n",
        "Then call `stop_water_reminder` with their chat ID.\n",
        "\"\"\"\n"
      ]
    },
    {
      "cell_type": "code",
      "execution_count": null,
      "metadata": {
        "id": "4hR3z_0znb8-"
      },
      "outputs": [],
      "source": [
        "\n",
        "from langgraph.prebuilt import create_react_agent\n",
        "\n",
        "\n",
        "telegram_agent = create_react_agent(\n",
        "    model=model,\n",
        "    tools=[start_water_reminder, stop_water_reminder],\n",
        "    prompt=telegram_agent_prompt,\n",
        "    name=\"telegram_agent\"\n",
        ")\n"
      ]
    },
    {
      "cell_type": "code",
      "execution_count": null,
      "metadata": {
        "colab": {
          "base_uri": "https://localhost:8080/"
        },
        "id": "T4AAZdUknb6B",
        "outputId": "8f560df6-28b1-47ea-cc90-40f5dd90edd5"
      },
      "outputs": [
        {
          "data": {
            "text/plain": [
              "[HumanMessage(content='Start hydration reminders every 2 hours for chat ID 123456789', additional_kwargs={}, response_metadata={}, id='17ff7ef1-aad3-4277-8e25-c31af2a53b56'),\n",
              " AIMessage(content='', additional_kwargs={'tool_calls': [{'id': 'call_QA1skm7bw2hacXrNVZYEIsdX', 'function': {'arguments': '{\"chat_id\":\"123456789\"}', 'name': 'start_water_reminder'}, 'type': 'function'}], 'refusal': None}, response_metadata={'token_usage': {'completion_tokens': 19, 'prompt_tokens': 227, 'total_tokens': 246, 'completion_tokens_details': {'accepted_prediction_tokens': 0, 'audio_tokens': 0, 'reasoning_tokens': 0, 'rejected_prediction_tokens': 0}, 'prompt_tokens_details': {'audio_tokens': 0, 'cached_tokens': 0}}, 'model_name': 'gpt-4o-mini-2024-07-18', 'system_fingerprint': 'fp_62a23a81ef', 'id': 'chatcmpl-BibK1vr0SlKnJkiGP2Npq9fcGGo5g', 'service_tier': 'default', 'finish_reason': 'tool_calls', 'logprobs': None}, name='telegram_agent', id='run--0d7268b2-5f15-47a0-84d0-08f2c1c29fbf-0', tool_calls=[{'name': 'start_water_reminder', 'args': {'chat_id': '123456789'}, 'id': 'call_QA1skm7bw2hacXrNVZYEIsdX', 'type': 'tool_call'}], usage_metadata={'input_tokens': 227, 'output_tokens': 19, 'total_tokens': 246, 'input_token_details': {'audio': 0, 'cache_read': 0}, 'output_token_details': {'audio': 0, 'reasoning': 0}}),\n",
              " ToolMessage(content=\"✅ Water reminder started. You'll get a message every 2 hours.\", name='start_water_reminder', id='bcd79649-d65d-43a1-9e9a-6b633ab5d0d3', tool_call_id='call_QA1skm7bw2hacXrNVZYEIsdX'),\n",
              " AIMessage(content=\"Hydration reminders have been started! You'll receive a message every 2 hours to help you stay hydrated.\", additional_kwargs={'refusal': None}, response_metadata={'token_usage': {'completion_tokens': 22, 'prompt_tokens': 273, 'total_tokens': 295, 'completion_tokens_details': {'accepted_prediction_tokens': 0, 'audio_tokens': 0, 'reasoning_tokens': 0, 'rejected_prediction_tokens': 0}, 'prompt_tokens_details': {'audio_tokens': 0, 'cached_tokens': 0}}, 'model_name': 'gpt-4o-mini-2024-07-18', 'system_fingerprint': 'fp_62a23a81ef', 'id': 'chatcmpl-BibK20TcQVGAXo81H2tEx5vhKR6Bm', 'service_tier': 'default', 'finish_reason': 'stop', 'logprobs': None}, name='telegram_agent', id='run--6e14ec68-22eb-4c56-8b1f-a28d0372324f-0', usage_metadata={'input_tokens': 273, 'output_tokens': 22, 'total_tokens': 295, 'input_token_details': {'audio': 0, 'cache_read': 0}, 'output_token_details': {'audio': 0, 'reasoning': 0}})]"
            ]
          },
          "execution_count": 38,
          "metadata": {},
          "output_type": "execute_result"
        }
      ],
      "source": [
        "# response = telegram_agent.invoke({}\"Start hydration reminders every 2 hours for chat ID 123456789\")\n",
        "# print(response)\n",
        "response = telegram_agent.invoke(\n",
        "    {\n",
        "        \"messages\": [\n",
        "            HumanMessage(content=\"Start hydration reminders every 2 hours for chat ID 123456789\")\n",
        "            ]\n",
        "    }\n",
        "    )\n",
        "response[\"messages\"]"
      ]
    },
    {
      "cell_type": "code",
      "execution_count": null,
      "metadata": {
        "colab": {
          "base_uri": "https://localhost:8080/",
          "height": 36
        },
        "id": "ad-1xQe1URPE",
        "outputId": "b1175df7-37a4-4da7-be0b-8c5395b32b7d"
      },
      "outputs": [
        {
          "data": {
            "application/vnd.google.colaboratory.intrinsic+json": {
              "type": "string"
            },
            "text/plain": [
              "\"Hydration reminders have been started! You'll receive a message every 2 hours to help you stay hydrated.\""
            ]
          },
          "execution_count": 39,
          "metadata": {},
          "output_type": "execute_result"
        }
      ],
      "source": [
        "response[\"messages\"][-1].content"
      ]
    },
    {
      "cell_type": "markdown",
      "metadata": {
        "id": "OEjf-W9OGOoc"
      },
      "source": [
        "# Telegram"
      ]
    },
    {
      "cell_type": "code",
      "execution_count": null,
      "metadata": {
        "colab": {
          "base_uri": "https://localhost:8080/"
        },
        "id": "nQjaDePtnb3d",
        "outputId": "9409e47e-d729-4747-868e-3d3f11715a90"
      },
      "outputs": [
        {
          "name": "stdout",
          "output_type": "stream",
          "text": [
            "Starting bot...\n",
            "Bot is running...\n"
          ]
        }
      ],
      "source": [
        "import asyncio\n",
        "from telegram import Update\n",
        "from telegram.ext import (\n",
        "    Application, CommandHandler, MessageHandler,\n",
        "    ContextTypes, filters\n",
        ")\n",
        "\n",
        "TELEGRAM_TOKEN = \"token here\"\n",
        "BOT_USERNAME = \"@MindFuel_Nepal_Bot\"\n",
        "\n",
        "# Command Handlers\n",
        "async def start_command(update: Update, context: ContextTypes.DEFAULT_TYPE):\n",
        "    await update.message.reply_text(\"Hello there! I am MindFuel bot. What’s up?\")\n",
        "\n",
        "async def help_command(update: Update, context: ContextTypes.DEFAULT_TYPE):\n",
        "    await update.message.reply_text(\"I am MindFuel bot. Please type something so I can respond!\")\n",
        "\n",
        "async def custom_command(update: Update, context: ContextTypes.DEFAULT_TYPE):\n",
        "    await update.message.reply_text(\"This is a custom command!\")\n",
        "# New command handlers\n",
        "async def remindme_command(update: Update, context: ContextTypes.DEFAULT_TYPE):\n",
        "    chat_id = str(update.effective_chat.id)\n",
        "    message = telegram_agent.invoke(f\"Start hydration reminders every 2 hours for chat ID {chat_id}\")\n",
        "    await update.message.reply_text(message)\n",
        "\n",
        "async def stopreminder_command(update: Update, context: ContextTypes.DEFAULT_TYPE):\n",
        "    chat_id = str(update.effective_chat.id)\n",
        "    message = telegram_agent.invoke(f\"Stop hydration reminders for chat ID {chat_id}\")\n",
        "    await update.message.reply_text(message)\n",
        "\n",
        "\n",
        "\n",
        "# Message processing logic\n",
        "# def handle_response(text: str) -> str:\n",
        "#     processed = text.lower()\n",
        "#     if processed in ['hello', 'hi']:\n",
        "#         return \"Hey there!\"\n",
        "#     return \"I do not know\"\n",
        "\n",
        "# Message Handler\n",
        "async def handle_message(update: Update, context: ContextTypes.DEFAULT_TYPE):\n",
        "    message_type = update.message.chat.type\n",
        "    text = update.message.text\n",
        "    chat_id = str(update.effective_chat.id)\n",
        "\n",
        "    print(f'User ({chat_id}) in {message_type}: \"{text}\"')\n",
        "\n",
        "    # Only respond if not a bot\n",
        "    if update.message.from_user.is_bot:\n",
        "        return\n",
        "\n",
        "    # Let the agent handle all normal messages\n",
        "    try:\n",
        "        # Give context in plain English including chat_id\n",
        "        result = telegram_agent.invoke(f\"{text} (chat ID is {chat_id})\")\n",
        "        await update.message.reply_text(result)\n",
        "    except Exception as e:\n",
        "        print(\"Agent failed:\", e)\n",
        "        await update.message.reply_text(\"Sorry, I didn’t understand that.\")\n",
        "\n",
        "\n",
        "# Error Handler\n",
        "async def error(update: object, context: ContextTypes.DEFAULT_TYPE):\n",
        "    print(f'Update {update} caused error {context.error}')\n",
        "\n",
        "\n",
        "# Async bot runner (to support Jupyter/Colab)\n",
        "async def run_bot():\n",
        "    print(\"Starting bot...\")\n",
        "    app = Application.builder().token(TELEGRAM_TOKEN).build()\n",
        "\n",
        "    # Add handlers\n",
        "    app.add_handler(CommandHandler(\"start\", start_command))\n",
        "    app.add_handler(CommandHandler(\"help\", help_command))\n",
        "    app.add_handler(CommandHandler(\"custom\", custom_command))\n",
        "    # Add to your app handlers\n",
        "    app.add_handler(CommandHandler(\"remindme\", remindme_command))\n",
        "    app.add_handler(CommandHandler(\"stopreminder\", stopreminder_command))\n",
        "    app.add_handler(MessageHandler(filters.TEXT, handle_message))\n",
        "    app.add_error_handler(error)\n",
        "\n",
        "    # Run the bot in a Jupyter/Colab-safe way\n",
        "    await app.initialize()\n",
        "    await app.start()\n",
        "    await app.updater.start_polling()\n",
        "    print(\"Bot is running...\")\n",
        "\n",
        "# Await it directly in Colab/Jupyter\n",
        "await run_bot()\n"
      ]
    },
    {
      "cell_type": "code",
      "execution_count": null,
      "metadata": {
        "colab": {
          "base_uri": "https://localhost:8080/"
        },
        "id": "lNpV1bfieMbz",
        "outputId": "769b8dbe-65a5-47d3-ebf8-3e1c72cb15df"
      },
      "outputs": [
        {
          "data": {
            "text/plain": [
              "{'ok': True, 'result': []}"
            ]
          },
          "execution_count": 42,
          "metadata": {},
          "output_type": "execute_result"
        }
      ],
      "source": [
        "import requests\n",
        "# token = {\"{TOKEN HERE}\"}\n",
        "url = f'https://api.telegram.org/bot{TOKEN HERE}/getUpdates'\n",
        "requests.post(url).json()"
      ]
    },
    {
      "cell_type": "code",
      "execution_count": null,
      "metadata": {
        "id": "VtoLbMtbeMZF"
      },
      "outputs": [],
      "source": []
    }
  ],
  "metadata": {
    "colab": {
      "provenance": []
    },
    "kernelspec": {
      "display_name": "Python 3",
      "name": "python3"
    },
    "language_info": {
      "name": "python"
    }
  },
  "nbformat": 4,
  "nbformat_minor": 0
}
