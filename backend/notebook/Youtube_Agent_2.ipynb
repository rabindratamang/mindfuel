{
  "cells": [
    {
      "cell_type": "code",
      "execution_count": null,
      "metadata": {
        "colab": {
          "base_uri": "https://localhost:8080/"
        },
        "id": "Bhl2H8j1l4gy",
        "outputId": "da296641-8a7b-4661-db99-7fa43c1cb57c"
      },
      "outputs": [
        {
          "name": "stdout",
          "output_type": "stream",
          "text": [
            "\u001b[2K     \u001b[90m━━━━━━━━━━━━━━━━━━━━━━━━━━━━━━━━━━━━━━━━\u001b[0m \u001b[32m43.7/43.7 kB\u001b[0m \u001b[31m1.4 MB/s\u001b[0m eta \u001b[36m0:00:00\u001b[0m\n",
            "\u001b[2K   \u001b[90m━━━━━━━━━━━━━━━━━━━━━━━━━━━━━━━━━━━━━━━━\u001b[0m \u001b[32m65.4/65.4 kB\u001b[0m \u001b[31m1.4 MB/s\u001b[0m eta \u001b[36m0:00:00\u001b[0m\n",
            "\u001b[2K   \u001b[90m━━━━━━━━━━━━━━━━━━━━━━━━━━━━━━━━━━━━━━━━\u001b[0m \u001b[32m152.4/152.4 kB\u001b[0m \u001b[31m8.2 MB/s\u001b[0m eta \u001b[36m0:00:00\u001b[0m\n",
            "\u001b[2K   \u001b[90m━━━━━━━━━━━━━━━━━━━━━━━━━━━━━━━━━━━━━━━━\u001b[0m \u001b[32m2.5/2.5 MB\u001b[0m \u001b[31m19.0 MB/s\u001b[0m eta \u001b[36m0:00:00\u001b[0m\n",
            "\u001b[2K   \u001b[90m━━━━━━━━━━━━━━━━━━━━━━━━━━━━━━━━━━━━━━━━\u001b[0m \u001b[32m43.8/43.8 kB\u001b[0m \u001b[31m1.4 MB/s\u001b[0m eta \u001b[36m0:00:00\u001b[0m\n",
            "\u001b[2K   \u001b[90m━━━━━━━━━━━━━━━━━━━━━━━━━━━━━━━━━━━━━━━━\u001b[0m \u001b[32m50.0/50.0 kB\u001b[0m \u001b[31m2.9 MB/s\u001b[0m eta \u001b[36m0:00:00\u001b[0m\n",
            "\u001b[2K   \u001b[90m━━━━━━━━━━━━━━━━━━━━━━━━━━━━━━━━━━━━━━━━\u001b[0m \u001b[32m44.4/44.4 kB\u001b[0m \u001b[31m2.4 MB/s\u001b[0m eta \u001b[36m0:00:00\u001b[0m\n",
            "\u001b[2K   \u001b[90m━━━━━━━━━━━━━━━━━━━━━━━━━━━━━━━━━━━━━━━━\u001b[0m \u001b[32m50.9/50.9 kB\u001b[0m \u001b[31m2.7 MB/s\u001b[0m eta \u001b[36m0:00:00\u001b[0m\n",
            "\u001b[2K   \u001b[90m━━━━━━━━━━━━━━━━━━━━━━━━━━━━━━━━━━━━━━━━\u001b[0m \u001b[32m216.5/216.5 kB\u001b[0m \u001b[31m7.9 MB/s\u001b[0m eta \u001b[36m0:00:00\u001b[0m\n",
            "\u001b[?25h"
          ]
        }
      ],
      "source": [
        "%pip install -qU langchain-openai langchain langgraph langchain_community langgraph-supervisor"
      ]
    },
    {
      "cell_type": "code",
      "execution_count": null,
      "metadata": {
        "id": "ID2oibW_mJgn"
      },
      "outputs": [],
      "source": [
        "from pydantic import BaseModel\n",
        "from langchain_openai import ChatOpenAI\n",
        "from google.colab import userdata\n",
        "from langgraph.prebuilt import create_react_agent\n",
        "from langgraph_supervisor import create_supervisor\n",
        "from langchain_core.tools import tool\n",
        "from langchain_core.messages import (\n",
        "    HumanMessage,\n",
        ")\n",
        "from langgraph.prebuilt import create_react_agent\n",
        "import requests\n",
        "key = userdata.get('OPENAI_API_KEY')"
      ]
    },
    {
      "cell_type": "code",
      "execution_count": null,
      "metadata": {
        "id": "QeQa24pRl79e"
      },
      "outputs": [],
      "source": [
        "model = ChatOpenAI(api_key=key,model=\"gpt-4o-mini\")"
      ]
    },
    {
      "cell_type": "code",
      "execution_count": null,
      "metadata": {
        "id": "n8bXAzz3I1iy"
      },
      "outputs": [],
      "source": [
        "import requests\n",
        "\n",
        "@tool\n",
        "def search_youtube_video(query: str, region: str = \"US\", language: str = \"en\") -> dict:\n",
        "    \"\"\"\n",
        "    Search for a video on YouTube using the RapidAPI YouTube138 API.\n",
        "\n",
        "    Args:\n",
        "        query (str): The search query (e.g., video title or keyword).\n",
        "        region (str): The region code (default is 'US').\n",
        "        language (str): The language code (default is 'en').\n",
        "\n",
        "    Returns:\n",
        "        dict: JSON containing details of the top video result.\n",
        "    \"\"\"\n",
        "    url = \"https://youtube138.p.rapidapi.com/search/\"\n",
        "    params = {\n",
        "        \"q\": query,\n",
        "        \"hl\": language,\n",
        "        \"gl\": region\n",
        "    }\n",
        "    headers = {\n",
        "        \"x-rapidapi-key\": \"api_key_here\",  # Replace with your RapidAPI key\n",
        "        \"x-rapidapi-host\": \"youtube138.p.rapidapi.com\"\n",
        "    }\n",
        "\n",
        "    try:\n",
        "        response = requests.get(url, headers=headers, params=params)\n",
        "        response.raise_for_status()\n",
        "        data = response.json()\n",
        "\n",
        "        for result in data.get(\"contents\", []):\n",
        "            video = result.get(\"video\")\n",
        "            if video:\n",
        "                video_id = video.get(\"videoId\")\n",
        "                return {\n",
        "                    \"query\": query,\n",
        "                    \"video_id\": video_id,\n",
        "                    \"video_url\": f\"https://www.youtube.com/watch?v={video_id}\",\n",
        "                    \"title\": video.get(\"title\"),\n",
        "                    \"description\": video.get(\"descriptionSnippet\"),\n",
        "                    \"duration_seconds\": video.get(\"lengthSeconds\"),\n",
        "                    \"published_time\": video.get(\"publishedTimeText\"),\n",
        "                    \"views\": video.get(\"stats\", {}).get(\"views\"),\n",
        "                    \"thumbnail\": video.get(\"thumbnails\", [{}])[0].get(\"url\"),\n",
        "                    \"channel\": {\n",
        "                        \"title\": video.get(\"author\", {}).get(\"title\"),\n",
        "                        \"channel_id\": video.get(\"author\", {}).get(\"channelId\"),\n",
        "                        \"avatar\": video.get(\"author\", {}).get(\"avatar\", [{}])[0].get(\"url\"),\n",
        "                        \"channel_url\": f\"https://www.youtube.com/channel/{video.get('author', {}).get('channelId')}\"\n",
        "                    }\n",
        "                }\n",
        "\n",
        "        return {\"message\": \"No video found for your query.\"}\n",
        "\n",
        "    except requests.exceptions.RequestException as e:\n",
        "        return {\"error\": f\"Error during YouTube search: {str(e)}\"}\n",
        "    except (KeyError, IndexError, TypeError) as e:\n",
        "        return {\"error\": f\"Unexpected response format: {str(e)}\"}\n",
        "\n",
        " "
      ]
    },
    {
      "cell_type": "code",
      "execution_count": null,
      "metadata": {
        "id": "ScOmGzhlI1f5"
      },
      "outputs": [],
      "source": [
        "# youtube_assistant = create_react_agent(\n",
        "#     model=model,\n",
        "#     tools=[search_youtube_video],\n",
        "#     prompt=\"You are a helpful YouTube video assistant. Your job is to help users find YouTube videos based on their search queries.\",\n",
        "#     name=\"youtube_assistant\"\n",
        "# )\n",
        "youtube_assistant = create_react_agent(\n",
        "    model=model,\n",
        "    tools=[search_youtube_video],\n",
        "    prompt=(\n",
        "        \"You are a helpful YouTube video assistant. Your job is to help users find YouTube videos \"\n",
        "        \"based on their search queries using the `search_youtube_video` tool.\\n\\n\"\n",
        "        \"🧠 Think step-by-step and always call the tool using the user's query.\\n\"\n",
        "        \"📦 When returning the result to the user, **always format the output strictly as JSON** using the structure below:\\n\\n\"\n",
        "        \"{\\n\"\n",
        "        '  \"query\": string,\\n'\n",
        "        '  \"video_id\": string,\\n'\n",
        "        '  \"video_url\": string,\\n'\n",
        "        '  \"title\": string,\\n'\n",
        "        '  \"description\": string,\\n'\n",
        "        '  \"duration_seconds\": integer,\\n'\n",
        "        '  \"published_time\": string,\\n'\n",
        "        '  \"views\": integer,\\n'\n",
        "        '  \"thumbnail\": string,\\n'\n",
        "        '  \"channel\": {\\n'\n",
        "        '    \"title\": string,\\n'\n",
        "        '    \"channel_id\": string,\\n'\n",
        "        '    \"avatar\": string,\\n'\n",
        "        '    \"channel_url\": string\\n'\n",
        "        \"  }\\n\"\n",
        "        \"}\\n\\n\"\n",
        "        \"❗️Do not include any commentary or explanation outside the JSON. Only return valid JSON.\"\n",
        "    ),\n",
        "    name=\"youtube_assistant\"\n",
        ")\n"
      ]
    },
    {
      "cell_type": "code",
      "execution_count": null,
      "metadata": {
        "colab": {
          "base_uri": "https://localhost:8080/"
        },
        "id": "r6uI3yWUI1dQ",
        "outputId": "23a31769-9439-4437-f230-74e9cf774a7a"
      },
      "outputs": [
        {
          "data": {
            "text/plain": [
              "[HumanMessage(content='5 minute video of yoga.', additional_kwargs={}, response_metadata={}, id='f792c920-0500-44ea-9257-ef89d9bea1a8'),\n",
              " AIMessage(content='', additional_kwargs={'tool_calls': [{'id': 'call_vJfq7nGV2TS7jxEmwZ1uKrdu', 'function': {'arguments': '{\"query\":\"5 minute yoga\"}', 'name': 'search_youtube_video'}, 'type': 'function'}], 'refusal': None}, response_metadata={'token_usage': {'completion_tokens': 18, 'prompt_tokens': 329, 'total_tokens': 347, 'completion_tokens_details': {'accepted_prediction_tokens': 0, 'audio_tokens': 0, 'reasoning_tokens': 0, 'rejected_prediction_tokens': 0}, 'prompt_tokens_details': {'audio_tokens': 0, 'cached_tokens': 0}}, 'model_name': 'gpt-4o-mini-2024-07-18', 'system_fingerprint': 'fp_34a54ae93c', 'id': 'chatcmpl-BjJS2QFtI8t1XvnEZ8wAfKtSPBR1T', 'service_tier': 'default', 'finish_reason': 'tool_calls', 'logprobs': None}, name='youtube_assistant', id='run--965a1a97-f3cf-432b-8e5a-3ba2bd4d37f0-0', tool_calls=[{'name': 'search_youtube_video', 'args': {'query': '5 minute yoga'}, 'id': 'call_vJfq7nGV2TS7jxEmwZ1uKrdu', 'type': 'tool_call'}], usage_metadata={'input_tokens': 329, 'output_tokens': 18, 'total_tokens': 347, 'input_token_details': {'audio': 0, 'cache_read': 0}, 'output_token_details': {'audio': 0, 'reasoning': 0}}),\n",
              " ToolMessage(content='{\"query\": \"5 minute yoga\", \"video_id\": \"p39GdEUxxAk\", \"video_url\": \"https://www.youtube.com/watch?v=p39GdEUxxAk\", \"title\": \"5 Minute Yoga for Back Tension (6 Movements of the Spine)\", \"description\": \"Do this 5 minute yoga class to help relieve back tension and general back pain. This quick yoga class incorporated the 6\\xa0...\", \"duration_seconds\": 309, \"published_time\": \"4 years ago\", \"views\": 284627, \"thumbnail\": \"https://i.ytimg.com/vi/p39GdEUxxAk/hq720.jpg?sqp=-oaymwEcCOgCEMoBSFXyq4qpAw4IARUAAIhCGAFwAcABBg==&rs=AOn4CLD3LpOvkKA1FW76c-ouuy4aSyJVdg\", \"channel\": {\"title\": \"Yoga With Bird\", \"channel_id\": \"UCxYVPua6HC46HzgT8IIn3vg\", \"avatar\": \"https://yt3.ggpht.com/i9LIxpbZvG6-57SHsq7tio9cbp109r1USkpeFuexB9fYK-En-50r4V7Jn2Vp9nsh_HNUql-vng=s68-c-k-c0x00ffffff-no-rj\", \"channel_url\": \"https://www.youtube.com/channel/UCxYVPua6HC46HzgT8IIn3vg\"}}', name='search_youtube_video', id='1ed2dd13-ecd9-4b2c-8fa7-d462c8bc29d3', tool_call_id='call_vJfq7nGV2TS7jxEmwZ1uKrdu'),\n",
              " AIMessage(content='{\\n  \"query\": \"5 minute yoga\",\\n  \"video_id\": \"p39GdEUxxAk\",\\n  \"video_url\": \"https://www.youtube.com/watch?v=p39GdEUxxAk\",\\n  \"title\": \"5 Minute Yoga for Back Tension (6 Movements of the Spine)\",\\n  \"description\": \"Do this 5 minute yoga class to help relieve back tension and general back pain. This quick yoga class incorporated the 6\\xa0...\",\\n  \"duration_seconds\": 309,\\n  \"published_time\": \"4 years ago\",\\n  \"views\": 284627,\\n  \"thumbnail\": \"https://i.ytimg.com/vi/p39GdEUxxAk/hq720.jpg?sqp=-oaymwEcCOgCEMoBSFXyq4qpAw4IARUAAIhCGAFwAcABBg==&rs=AOn4CLD3LpOvkKA1FW76c-ouuy4aSyJVdg\",\\n  \"channel\": {\\n    \"title\": \"Yoga With Bird\",\\n    \"channel_id\": \"UCxYVPua6HC46HzgT8IIn3vg\",\\n    \"avatar\": \"https://yt3.ggpht.com/i9LIxpbZvG6-57SHsq7tio9cbp109r1USkpeFuexB9fYK-En-50r4V7Jn2Vp9nsh_HNUql-vng=s68-c-k-c0x00ffffff-no-rj\",\\n    \"channel_url\": \"https://www.youtube.com/channel/UCxYVPua6HC46HzgT8IIn3vg\"\\n  }\\n}', additional_kwargs={'refusal': None}, response_metadata={'token_usage': {'completion_tokens': 350, 'prompt_tokens': 691, 'total_tokens': 1041, 'completion_tokens_details': {'accepted_prediction_tokens': 0, 'audio_tokens': 0, 'reasoning_tokens': 0, 'rejected_prediction_tokens': 0}, 'prompt_tokens_details': {'audio_tokens': 0, 'cached_tokens': 0}}, 'model_name': 'gpt-4o-mini-2024-07-18', 'system_fingerprint': 'fp_34a54ae93c', 'id': 'chatcmpl-BjJS4CMXyDcxGMzwLZYhVQyav5atl', 'service_tier': 'default', 'finish_reason': 'stop', 'logprobs': None}, name='youtube_assistant', id='run--d288dd6a-24cd-4356-916d-15f1425ec968-0', usage_metadata={'input_tokens': 691, 'output_tokens': 350, 'total_tokens': 1041, 'input_token_details': {'audio': 0, 'cache_read': 0}, 'output_token_details': {'audio': 0, 'reasoning': 0}})]"
            ]
          },
          "execution_count": 7,
          "metadata": {},
          "output_type": "execute_result"
        }
      ],
      "source": [
        "response = youtube_assistant.invoke(\n",
        "    {\n",
        "        \"messages\": [\n",
        "            HumanMessage(content=\"5 minute video of yoga.\")\n",
        "            ]\n",
        "    }\n",
        "    )\n",
        "response[\"messages\"]"
      ]
    },
    {
      "cell_type": "code",
      "execution_count": null,
      "metadata": {
        "colab": {
          "base_uri": "https://localhost:8080/",
          "height": 105
        },
        "id": "7YIcPQSUI1X1",
        "outputId": "d3e890ca-89b3-4663-ccbf-70e85ccce7d6"
      },
      "outputs": [
        {
          "data": {
            "application/vnd.google.colaboratory.intrinsic+json": {
              "type": "string"
            },
            "text/plain": [
              "'{\\n  \"query\": \"5 minute yoga\",\\n  \"video_id\": \"p39GdEUxxAk\",\\n  \"video_url\": \"https://www.youtube.com/watch?v=p39GdEUxxAk\",\\n  \"title\": \"5 Minute Yoga for Back Tension (6 Movements of the Spine)\",\\n  \"description\": \"Do this 5 minute yoga class to help relieve back tension and general back pain. This quick yoga class incorporated the 6\\xa0...\",\\n  \"duration_seconds\": 309,\\n  \"published_time\": \"4 years ago\",\\n  \"views\": 284627,\\n  \"thumbnail\": \"https://i.ytimg.com/vi/p39GdEUxxAk/hq720.jpg?sqp=-oaymwEcCOgCEMoBSFXyq4qpAw4IARUAAIhCGAFwAcABBg==&rs=AOn4CLD3LpOvkKA1FW76c-ouuy4aSyJVdg\",\\n  \"channel\": {\\n    \"title\": \"Yoga With Bird\",\\n    \"channel_id\": \"UCxYVPua6HC46HzgT8IIn3vg\",\\n    \"avatar\": \"https://yt3.ggpht.com/i9LIxpbZvG6-57SHsq7tio9cbp109r1USkpeFuexB9fYK-En-50r4V7Jn2Vp9nsh_HNUql-vng=s68-c-k-c0x00ffffff-no-rj\",\\n    \"channel_url\": \"https://www.youtube.com/channel/UCxYVPua6HC46HzgT8IIn3vg\"\\n  }\\n}'"
            ]
          },
          "execution_count": 8,
          "metadata": {},
          "output_type": "execute_result"
        }
      ],
      "source": [
        "response[\"messages\"][-1].content"
      ]
    },
    {
      "cell_type": "markdown",
      "metadata": {
        "id": "rS3ADTRP5Dzw"
      },
      "source": [
        "# Class"
      ]
    },
    {
      "cell_type": "code",
      "execution_count": null,
      "metadata": {
        "id": "jrYKBJdk5Dov"
      },
      "outputs": [],
      "source": [
        "import requests\n",
        "from langchain_openai import ChatOpenAI\n",
        "from google.colab import userdata\n",
        "from langgraph.prebuilt import create_react_agent\n",
        "from langchain_core.tools import tool\n",
        "from langchain_core.messages import HumanMessage\n",
        "import os\n",
        "from dotenv import load_dotenv\n",
        "os.environ[\"OPENAI_API_KEY\"] = userdata.get(\"OPENAI_API_KEY\")\n",
        "os.environ[\"RAPIDAPI_KEY\"] = userdata.get(\"RAPIDAPI_KEY\")\n",
        "load_dotenv()\n",
        "\n",
        "class YoutubeAgent:\n",
        "    def __init__(self):\n",
        "        self.openai_api_key = os.getenv('OPENAI_API_KEY')\n",
        "        self.rapidapi_key = os.getenv('RAPIDAPI_KEY') # rapidapi_key or \"api key here\"  # Replace with your RapidAPI key\n",
        "        self.model = ChatOpenAI(api_key=self.openai_api_key, model=\"gpt-4o-mini\", verbose=True)\n",
        "        self.agent = create_react_agent(\n",
        "            model=self.model,\n",
        "\n",
        "            tools=[self.search_youtube_video],\n",
        "            prompt=(\n",
        "    \"You are a helpful YouTube video assistant. Your job is to help users find YouTube videos \"\n",
        "    \"based on their search queries. Use the tool to perform a search and return the top result. \"\n",
        "    \"Once the top result is found, return it as 'Final Answer: <result>' and stop.\"\n",
        "),\n",
        "            name=\"youtube_assistant\"\n",
        "        )\n",
        "        # print(self.openai_api_key)\n",
        "        # print(self.rapidapi_key)\n",
        "\n",
        "    @tool\n",
        "    def search_youtube_video(self, query: str, region: str = \"US\", language: str = \"en\") -> str:\n",
        "        \"\"\"\n",
        "        Search for a video on YouTube using the RapidAPI YouTube138 API.\n",
        "        Args:\n",
        "            query (str): The search query (e.g., video title or keyword).\n",
        "            region (str): The region code (default is 'US').\n",
        "            language (str): The language code (default is 'en').\n",
        "        Returns:\n",
        "            str: The title and URL of the top video result.\n",
        "        \"\"\"\n",
        "        print(\"*********************Tool Invoked\")\n",
        "        url = \"https://youtube138.p.rapidapi.com/search/\"\n",
        "        params = {\n",
        "            \"q\": query,\n",
        "            \"hl\": language,\n",
        "            \"gl\": region\n",
        "        }\n",
        "        headers = {\n",
        "            \"x-rapidapi-key\": self.rapidapi_key,\n",
        "            \"x-rapidapi-host\": \"youtube138.p.rapidapi.com\"\n",
        "        }\n",
        "        try:\n",
        "            response = requests.get(url, headers=headers, params=params)\n",
        "            response.raise_for_status()\n",
        "            data = response.json()\n",
        "            for result in data.get(\"contents\", []):\n",
        "                video = result.get(\"video\")\n",
        "                if video:\n",
        "                    print(\"Hello\")\n",
        "                    title = video.get(\"title\")\n",
        "                    print(\"Hello\", title)\n",
        "                    video_id = video.get(\"videoId\")\n",
        "                    print(\"Hello\", video_id)\n",
        "                    video_url = f\"https://www.youtube.com/watch?v={video_id}\"\n",
        "                    return f\"Final Answer: Top result:\\nTitle: {title}\\nURL: {video_url}\"\n",
        "            return \"Final Answer: No video found for your query.\"\n",
        "        except requests.exceptions.RequestException as e:\n",
        "            return f\"Error during YouTube search: {str(e)}\"\n",
        "        except (KeyError, IndexError, TypeError) as e:\n",
        "            return f\"Unexpected response format: {str(e)}\"\n",
        "\n",
        "    def run(self, user_input):\n",
        "        response = self.agent.invoke({\n",
        "            \"messages\": [HumanMessage(content=user_input)]\n",
        "        },\n",
        "        config={\"recursion_limit\": 50})\n",
        "        return response[\"messages\"][-1].content\n"
      ]
    },
    {
      "cell_type": "code",
      "execution_count": null,
      "metadata": {
        "colab": {
          "base_uri": "https://localhost:8080/"
        },
        "id": "B684rrDWNoN_",
        "outputId": "5b9f0ebc-3d98-492e-ee57-050435191589"
      },
      "outputs": [
        {
          "name": "stdout",
          "output_type": "stream",
          "text": [
            "Sorry, need more steps to process this request.\n"
          ]
        }
      ],
      "source": [
        "# Usage example for YoutubeAgent class\n",
        "youtube_agent = YoutubeAgent()\n",
        "result = youtube_agent.run(\"5 minute yoga video\")\n",
        "print(result)"
      ]
    },
    {
      "cell_type": "code",
      "execution_count": null,
      "metadata": {
        "colab": {
          "base_uri": "https://localhost:8080/"
        },
        "id": "JJ0LgyM-6Tmk",
        "outputId": "1a3533cb-5794-4d97-80d1-1c037cb6a210"
      },
      "outputs": [
        {
          "name": "stdout",
          "output_type": "stream",
          "text": [
            "I'm having trouble retrieving the requested information at the moment. Please try again later.\n"
          ]
        }
      ],
      "source": [
        "# Usage example for YoutubeAgent class\n",
        "youtube_agent = YoutubeAgent()\n",
        "result = youtube_agent.run(\"5 minute yoga video\")\n",
        "print(result)"
      ]
    }
  ],
  "metadata": {
    "colab": {
      "provenance": []
    },
    "kernelspec": {
      "display_name": "Python 3",
      "name": "python3"
    },
    "language_info": {
      "name": "python"
    }
  },
  "nbformat": 4,
  "nbformat_minor": 0
}
