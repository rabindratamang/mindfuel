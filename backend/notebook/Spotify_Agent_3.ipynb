{
  "cells": [
    {
      "cell_type": "code",
      "execution_count": null,
      "metadata": {
        "colab": {
          "base_uri": "https://localhost:8080/"
        },
        "id": "Bhl2H8j1l4gy",
        "outputId": "c147319b-654f-4301-f21d-6a34b59a5bec"
      },
      "outputs": [
        {
          "name": "stdout",
          "output_type": "stream",
          "text": [
            "\u001b[2K     \u001b[90m━━━━━━━━━━━━━━━━━━━━━━━━━━━━━━━━━━━━━━━\u001b[0m \u001b[32m43.7/43.7 kB\u001b[0m \u001b[31m978.5 kB/s\u001b[0m eta \u001b[36m0:00:00\u001b[0m\n",
            "\u001b[2K   \u001b[90m━━━━━━━━━━━━━━━━━━━━━━━━━━━━━━━━━━━━━━━━\u001b[0m \u001b[32m65.4/65.4 kB\u001b[0m \u001b[31m3.4 MB/s\u001b[0m eta \u001b[36m0:00:00\u001b[0m\n",
            "\u001b[2K   \u001b[90m━━━━━━━━━━━━━━━━━━━━━━━━━━━━━━━━━━━━━━━━\u001b[0m \u001b[32m152.4/152.4 kB\u001b[0m \u001b[31m6.1 MB/s\u001b[0m eta \u001b[36m0:00:00\u001b[0m\n",
            "\u001b[2K   \u001b[90m━━━━━━━━━━━━━━━━━━━━━━━━━━━━━━━━━━━━━━━━\u001b[0m \u001b[32m2.5/2.5 MB\u001b[0m \u001b[31m40.3 MB/s\u001b[0m eta \u001b[36m0:00:00\u001b[0m\n",
            "\u001b[2K   \u001b[90m━━━━━━━━━━━━━━━━━━━━━━━━━━━━━━━━━━━━━━━━\u001b[0m \u001b[32m43.8/43.8 kB\u001b[0m \u001b[31m1.6 MB/s\u001b[0m eta \u001b[36m0:00:00\u001b[0m\n",
            "\u001b[2K   \u001b[90m━━━━━━━━━━━━━━━━━━━━━━━━━━━━━━━━━━━━━━━━\u001b[0m \u001b[32m50.0/50.0 kB\u001b[0m \u001b[31m1.6 MB/s\u001b[0m eta \u001b[36m0:00:00\u001b[0m\n",
            "\u001b[2K   \u001b[90m━━━━━━━━━━━━━━━━━━━━━━━━━━━━━━━━━━━━━━━━\u001b[0m \u001b[32m44.4/44.4 kB\u001b[0m \u001b[31m1.9 MB/s\u001b[0m eta \u001b[36m0:00:00\u001b[0m\n",
            "\u001b[2K   \u001b[90m━━━━━━━━━━━━━━━━━━━━━━━━━━━━━━━━━━━━━━━━\u001b[0m \u001b[32m50.9/50.9 kB\u001b[0m \u001b[31m1.9 MB/s\u001b[0m eta \u001b[36m0:00:00\u001b[0m\n",
            "\u001b[2K   \u001b[90m━━━━━━━━━━━━━━━━━━━━━━━━━━━━━━━━━━━━━━━━\u001b[0m \u001b[32m216.5/216.5 kB\u001b[0m \u001b[31m9.9 MB/s\u001b[0m eta \u001b[36m0:00:00\u001b[0m\n",
            "\u001b[?25h"
          ]
        }
      ],
      "source": [
        "%pip install -qU langchain-openai langchain langgraph langchain_community langgraph-supervisor"
      ]
    },
    {
      "cell_type": "code",
      "execution_count": null,
      "metadata": {
        "id": "ID2oibW_mJgn"
      },
      "outputs": [],
      "source": [
        "from pydantic import BaseModel\n",
        "from langchain_openai import ChatOpenAI\n",
        "from google.colab import userdata\n",
        "from langgraph.prebuilt import create_react_agent\n",
        "from langgraph_supervisor import create_supervisor\n",
        "from langchain_core.tools import tool\n",
        "from langchain_core.messages import (\n",
        "    HumanMessage,\n",
        ")\n",
        "from langgraph.prebuilt import create_react_agent\n",
        "import requests\n",
        "key = userdata.get('OPENAI_API_KEY')"
      ]
    },
    {
      "cell_type": "code",
      "execution_count": null,
      "metadata": {
        "id": "QeQa24pRl79e"
      },
      "outputs": [],
      "source": [
        "model = ChatOpenAI(api_key=key,model=\"gpt-4o-mini\")"
      ]
    },
    {
      "cell_type": "markdown",
      "metadata": {
        "id": "CRxJ1b1kK93u"
      },
      "source": [
        "# Tool Define"
      ]
    },
    {
      "cell_type": "code",
      "execution_count": null,
      "metadata": {
        "id": "J8_cd1GgHgn7"
      },
      "outputs": [],
      "source": [
        "from langchain.tools import tool\n",
        "from typing import List\n",
        "import requests\n",
        "\n",
        "# Optional: Use a dataclass to format results more clearly\n",
        "def get_spotify_token(client_id: str, client_secret: str) -> str:\n",
        "    \"\"\"\n",
        "    Fetches a bearer token from Spotify using client credentials.\n",
        "    \"\"\"\n",
        "    url = 'https://accounts.spotify.com/api/token'\n",
        "    headers = {'Content-Type': 'application/x-www-form-urlencoded'}\n",
        "    data = {'grant_type': 'client_credentials'}\n",
        "    response = requests.post(url, headers=headers, data=data, auth=(client_id, client_secret))\n",
        "    response.raise_for_status()\n",
        "    return response.json()['access_token']\n",
        "\n",
        "import requests\n",
        "\n",
        "@tool\n",
        "def search_spotify_playlists(query: str) -> dict:\n",
        "    \"\"\"\n",
        "    Search for Spotify playlists using a keyword (e.g., \"sleep\", \"meditation\").\n",
        "\n",
        "    Returns a JSON object with the top 5 playlists including name, description, image, link, owner, and track count.\n",
        "    \"\"\"\n",
        "    client_id = \"api_key_here\"\n",
        "    client_secret = \"api_secret_here\"\n",
        "\n",
        "    try:\n",
        "        token = get_spotify_token(client_id, client_secret)\n",
        "\n",
        "        headers = {\n",
        "            'Authorization': f'Bearer {token}'\n",
        "        }\n",
        "        params = {\n",
        "            'q': query,\n",
        "            'type': 'playlist',\n",
        "            'limit': 5\n",
        "        }\n",
        "        url = 'https://api.spotify.com/v1/search'\n",
        "        response = requests.get(url, headers=headers, params=params)\n",
        "        response.raise_for_status()\n",
        "\n",
        "        playlists = response.json().get('playlists', {}).get('items', [])\n",
        "\n",
        "        if not playlists:\n",
        "            return {\"message\": \"No playlists found for your query.\"}\n",
        "\n",
        "        result = {\n",
        "            \"query\": query,\n",
        "            \"total\": len(playlists),\n",
        "            \"playlists\": []\n",
        "        }\n",
        "\n",
        "        for pl in playlists:\n",
        "            if pl is None:\n",
        "                continue\n",
        "\n",
        "            result[\"playlists\"].append({\n",
        "                \"name\": pl.get('name'),\n",
        "                \"description\": pl.get('description'),\n",
        "                \"external_url\": pl.get('external_urls', {}).get('spotify'),\n",
        "                \"image\": pl.get('images', [{}])[0].get('url'),\n",
        "                \"owner\": {\n",
        "                    \"name\": pl.get('owner', {}).get('display_name'),\n",
        "                    \"url\": pl.get('owner', {}).get('external_urls', {}).get('spotify')\n",
        "                },\n",
        "                \"tracks\": {\n",
        "                    \"url\": pl.get('tracks', {}).get('href'),\n",
        "                    \"total\": pl.get('tracks', {}).get('total')\n",
        "                }\n",
        "            })\n",
        "\n",
        "        return result\n",
        "\n",
        "    except Exception as e:\n",
        "        return {\"error\": str(e)}\n",
        "\n",
        "\n",
        " \n"
      ]
    },
    {
      "cell_type": "markdown",
      "metadata": {
        "id": "2QDUqA4ebzsh"
      },
      "source": [
        "# Tool Run"
      ]
    },
    {
      "cell_type": "code",
      "execution_count": null,
      "metadata": {
        "colab": {
          "base_uri": "https://localhost:8080/"
        },
        "id": "BEAnkHJzWRL5",
        "outputId": "dbec05d0-55f4-4e65-c686-597895b6710a"
      },
      "outputs": [
        {
          "data": {
            "text/plain": [
              "{'query': 'happy', 'total': 5, 'playlists': []}"
            ]
          },
          "execution_count": 6,
          "metadata": {},
          "output_type": "execute_result"
        }
      ],
      "source": [
        "search_spotify_playlists.run(\"happy\")"
      ]
    },
    {
      "cell_type": "code",
      "execution_count": null,
      "metadata": {
        "colab": {
          "base_uri": "https://localhost:8080/"
        },
        "id": "gGj5NjAaaEgh",
        "outputId": "4b661f85-9ebb-4700-c250-676ecda5a7f7"
      },
      "outputs": [
        {
          "data": {
            "text/plain": [
              "{'query': 'meditation',\n",
              " 'total': 5,\n",
              " 'playlists': [{'name': 'Tibetan Healing Music, Zen Meditation, Stress Relief, Relaxing Music, Tibetan Bowls, Indian Flute',\n",
              "   'description': 'Tibetan Healing Sounds - Cleanse the aura and space. Indian Flute Meditation Music, Yoga Music, Positive Vibes, Peace Of Mind . Bamboo Flute Music, Positive Energy Vibration, Cleanse Negative Energy. ',\n",
              "   'external_url': 'https://open.spotify.com/playlist/0mnWqdNjnmb0AqNmXzQ0Vz',\n",
              "   'image': 'https://image-cdn-fa.spotifycdn.com/image/ab67706c0000d72cadec9d86e0f9f46e02341c83',\n",
              "   'owner': {'name': 'Steven Jones',\n",
              "    'url': 'https://open.spotify.com/user/5vkly7zasn8eqxxlnhmuivgq8'},\n",
              "   'tracks': {'url': 'https://api.spotify.com/v1/playlists/0mnWqdNjnmb0AqNmXzQ0Vz/tracks',\n",
              "    'total': 338}}]}"
            ]
          },
          "execution_count": 7,
          "metadata": {},
          "output_type": "execute_result"
        }
      ],
      "source": [
        "search_spotify_playlists.run(\"meditation\")"
      ]
    },
    {
      "cell_type": "markdown",
      "metadata": {
        "id": "IhSGHEpHb5lg"
      },
      "source": [
        "# Agent Definition"
      ]
    },
    {
      "cell_type": "code",
      "execution_count": null,
      "metadata": {
        "id": "eKT4xXkVIU3n"
      },
      "outputs": [],
      "source": [
        " \n",
        "spotify_assistant = create_react_agent(\n",
        "    model=model,\n",
        "    tools=[search_spotify_playlists],\n",
        "    prompt=(\n",
        "        \"You are a helpful Spotify assistant. Your job is to help users discover Spotify playlists \"\n",
        "        \"based on their search queries using the tool provided.\\n\\n\"\n",
        "        \"🧠 Think step-by-step, and always call the `search_spotify_playlists` tool with the user query.\\n\"\n",
        "        \"📦 When returning results to the user, format the final output in **JSON** using this structure:\\n\\n\"\n",
        "        \"{\\n\"\n",
        "        '  \"query\": string,\\n'\n",
        "        '  \"total\": integer,\\n'\n",
        "        '  \"playlists\": [\\n'\n",
        "        \"    {\\n\"\n",
        "        '      \"name\": string,\\n'\n",
        "        '      \"description\": string,\\n'\n",
        "        '      \"external_url\": string,\\n'\n",
        "        '      \"image\": string,\\n'\n",
        "        '      \"owner\": {\"name\": string, \"url\": string},\\n'\n",
        "        '      \"tracks\": {\"url\": string, \"total\": integer}\\n'\n",
        "        \"    },\\n\"\n",
        "        \"    ...\\n\"\n",
        "        \"  ]\\n\"\n",
        "        \"}\\n\\n\"\n",
        "        \"Only return JSON. Do not add any extra commentary or text outside of the JSON structure.\"\n",
        "    ),\n",
        "    name=\"spotify_assistant\"\n",
        ")\n"
      ]
    },
    {
      "cell_type": "markdown",
      "metadata": {
        "id": "v5zIeO78b8Pf"
      },
      "source": [
        "# Agent Invoke"
      ]
    },
    {
      "cell_type": "markdown",
      "metadata": {
        "id": "ZIhBHhDGC3hQ"
      },
      "source": [
        "# Happy"
      ]
    },
    {
      "cell_type": "code",
      "execution_count": null,
      "metadata": {
        "colab": {
          "base_uri": "https://localhost:8080/"
        },
        "id": "aPaSyj2WZkoe",
        "outputId": "d0fb795e-69e4-444b-af06-cfe040bdb734"
      },
      "outputs": [
        {
          "data": {
            "text/plain": [
              "[HumanMessage(content='happy', additional_kwargs={}, response_metadata={}, id='66d36f85-8745-4dfb-9e31-24c67fdd3260'),\n",
              " AIMessage(content='', additional_kwargs={'tool_calls': [{'id': 'call_cZSeE4dVor2d3UCsXeda1Zgd', 'function': {'arguments': '{\"query\":\"happy\"}', 'name': 'search_spotify_playlists'}, 'type': 'function'}], 'refusal': None}, response_metadata={'token_usage': {'completion_tokens': 17, 'prompt_tokens': 108, 'total_tokens': 125, 'completion_tokens_details': {'accepted_prediction_tokens': 0, 'audio_tokens': 0, 'reasoning_tokens': 0, 'rejected_prediction_tokens': 0}, 'prompt_tokens_details': {'audio_tokens': 0, 'cached_tokens': 0}}, 'model_name': 'gpt-4o-mini-2024-07-18', 'system_fingerprint': 'fp_62a23a81ef', 'id': 'chatcmpl-BjIpdFhXFXwz3pDeKFBA09SgfP2gB', 'service_tier': 'default', 'finish_reason': 'tool_calls', 'logprobs': None}, name='spotify_assistant', id='run--043ef8b0-e48f-4a42-828d-8de0c03b96e6-0', tool_calls=[{'name': 'search_spotify_playlists', 'args': {'query': 'happy'}, 'id': 'call_cZSeE4dVor2d3UCsXeda1Zgd', 'type': 'tool_call'}], usage_metadata={'input_tokens': 108, 'output_tokens': 17, 'total_tokens': 125, 'input_token_details': {'audio': 0, 'cache_read': 0}, 'output_token_details': {'audio': 0, 'reasoning': 0}}),\n",
              " ToolMessage(content='{\"query\": \"happy\", \"total\": 5, \"playlists\": []}', name='search_spotify_playlists', id='171f74c0-86bc-4263-8d65-7897919dfe0e', tool_call_id='call_cZSeE4dVor2d3UCsXeda1Zgd'),\n",
              " AIMessage(content='It looks like there are no specific playlists found for the keyword \"happy.\" Would you like to try a different keyword or perhaps search for another mood or genre?', additional_kwargs={'refusal': None}, response_metadata={'token_usage': {'completion_tokens': 33, 'prompt_tokens': 158, 'total_tokens': 191, 'completion_tokens_details': {'accepted_prediction_tokens': 0, 'audio_tokens': 0, 'reasoning_tokens': 0, 'rejected_prediction_tokens': 0}, 'prompt_tokens_details': {'audio_tokens': 0, 'cached_tokens': 0}}, 'model_name': 'gpt-4o-mini-2024-07-18', 'system_fingerprint': 'fp_62a23a81ef', 'id': 'chatcmpl-BjIpeXWuJxtlU4QKFth5j8pggXluE', 'service_tier': 'default', 'finish_reason': 'stop', 'logprobs': None}, name='spotify_assistant', id='run--62933b9c-0aa2-4281-97a1-5b2511c9e87d-0', usage_metadata={'input_tokens': 158, 'output_tokens': 33, 'total_tokens': 191, 'input_token_details': {'audio': 0, 'cache_read': 0}, 'output_token_details': {'audio': 0, 'reasoning': 0}})]"
            ]
          },
          "execution_count": 9,
          "metadata": {},
          "output_type": "execute_result"
        }
      ],
      "source": [
        "response = spotify_assistant.invoke(\n",
        "    {\n",
        "        \"messages\": [\n",
        "            HumanMessage(content=\"happy\")\n",
        "            ]\n",
        "    }\n",
        "    )\n",
        "response[\"messages\"]"
      ]
    },
    {
      "cell_type": "code",
      "execution_count": null,
      "metadata": {
        "colab": {
          "base_uri": "https://localhost:8080/",
          "height": 36
        },
        "id": "NBM9wcRlBxcx",
        "outputId": "09101dc2-f3a4-497d-8d5a-0ed5b1360d03"
      },
      "outputs": [
        {
          "data": {
            "application/vnd.google.colaboratory.intrinsic+json": {
              "type": "string"
            },
            "text/plain": [
              "'It looks like there are no specific playlists found for the keyword \"happy.\" Would you like to try a different keyword or perhaps search for another mood or genre?'"
            ]
          },
          "execution_count": 10,
          "metadata": {},
          "output_type": "execute_result"
        }
      ],
      "source": [
        "response[\"messages\"][-1].content"
      ]
    },
    {
      "cell_type": "markdown",
      "metadata": {
        "id": "N7IOs5MJC0c3"
      },
      "source": [
        "# Meditation"
      ]
    },
    {
      "cell_type": "code",
      "execution_count": null,
      "metadata": {
        "colab": {
          "base_uri": "https://localhost:8080/"
        },
        "id": "nt_09gBFCJCO",
        "outputId": "70e9a6d4-2348-4be5-8e4c-fe0959ce15e5"
      },
      "outputs": [
        {
          "data": {
            "text/plain": [
              "[HumanMessage(content='meditation', additional_kwargs={}, response_metadata={}, id='e77b23df-1ed8-4a0d-b456-850be7ecdc12'),\n",
              " AIMessage(content='', additional_kwargs={'tool_calls': [{'id': 'call_zA0Wq43iAThS45ilaiqnAeqM', 'function': {'arguments': '{\"query\":\"meditation\"}', 'name': 'search_spotify_playlists'}, 'type': 'function'}], 'refusal': None}, response_metadata={'token_usage': {'completion_tokens': 18, 'prompt_tokens': 257, 'total_tokens': 275, 'completion_tokens_details': {'accepted_prediction_tokens': 0, 'audio_tokens': 0, 'reasoning_tokens': 0, 'rejected_prediction_tokens': 0}, 'prompt_tokens_details': {'audio_tokens': 0, 'cached_tokens': 0}}, 'model_name': 'gpt-4o-mini-2024-07-18', 'system_fingerprint': 'fp_34a54ae93c', 'id': 'chatcmpl-BjIrtTAxVq9IB3Jqh37YvXAJgCgNe', 'service_tier': 'default', 'finish_reason': 'tool_calls', 'logprobs': None}, name='spotify_assistant', id='run--8baa2de9-531c-4f0c-b588-83ae08b691e3-0', tool_calls=[{'name': 'search_spotify_playlists', 'args': {'query': 'meditation'}, 'id': 'call_zA0Wq43iAThS45ilaiqnAeqM', 'type': 'tool_call'}], usage_metadata={'input_tokens': 257, 'output_tokens': 18, 'total_tokens': 275, 'input_token_details': {'audio': 0, 'cache_read': 0}, 'output_token_details': {'audio': 0, 'reasoning': 0}}),\n",
              " ToolMessage(content='{\"query\": \"meditation\", \"total\": 5, \"playlists\": [{\"name\": \"Tibetan Healing Music, Zen Meditation, Stress Relief, Relaxing Music, Tibetan Bowls, Indian Flute\", \"description\": \"Tibetan Healing Sounds - Cleanse the aura and space. Indian Flute Meditation Music, Yoga Music, Positive Vibes, Peace Of Mind . Bamboo Flute Music, Positive Energy Vibration, Cleanse Negative Energy. \", \"external_url\": \"https://open.spotify.com/playlist/0mnWqdNjnmb0AqNmXzQ0Vz\", \"image\": \"https://image-cdn-fa.spotifycdn.com/image/ab67706c0000d72cadec9d86e0f9f46e02341c83\", \"owner\": {\"name\": \"Steven Jones\", \"url\": \"https://open.spotify.com/user/5vkly7zasn8eqxxlnhmuivgq8\"}, \"tracks\": {\"url\": \"https://api.spotify.com/v1/playlists/0mnWqdNjnmb0AqNmXzQ0Vz/tracks\", \"total\": 338}}]}', name='search_spotify_playlists', id='edcb8b9c-dc35-46c0-bb06-9e7627797b13', tool_call_id='call_zA0Wq43iAThS45ilaiqnAeqM'),\n",
              " AIMessage(content='{\\n  \"query\": \"meditation\",\\n  \"total\": 1,\\n  \"playlists\": [\\n    {\\n      \"name\": \"Tibetan Healing Music, Zen Meditation, Stress Relief, Relaxing Music, Tibetan Bowls, Indian Flute\",\\n      \"description\": \"Tibetan Healing Sounds - Cleanse the aura and space. Indian Flute Meditation Music, Yoga Music, Positive Vibes, Peace Of Mind . Bamboo Flute Music, Positive Energy Vibration, Cleanse Negative Energy.\",\\n      \"external_url\": \"https://open.spotify.com/playlist/0mnWqdNjnmb0AqNmXzQ0Vz\",\\n      \"image\": \"https://image-cdn-fa.spotifycdn.com/image/ab67706c0000d72cadec9d86e0f9f46e02341c83\",\\n      \"owner\": {\"name\": \"Steven Jones\", \"url\": \"https://open.spotify.com/user/5vkly7zasn8eqxxlnhmuivgq8\"},\\n      \"tracks\": {\"url\": \"https://api.spotify.com/v1/playlists/0mnWqdNjnmb0AqNmXzQ0Vz/tracks\", \"total\": 338}\\n    }\\n  ]\\n}', additional_kwargs={'refusal': None}, response_metadata={'token_usage': {'completion_tokens': 263, 'prompt_tokens': 536, 'total_tokens': 799, 'completion_tokens_details': {'accepted_prediction_tokens': 0, 'audio_tokens': 0, 'reasoning_tokens': 0, 'rejected_prediction_tokens': 0}, 'prompt_tokens_details': {'audio_tokens': 0, 'cached_tokens': 0}}, 'model_name': 'gpt-4o-mini-2024-07-18', 'system_fingerprint': 'fp_34a54ae93c', 'id': 'chatcmpl-BjIrupuQ7raYl3bgnGVUAvggt9Wzi', 'service_tier': 'default', 'finish_reason': 'stop', 'logprobs': None}, name='spotify_assistant', id='run--c67ba57f-b524-4f9b-93b0-e5dfb268927e-0', usage_metadata={'input_tokens': 536, 'output_tokens': 263, 'total_tokens': 799, 'input_token_details': {'audio': 0, 'cache_read': 0}, 'output_token_details': {'audio': 0, 'reasoning': 0}})]"
            ]
          },
          "execution_count": 14,
          "metadata": {},
          "output_type": "execute_result"
        }
      ],
      "source": [
        "response = spotify_assistant.invoke(\n",
        "    {\n",
        "        \"messages\": [\n",
        "            HumanMessage(content=\"meditation\")\n",
        "            ]\n",
        "    }\n",
        "    )\n",
        "response[\"messages\"]"
      ]
    },
    {
      "cell_type": "code",
      "execution_count": null,
      "metadata": {
        "colab": {
          "base_uri": "https://localhost:8080/",
          "height": 105
        },
        "id": "V8WnYhZ9CLgc",
        "outputId": "3708a70c-d7d5-49be-f3a2-a23bfa7f5758"
      },
      "outputs": [
        {
          "data": {
            "application/vnd.google.colaboratory.intrinsic+json": {
              "type": "string"
            },
            "text/plain": [
              "'{\\n  \"query\": \"meditation\",\\n  \"total\": 1,\\n  \"playlists\": [\\n    {\\n      \"name\": \"Tibetan Healing Music, Zen Meditation, Stress Relief, Relaxing Music, Tibetan Bowls, Indian Flute\",\\n      \"description\": \"Tibetan Healing Sounds - Cleanse the aura and space. Indian Flute Meditation Music, Yoga Music, Positive Vibes, Peace Of Mind . Bamboo Flute Music, Positive Energy Vibration, Cleanse Negative Energy.\",\\n      \"external_url\": \"https://open.spotify.com/playlist/0mnWqdNjnmb0AqNmXzQ0Vz\",\\n      \"image\": \"https://image-cdn-fa.spotifycdn.com/image/ab67706c0000d72cadec9d86e0f9f46e02341c83\",\\n      \"owner\": {\"name\": \"Steven Jones\", \"url\": \"https://open.spotify.com/user/5vkly7zasn8eqxxlnhmuivgq8\"},\\n      \"tracks\": {\"url\": \"https://api.spotify.com/v1/playlists/0mnWqdNjnmb0AqNmXzQ0Vz/tracks\", \"total\": 338}\\n    }\\n  ]\\n}'"
            ]
          },
          "execution_count": 15,
          "metadata": {},
          "output_type": "execute_result"
        }
      ],
      "source": [
        "response[\"messages\"][-1].content"
      ]
    },
    {
      "cell_type": "markdown",
      "metadata": {
        "id": "uIRRnkLwC7VH"
      },
      "source": [
        "# Sleep"
      ]
    },
    {
      "cell_type": "code",
      "execution_count": null,
      "metadata": {
        "colab": {
          "base_uri": "https://localhost:8080/"
        },
        "id": "Gi0Lmy_MTmKG",
        "outputId": "9cb6b239-eecf-4f6c-c5a2-354b4061e3a0"
      },
      "outputs": [
        {
          "data": {
            "text/plain": [
              "[HumanMessage(content=\"I can't sleep well.\", additional_kwargs={}, response_metadata={}, id='bd8024fe-d636-452d-9181-e4f04e279629'),\n",
              " AIMessage(content='', additional_kwargs={'tool_calls': [{'id': 'call_SG0cZVsltVysh63Z1hZQ5TbR', 'function': {'arguments': '{\"query\":\"sleep\"}', 'name': 'search_spotify_playlists'}, 'type': 'function'}], 'refusal': None}, response_metadata={'token_usage': {'completion_tokens': 17, 'prompt_tokens': 260, 'total_tokens': 277, 'completion_tokens_details': {'accepted_prediction_tokens': 0, 'audio_tokens': 0, 'reasoning_tokens': 0, 'rejected_prediction_tokens': 0}, 'prompt_tokens_details': {'audio_tokens': 0, 'cached_tokens': 0}}, 'model_name': 'gpt-4o-mini-2024-07-18', 'system_fingerprint': 'fp_34a54ae93c', 'id': 'chatcmpl-BjIs8DBT0ztlBfOQMuDh6YI69vywu', 'service_tier': 'default', 'finish_reason': 'tool_calls', 'logprobs': None}, name='spotify_assistant', id='run--7c658308-b53b-4a38-b51f-8c283c2ae5e9-0', tool_calls=[{'name': 'search_spotify_playlists', 'args': {'query': 'sleep'}, 'id': 'call_SG0cZVsltVysh63Z1hZQ5TbR', 'type': 'tool_call'}], usage_metadata={'input_tokens': 260, 'output_tokens': 17, 'total_tokens': 277, 'input_token_details': {'audio': 0, 'cache_read': 0}, 'output_token_details': {'audio': 0, 'reasoning': 0}}),\n",
              " ToolMessage(content='{\"query\": \"sleep\", \"total\": 5, \"playlists\": [{\"name\": \"Fall into Sleep Instantly\", \"description\": \"\", \"external_url\": \"https://open.spotify.com/playlist/6L0keGopfWZMQ76K4O8bX1\", \"image\": \"https://mosaic.scdn.co/640/ab67616d00001e0290554681311f9f37ea75e658ab67616d00001e029f83f202a39a490012d4c95bab67616d00001e02d2242b8f3ec2c01f10cde461ab67616d00001e02df44455933077ed472437b3d\", \"owner\": {\"name\": \"J\", \"url\": \"https://open.spotify.com/user/22mkq2xd4hdinjthxp52qx7ui\"}, \"tracks\": {\"url\": \"https://api.spotify.com/v1/playlists/6L0keGopfWZMQ76K4O8bX1/tracks\", \"total\": 48}}, {\"name\": \"Thunderstorm Sounds - 10 Hours for Sleeping\", \"description\": \"I created this Thunderstorm Sounds Playlist for Relaxing Sleep, Deep Sleep and ASMR Sleep. It&#x27;s a variety of different compositions I created out of Rain and Thunder Sounds I recorded. I hope you enjoy it. Happy Relaxing Everyone, Edy \", \"external_url\": \"https://open.spotify.com/playlist/6wx6zQaEaQ7pWj7e0CIM3S\", \"image\": \"https://image-cdn-ak.spotifycdn.com/image/ab67706c0000da847741e90fad278443e4d899ca\", \"owner\": {\"name\": \"Edy Boman\", \"url\": \"https://open.spotify.com/user/f59e51iop4iaomcpfm96ux0de\"}, \"tracks\": {\"url\": \"https://api.spotify.com/v1/playlists/6wx6zQaEaQ7pWj7e0CIM3S/tracks\", \"total\": 49}}]}', name='search_spotify_playlists', id='7ebd2b16-4555-4f30-a09f-4fc660ec7d9a', tool_call_id='call_SG0cZVsltVysh63Z1hZQ5TbR'),\n",
              " AIMessage(content='{\\n  \"query\": \"sleep\",\\n  \"total\": 5,\\n  \"playlists\": [\\n    {\\n      \"name\": \"Fall into Sleep Instantly\",\\n      \"description\": \"\",\\n      \"external_url\": \"https://open.spotify.com/playlist/6L0keGopfWZMQ76K4O8bX1\",\\n      \"image\": \"https://mosaic.scdn.co/640/ab67616d00001e0290554681311f9f37ea75e658ab67616d00001e029f83f202a39a490012d4c95bab67616d00001e02d2242b8f3ec2c01f10cde461ab67616d00001e02df44455933077ed472437b3d\",\\n      \"owner\": {\\n        \"name\": \"J\",\\n        \"url\": \"https://open.spotify.com/user/22mkq2xd4hdinjthxp52qx7ui\"\\n      },\\n      \"tracks\": {\\n        \"url\": \"https://api.spotify.com/v1/playlists/6L0keGopfWZMQ76K4O8bX1/tracks\",\\n        \"total\": 48\\n      }\\n    },\\n    {\\n      \"name\": \"Thunderstorm Sounds - 10 Hours for Sleeping\",\\n      \"description\": \"I created this Thunderstorm Sounds Playlist for Relaxing Sleep, Deep Sleep and ASMR Sleep. It\\'s a variety of different compositions I created out of Rain and Thunder Sounds I recorded. I hope you enjoy it. Happy Relaxing Everyone, Edy\",\\n      \"external_url\": \"https://open.spotify.com/playlist/6wx6zQaEaQ7pWj7e0CIM3S\",\\n      \"image\": \"https://image-cdn-ak.spotifycdn.com/image/ab67706c0000da847741e90fad278443e4d899ca\",\\n      \"owner\": {\\n        \"name\": \"Edy Boman\",\\n        \"url\": \"https://open.spotify.com/user/f59e51iop4iaomcpfm96ux0de\"\\n      },\\n      \"tracks\": {\\n        \"url\": \"https://api.spotify.com/v1/playlists/6wx6zQaEaQ7pWj7e0CIM3S/tracks\",\\n        \"total\": 49\\n      }\\n    }\\n  ]\\n}', additional_kwargs={'refusal': None}, response_metadata={'token_usage': {'completion_tokens': 504, 'prompt_tokens': 752, 'total_tokens': 1256, 'completion_tokens_details': {'accepted_prediction_tokens': 0, 'audio_tokens': 0, 'reasoning_tokens': 0, 'rejected_prediction_tokens': 0}, 'prompt_tokens_details': {'audio_tokens': 0, 'cached_tokens': 0}}, 'model_name': 'gpt-4o-mini-2024-07-18', 'system_fingerprint': 'fp_34a54ae93c', 'id': 'chatcmpl-BjIs9eUXu7WOcNpDxykg46CeqqqFt', 'service_tier': 'default', 'finish_reason': 'stop', 'logprobs': None}, name='spotify_assistant', id='run--b809e920-7a9e-485d-b1b7-68a54aee0904-0', usage_metadata={'input_tokens': 752, 'output_tokens': 504, 'total_tokens': 1256, 'input_token_details': {'audio': 0, 'cache_read': 0}, 'output_token_details': {'audio': 0, 'reasoning': 0}})]"
            ]
          },
          "execution_count": 16,
          "metadata": {},
          "output_type": "execute_result"
        }
      ],
      "source": [
        "response = spotify_assistant.invoke(\n",
        "    {\n",
        "        \"messages\": [\n",
        "            HumanMessage(content=\"I can't sleep well.\")\n",
        "            ]\n",
        "    }\n",
        "    )\n",
        "response[\"messages\"]"
      ]
    },
    {
      "cell_type": "code",
      "execution_count": null,
      "metadata": {
        "colab": {
          "base_uri": "https://localhost:8080/",
          "height": 123
        },
        "id": "Jfc2xhXDTmFY",
        "outputId": "44fa544f-eb04-46dc-dbb6-624ae28be43b"
      },
      "outputs": [
        {
          "data": {
            "application/vnd.google.colaboratory.intrinsic+json": {
              "type": "string"
            },
            "text/plain": [
              "'{\\n  \"query\": \"sleep\",\\n  \"total\": 5,\\n  \"playlists\": [\\n    {\\n      \"name\": \"Fall into Sleep Instantly\",\\n      \"description\": \"\",\\n      \"external_url\": \"https://open.spotify.com/playlist/6L0keGopfWZMQ76K4O8bX1\",\\n      \"image\": \"https://mosaic.scdn.co/640/ab67616d00001e0290554681311f9f37ea75e658ab67616d00001e029f83f202a39a490012d4c95bab67616d00001e02d2242b8f3ec2c01f10cde461ab67616d00001e02df44455933077ed472437b3d\",\\n      \"owner\": {\\n        \"name\": \"J\",\\n        \"url\": \"https://open.spotify.com/user/22mkq2xd4hdinjthxp52qx7ui\"\\n      },\\n      \"tracks\": {\\n        \"url\": \"https://api.spotify.com/v1/playlists/6L0keGopfWZMQ76K4O8bX1/tracks\",\\n        \"total\": 48\\n      }\\n    },\\n    {\\n      \"name\": \"Thunderstorm Sounds - 10 Hours for Sleeping\",\\n      \"description\": \"I created this Thunderstorm Sounds Playlist for Relaxing Sleep, Deep Sleep and ASMR Sleep. It\\'s a variety of different compositions I created out of Rain and Thunder Sounds I recorded. I hope you enjoy it. Happy Relaxing Everyone, Edy\",\\n      \"external_url\": \"https://open.spotify.com/playlist/6wx6zQaEaQ7pWj7e0CIM3S\",\\n      \"image\": \"https://image-cdn-ak.spotifycdn.com/image/ab67706c0000da847741e90fad278443e4d899ca\",\\n      \"owner\": {\\n        \"name\": \"Edy Boman\",\\n        \"url\": \"https://open.spotify.com/user/f59e51iop4iaomcpfm96ux0de\"\\n      },\\n      \"tracks\": {\\n        \"url\": \"https://api.spotify.com/v1/playlists/6wx6zQaEaQ7pWj7e0CIM3S/tracks\",\\n        \"total\": 49\\n      }\\n    }\\n  ]\\n}'"
            ]
          },
          "execution_count": 17,
          "metadata": {},
          "output_type": "execute_result"
        }
      ],
      "source": [
        "response[\"messages\"][-1].content"
      ]
    },
    {
      "cell_type": "markdown",
      "metadata": {
        "id": "Dxsh8YWJiV4M"
      },
      "source": [
        "# Class Local"
      ]
    },
    {
      "cell_type": "markdown",
      "metadata": {
        "id": "_O7rpir5gAZn"
      },
      "source": [
        "# Spotify Tool. PY"
      ]
    },
    {
      "cell_type": "code",
      "execution_count": null,
      "metadata": {
        "id": "OrtAceukgABc"
      },
      "outputs": [],
      "source": [
        "import os\n",
        "import requests\n",
        "from langchain_core.tools import tool\n",
        "from config.setting import CLIENT_ID, CLIENT_SECRET\n",
        "from typing import List\n",
        "\n",
        "\n",
        "# Optional: Use a dataclass to format results more clearly\n",
        "def get_spotify_token(client_id: str, client_secret: str) -> str:\n",
        "    \"\"\"\n",
        "    Fetches a bearer token from Spotify using client credentials.\n",
        "    \"\"\"\n",
        "    url = 'https://accounts.spotify.com/api/token'\n",
        "    headers = {'Content-Type': 'application/x-www-form-urlencoded'}\n",
        "    data = {'grant_type': 'client_credentials'}\n",
        "    response = requests.post(url, headers=headers, data=data, auth=(client_id, client_secret))\n",
        "    response.raise_for_status()\n",
        "    return response.json()['access_token']\n",
        "\n",
        "@tool\n",
        "def search_spotify_playlists(query: str) -> dict:\n",
        "    \"\"\"\n",
        "    Search for Spotify playlists using a keyword (e.g., \"sleep\", \"meditation\").\n",
        "\n",
        "    Returns a JSON object with the top 5 playlists including name, description, image, link, owner, and track count.\n",
        "    \"\"\"\n",
        "    client_id = \"api key\"\n",
        "    client_secret = \"api secret\"\n",
        "\n",
        "    try:\n",
        "        token = get_spotify_token(client_id, client_secret)\n",
        "\n",
        "        headers = {\n",
        "            'Authorization': f'Bearer {token}'\n",
        "        }\n",
        "        params = {\n",
        "            'q': query,\n",
        "            'type': 'playlist',\n",
        "            'limit': 5\n",
        "        }\n",
        "        url = 'https://api.spotify.com/v1/search'\n",
        "        response = requests.get(url, headers=headers, params=params)\n",
        "        response.raise_for_status()\n",
        "\n",
        "        playlists = response.json().get('playlists', {}).get('items', [])\n",
        "\n",
        "        if not playlists:\n",
        "            return {\"message\": \"No playlists found for your query.\"}\n",
        "\n",
        "        result = {\n",
        "            \"query\": query,\n",
        "            \"total\": len(playlists),\n",
        "            \"playlists\": []\n",
        "        }\n",
        "\n",
        "        for pl in playlists:\n",
        "            if pl is None:\n",
        "                continue\n",
        "\n",
        "            result[\"playlists\"].append({\n",
        "                \"name\": pl.get('name'),\n",
        "                \"description\": pl.get('description'),\n",
        "                \"external_url\": pl.get('external_urls', {}).get('spotify'),\n",
        "                \"image\": pl.get('images', [{}])[0].get('url'),\n",
        "                \"owner\": {\n",
        "                    \"name\": pl.get('owner', {}).get('display_name'),\n",
        "                    \"url\": pl.get('owner', {}).get('external_urls', {}).get('spotify')\n",
        "                },\n",
        "                \"tracks\": {\n",
        "                    \"url\": pl.get('tracks', {}).get('href'),\n",
        "                    \"total\": pl.get('tracks', {}).get('total')\n",
        "                }\n",
        "            })\n",
        "\n",
        "        return result\n",
        "\n",
        "    except Exception as e:\n",
        "        return {\"error\": str(e)}\n",
        "\n",
        "\n",
        "\n"
      ]
    },
    {
      "cell_type": "markdown",
      "metadata": {
        "id": "leH9SkQphILO"
      },
      "source": [
        "# Run spotify agent.py"
      ]
    },
    {
      "cell_type": "code",
      "execution_count": null,
      "metadata": {
        "id": "6oBAPpLTTmC3"
      },
      "outputs": [],
      "source": [
        "from dotenv import load_dotenv\n",
        "load_dotenv()\n",
        "\n",
        "from agents.spotify_agent import SpotifyAgent\n",
        "def main():\n",
        "    agent = SpotifyAgent()\n",
        "    query = \"I can't sleep well.\"\n",
        "    result = agent.run(query)\n",
        "    print(result)\n",
        "\n",
        "if __name__ == \"__main__\":\n",
        "    main()"
      ]
    },
    {
      "cell_type": "markdown",
      "metadata": {
        "id": "9pYP0DnVhldH"
      },
      "source": [
        "# Spotify Aget py"
      ]
    },
    {
      "cell_type": "code",
      "execution_count": null,
      "metadata": {
        "id": "d7auTf3Ihc5F"
      },
      "outputs": [],
      "source": [
        "from langchain_openai import ChatOpenAI\n",
        "from langgraph.prebuilt import create_react_agent\n",
        "from langchain_core.messages import HumanMessage\n",
        "from tools.spotify_tools import search_spotify_playlists\n",
        "from config.setting import OPENAI_API_KEY\n",
        "\n",
        "class SpotifyAgent:\n",
        "    def __init__(self):\n",
        "        self.openai_api_key = OPENAI_API_KEY\n",
        "        self.model = ChatOpenAI(api_key=self.openai_api_key, model=\"gpt-4o-mini\", verbose=True)\n",
        "        self.agent = create_react_agent(\n",
        "            model=self.model,\n",
        "            tools=[search_spotify_playlists],\n",
        "            prompt=(\n",
        "                \"You are a helpful Spotify assistant. Your job is to help users discover Spotify playlists \"\n",
        "                \"based on their search queries using the tool provided.\\n\\n\"\n",
        "                \"🧠 Think step-by-step, and always call the `search_spotify_playlists` tool with the user query.\\n\"\n",
        "                \"📦 When returning results to the user, format the final output in **JSON** using this structure:\\n\\n\"\n",
        "                \"{\\n\"\n",
        "                '  \"query\": string,\\n'\n",
        "                '  \"total\": integer,\\n'\n",
        "                '  \"playlists\": [\\n'\n",
        "                \"    {\\n\"\n",
        "                '      \"name\": string,\\n'\n",
        "                '      \"description\": string,\\n'\n",
        "                '      \"external_url\": string,\\n'\n",
        "                '      \"image\": string,\\n'\n",
        "                '      \"owner\": {\"name\": string, \"url\": string},\\n'\n",
        "                '      \"tracks\": {\"url\": string, \"total\": integer}\\n'\n",
        "                \"    },\\n\"\n",
        "                \"    ...\\n\"\n",
        "                \"  ]\\n\"\n",
        "                \"}\\n\\n\"\n",
        "                \"Only return JSON. Do not add any extra commentary or text outside of the JSON structure.\"\n",
        "            ),\n",
        "            name=\"spotify_assistant\"\n",
        "        )\n",
        "\n",
        "    def run(self, user_input):\n",
        "        response = self.agent.invoke({\n",
        "            \"messages\": [HumanMessage(content=user_input)]\n",
        "        }, config={\"recursion_limit\": 50})\n",
        "        return response[\"messages\"][-1].content"
      ]
    }
  ],
  "metadata": {
    "colab": {
      "provenance": []
    },
    "kernelspec": {
      "display_name": "Python 3",
      "name": "python3"
    },
    "language_info": {
      "name": "python"
    }
  },
  "nbformat": 4,
  "nbformat_minor": 0
}
