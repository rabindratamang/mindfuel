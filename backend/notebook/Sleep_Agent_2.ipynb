{
  "nbformat": 4,
  "nbformat_minor": 0,
  "metadata": {
    "colab": {
      "provenance": []
    },
    "kernelspec": {
      "name": "python3",
      "display_name": "Python 3"
    },
    "language_info": {
      "name": "python"
    }
  },
  "cells": [
    {
      "cell_type": "code",
      "execution_count": null,
      "metadata": {
        "colab": {
          "base_uri": "https://localhost:8080/"
        },
        "id": "nktoCYs90kX_",
        "outputId": "505c2263-1ddf-4930-f51e-de4ae54c1b0b"
      },
      "outputs": [
        {
          "output_type": "stream",
          "name": "stdout",
          "text": [
            "\u001b[?25l     \u001b[90m━━━━━━━━━━━━━━━━━━━━━━━━━━━━━━━━━━━━━━━━\u001b[0m \u001b[32m0.0/67.3 kB\u001b[0m \u001b[31m?\u001b[0m eta \u001b[36m-:--:--\u001b[0m\r\u001b[2K     \u001b[90m━━━━━━━━━━━━━━━━━━━━━━━━━━━━━━━━━━━━━━━━\u001b[0m \u001b[32m67.3/67.3 kB\u001b[0m \u001b[31m2.7 MB/s\u001b[0m eta \u001b[36m0:00:00\u001b[0m\n",
            "\u001b[?25h  Installing build dependencies ... \u001b[?25l\u001b[?25hdone\n",
            "  Getting requirements to build wheel ... \u001b[?25l\u001b[?25hdone\n",
            "  Preparing metadata (pyproject.toml) ... \u001b[?25l\u001b[?25hdone\n",
            "\u001b[2K     \u001b[90m━━━━━━━━━━━━━━━━━━━━━━━━━━━━━━━━━━━━━━━━\u001b[0m \u001b[32m43.7/43.7 kB\u001b[0m \u001b[31m2.6 MB/s\u001b[0m eta \u001b[36m0:00:00\u001b[0m\n",
            "\u001b[2K   \u001b[90m━━━━━━━━━━━━━━━━━━━━━━━━━━━━━━━━━━━━━━━━\u001b[0m \u001b[32m69.0/69.0 kB\u001b[0m \u001b[31m5.2 MB/s\u001b[0m eta \u001b[36m0:00:00\u001b[0m\n",
            "\u001b[2K   \u001b[90m━━━━━━━━━━━━━━━━━━━━━━━━━━━━━━━━━━━━━━━━\u001b[0m \u001b[32m1.0/1.0 MB\u001b[0m \u001b[31m25.7 MB/s\u001b[0m eta \u001b[36m0:00:00\u001b[0m\n",
            "\u001b[2K   \u001b[90m━━━━━━━━━━━━━━━━━━━━━━━━━━━━━━━━━━━━━━━━\u001b[0m \u001b[32m152.4/152.4 kB\u001b[0m \u001b[31m10.7 MB/s\u001b[0m eta \u001b[36m0:00:00\u001b[0m\n",
            "\u001b[2K   \u001b[90m━━━━━━━━━━━━━━━━━━━━━━━━━━━━━━━━━━━━━━━━\u001b[0m \u001b[32m2.5/2.5 MB\u001b[0m \u001b[31m57.7 MB/s\u001b[0m eta \u001b[36m0:00:00\u001b[0m\n",
            "\u001b[2K   \u001b[90m━━━━━━━━━━━━━━━━━━━━━━━━━━━━━━━━━━━━━━━━\u001b[0m \u001b[32m19.3/19.3 MB\u001b[0m \u001b[31m60.1 MB/s\u001b[0m eta \u001b[36m0:00:00\u001b[0m\n",
            "\u001b[2K   \u001b[90m━━━━━━━━━━━━━━━━━━━━━━━━━━━━━━━━━━━━━━━━\u001b[0m \u001b[32m438.9/438.9 kB\u001b[0m \u001b[31m25.3 MB/s\u001b[0m eta \u001b[36m0:00:00\u001b[0m\n",
            "\u001b[2K   \u001b[90m━━━━━━━━━━━━━━━━━━━━━━━━━━━━━━━━━━━━━━━━\u001b[0m \u001b[32m43.8/43.8 kB\u001b[0m \u001b[31m2.9 MB/s\u001b[0m eta \u001b[36m0:00:00\u001b[0m\n",
            "\u001b[2K   \u001b[90m━━━━━━━━━━━━━━━━━━━━━━━━━━━━━━━━━━━━━━━━\u001b[0m \u001b[32m50.0/50.0 kB\u001b[0m \u001b[31m3.5 MB/s\u001b[0m eta \u001b[36m0:00:00\u001b[0m\n",
            "\u001b[2K   \u001b[90m━━━━━━━━━━━━━━━━━━━━━━━━━━━━━━━━━━━━━━━━\u001b[0m \u001b[32m45.2/45.2 kB\u001b[0m \u001b[31m2.8 MB/s\u001b[0m eta \u001b[36m0:00:00\u001b[0m\n",
            "\u001b[2K   \u001b[90m━━━━━━━━━━━━━━━━━━━━━━━━━━━━━━━━━━━━━━━━\u001b[0m \u001b[32m284.2/284.2 kB\u001b[0m \u001b[31m14.2 MB/s\u001b[0m eta \u001b[36m0:00:00\u001b[0m\n",
            "\u001b[2K   \u001b[90m━━━━━━━━━━━━━━━━━━━━━━━━━━━━━━━━━━━━━━━━\u001b[0m \u001b[32m1.9/1.9 MB\u001b[0m \u001b[31m47.5 MB/s\u001b[0m eta \u001b[36m0:00:00\u001b[0m\n",
            "\u001b[2K   \u001b[90m━━━━━━━━━━━━━━━━━━━━━━━━━━━━━━━━━━━━━━━━\u001b[0m \u001b[32m50.9/50.9 kB\u001b[0m \u001b[31m3.2 MB/s\u001b[0m eta \u001b[36m0:00:00\u001b[0m\n",
            "\u001b[2K   \u001b[90m━━━━━━━━━━━━━━━━━━━━━━━━━━━━━━━━━━━━━━━━\u001b[0m \u001b[32m101.6/101.6 kB\u001b[0m \u001b[31m7.2 MB/s\u001b[0m eta \u001b[36m0:00:00\u001b[0m\n",
            "\u001b[2K   \u001b[90m━━━━━━━━━━━━━━━━━━━━━━━━━━━━━━━━━━━━━━━━\u001b[0m \u001b[32m16.4/16.4 MB\u001b[0m \u001b[31m68.1 MB/s\u001b[0m eta \u001b[36m0:00:00\u001b[0m\n",
            "\u001b[2K   \u001b[90m━━━━━━━━━━━━━━━━━━━━━━━━━━━━━━━━━━━━━━━━\u001b[0m \u001b[32m65.8/65.8 kB\u001b[0m \u001b[31m5.0 MB/s\u001b[0m eta \u001b[36m0:00:00\u001b[0m\n",
            "\u001b[2K   \u001b[90m━━━━━━━━━━━━━━━━━━━━━━━━━━━━━━━━━━━━━━━━\u001b[0m \u001b[32m55.7/55.7 kB\u001b[0m \u001b[31m3.9 MB/s\u001b[0m eta \u001b[36m0:00:00\u001b[0m\n",
            "\u001b[2K   \u001b[90m━━━━━━━━━━━━━━━━━━━━━━━━━━━━━━━━━━━━━━━━\u001b[0m \u001b[32m118.5/118.5 kB\u001b[0m \u001b[31m8.2 MB/s\u001b[0m eta \u001b[36m0:00:00\u001b[0m\n",
            "\u001b[2K   \u001b[90m━━━━━━━━━━━━━━━━━━━━━━━━━━━━━━━━━━━━━━━━\u001b[0m \u001b[32m196.2/196.2 kB\u001b[0m \u001b[31m13.7 MB/s\u001b[0m eta \u001b[36m0:00:00\u001b[0m\n",
            "\u001b[2K   \u001b[90m━━━━━━━━━━━━━━━━━━━━━━━━━━━━━━━━━━━━━━━━\u001b[0m \u001b[32m216.5/216.5 kB\u001b[0m \u001b[31m15.7 MB/s\u001b[0m eta \u001b[36m0:00:00\u001b[0m\n",
            "\u001b[2K   \u001b[90m━━━━━━━━━━━━━━━━━━━━━━━━━━━━━━━━━━━━━━━━\u001b[0m \u001b[32m105.4/105.4 kB\u001b[0m \u001b[31m8.5 MB/s\u001b[0m eta \u001b[36m0:00:00\u001b[0m\n",
            "\u001b[2K   \u001b[90m━━━━━━━━━━━━━━━━━━━━━━━━━━━━━━━━━━━━━━━━\u001b[0m \u001b[32m71.2/71.2 kB\u001b[0m \u001b[31m5.5 MB/s\u001b[0m eta \u001b[36m0:00:00\u001b[0m\n",
            "\u001b[2K   \u001b[90m━━━━━━━━━━━━━━━━━━━━━━━━━━━━━━━━━━━━━━━━\u001b[0m \u001b[32m459.8/459.8 kB\u001b[0m \u001b[31m29.1 MB/s\u001b[0m eta \u001b[36m0:00:00\u001b[0m\n",
            "\u001b[2K   \u001b[90m━━━━━━━━━━━━━━━━━━━━━━━━━━━━━━━━━━━━━━━━\u001b[0m \u001b[32m4.0/4.0 MB\u001b[0m \u001b[31m91.7 MB/s\u001b[0m eta \u001b[36m0:00:00\u001b[0m\n",
            "\u001b[2K   \u001b[90m━━━━━━━━━━━━━━━━━━━━━━━━━━━━━━━━━━━━━━━━\u001b[0m \u001b[32m453.1/453.1 kB\u001b[0m \u001b[31m29.7 MB/s\u001b[0m eta \u001b[36m0:00:00\u001b[0m\n",
            "\u001b[2K   \u001b[90m━━━━━━━━━━━━━━━━━━━━━━━━━━━━━━━━━━━━━━━━\u001b[0m \u001b[32m46.0/46.0 kB\u001b[0m \u001b[31m3.4 MB/s\u001b[0m eta \u001b[36m0:00:00\u001b[0m\n",
            "\u001b[2K   \u001b[90m━━━━━━━━━━━━━━━━━━━━━━━━━━━━━━━━━━━━━━━━\u001b[0m \u001b[32m86.8/86.8 kB\u001b[0m \u001b[31m5.9 MB/s\u001b[0m eta \u001b[36m0:00:00\u001b[0m\n",
            "\u001b[?25h  Building wheel for pypika (pyproject.toml) ... \u001b[?25l\u001b[?25hdone\n"
          ]
        }
      ],
      "source": [
        "%pip install -qU langchain-openai langchain langgraph langchain_community langgraph-supervisor langchain-chroma"
      ]
    },
    {
      "cell_type": "code",
      "source": [
        "from pydantic import BaseModel\n",
        "from langchain_openai import ChatOpenAI\n",
        "from google.colab import userdata\n",
        "from langgraph.prebuilt import create_react_agent\n",
        "from langgraph_supervisor import create_supervisor\n",
        "from langchain_core.tools import tool\n",
        "from langchain_core.messages import (\n",
        "    HumanMessage,\n",
        ")\n",
        "from langgraph.prebuilt import create_react_agent\n",
        "import requests\n",
        "key = userdata.get('OPENAI_API_KEY')"
      ],
      "metadata": {
        "id": "BgxnTZmT1Z1M"
      },
      "execution_count": null,
      "outputs": []
    },
    {
      "cell_type": "code",
      "source": [
        "model = ChatOpenAI(api_key=key,model=\"gpt-4o-mini\")"
      ],
      "metadata": {
        "id": "hmuxdCcT1ZyV"
      },
      "execution_count": null,
      "outputs": []
    },
    {
      "cell_type": "code",
      "source": [
        "from langchain.tools import tool\n",
        "from datetime import datetime, timedelta\n",
        "import random\n"
      ],
      "metadata": {
        "id": "ozkUaYBH1Zvr"
      },
      "execution_count": null,
      "outputs": []
    },
    {
      "cell_type": "code",
      "source": [
        "llm = ChatOpenAI(api_key=key,model=\"gpt-4o-mini\", temperature=0.7)\n",
        "\n",
        "\n",
        "@tool\n",
        "def generate_wind_down_routine(sleep_quality: str) -> str:\n",
        "    \"\"\"\n",
        "    Generates a creative, personalized wind-down routine using LLM based on sleep quality: 'good', 'average', or 'poor'.\n",
        "    \"\"\"\n",
        "    prompt = f\"\"\"\n",
        "    I'm designing a nighttime wind-down routine for someone whose sleep quality is \"{sleep_quality}\".\n",
        "    Please generate a detailed, personalized routine that includes:\n",
        "    - Creative, non-repetitive ideas beyond standard suggestions\n",
        "    - Activities that suit the given sleep quality\n",
        "    - Natural language phrasing (like a bedtime coach talking to the user)\n",
        "    Make it sound calming and human-like.\n",
        "    \"\"\"\n",
        "\n",
        "    response = llm.invoke(prompt)\n",
        "    return response.content\n"
      ],
      "metadata": {
        "id": "zPSoKjnB2Dxd"
      },
      "execution_count": null,
      "outputs": []
    },
    {
      "cell_type": "code",
      "source": [
        "generate_wind_down_routine.run(\"average\")"
      ],
      "metadata": {
        "colab": {
          "base_uri": "https://localhost:8080/",
          "height": 139
        },
        "id": "1qVWWGmD2siv",
        "outputId": "08034d8f-9a9c-4528-a9ee-cbbd439833a8"
      },
      "execution_count": null,
      "outputs": [
        {
          "output_type": "execute_result",
          "data": {
            "text/plain": [
              "\"**Nighttime Wind-Down Routine for Enhancing Sleep Quality**\\n\\nHey there! I'm so glad you're taking the time to craft a soothing nighttime routine. It’s a wonderful way to signal to your body that it's time to unwind and prepare for a restful night's sleep. Let’s create a calming experience that feels personal and refreshing, ensuring you drift off feeling calm and collected.\\n\\n### **1. **Gentle Transition (1 hour before bed)**\\n\\nAs the evening settles in, allow yourself to transition from the busyness of the day. Dim the lights in your space to create a cozy ambiance. If you have a favorite scented candle or essential oil (like lavender or chamomile), light it or diffuse it to begin filling your space with calming aromas.\\n\\n### **2. **Unplug and Reflect (45 minutes before bed)**\\n\\nTake a moment to unplug from screens. Instead of scrolling through your phone or watching TV, grab a notebook or a journal. Spend 10-15 minutes jotting down your thoughts. You can reflect on three things you’re grateful for from the day or jot down any lingering thoughts or worries. This practice helps clear your mind and brings closure to the day.\\n\\n### **3. **Mindful Movement (30 minutes before bed)**\\n\\nEngage in some gentle, mindful movement. This could be a short, 15-minute session of restorative yoga or tai chi. Focus on slow, deliberate movements that promote relaxation. If you’re not familiar with these practices, simply follow along with a calming video or app that guides you through. Pay attention to your breath, allowing each inhalation and exhalation to flow with ease.\\n\\n### **4. **Creative Expression (20 minutes before bed)**\\n\\nNow it’s time to tap into your creativity. Grab some art supplies—whether it’s colored pencils, watercolors, or even just a sketchbook. Spend about 20 minutes doodling, coloring, or painting. Don’t worry about the outcome; the goal here is to let your mind wander and engage in creative flow. This can be incredibly soothing and a fantastic way to express yourself.\\n\\n### **5. **Sensory Soak (15 minutes before bed)**\\n\\nPrepare a warm bath or foot soak infused with Epsom salts and a few drops of your favorite essential oil. If a bath isn’t feasible, simply soak your feet in warm water while sitting comfortably. Take this time to close your eyes, breathe deeply, and let the warmth envelop you, easing any tension from your day. \\n\\n### **6. **Cuddle Up with a Book (10 minutes before bed)**\\n\\nFind a comfy spot and pick up a book that you've been wanting to read. Choose something lighthearted or inspirational—perhaps a collection of short stories or poetry. Allow yourself to get lost in the words, letting go of any thoughts of the day. Aim to read for about 10 minutes, just enough to escape into another world without overstimulating your mind.\\n\\n### **7. **Gratitude and Intention (5 minutes before bed)**\\n\\nAs you prepare to turn in for the night, take a moment to sit quietly in bed. Close your eyes and take a few deep breaths. Think about one thing you felt grateful for today and one intention you’d like to set for tomorrow. This practice helps you enter sleep with a positive mindset and a sense of purpose.\\n\\n### **8. **Create Your Sleep Sanctuary (Final moments)**\\n\\nBefore you settle in, make sure your bedroom feels like a sanctuary. Adjust the temperature to your liking, ensure your bedding is cozy, and consider using blackout curtains or an eye mask to block out light. You might even want to play some soft, ambient music or nature sounds to create a peaceful auditory backdrop as you drift off.\\n\\n### **Conclusion**\\n\\nAs you lie down, let your body sink into your mattress, feeling the support beneath you. It's okay to let your thoughts drift; just bring your focus back to your breath whenever you need to. Remember, this is your time to recharge. Sweet dreams await you, and I’m so proud of you for nurturing this beautiful routine. Sleep tight!\""
            ],
            "application/vnd.google.colaboratory.intrinsic+json": {
              "type": "string"
            }
          },
          "metadata": {},
          "execution_count": 6
        }
      ]
    },
    {
      "cell_type": "code",
      "source": [],
      "metadata": {
        "id": "-UoRHwcx2sgO"
      },
      "execution_count": null,
      "outputs": []
    },
    {
      "cell_type": "code",
      "source": [
        "@tool\n",
        "def log_sleep(start_time: str, end_time: str) -> str:\n",
        "    \"\"\"\n",
        "    Logs sleep session using start and end timestamps (in ISO format).\n",
        "    \"\"\"\n",
        "    start = datetime.fromisoformat(start_time)\n",
        "    end = datetime.fromisoformat(end_time)\n",
        "    duration = (end - start).total_seconds() / 3600\n",
        "    return f\"Sleep logged from {start.strftime('%I:%M %p')} to {end.strftime('%I:%M %p')} ({duration:.2f} hours).\"\n"
      ],
      "metadata": {
        "id": "Obbe3paY1cLD"
      },
      "execution_count": null,
      "outputs": []
    },
    {
      "cell_type": "code",
      "source": [
        "from datetime import datetime, timedelta\n",
        "\n",
        "# llm = ChatOpenAI(temperature=0.5)\n",
        "llm = ChatOpenAI(api_key=key,model=\"gpt-4o-mini\", temperature=0.5)\n",
        "@tool\n",
        "def get_sleep_reminders(bedtime: str) -> list:\n",
        "    \"\"\"\n",
        "    Uses an LLM to generate creative, human-like reminders for winding down before sleep.\n",
        "    Input: bedtime as a string in 24-hour HH:MM format (e.g., '22:30')\n",
        "    Output: list of tips tailored to the bedtime.\n",
        "    \"\"\"\n",
        "    try:\n",
        "        bed_time = datetime.strptime(bedtime, \"%H:%M\")\n",
        "    except ValueError:\n",
        "        return [\"Invalid time format. Please use HH:MM in 24-hour format (e.g., 22:30).\"]\n",
        "\n",
        "    # Calculate key times\n",
        "    caffeine_cutoff = (bed_time - timedelta(hours=6)).strftime(\"%I:%M %p\")\n",
        "    screen_off_time = (bed_time - timedelta(hours=1)).strftime(\"%I:%M %p\")\n",
        "    wind_down_time = (bed_time - timedelta(minutes=30)).strftime(\"%I:%M %p\")\n",
        "\n",
        "    # Prompt to send to the LLM\n",
        "    prompt = f\"\"\"\n",
        "You are a friendly sleep coach. A user is planning to sleep at {bed_time.strftime('%I:%M %p')}.\n",
        "Please provide 3 to 5 varied and creative reminders to help them prepare for bed, based on the following:\n",
        "- Avoid caffeine after {caffeine_cutoff}\n",
        "- Turn off screens by {screen_off_time}\n",
        "- Begin wind-down activities by {wind_down_time}\n",
        "\n",
        "Make the reminders sound natural and motivational — like a bedtime assistant helping them unwind. Avoid repeating generic advice and be warm, gentle, and inventive in your suggestions. Return only a list of reminders (no explanation).\n",
        "\"\"\"\n",
        "\n",
        "    response = llm.invoke(prompt)\n",
        "    return response.content.strip().split(\"\\n\")\n"
      ],
      "metadata": {
        "id": "gR4fXLlt3q-I"
      },
      "execution_count": null,
      "outputs": []
    },
    {
      "cell_type": "code",
      "source": [
        "get_sleep_reminders.run(\"22:30\")\n"
      ],
      "metadata": {
        "colab": {
          "base_uri": "https://localhost:8080/"
        },
        "id": "kWs09DJh39PT",
        "outputId": "09d0c823-9224-48f3-e5af-958228a474ff"
      },
      "execution_count": null,
      "outputs": [
        {
          "output_type": "execute_result",
          "data": {
            "text/plain": [
              "['1. 🌙 As the clock nears 9:30 PM, let’s dim those screens and invite the soft glow of relaxation into your evening. Your dreams will thank you for it!',\n",
              " '',\n",
              " '2. ☕ Remember, the caffeine fairy bids adieu after 4:30 PM! Sip on a cozy herbal tea instead, and let its warmth wrap you in a soothing embrace.',\n",
              " '',\n",
              " '3. 🕙 At 10:00 PM, let’s slip into a world of calm. Grab your favorite book or journal, and let your thoughts drift like clouds in the night sky.',\n",
              " '',\n",
              " '4. 🎶 As the hour approaches, consider putting on some gentle music or nature sounds. It’s the perfect soundtrack to your winding-down ritual!',\n",
              " '',\n",
              " '5. 🌌 Take a moment to reflect on your day with gratitude. As you prepare for sleep, let go of any lingering thoughts and make space for sweet dreams to dance in!']"
            ]
          },
          "metadata": {},
          "execution_count": 9
        }
      ]
    },
    {
      "cell_type": "code",
      "source": [
        "from datetime import datetime\n",
        "from langchain.tools import tool\n",
        "from langchain_openai import ChatOpenAI\n",
        "\n",
        "llm = ChatOpenAI(api_key=key, model=\"gpt-4o-mini\", temperature=0.6)\n",
        "\n",
        "dummy_sleep_history = [\n",
        "    {\"date\": \"2025-06-10\", \"hours_slept\": 5.5, \"interruptions\": 3},\n",
        "    {\"date\": \"2025-06-11\", \"hours_slept\": 6.0, \"interruptions\": 2},\n",
        "    {\"date\": \"2025-06-12\", \"hours_slept\": 5.0, \"interruptions\": 4},\n",
        "    {\"date\": \"2025-06-13\", \"hours_slept\": 6.5, \"interruptions\": 1},\n",
        "    {\"date\": \"2025-06-14\", \"hours_slept\": 5.8, \"interruptions\": 3}\n",
        "]\n",
        "\n",
        "@tool\n",
        "def generate_routine_from_history(avg_sleep_hours: float, interruptions: int) -> str:\n",
        "    \"\"\"\n",
        "    Uses an LLM to generate a creative bedtime routine based on sleep history averages.\n",
        "    \"\"\"\n",
        "    prompt = f\"\"\"\n",
        "You are a sleep optimization assistant.\n",
        "\n",
        "A user has had the following sleep pattern over the last few days:\n",
        "- Average sleep duration: {avg_sleep_hours:.1f} hours\n",
        "- Average interruptions per night: {interruptions}\n",
        "\n",
        "Based on this, suggest a detailed and creative new bedtime routine to help improve their sleep.\n",
        "The routine should include:\n",
        "- What time to start winding down\n",
        "- At least 3 specific, calming activities\n",
        "- Gentle phrasing (not robotic)\n",
        "- If the sleep is already good, offer tips for consistency\n",
        "\n",
        "Avoid repeating generic advice. Make it feel personalized and human.\n",
        "\"\"\"\n",
        "    response = llm.invoke(prompt)\n",
        "    return response.content.strip()\n",
        "\n",
        "def analyze_sleep_history(history: list) -> tuple:\n",
        "    avg_hours = sum(d[\"hours_slept\"] for d in history) / len(history)\n",
        "    avg_interruptions = sum(d[\"interruptions\"] for d in history) / len(history)\n",
        "    return avg_hours, int(round(avg_interruptions))  # ✅ cast to int\n",
        "\n",
        "# Generate routine\n",
        "avg_hours, avg_interrupts = analyze_sleep_history(dummy_sleep_history)\n",
        "routine = generate_routine_from_history.run({\n",
        "    \"avg_sleep_hours\": avg_hours,\n",
        "    \"interruptions\": avg_interrupts\n",
        "})\n",
        "print(routine)\n"
      ],
      "metadata": {
        "colab": {
          "base_uri": "https://localhost:8080/"
        },
        "id": "92UR-mEn4cXi",
        "outputId": "82daf10c-a322-4d50-9285-099a0825843a"
      },
      "execution_count": null,
      "outputs": [
        {
          "output_type": "stream",
          "name": "stdout",
          "text": [
            "It sounds like you’re ready to embrace a more restful night’s sleep! Let’s create a cozy and calming bedtime routine that can help you transition smoothly into slumber, enhancing both the quality and duration of your rest.\n",
            "\n",
            "### Winding Down: 9:00 PM\n",
            "\n",
            "Start winding down around 9:00 PM. This gives you ample time to let your mind and body transition from the busyness of the day to a more tranquil state. \n",
            "\n",
            "### Calming Activities to Include:\n",
            "\n",
            "1. **Gentle Yoga or Stretching (9:00 PM - 9:15 PM)**\n",
            "   Begin with some gentle yoga or stretching. Focus on deep, slow breaths as you move through each pose. Consider poses like Child’s Pose or Legs-Up-the-Wall to release tension. This not only relaxes your muscles but also calms your mind, preparing you for sleep.\n",
            "\n",
            "2. **Mindful Journaling (9:15 PM - 9:30 PM)**\n",
            "   After your yoga, take a few moments to write in a journal. Reflect on your day, noting down any thoughts or feelings that come to mind. You might write three things you’re grateful for or jot down any lingering thoughts you want to let go of. This practice helps clear your mind, making it easier to drift off without mental clutter.\n",
            "\n",
            "3. **Soothing Herbal Tea Ritual (9:30 PM - 9:45 PM)**\n",
            "   Brew a cup of calming herbal tea—chamomile or lavender are lovely choices. As you sip your tea, take a moment to appreciate the warmth and aroma. This ritual can be a lovely way to signal to your body that it’s time to relax. Allow yourself to savor each sip, focusing on the sensations and flavors.\n",
            "\n",
            "### Final Touches:\n",
            "\n",
            "- **Dim the Lights (9:45 PM)**\n",
            "   As you finish your tea, dim the lights in your space. This gentle shift in lighting can help cue your body that it’s time to unwind. You might even consider using a salt lamp or soft fairy lights for a cozy ambiance.\n",
            "\n",
            "- **Disconnect from Screens (9:45 PM)**\n",
            "   Try to put away your phone and any screens. Instead, consider picking up a book or listening to soft music or a calming podcast. This helps reduce blue light exposure, which can interfere with your sleep.\n",
            "\n",
            "### Bedtime: 10:00 PM\n",
            "\n",
            "Aim to be in bed by 10:00 PM. Create a comfortable sleep environment—consider adjusting the temperature, fluffing your pillows, or using a white noise machine if you find it helps with interruptions.\n",
            "\n",
            "### Consistency Tips:\n",
            "\n",
            "If you find that this new routine works well for you, aim to stick with it even on weekends. Keeping your sleep schedule consistent can significantly improve the quality of your rest. If you do have a late night, try not to stray too far from your usual bedtime. \n",
            "\n",
            "Remember, it’s all about creating a nurturing space for yourself at the end of the day. Be gentle and patient with yourself as you make these changes. Sweet dreams await! 🌙\n"
          ]
        }
      ]
    },
    {
      "cell_type": "code",
      "source": [
        "from langchain.tools import tool\n",
        "from langchain_openai import ChatOpenAI\n",
        "\n",
        "llm = ChatOpenAI(api_key=key, model=\"gpt-4o-mini\", temperature=0.3)\n",
        "\n",
        "@tool\n",
        "def check_sleep_disorder(avg_sleep: float, latency: float, disturbances: int) -> str:\n",
        "    \"\"\"\n",
        "    Uses an LLM to assess possible sleep disorders based on:\n",
        "    - avg_sleep: average hours of sleep\n",
        "    - latency: average time to fall asleep (in minutes)\n",
        "    - disturbances: number of wake-ups per night\n",
        "\n",
        "    Returns a natural-language interpretation with possible conditions and lifestyle tips.\n",
        "    \"\"\"\n",
        "\n",
        "    prompt = f\"\"\"\n",
        "You are a sleep health expert. A user has shared the following sleep metrics:\n",
        "- Average sleep per night: {avg_sleep:.1f} hours\n",
        "- Time to fall asleep (latency): {latency:.0f} minutes\n",
        "- Number of wake-ups per night: {disturbances}\n",
        "\n",
        "Please assess if they may be experiencing any sleep disorders or sleep hygiene issues.\n",
        "If relevant, mention:\n",
        "- Risk of disorders (e.g. insomnia, delayed sleep phase disorder, sleep apnea)\n",
        "- Mild sleep hygiene concerns\n",
        "- Recommendations (lifestyle, behavioral, or medical advice)\n",
        "\n",
        "The tone should be supportive and educational. Avoid sounding alarmist.\n",
        "Return a concise paragraph.\n",
        "\"\"\"\n",
        "\n",
        "    response = llm.invoke(prompt)\n",
        "    return response.content.strip()\n"
      ],
      "metadata": {
        "id": "9-1yJSKH1cFn"
      },
      "execution_count": null,
      "outputs": []
    },
    {
      "cell_type": "code",
      "source": [
        "result = check_sleep_disorder.run({\n",
        "    \"avg_sleep\": 4.8,\n",
        "    \"latency\": 60,\n",
        "    \"disturbances\": 5\n",
        "})\n",
        "print(result)\n"
      ],
      "metadata": {
        "colab": {
          "base_uri": "https://localhost:8080/"
        },
        "id": "Yl8tU43e1cCt",
        "outputId": "a37626cf-0216-455c-995c-de5a5c3bd1e2"
      },
      "execution_count": null,
      "outputs": [
        {
          "output_type": "stream",
          "name": "stdout",
          "text": [
            "Based on the sleep metrics you've shared, it appears you may be experiencing some challenges that could indicate potential sleep disorders, such as insomnia, characterized by difficulty falling asleep and maintaining sleep, or possibly delayed sleep phase disorder if your sleep schedule is misaligned with typical patterns. Additionally, waking up five times a night can disrupt your overall sleep quality. While your average sleep duration is below the recommended 7-9 hours for adults, this could also suggest mild sleep hygiene concerns, such as irregular sleep schedules or pre-sleep activities that may be affecting your ability to wind down. To improve your sleep, consider establishing a consistent sleep routine, creating a calming pre-sleep environment, and limiting screen time before bed. If these strategies don’t help, or if you continue to struggle with sleep, it may be beneficial to consult a healthcare professional for further evaluation and support. Remember, small changes can lead to significant improvements in your sleep health!\n"
          ]
        }
      ]
    },
    {
      "cell_type": "code",
      "source": [
        "from datetime import datetime, timedelta\n",
        "from langchain.tools import tool\n",
        "from langchain_openai import ChatOpenAI\n",
        "\n",
        "llm = ChatOpenAI(api_key=key, model=\"gpt-4o-mini\", temperature=0.5)\n",
        "\n",
        "# Optional dummy data\n",
        "dummy_user_profile = {\n",
        "    \"name\": \"Alex\",\n",
        "    \"chronotype\": \"night owl\",  # Options: morning lark, night owl, balanced\n",
        "    \"recent_sleep_hours\": [6.5, 7.0, 5.8, 6.2, 7.3],  # for context\n",
        "    \"prefers_evening_routines\": True\n",
        "}\n",
        "\n",
        "@tool\n",
        "def suggest_bedtime(wake_up_time: str, sleep_cycle_hours: float = 7.5) -> str:\n",
        "    \"\"\"\n",
        "    Uses an LLM to suggest a natural bedtime, based on desired sleep cycle and wake-up time,\n",
        "    including personalized language and behavioral context.\n",
        "    \"\"\"\n",
        "\n",
        "    try:\n",
        "        wake = datetime.strptime(wake_up_time, \"%H:%M\")\n",
        "    except ValueError:\n",
        "        return \"Invalid time format. Please use HH:MM (24-hour format).\"\n",
        "\n",
        "    # Compute bedtime\n",
        "    bedtime = wake - timedelta(hours=sleep_cycle_hours)\n",
        "    bedtime_str = bedtime.strftime('%I:%M %p')\n",
        "\n",
        "    # Contextual prompt\n",
        "    prompt = f\"\"\"\n",
        "You are a sleep assistant helping a user plan their night. Their profile:\n",
        "- Name: {dummy_user_profile['name']}\n",
        "- Chronotype: {dummy_user_profile['chronotype']}\n",
        "- Preferred evening routine: {dummy_user_profile['prefers_evening_routines']}\n",
        "- Recent sleep durations: {dummy_user_profile['recent_sleep_hours']}\n",
        "\n",
        "They want to wake up at {wake_up_time} and aim for {sleep_cycle_hours} hours of sleep.\n",
        "Suggest a bedtime in a friendly and encouraging tone, including:\n",
        "- The suggested bedtime ({bedtime_str})\n",
        "- Why it's a good choice\n",
        "- A helpful tip to start winding down\n",
        "Return a short paragraph.\n",
        "\"\"\"\n",
        "\n",
        "    response = llm.invoke(prompt)\n",
        "    return response.content.strip()\n"
      ],
      "metadata": {
        "id": "B6YZp08j9_S3"
      },
      "execution_count": null,
      "outputs": []
    },
    {
      "cell_type": "code",
      "source": [
        "print(suggest_bedtime.run({\n",
        "    \"wake_up_time\": \"06:30\",  # 6:30 AM\n",
        "    \"sleep_cycle_hours\": 7.5\n",
        "}))\n"
      ],
      "metadata": {
        "colab": {
          "base_uri": "https://localhost:8080/"
        },
        "id": "0G3cdVul9_QE",
        "outputId": "5a711c11-7459-4bbd-b298-8a36f608f507"
      },
      "execution_count": null,
      "outputs": [
        {
          "output_type": "stream",
          "name": "stdout",
          "text": [
            "Hey Alex! To get your desired 7.5 hours of sleep and wake up feeling refreshed at 6:30 AM, I suggest you aim for a bedtime of 11:00 PM. This gives you a solid window to unwind and prepare for a restful night, which is especially important for a night owl like you. To help you start winding down, consider setting aside some time for a relaxing activity, like reading a book or listening to calming music, about an hour before bed. This will signal to your body that it’s time to transition to sleep. Sweet dreams!\n"
          ]
        }
      ]
    },
    {
      "cell_type": "code",
      "source": [
        "from datetime import datetime, timedelta\n",
        "from langchain.tools import tool\n",
        "from langchain_openai import ChatOpenAI\n",
        "\n",
        "llm = ChatOpenAI(api_key=key, model=\"gpt-4o-mini\", temperature=0.75)\n",
        "\n",
        "# Dummy recent sleep history (hours slept each night)\n",
        "dummy_sleep_history = [5.5, 6.0, 4.8, 7.0, 6.5, 5.0]\n",
        "\n",
        "@tool\n",
        "def build_routine_with_calendar(next_day_meeting: str, sleep_deficit: float) -> str:\n",
        "    \"\"\"\n",
        "    Builds a personalized next-day wind-down routine considering early meeting time and sleep deficit.\n",
        "    \"\"\"\n",
        "    try:\n",
        "        meeting_time = datetime.strptime(next_day_meeting, \"%H:%M\")\n",
        "    except ValueError:\n",
        "        return \"Invalid time format for meeting. Please use HH:MM in 24-hour format.\"\n",
        "\n",
        "    # Compute average recent sleep hours from dummy data\n",
        "    avg_sleep = sum(dummy_sleep_history) / len(dummy_sleep_history)\n",
        "\n",
        "    prompt = f\"\"\"\n",
        "You are a helpful sleep coach.\n",
        "\n",
        "A user has an early meeting at {meeting_time.strftime('%I:%M %p')} tomorrow.\n",
        "Their recent average sleep duration is {avg_sleep:.1f} hours.\n",
        "They currently have a sleep deficit of {sleep_deficit:.1f} hours.\n",
        "\n",
        "Based on this, suggest a personalized wind-down time and bedtime routine for tonight.\n",
        "Explain why this timing is important and offer gentle advice on how to prepare.\n",
        "Make the tone supportive and encouraging.\n",
        "\"\"\"\n",
        "\n",
        "    response = llm.invoke(prompt)\n",
        "    return response.content.strip()\n"
      ],
      "metadata": {
        "id": "RpZEkyQJ1cAL"
      },
      "execution_count": null,
      "outputs": []
    },
    {
      "cell_type": "code",
      "source": [
        "print(build_routine_with_calendar.run({\n",
        "    \"next_day_meeting\": \"08:30\",\n",
        "    \"sleep_deficit\": 3.2\n",
        "}))\n"
      ],
      "metadata": {
        "colab": {
          "base_uri": "https://localhost:8080/"
        },
        "id": "5zc3MVuj1h-G",
        "outputId": "6a70020a-341e-4808-e94c-3eb4e9d14fa8"
      },
      "execution_count": null,
      "outputs": [
        {
          "output_type": "stream",
          "name": "stdout",
          "text": [
            "It sounds like you’re in need of a good night’s sleep before your early meeting tomorrow! Given your current sleep situation, let’s work together to create a calming wind-down routine that will help you feel rested and ready for the day ahead.\n",
            "\n",
            "### Suggested Wind-Down Time: 9:30 PM\n",
            "\n",
            "### Bedtime: 10:00 PM\n",
            "\n",
            "**Why This Timing is Important:**\n",
            "1. **Wind Down Period:** By starting your wind-down routine at 9:30 PM, you’ll give yourself about 30 minutes to relax and transition into sleep mode. This is crucial for letting your body and mind prepare for rest.\n",
            "2. **Adequate Sleep:** Aiming for a bedtime of 10:00 PM allows you to potentially get about 7.5 hours of sleep, which can help address some of your sleep deficit. Even if you don’t fall asleep right away, this window gives you the chance to rest and recharge.\n",
            "3. **Morning Preparation:** Waking up around 7:30 AM will give you an hour to ease into your day before your meeting, allowing you to feel more alert and prepared.\n",
            "\n",
            "### Suggested Bedtime Routine:\n",
            "- **9:30 PM – Start Winding Down:**\n",
            "  - Dim the lights in your space to signal to your body that it’s time to relax.\n",
            "  - Put away screens (phone, computer, TV) to reduce blue light exposure, which can interfere with melatonin production and make it harder to fall asleep.\n",
            "\n",
            "- **9:40 PM – Calm Activities:**\n",
            "  - Engage in a calming activity, such as reading a book, practicing gentle stretches, or doing some light meditation. These activities can help soothe your mind and body.\n",
            "  \n",
            "- **9:50 PM – Personal Care:**\n",
            "  - Follow your personal hygiene routine: brush your teeth, wash your face, and perhaps have a warm shower or bath if you find it relaxing.\n",
            "\n",
            "- **10:00 PM – Lights Out:**\n",
            "  - Settle into bed and use this time to reflect on your day with gratitude or visualize a successful meeting tomorrow. This can help clear your mind of worries.\n",
            "\n",
            "### Gentle Advice for Preparation:\n",
            "- **Create a Sleep-Inducing Environment:** Ensure your bedroom is cool, dark, and quiet. Consider using earplugs or a sleep mask if necessary.\n",
            "- **Limit Caffeine and Heavy Meals:** Avoid caffeine in the evening and try not to eat heavy meals too close to bedtime. If you’re hungry, a light snack (like a banana or a small handful of nuts) can be helpful.\n",
            "- **Stay Positive:** As you wind down, focus on positive thoughts about your meeting tomorrow. Remind yourself that you’re capable and prepared.\n",
            "\n",
            "Remember, getting good sleep tonight can set a positive tone for your day ahead. It’s all about taking small steps to nurture yourself. You’ve got this, and I believe you’ll feel more refreshed and ready for whatever comes your way tomorrow! Sweet dreams! 🌙\n"
          ]
        }
      ]
    },
    {
      "cell_type": "code",
      "source": [
        "from datetime import datetime, timedelta\n",
        "from langchain.tools import tool\n",
        "from langchain_openai import ChatOpenAI\n",
        "\n",
        "llm = ChatOpenAI(api_key=key, model=\"gpt-4o-mini\", temperature=0.5)\n",
        "\n",
        "@tool\n",
        "def avoidance_timing(bedtime: str) -> str:\n",
        "    \"\"\"\n",
        "    Uses an LLM to provide personalized guidance on when to avoid caffeine, screen time, and heavy exercise\n",
        "    based on the user's bedtime.\n",
        "    \"\"\"\n",
        "    try:\n",
        "        bed = datetime.strptime(bedtime, \"%H:%M\")\n",
        "    except ValueError:\n",
        "        return \"Invalid time format. Please provide bedtime as HH:MM in 24-hour format.\"\n",
        "\n",
        "    screen_off = (bed - timedelta(hours=1)).strftime('%I:%M %p')\n",
        "    last_caffeine = (bed - timedelta(hours=6)).strftime('%I:%M %p')\n",
        "    no_exercise = (bed - timedelta(hours=2)).strftime('%I:%M %p')\n",
        "\n",
        "    prompt = f\"\"\"\n",
        "You are a helpful sleep coach. A user plans to sleep at {bedtime} (24-hour format).\n",
        "\n",
        "Please provide a warm, friendly explanation about when they should:\n",
        "- Avoid caffeine (last time)\n",
        "- Turn off screens\n",
        "- Avoid heavy exercise\n",
        "\n",
        "Include the specific times:\n",
        "- Caffeine cutoff: {last_caffeine}\n",
        "- Screen off: {screen_off}\n",
        "- No heavy exercise: {no_exercise}\n",
        "\n",
        "Explain why these timings help improve sleep quality and suggest gentle lifestyle tips.\n",
        "Keep the tone supportive and motivating.\n",
        "Return your answer as a short paragraph.\n",
        "\"\"\"\n",
        "\n",
        "    response = llm.invoke(prompt)\n",
        "    return response.content.strip()\n"
      ],
      "metadata": {
        "id": "ixqybcpi1j5B"
      },
      "execution_count": null,
      "outputs": []
    },
    {
      "cell_type": "code",
      "source": [
        "print(avoidance_timing.run({\"bedtime\": \"22:30\"}))\n"
      ],
      "metadata": {
        "colab": {
          "base_uri": "https://localhost:8080/"
        },
        "id": "21c1PyBd_Gs5",
        "outputId": "67bcb47c-14e8-40e9-d3c1-b04d293c5354"
      },
      "execution_count": null,
      "outputs": [
        {
          "output_type": "stream",
          "name": "stdout",
          "text": [
            "To help you prepare for a restful night’s sleep at 22:30, it's best to make a few adjustments earlier in the evening. Try to avoid caffeine after 16:30, as it can linger in your system and disrupt your ability to fall asleep. Turning off screens by 21:30 allows your mind to unwind and reduces exposure to blue light, which can interfere with melatonin production. Also, aim to finish any heavy exercise by 20:30; while physical activity is great for sleep, vigorous workouts too close to bedtime can leave you feeling energized instead of relaxed. Embrace gentle activities in the evening, like reading or stretching, to create a calming bedtime routine. You've got this, and these small changes can lead to a more refreshing and restorative sleep!\n"
          ]
        }
      ]
    },
    {
      "cell_type": "code",
      "source": [
        "from datetime import datetime\n",
        "from langchain.tools import tool\n",
        "from langchain_openai import ChatOpenAI\n",
        "\n",
        "llm = ChatOpenAI(api_key=key, model=\"gpt-4o-mini\", temperature=0.7)\n",
        "\n",
        "@tool\n",
        "def sleep_checkin(feeling: str, woke_up_time: str) -> str:\n",
        "    \"\"\"\n",
        "    Uses an LLM to analyze how the user felt upon waking and provide personalized advice.\n",
        "    - feeling: user's description of how they feel (e.g., tired, refreshed, groggy)\n",
        "    - woke_up_time: time they woke up (24-hour HH:MM)\n",
        "    \"\"\"\n",
        "    try:\n",
        "        woke_time_obj = datetime.strptime(woke_up_time, \"%H:%M\")\n",
        "        woke_time_str = woke_time_obj.strftime(\"%I:%M %p\")\n",
        "    except ValueError:\n",
        "        return \"Invalid time format. Please provide woke-up time as HH:MM (24-hour format).\"\n",
        "\n",
        "    prompt = f\"\"\"\n",
        "You are a supportive sleep coach.\n",
        "\n",
        "A user woke up at {woke_time_str} feeling \"{feeling}\".\n",
        "\n",
        "Please provide a thoughtful analysis of what this might indicate about their sleep quality,\n",
        "possible habits to improve, and encouragement. Keep the tone warm and motivating.\n",
        "If the feeling is unclear, respond with general tips on sleep hygiene.\n",
        "\"\"\"\n",
        "\n",
        "    response = llm.invoke(prompt)\n",
        "    return response.content.strip()\n"
      ],
      "metadata": {
        "id": "UdE92Hqr1j2J"
      },
      "execution_count": null,
      "outputs": []
    },
    {
      "cell_type": "code",
      "source": [
        "print(sleep_checkin.run({\n",
        "    \"feeling\": \"groggy\",\n",
        "    \"woke_up_time\": \"07:15\"\n",
        "}))\n"
      ],
      "metadata": {
        "colab": {
          "base_uri": "https://localhost:8080/"
        },
        "id": "EU0a6hHW_W9U",
        "outputId": "fc641c74-189f-4d61-f50d-6e672cac78b3"
      },
      "execution_count": null,
      "outputs": [
        {
          "output_type": "stream",
          "name": "stdout",
          "text": [
            "Good morning! Waking up feeling groggy can be quite frustrating, but it’s a signal from your body that can help you understand your sleep quality better. Let’s explore a few possibilities together.\n",
            "\n",
            "1. **Sleep Cycle Disruption**: You may have woken up during a deeper stage of sleep rather than a lighter one. Our sleep cycles typically last about 90 minutes, and waking up at the right moment can make a world of difference in how refreshed you feel. If you’re consistently waking up groggy, it might be worth looking at your sleep patterns.\n",
            "\n",
            "2. **Sleep Duration**: Consider how many hours of sleep you’re getting each night. Adults generally need between 7 to 9 hours of quality sleep. If you’re not hitting that mark, your body might be feeling the effects. \n",
            "\n",
            "3. **Sleep Environment**: Your sleeping environment plays a crucial role in how well you rest. Factors like light, noise, and temperature can impact your sleep quality. Creating a calm and dark environment can help improve your rest.\n",
            "\n",
            "4. **Pre-Sleep Routine**: Think about what you do in the hour before bed. Engaging in calming activities, like reading or gentle stretching, can signal to your body that it’s time to wind down. Conversely, screens and stimulating activities can interfere with your ability to fall asleep peacefully.\n",
            "\n",
            "5. **Diet and Hydration**: What you eat and drink can also affect your sleep. Caffeine or heavy meals close to bedtime might disrupt your sleep cycle. Staying hydrated is important, but be cautious about drinking too much right before bed to avoid waking up during the night.\n",
            "\n",
            "### Tips for Improvement:\n",
            "- **Consistent Sleep Schedule**: Try to go to bed and wake up at the same time every day, even on weekends. This helps regulate your body’s internal clock.\n",
            "- **Limit Naps**: If you’re feeling groggy, it might be tempting to take a nap, but long daytime naps can interfere with nighttime sleep.\n",
            "- **Mindfulness or Relaxation Techniques**: Consider incorporating mindfulness or deep-breathing exercises into your nightly routine to help calm your mind.\n",
            "\n",
            "Remember, it's entirely normal to have days where you feel less than your best upon waking. The key is to listen to your body and make small adjustments over time. You’re taking a wonderful step by reflecting on your sleep patterns, and with a little patience and care, you can improve your sleep quality. Keep going; you’re doing great! 🌙✨\n"
          ]
        }
      ]
    },
    {
      "cell_type": "code",
      "source": [
        "from langchain.tools import tool\n",
        "from langchain_openai import ChatOpenAI\n",
        "\n",
        "llm = ChatOpenAI(api_key=key, model=\"gpt-4o-mini\", temperature=0.2)\n",
        "\n",
        "@tool\n",
        "def respond_to_query(query: str) -> str:\n",
        "    \"\"\"\n",
        "    Uses an LLM to respond to general user queries related to sleep tracking, routines, or reminders.\n",
        "    - Factual only: No creative, speculative, or medical responses.\n",
        "    \"\"\"\n",
        "    prompt = f\"\"\"\n",
        "You are a sleep assistant that only provides factual and practical information.\n",
        "Respond to the user's query: \"{query}\"\n",
        "\n",
        "Guidelines:\n",
        "- Only answer questions related to sleep tracking, wind-down routines, or reminders.\n",
        "- Do NOT provide health, wellness, or medical advice.\n",
        "- If the question is unclear or outside your scope, politely say so.\n",
        "- Be concise, direct, and avoid creative storytelling.\n",
        "\n",
        "Context:\n",
        "- The user's average sleep in the past 7 days is 6.8 hours.\n",
        "- The average number of sleep interruptions per night is 2.\n",
        "- You can set reminders 1 hour before bedtime.\n",
        "- You can generate a basic wind-down routine for sleep quality types: 'good', 'average', 'poor'.\n",
        "\n",
        "Now respond:\n",
        "\"\"\"\n",
        "\n",
        "    response = llm.invoke(prompt)\n",
        "    return response.content.strip()\n"
      ],
      "metadata": {
        "id": "2CjRI4BS1jzh"
      },
      "execution_count": null,
      "outputs": []
    },
    {
      "cell_type": "code",
      "source": [
        "respond_to_query.run(\"How can I improve my sleep quality?\")"
      ],
      "metadata": {
        "colab": {
          "base_uri": "https://localhost:8080/",
          "height": 87
        },
        "id": "TmwguHas_kMW",
        "outputId": "4dcc1880-4c98-4627-fd23-6298e84393b4"
      },
      "execution_count": null,
      "outputs": [
        {
          "output_type": "execute_result",
          "data": {
            "text/plain": [
              "'To improve your sleep quality, consider implementing a wind-down routine tailored to your sleep quality type. Based on your average sleep interruptions and duration, here’s a basic routine:\\n\\n**For Average Sleep Quality:**\\n1. **1 hour before bed:** Set a reminder to start winding down.\\n2. **Relaxation activities:** Engage in calming activities such as reading, gentle stretching, or listening to soothing music.\\n3. **Limit screen time:** Avoid screens (phones, computers, TV) during this hour.\\n4. **Create a comfortable environment:** Dim the lights and ensure your sleeping area is cool and quiet.\\n\\nWould you like me to set a reminder for you?'"
            ],
            "application/vnd.google.colaboratory.intrinsic+json": {
              "type": "string"
            }
          },
          "metadata": {},
          "execution_count": 25
        }
      ]
    },
    {
      "cell_type": "code",
      "source": [
        "model = ChatOpenAI(api_key=key, model=\"gpt-4o-mini\")\n",
        "\n",
        "tools = [\n",
        "    generate_wind_down_routine,\n",
        "    log_sleep,\n",
        "    get_sleep_reminders,\n",
        "    generate_routine_from_history,\n",
        "    check_sleep_disorder,\n",
        "    suggest_bedtime,\n",
        "    build_routine_with_calendar,\n",
        "    avoidance_timing,\n",
        "    sleep_checkin,\n",
        "    respond_to_query\n",
        "]\n",
        "\n",
        "sleep_coach_agent = create_react_agent(\n",
        "    model=model,\n",
        "    tools=tools,\n",
        "    prompt=(\n",
        "        \"You are a smart and caring Sleep Coach Agent. Your job is to help users improve their sleep quality \"\n",
        "        \"by analyzing their sleep data, generating personalized routines, setting reminders, and detecting any issues \"\n",
        "        \"based on sleep patterns.\\n\\n\"\n",
        "        \"🧠 You must ALWAYS reason step-by-step and choose the correct tool to help the user based on their input.\\n\\n\"\n",
        "\n",
        "        \"Here’s how to respond:\\n\"\n",
        "        \"1. Identify the user’s intent.\\n\"\n",
        "        \"2. Use the correct tool based on the intent.\\n\"\n",
        "        \"3. Call the tool with appropriate arguments using the user’s input.\\n\"\n",
        "        \"4. Return a clean, helpful response directly to the user.\\n\\n\"\n",
        "\n",
        "        \"📦 Here are the tools you have access to:\\n\"\n",
        "        \"- `generate_wind_down_routine`: Suggests bedtime routines based on sleep quality.\\n\"\n",
        "        \"- `log_sleep`: Logs the user's sleep session.\\n\"\n",
        "        \"- `get_sleep_reminders`: Generates reminders like when to stop screen use and begin wind-down.\\n\"\n",
        "        \"- `generate_routine_from_history`: Uses sleep hours and interruptions to build a new routine.\\n\"\n",
        "        \"- `check_sleep_disorder`: Predicts possible sleep-related health issues.\\n\"\n",
        "        \"- `suggest_bedtime`: Calculates optimal sleep time based on desired wake-up.\\n\"\n",
        "        \"- `build_routine_with_calendar`: Suggests sleep timing based on calendar and sleep debt.\\n\"\n",
        "        \"- `avoidance_timing`: Suggests when to avoid caffeine, screen, and exercise.\\n\"\n",
        "        \"- `sleep_checkin`: Lets users log how they feel after waking up and provides tips.\\n\"\n",
        "        \"- `respond_to_query`: General sleep assistant to answer open-ended questions.\\n\\n\"\n",
        "\n",
        "        \"❗️Important:\\n\"\n",
        "        \"- Only use tools when needed.\\n\"\n",
        "        \"- Never fabricate information. Always reason using data or tool outputs.\\n\"\n",
        "        \"- Respond in a friendly, helpful tone.\\n\\n\"\n",
        "\n",
        "        \"🧾 Always return your final answer as a JSON object in the following format:\\n\"\n",
        "        \"{\\n\"\n",
        "        '  \"tool_used\": \"<tool name>\",\\n'\n",
        "        '  \"response\": \"<user-facing answer>\"\\n'\n",
        "        \"}\\n\"\n",
        "    ),\n",
        "    name=\"sleep_coach_agent\",\n",
        ")\n"
      ],
      "metadata": {
        "id": "omApSE2B1qHE"
      },
      "execution_count": null,
      "outputs": []
    },
    {
      "cell_type": "code",
      "source": [
        "from langchain.schema import HumanMessage\n",
        "\n",
        "response = sleep_coach_agent.invoke({\n",
        "    \"messages\": [\n",
        "        HumanMessage(content=\"I only slept 5 hours and have a meeting at 8 AM.\")\n",
        "    ]\n",
        "})\n",
        "\n",
        "response[\"messages\"]  # This is your JSON string response\n"
      ],
      "metadata": {
        "colab": {
          "base_uri": "https://localhost:8080/"
        },
        "id": "8CkxpE0-Ba4P",
        "outputId": "f134eeee-992b-43a5-8866-88f6f5c8de24"
      },
      "execution_count": null,
      "outputs": [
        {
          "output_type": "execute_result",
          "data": {
            "text/plain": [
              "[HumanMessage(content='I only slept 5 hours and have a meeting at 8 AM.', additional_kwargs={}, response_metadata={}, id='4e550e4a-b707-4aa9-906b-7e4146449259'),\n",
              " AIMessage(content='', additional_kwargs={'tool_calls': [{'id': 'call_9oNdHZPsjVbfBB00L2IvvSKD', 'function': {'arguments': '{\"next_day_meeting\":\"08:00\",\"sleep_deficit\":2}', 'name': 'build_routine_with_calendar'}, 'type': 'function'}], 'refusal': None}, response_metadata={'token_usage': {'completion_tokens': 28, 'prompt_tokens': 943, 'total_tokens': 971, 'completion_tokens_details': {'accepted_prediction_tokens': 0, 'audio_tokens': 0, 'reasoning_tokens': 0, 'rejected_prediction_tokens': 0}, 'prompt_tokens_details': {'audio_tokens': 0, 'cached_tokens': 0}}, 'model_name': 'gpt-4o-mini-2024-07-18', 'system_fingerprint': 'fp_34a54ae93c', 'id': 'chatcmpl-BlBYFnCfRCWFYXtxYV3nQCOwD9Cb0', 'service_tier': 'default', 'finish_reason': 'tool_calls', 'logprobs': None}, name='sleep_coach_agent', id='run--8b903359-257a-4e02-bf57-7e6b7ddeee11-0', tool_calls=[{'name': 'build_routine_with_calendar', 'args': {'next_day_meeting': '08:00', 'sleep_deficit': 2}, 'id': 'call_9oNdHZPsjVbfBB00L2IvvSKD', 'type': 'tool_call'}], usage_metadata={'input_tokens': 943, 'output_tokens': 28, 'total_tokens': 971, 'input_token_details': {'audio': 0, 'cache_read': 0}, 'output_token_details': {'audio': 0, 'reasoning': 0}}),\n",
              " ToolMessage(content='Absolutely! It’s great that you’re prioritizing your sleep, especially with an early meeting tomorrow. Let’s work together to set you up for a restful night.\\n\\n### Suggested Wind-Down Time and Bedtime Routine\\n\\n**Wind-Down Time:** Aim to start winding down by **9:00 PM**. \\n\\n**Bedtime:** Try to be in bed by **10:00 PM**. This gives you a solid hour to relax and prepare for sleep.\\n\\n### Why This Timing is Important\\n\\nGiven that you have an early meeting at 8:00 AM and a current sleep deficit, it’s crucial to maximize your sleep tonight. By aiming for a bedtime of 10:00 PM, you can target around 7 hours of sleep, which is a significant improvement over your recent average. This extra time will help you feel more refreshed and alert for your meeting.\\n\\n### Suggested Bedtime Routine\\n\\n1. **Set the Mood (9:00 PM):** Dim the lights in your living space to signal to your body that it’s time to wind down. Consider using soft lighting or candles.\\n\\n2. **Disconnect (9:00 PM):** Turn off electronic devices or switch them to “Do Not Disturb” mode. The blue light from screens can interfere with your body’s natural sleep signals.\\n\\n3. **Relaxing Activities (9:10 PM):** Engage in calming activities such as reading a book, practicing gentle yoga, or meditating. These can help ease your mind and prepare your body for sleep.\\n\\n4. **Prepare for Tomorrow (9:30 PM):** Lay out your clothes and pack any materials you need for your meeting. This will help reduce morning stress and allow your mind to relax.\\n\\n5. **Wind Down (9:45 PM):** Take a warm shower or bath to help your body temperature drop afterward, which can promote better sleep. \\n\\n6. **Bedtime (10:00 PM):** Get into bed, and if you like, listen to soothing music or a sleep meditation to help you drift off.\\n\\n### Gentle Advice for Preparation\\n\\n- **Listen to Your Body:** If you start feeling sleepy before your planned bedtime, don’t hesitate to head to bed early. Your body knows what it needs!\\n- **Stay Consistent:** Try to maintain a similar sleep schedule in the days following your early meeting. This will help you recover from your sleep deficit and establish a healthier sleep pattern.\\n- **Be Kind to Yourself:** Remember that it’s okay to have off nights. Focus on making small adjustments, and celebrate the progress you make towards better sleep.\\n\\nYou’ve got this! Prioritizing your sleep tonight will set you up for success tomorrow. Sweet dreams! 🌙', name='build_routine_with_calendar', id='a7fb5b28-5157-4cae-8a7b-20e879606fee', tool_call_id='call_9oNdHZPsjVbfBB00L2IvvSKD'),\n",
              " AIMessage(content='{\\n  \"tool_used\": \"build_routine_with_calendar\",\\n  \"response\": \"Absolutely! It’s great that you’re prioritizing your sleep, especially with an early meeting tomorrow. Let’s work together to set you up for a restful night.\\\\n\\\\n### Suggested Wind-Down Time and Bedtime Routine\\\\n\\\\n**Wind-Down Time:** Aim to start winding down by **9:00 PM**. \\\\n\\\\n**Bedtime:** Try to be in bed by **10:00 PM**. This gives you a solid hour to relax and prepare for sleep.\\\\n\\\\n### Why This Timing is Important\\\\n\\\\nGiven that you have an early meeting at 8:00 AM and a current sleep deficit, it’s crucial to maximize your sleep tonight. By aiming for a bedtime of 10:00 PM, you can target around 7 hours of sleep, which is a significant improvement over your recent average. This extra time will help you feel more refreshed and alert for your meeting.\\\\n\\\\n### Suggested Bedtime Routine\\\\n\\\\n1. **Set the Mood (9:00 PM):** Dim the lights in your living space to signal to your body that it’s time to wind down. Consider using soft lighting or candles.\\\\n\\\\n2. **Disconnect (9:00 PM):** Turn off electronic devices or switch them to “Do Not Disturb” mode. The blue light from screens can interfere with your body’s natural sleep signals.\\\\n\\\\n3. **Relaxing Activities (9:10 PM):** Engage in calming activities such as reading a book, practicing gentle yoga, or meditating. These can help ease your mind and prepare your body for sleep.\\\\n\\\\n4. **Prepare for Tomorrow (9:30 PM):** Lay out your clothes and pack any materials you need for your meeting. This will help reduce morning stress and allow your mind to relax.\\\\n\\\\n5. **Wind Down (9:45 PM):** Take a warm shower or bath to help your body temperature drop afterward, which can promote better sleep.\\\\n\\\\n6. **Bedtime (10:00 PM):** Get into bed, and if you like, listen to soothing music or a sleep meditation to help you drift off.\\\\n\\\\n### Gentle Advice for Preparation\\\\n\\\\n- **Listen to Your Body:** If you start feeling sleepy before your planned bedtime, don’t hesitate to head to bed early. Your body knows what it needs!\\\\n- **Stay Consistent:** Try to maintain a similar sleep schedule in the days following your early meeting. This will help you recover from your sleep deficit and establish a healthier sleep pattern.\\\\n- **Be Kind to Yourself:** Remember that it’s okay to have off nights. Focus on making small adjustments, and celebrate the progress you make towards better sleep.\\\\n\\\\nYou’ve got this! Prioritizing your sleep tonight will set you up for success tomorrow. Sweet dreams! 🌙\"\\n}', additional_kwargs={'refusal': None}, response_metadata={'token_usage': {'completion_tokens': 597, 'prompt_tokens': 1536, 'total_tokens': 2133, 'completion_tokens_details': {'accepted_prediction_tokens': 0, 'audio_tokens': 0, 'reasoning_tokens': 0, 'rejected_prediction_tokens': 0}, 'prompt_tokens_details': {'audio_tokens': 0, 'cached_tokens': 0}}, 'model_name': 'gpt-4o-mini-2024-07-18', 'system_fingerprint': 'fp_34a54ae93c', 'id': 'chatcmpl-BlBYNfsRsiXr59BCHli41Y0VN1CY4', 'service_tier': 'default', 'finish_reason': 'stop', 'logprobs': None}, name='sleep_coach_agent', id='run--8ce3843a-084a-43af-88b9-e0abbcc69123-0', usage_metadata={'input_tokens': 1536, 'output_tokens': 597, 'total_tokens': 2133, 'input_token_details': {'audio': 0, 'cache_read': 0}, 'output_token_details': {'audio': 0, 'reasoning': 0}})]"
            ]
          },
          "metadata": {},
          "execution_count": 32
        }
      ]
    },
    {
      "cell_type": "code",
      "source": [
        "response[\"messages\"][-1].content"
      ],
      "metadata": {
        "colab": {
          "base_uri": "https://localhost:8080/",
          "height": 296
        },
        "id": "o0zH5jrKBoRn",
        "outputId": "8b476a2d-2510-45a3-9b98-db42af3e38df"
      },
      "execution_count": null,
      "outputs": [
        {
          "output_type": "execute_result",
          "data": {
            "text/plain": [
              "'{\\n  \"tool_used\": \"build_routine_with_calendar\",\\n  \"response\": \"Absolutely! It’s great that you’re prioritizing your sleep, especially with an early meeting tomorrow. Let’s work together to set you up for a restful night.\\\\n\\\\n### Suggested Wind-Down Time and Bedtime Routine\\\\n\\\\n**Wind-Down Time:** Aim to start winding down by **9:00 PM**. \\\\n\\\\n**Bedtime:** Try to be in bed by **10:00 PM**. This gives you a solid hour to relax and prepare for sleep.\\\\n\\\\n### Why This Timing is Important\\\\n\\\\nGiven that you have an early meeting at 8:00 AM and a current sleep deficit, it’s crucial to maximize your sleep tonight. By aiming for a bedtime of 10:00 PM, you can target around 7 hours of sleep, which is a significant improvement over your recent average. This extra time will help you feel more refreshed and alert for your meeting.\\\\n\\\\n### Suggested Bedtime Routine\\\\n\\\\n1. **Set the Mood (9:00 PM):** Dim the lights in your living space to signal to your body that it’s time to wind down. Consider using soft lighting or candles.\\\\n\\\\n2. **Disconnect (9:00 PM):** Turn off electronic devices or switch them to “Do Not Disturb” mode. The blue light from screens can interfere with your body’s natural sleep signals.\\\\n\\\\n3. **Relaxing Activities (9:10 PM):** Engage in calming activities such as reading a book, practicing gentle yoga, or meditating. These can help ease your mind and prepare your body for sleep.\\\\n\\\\n4. **Prepare for Tomorrow (9:30 PM):** Lay out your clothes and pack any materials you need for your meeting. This will help reduce morning stress and allow your mind to relax.\\\\n\\\\n5. **Wind Down (9:45 PM):** Take a warm shower or bath to help your body temperature drop afterward, which can promote better sleep.\\\\n\\\\n6. **Bedtime (10:00 PM):** Get into bed, and if you like, listen to soothing music or a sleep meditation to help you drift off.\\\\n\\\\n### Gentle Advice for Preparation\\\\n\\\\n- **Listen to Your Body:** If you start feeling sleepy before your planned bedtime, don’t hesitate to head to bed early. Your body knows what it needs!\\\\n- **Stay Consistent:** Try to maintain a similar sleep schedule in the days following your early meeting. This will help you recover from your sleep deficit and establish a healthier sleep pattern.\\\\n- **Be Kind to Yourself:** Remember that it’s okay to have off nights. Focus on making small adjustments, and celebrate the progress you make towards better sleep.\\\\n\\\\nYou’ve got this! Prioritizing your sleep tonight will set you up for success tomorrow. Sweet dreams! 🌙\"\\n}'"
            ],
            "application/vnd.google.colaboratory.intrinsic+json": {
              "type": "string"
            }
          },
          "metadata": {},
          "execution_count": 33
        }
      ]
    },
    {
      "cell_type": "code",
      "source": [
        "from langchain.schema import HumanMessage\n",
        "human_msg = HumanMessage(content=(\n",
        "    \"Hey coach, I’ve been feeling really groggy when I wake up around 7:30 AM lately. \"\n",
        "    \"Last night I slept about 5.5 hours and woke up 3 times, so please log that. \"\n",
        "    \"Also, my sleep quality has been pretty poor overall. Can you help generate a bedtime routine for me? \"\n",
        "    \"And what time should I turn off screens and stop drinking coffee if I plan to sleep at 10:30 PM? \"\n",
        "    \"I’ve averaged about 5.6 hours of sleep and 2.8 interruptions this week. \"\n",
        "    \"Sometimes it takes me over 45 minutes to fall asleep, and I wake up multiple times—do you think that indicates a disorder? \"\n",
        "    \"I want to wake up tomorrow at 6:45 AM — what time should I go to bed? \"\n",
        "    \"Also, I have an important meeting at 7:30 AM and I’m running on a sleep deficit of about 3 hours. \"\n",
        "    \"Lastly, how did I sleep overall this week?\"\n",
        "))\n",
        "\n",
        "response = sleep_coach_agent.invoke({\n",
        "    \"messages\": [\n",
        "        human_msg\n",
        "    ]\n",
        "})\n",
        "\n",
        "response[\"messages\"][-1].content  # This is your JSON string response\n"
      ],
      "metadata": {
        "colab": {
          "base_uri": "https://localhost:8080/",
          "height": 660
        },
        "id": "fPcpiz9y1qBd",
        "outputId": "e542fb15-75a1-4f3f-a043-9d987363e788"
      },
      "execution_count": null,
      "outputs": [
        {
          "output_type": "execute_result",
          "data": {
            "text/plain": [
              "'{\\n  \"tool_used\": \"multi_tool_use.parallel\",\\n  \"response\": {\\n    \"sleep_logged\": \"Your sleep session has been logged from 10:30 PM to 7:30 AM.\",\\n    \"bedtime_routine\": \"Absolutely! Creating a nighttime wind-down routine tailored for someone experiencing poor sleep quality can make a significant difference in how they feel at bedtime. Let’s craft a soothing and engaging routine that gently guides you into a restful night.\\\\n\\\\n---\\\\n\\\\n**Your Personalized Nighttime Wind-Down Routine**\\\\n\\\\n**7:30 PM – Create a Cozy Atmosphere**  \\\\nAs the sun begins to set, let’s start by transforming your space into a calming sanctuary. Dim the lights or light a few candles with soft, warm hues. Consider playing some gentle instrumental music or nature sounds—perhaps the soothing rustle of leaves or soft ocean waves. This will help signal to your mind and body that it’s time to unwind.\\\\n\\\\n**8:00 PM – Mindful Movement**  \\\\nEngage in a gentle, mindful movement practice. This could be a 15-minute session of restorative yoga or tai chi. Focus on slow, deliberate movements and deep breathing. If you’re not familiar with these practices, simply stretching your body while paying attention to how each muscle feels can be incredibly grounding. Let go of any tension you might be holding onto.\\\\n\\\\n**8:30 PM – Savor a Herbal Elixir**  \\\\nPrepare a warm, caffeine-free herbal tea—perhaps chamomile or lavender. As you brew your tea, take a moment to appreciate the aroma and the ritual of making it. Sip slowly, allowing the warmth to envelop you. This is not just about hydration; it’s a moment to nourish your senses.\\\\n\\\\n**8:45 PM – Creative Expression**  \\\\nNow, let’s tap into your creativity. Grab a journal or some art supplies and spend 20 minutes expressing yourself. You might write down your thoughts, doodle, or even try your hand at watercolor painting. Don’t worry about the outcome; this is about the process of letting your mind wander and releasing any lingering thoughts from the day.\\\\n\\\\n**9:05 PM – Digital Detox**  \\\\nIt’s time to step away from screens. Turn off your devices and put them in another room if possible. Instead, pick up a book that inspires you or transports you to another world. Choose something light and enjoyable—perhaps a novel or poetry that resonates with you. Allow the words to wash over you, letting your imagination take flight.\\\\n\\\\n**9:30 PM – Guided Relaxation**  \\\\nAs you finish your reading, find a comfortable spot to settle in. You might want to lie down or sit in a cozy chair. Close your eyes and take a few deep breaths. Consider listening to a guided relaxation or meditation. There are many apps and online resources that offer soothing narratives designed to help you release the day’s worries and drift into a peaceful state.\\\\n\\\\n**9:50 PM – Gratitude Reflection**  \\\\nBefore you slip into sleep, take a moment to reflect on your day. Write down three things you are grateful for. They can be as simple as a warm cup of tea or a kind word from a friend. This practice helps shift your focus to the positive, creating a sense of contentment as you prepare for rest.\\\\n\\\\n**10:00 PM – Prepare for Sleep**  \\\\nAs you get ready for bed, create a calming ritual. Wash your face, brush your teeth, and perhaps apply a soothing lotion. Consider using a lavender-scented pillow spray or essential oil to enhance your relaxation. This is your time to pamper yourself and signal to your body that it’s time to rest.\\\\n\\\\n**10:15 PM – Sleepy Time**  \\\\nFinally, settle into your bed. Make sure your room is cool and dark, and if you enjoy it, use a sleep mask or blackout curtains. Take a few deep breaths, letting your body sink into the mattress. If your mind starts to wander, gently guide it back to your breath or visualize a peaceful scene, like a quiet forest or a serene beach.\\\\n\\\\n---\\\\n\\\\nRemember, this routine is a gentle guide. Feel free to adjust the timing and activities to suit your preferences. The key is to create a space where you can unwind and let go of the day. Sweet dreams await you!\",\\n    \"avoidance_timing\": \"To help you get the restful sleep you deserve, it\\'s great to plan ahead! Aim to avoid caffeine after 4:30 PM, as it can linger in your system and disrupt your ability to fall asleep. Turning off screens by 9:30 PM is also important; the blue light emitted can interfere with your body\\'s natural sleep signals.\",\\n    \"sleep_disorder_check\": \"Based on the sleep metrics you\\'ve shared, it appears you may be experiencing some mild sleep hygiene concerns that could contribute to your overall sleep quality. An average of 5.6 hours of sleep is below the recommended 7-9 hours for most adults, and a latency of 45 minutes to fall asleep, along with waking up three times a night, may indicate potential issues such as insomnia or disrupted sleep patterns. While these factors alone do not confirm a sleep disorder, they could increase the risk of conditions like insomnia or delayed sleep phase disorder. To improve your sleep, consider establishing a consistent bedtime routine, reducing screen time before bed, and creating a comfortable sleep environment. If these adjustments don’t help, or if you continue to experience difficulties, it may be beneficial to consult a healthcare professional for further evaluation and support.\",\\n    \"suggested_bedtime\": \"Hey Alex! To get your desired 7.5 hours of sleep and wake up feeling refreshed at 6:45 AM, I suggest you aim for a bedtime of 11:15 PM. This timing allows you to align with your night owl tendencies while still prioritizing a good night\\'s rest.\",\\n    \"routine_with_calendar\": \"Absolutely, I’m here to help you get the restful sleep you need! To help you wind down before your early meeting tomorrow, aim to start winding down by **9:30 PM** and be in bed by **10:00 PM**. This will give you a chance to get around 7.5 hours of sleep, which is a great target to help you recover from your sleep deficit.\"\\n  }\\n}'"
            ],
            "application/vnd.google.colaboratory.intrinsic+json": {
              "type": "string"
            }
          },
          "metadata": {},
          "execution_count": 34
        }
      ]
    },
    {
      "cell_type": "code",
      "source": [
        "from langchain.schema import HumanMessage\n",
        "\n",
        "human_msg = HumanMessage(content=(\n",
        "    \"Hey sleep coach, I’ve been feeling groggy when I wake up, especially around 7:30 AM lately. \"\n",
        "    \"Last night I went to bed at 11:00 PM and woke up at 7:30 AM, but I had 3 interruptions. Can you log that for me? \"\n",
        "    \"I think my sleep quality has been poor — can you generate a good wind-down routine for me tonight? \"\n",
        "    \"Also, I usually go to bed at 10:30 PM — when should I stop using screens, exercising, or drinking coffee? \"\n",
        "    \"This week, my average sleep has been 5.6 hours with around 2.8 interruptions per night. Can you help create a new routine from that? \"\n",
        "    \"It also takes me over 45 minutes to fall asleep most nights and I wake up frequently. Could this be a sleep disorder? \"\n",
        "    \"I need to wake up at 6:45 AM tomorrow — what time should I go to sleep? \"\n",
        "    \"And I’ve got a big meeting at 7:30 AM with about 3 hours of sleep deficit — when should I wind down tonight? \"\n",
        "    \"Please check me in as feeling tired today and help me understand how I’ve been sleeping overall this week. \"\n",
        "    \"Also, please remind me when to start winding down and turn off screens before bed.\"\n",
        "))\n"
      ],
      "metadata": {
        "id": "8hrwQyqs1p-7"
      },
      "execution_count": null,
      "outputs": []
    },
    {
      "cell_type": "code",
      "source": [
        "response = sleep_coach_agent.invoke({\n",
        "    \"messages\": [\n",
        "        human_msg\n",
        "    ]\n",
        "})\n",
        "\n",
        "response[\"messages\"][-1].content  # This is your JSON string response\n"
      ],
      "metadata": {
        "colab": {
          "base_uri": "https://localhost:8080/",
          "height": 139
        },
        "id": "557_P2osEgty",
        "outputId": "e9e6279b-2e04-47d5-c2fd-627c179381b1"
      },
      "execution_count": null,
      "outputs": [
        {
          "output_type": "execute_result",
          "data": {
            "text/plain": [
              "'```json\\n{\\n  \"tool_used\": \"multi_tool_use.parallel\",\\n  \"response\": {\\n    \"sleep_logged\": \"Your sleep from 11:00 PM to 07:30 AM has been successfully logged.\",\\n    \"wind_down_routine\": \"### Your Personalized Nighttime Wind-Down Routine\\\\n\\\\n1. **Create a Cozy Atmosphere**: Dim the lights and use calming scents.\\\\n2. **Gentle Movement**: Try calming yoga or stretching.\\\\n3. **Mindful Journaling**: Reflect on your day and express gratitude.\\\\n4. **Creative Expression**: Engage in a relaxing creative activity.\\\\n5. **Soothing Soundscapes**: Listen to calming music or nature sounds.\\\\n6. **Herbal Tea Ritual**: Sip on calming herbal tea.\\\\n7. **Digital Detox**: Turn off screens and connect with yourself.\\\\n8. **Guided Visualization**: Picture a peaceful scene in your mind.\\\\n9. **Bedtime Affirmations**: Repeat calming affirmations as you lie down.\\\\n10. **Drift into Sleep**: Focus on your breath and relax.\\\\n\\\\nFeel free to adjust this to fit your needs!\",\\n    \"avoidance_timing\": {\\n      \"caffeine\": \"Avoid caffeine after 4:30 PM.\",\\n      \"screen_time\": \"Turn off screens by 9:30 PM.\",\\n      \"exercise\": \"Finish heavy exercise by 8:30 PM.\"\\n    },\\n    \"generated_routine\": \"### Start Winding Down at 9:30 PM\\\\n\\\\n1. **Create a Cozy Atmosphere** (9:30 PM - 9:45 PM)\\\\n2. **Gentle Movement or Stretching** (9:45 PM - 10:00 PM)\\\\n3. **Mindful Reflection** (10:00 PM - 10:15 PM)\\\\n4. **Read or Listen to Something Soothing** (10:15 PM - 10:30 PM)\\\\n\\\\n### Bedtime: 10:30 PM\",\\n    \"sleep_disorder_check\": \"Given your average sleep duration of 5.6 hours, a latency of 45 minutes, and frequent awakenings, it’s possible you may experience sleep disorders like insomnia. Consider consulting a healthcare professional for more guidance.\",\\n    \"suggested_bedtime\": \"To feel refreshed by waking at 6:45 AM, aim for a bedtime of 11:15 PM.\",\\n    \"routine_for_meeting\": \"Start winding down at 9:30 PM and aim for bed by 10:00 PM to ensure sufficient rest before your meeting.\",\\n    \"sleep_checkin\": \"You mentioned feeling tired upon waking. This might relate to your sleep disturbances and quality.\",\\n    \"sleep_reminders\": [\\n      \"1. 🌙 As the sun sets, let your energy settle too! Remember to sip something soothing instead of afternoon coffee.\",\\n      \"2. 📵 It’s almost screen-free time! At 9:30 PM, let’s dim those screens.\",\\n      \"3. ⏳ The clock is ticking towards your wind-down hour! At 10:00 PM, embrace a gentle routine.\",\\n      \"4. 🛌 Picture your bedtime sanctuary! Dim the lights and create a calming atmosphere.\",\\n      \"5. 🌿 Breathe in, breathe out! Reflect as you prepare for sleep.\"\\n    ]\\n  }\\n}\\n```'"
            ],
            "application/vnd.google.colaboratory.intrinsic+json": {
              "type": "string"
            }
          },
          "metadata": {},
          "execution_count": 36
        }
      ]
    }
  ]
}