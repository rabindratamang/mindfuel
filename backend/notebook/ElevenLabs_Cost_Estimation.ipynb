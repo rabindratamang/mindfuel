{
  "nbformat": 4,
  "nbformat_minor": 0,
  "metadata": {
    "colab": {
      "provenance": [],
      "toc_visible": true
    },
    "kernelspec": {
      "name": "python3",
      "display_name": "Python 3"
    },
    "language_info": {
      "name": "python"
    }
  },
  "cells": [
    {
      "cell_type": "code",
      "execution_count": null,
      "metadata": {
        "id": "xCighDY8wOCH",
        "colab": {
          "base_uri": "https://localhost:8080/"
        },
        "outputId": "93460794-23fc-4287-ead3-76dcad7dd76d"
      },
      "outputs": [
        {
          "output_type": "stream",
          "name": "stdout",
          "text": [
            "  Preparing metadata (setup.py) ... \u001b[?25l\u001b[?25hdone\n",
            "\u001b[2K     \u001b[90m━━━━━━━━━━━━━━━━━━━━━━━━━━━━━━━━━━━━━━━━\u001b[0m \u001b[32m61.0/61.0 kB\u001b[0m \u001b[31m5.1 MB/s\u001b[0m eta \u001b[36m0:00:00\u001b[0m\n",
            "\u001b[2K     \u001b[90m━━━━━━━━━━━━━━━━━━━━━━━━━━━━━━━━━━━━━━━━\u001b[0m \u001b[32m67.3/67.3 kB\u001b[0m \u001b[31m6.0 MB/s\u001b[0m eta \u001b[36m0:00:00\u001b[0m\n",
            "\u001b[?25h  Installing build dependencies ... \u001b[?25l\u001b[?25hdone\n",
            "  Getting requirements to build wheel ... \u001b[?25l\u001b[?25hdone\n",
            "  Preparing metadata (pyproject.toml) ... \u001b[?25l\u001b[?25hdone\n",
            "\u001b[2K     \u001b[90m━━━━━━━━━━━━━━━━━━━━━━━━━━━━━━━━━━━━━━━━\u001b[0m \u001b[32m43.7/43.7 kB\u001b[0m \u001b[31m2.9 MB/s\u001b[0m eta \u001b[36m0:00:00\u001b[0m\n",
            "\u001b[2K   \u001b[90m━━━━━━━━━━━━━━━━━━━━━━━━━━━━━━━━━━━━━━━━\u001b[0m \u001b[32m1.0/1.0 MB\u001b[0m \u001b[31m56.0 MB/s\u001b[0m eta \u001b[36m0:00:00\u001b[0m\n",
            "\u001b[2K   \u001b[90m━━━━━━━━━━━━━━━━━━━━━━━━━━━━━━━━━━━━━━━━\u001b[0m \u001b[32m2.5/2.5 MB\u001b[0m \u001b[31m90.3 MB/s\u001b[0m eta \u001b[36m0:00:00\u001b[0m\n",
            "\u001b[2K   \u001b[90m━━━━━━━━━━━━━━━━━━━━━━━━━━━━━━━━━━━━━━━━\u001b[0m \u001b[32m304.2/304.2 kB\u001b[0m \u001b[31m27.0 MB/s\u001b[0m eta \u001b[36m0:00:00\u001b[0m\n",
            "\u001b[2K   \u001b[90m━━━━━━━━━━━━━━━━━━━━━━━━━━━━━━━━━━━━━━━━\u001b[0m \u001b[32m438.5/438.5 kB\u001b[0m \u001b[31m34.9 MB/s\u001b[0m eta \u001b[36m0:00:00\u001b[0m\n",
            "\u001b[2K   \u001b[90m━━━━━━━━━━━━━━━━━━━━━━━━━━━━━━━━━━━━━━━━\u001b[0m \u001b[32m326.9/326.9 kB\u001b[0m \u001b[31m26.5 MB/s\u001b[0m eta \u001b[36m0:00:00\u001b[0m\n",
            "\u001b[2K   \u001b[90m━━━━━━━━━━━━━━━━━━━━━━━━━━━━━━━━━━━━━━━━\u001b[0m \u001b[32m64.5/64.5 kB\u001b[0m \u001b[31m6.0 MB/s\u001b[0m eta \u001b[36m0:00:00\u001b[0m\n",
            "\u001b[2K   \u001b[90m━━━━━━━━━━━━━━━━━━━━━━━━━━━━━━━━━━━━━━━━\u001b[0m \u001b[32m152.4/152.4 kB\u001b[0m \u001b[31m14.1 MB/s\u001b[0m eta \u001b[36m0:00:00\u001b[0m\n",
            "\u001b[2K   \u001b[90m━━━━━━━━━━━━━━━━━━━━━━━━━━━━━━━━━━━━━━━━\u001b[0m \u001b[32m19.3/19.3 MB\u001b[0m \u001b[31m95.0 MB/s\u001b[0m eta \u001b[36m0:00:00\u001b[0m\n",
            "\u001b[2K   \u001b[90m━━━━━━━━━━━━━━━━━━━━━━━━━━━━━━━━━━━━━━━━\u001b[0m \u001b[32m43.8/43.8 kB\u001b[0m \u001b[31m4.1 MB/s\u001b[0m eta \u001b[36m0:00:00\u001b[0m\n",
            "\u001b[2K   \u001b[90m━━━━━━━━━━━━━━━━━━━━━━━━━━━━━━━━━━━━━━━━\u001b[0m \u001b[32m50.0/50.0 kB\u001b[0m \u001b[31m4.4 MB/s\u001b[0m eta \u001b[36m0:00:00\u001b[0m\n",
            "\u001b[2K   \u001b[90m━━━━━━━━━━━━━━━━━━━━━━━━━━━━━━━━━━━━━━━━\u001b[0m \u001b[32m18.3/18.3 MB\u001b[0m \u001b[31m91.7 MB/s\u001b[0m eta \u001b[36m0:00:00\u001b[0m\n",
            "\u001b[2K   \u001b[90m━━━━━━━━━━━━━━━━━━━━━━━━━━━━━━━━━━━━━━━━\u001b[0m \u001b[32m44.4/44.4 kB\u001b[0m \u001b[31m3.6 MB/s\u001b[0m eta \u001b[36m0:00:00\u001b[0m\n",
            "\u001b[2K   \u001b[90m━━━━━━━━━━━━━━━━━━━━━━━━━━━━━━━━━━━━━━━━\u001b[0m \u001b[32m284.2/284.2 kB\u001b[0m \u001b[31m25.1 MB/s\u001b[0m eta \u001b[36m0:00:00\u001b[0m\n",
            "\u001b[2K   \u001b[90m━━━━━━━━━━━━━━━━━━━━━━━━━━━━━━━━━━━━━━━━\u001b[0m \u001b[32m1.9/1.9 MB\u001b[0m \u001b[31m85.8 MB/s\u001b[0m eta \u001b[36m0:00:00\u001b[0m\n",
            "\u001b[2K   \u001b[90m━━━━━━━━━━━━━━━━━━━━━━━━━━━━━━━━━━━━━━━━\u001b[0m \u001b[32m50.9/50.9 kB\u001b[0m \u001b[31m5.2 MB/s\u001b[0m eta \u001b[36m0:00:00\u001b[0m\n",
            "\u001b[2K   \u001b[90m━━━━━━━━━━━━━━━━━━━━━━━━━━━━━━━━━━━━━━━━\u001b[0m \u001b[32m101.6/101.6 kB\u001b[0m \u001b[31m9.9 MB/s\u001b[0m eta \u001b[36m0:00:00\u001b[0m\n",
            "\u001b[2K   \u001b[90m━━━━━━━━━━━━━━━━━━━━━━━━━━━━━━━━━━━━━━━━\u001b[0m \u001b[32m16.4/16.4 MB\u001b[0m \u001b[31m98.2 MB/s\u001b[0m eta \u001b[36m0:00:00\u001b[0m\n",
            "\u001b[2K   \u001b[90m━━━━━━━━━━━━━━━━━━━━━━━━━━━━━━━━━━━━━━━━\u001b[0m \u001b[32m65.8/65.8 kB\u001b[0m \u001b[31m5.8 MB/s\u001b[0m eta \u001b[36m0:00:00\u001b[0m\n",
            "\u001b[2K   \u001b[90m━━━━━━━━━━━━━━━━━━━━━━━━━━━━━━━━━━━━━━━━\u001b[0m \u001b[32m55.7/55.7 kB\u001b[0m \u001b[31m4.7 MB/s\u001b[0m eta \u001b[36m0:00:00\u001b[0m\n",
            "\u001b[2K   \u001b[90m━━━━━━━━━━━━━━━━━━━━━━━━━━━━━━━━━━━━━━━━\u001b[0m \u001b[32m118.5/118.5 kB\u001b[0m \u001b[31m11.4 MB/s\u001b[0m eta \u001b[36m0:00:00\u001b[0m\n",
            "\u001b[2K   \u001b[90m━━━━━━━━━━━━━━━━━━━━━━━━━━━━━━━━━━━━━━━━\u001b[0m \u001b[32m196.2/196.2 kB\u001b[0m \u001b[31m15.8 MB/s\u001b[0m eta \u001b[36m0:00:00\u001b[0m\n",
            "\u001b[2K   \u001b[90m━━━━━━━━━━━━━━━━━━━━━━━━━━━━━━━━━━━━━━━━\u001b[0m \u001b[32m216.5/216.5 kB\u001b[0m \u001b[31m19.4 MB/s\u001b[0m eta \u001b[36m0:00:00\u001b[0m\n",
            "\u001b[2K   \u001b[90m━━━━━━━━━━━━━━━━━━━━━━━━━━━━━━━━━━━━━━━━\u001b[0m \u001b[32m103.8/103.8 kB\u001b[0m \u001b[31m10.3 MB/s\u001b[0m eta \u001b[36m0:00:00\u001b[0m\n",
            "\u001b[2K   \u001b[90m━━━━━━━━━━━━━━━━━━━━━━━━━━━━━━━━━━━━━━━━\u001b[0m \u001b[32m71.2/71.2 kB\u001b[0m \u001b[31m6.6 MB/s\u001b[0m eta \u001b[36m0:00:00\u001b[0m\n",
            "\u001b[2K   \u001b[90m━━━━━━━━━━━━━━━━━━━━━━━━━━━━━━━━━━━━━━━━\u001b[0m \u001b[32m459.8/459.8 kB\u001b[0m \u001b[31m34.7 MB/s\u001b[0m eta \u001b[36m0:00:00\u001b[0m\n",
            "\u001b[2K   \u001b[90m━━━━━━━━━━━━━━━━━━━━━━━━━━━━━━━━━━━━━━━━\u001b[0m \u001b[32m4.0/4.0 MB\u001b[0m \u001b[31m96.0 MB/s\u001b[0m eta \u001b[36m0:00:00\u001b[0m\n",
            "\u001b[2K   \u001b[90m━━━━━━━━━━━━━━━━━━━━━━━━━━━━━━━━━━━━━━━━\u001b[0m \u001b[32m453.1/453.1 kB\u001b[0m \u001b[31m37.7 MB/s\u001b[0m eta \u001b[36m0:00:00\u001b[0m\n",
            "\u001b[2K   \u001b[90m━━━━━━━━━━━━━━━━━━━━━━━━━━━━━━━━━━━━━━━━\u001b[0m \u001b[32m46.0/46.0 kB\u001b[0m \u001b[31m4.6 MB/s\u001b[0m eta \u001b[36m0:00:00\u001b[0m\n",
            "\u001b[2K   \u001b[90m━━━━━━━━━━━━━━━━━━━━━━━━━━━━━━━━━━━━━━━━\u001b[0m \u001b[32m86.8/86.8 kB\u001b[0m \u001b[31m8.5 MB/s\u001b[0m eta \u001b[36m0:00:00\u001b[0m\n",
            "\u001b[?25h  Building wheel for wikipedia (setup.py) ... \u001b[?25l\u001b[?25hdone\n",
            "  Building wheel for pypika (pyproject.toml) ... \u001b[?25l\u001b[?25hdone\n",
            "\u001b[31mERROR: pip's dependency resolver does not currently take into account all the packages that are installed. This behaviour is the source of the following dependency conflicts.\n",
            "thinc 8.3.6 requires numpy<3.0.0,>=2.0.0, but you have numpy 1.26.4 which is incompatible.\u001b[0m\u001b[31m\n",
            "\u001b[0m"
          ]
        }
      ],
      "source": [
        "# Install required packages\n",
        "!pip install -qU langchain==0.3.12 langchain-chroma langchain-community pypdf langchain-openai wikipedia langgraph"
      ]
    },
    {
      "cell_type": "code",
      "source": [
        "# Environment setup\n",
        "import os\n",
        "from google.colab import userdata\n",
        "os.environ[\"OPENAI_API_KEY\"] = userdata.get('OPENAI_API_KEY')"
      ],
      "metadata": {
        "id": "ac20VpZnwO2p"
      },
      "execution_count": null,
      "outputs": []
    },
    {
      "cell_type": "markdown",
      "source": [
        "# Eleven Labs"
      ],
      "metadata": {
        "id": "c4_u6I11utZv"
      }
    },
    {
      "cell_type": "code",
      "source": [
        "# # from langchain_core.tools import tool\n",
        "\n",
        "# # tool\n",
        "# # def token_calculate(text: str) -> dict:\n",
        "# #     \"\"\"\n",
        "# #     Calculates the number of characters in the input text and estimates Eleven Labs credit usage.\n",
        "# #     Returns the character count and estimated cost in USD.\n",
        "# #     \"\"\"\n",
        "# #     num_characters = len(text)\n",
        "# #     cost_per_character = 0.0001  # $1 per 10,000 characters\n",
        "# #     estimated_cost = round(num_characters * cost_per_character, 4)\n",
        "\n",
        "# #     return {\n",
        "# #         \"character_count\": num_characters,\n",
        "# #         \"estimated_cost_usd\": estimated_cost\n",
        "# #     }\n",
        "# from langchain_core.tools import tool\n",
        "\n",
        "# tool\n",
        "# def token_calculate(text: str) -> dict:\n",
        "#     \"\"\"\n",
        "#     Calculates Eleven Labs TTS usage for a given text using the Free Plan (20,000 characters/month).\n",
        "#     Returns character count, percentage of monthly quota used, and estimated TTS time (in minutes).\n",
        "#     \"\"\"\n",
        "#     num_characters = len(text)\n",
        "#     monthly_quota = 20000\n",
        "#     percentage_used = round((num_characters / monthly_quota) * 100, 2)\n",
        "\n",
        "#     # Estimating time: 20,000 characters ≈ 10 minutes of high-quality TTS\n",
        "#     # So, 1 minute ≈ 2000 characters\n",
        "#     estimated_minutes_high_quality = round(num_characters / 2000, 2)\n",
        "#     estimated_minutes_flash = round(num_characters / 1000, 2)\n",
        "#     estimated_minutes_conversational = round(num_characters / 1333.33, 2)\n",
        "\n",
        "#     return {\n",
        "#         \"character_count\": num_characters,\n",
        "#         \"percent_of_free_quota_used\": percentage_used,\n",
        "#         \"estimated_duration_minutes\": {\n",
        "#             \"high_quality\": estimated_minutes_high_quality,\n",
        "#             \"flash\": estimated_minutes_flash,\n",
        "#             \"conversational_ai\": estimated_minutes_conversational\n",
        "#         },\n",
        "#         \"note\": \"Estimates are based on Eleven Labs' Free Plan: 20,000 characters per month.\"\n",
        "#     }\n",
        "from langchain_core.tools import tool\n",
        "\n",
        "@tool\n",
        "def token_calculate(text: str) -> dict:\n",
        "    \"\"\"\n",
        "    Calculates character count, estimated duration, percentage of monthly quota used,\n",
        "    and estimated Eleven Labs credits to be deducted from the free 10,000 monthly credits.\n",
        "    \"\"\"\n",
        "\n",
        "    num_characters = len(text)\n",
        "    monthly_quota_chars = 20000\n",
        "    total_credits = 10000  # Free plan credits\n",
        "    chars_per_credit = 2   # Based on 1 credit ≈ 2 characters\n",
        "\n",
        "    # Calculate\n",
        "    percent_quota_used = round((num_characters / monthly_quota_chars) * 100, 2)\n",
        "    estimated_credits = round(num_characters / chars_per_credit, 2)\n",
        "\n",
        "    # Estimated minutes\n",
        "    estimated_minutes_high_quality = round(num_characters / 2000, 2)\n",
        "    estimated_minutes_flash = round(num_characters / 1000, 2)\n",
        "    estimated_minutes_conversational = round(num_characters / 1333.33, 2)\n",
        "\n",
        "    percent_credits_used = round((estimated_credits / total_credits) * 100, 2)\n",
        "\n",
        "    return {\n",
        "        \"character_count\": num_characters,\n",
        "        \"estimated_credits_deducted\": estimated_credits,\n",
        "        \"percent_of_free_quota_used\": percent_quota_used,\n",
        "        \"percent_of_credits_used\": percent_credits_used,\n",
        "        \"estimated_duration_minutes\": {\n",
        "            \"high_quality\": estimated_minutes_high_quality,\n",
        "            \"flash\": estimated_minutes_flash,\n",
        "            \"conversational_ai\": estimated_minutes_conversational\n",
        "        },\n",
        "        \"note\": (\n",
        "            \"Based on Eleven Labs Free Plan: 20,000 characters/month ≈ 10,000 credits. \"\n",
        "            \"1 credit ≈ 2 characters.\"\n",
        "        )\n",
        "    }\n"
      ],
      "metadata": {
        "id": "GTb9GWOPt-Iu"
      },
      "execution_count": null,
      "outputs": []
    },
    {
      "cell_type": "markdown",
      "source": [
        "# Agent Eleven Labs"
      ],
      "metadata": {
        "id": "EP5IhvTpsd7g"
      }
    },
    {
      "cell_type": "code",
      "source": [
        "\n",
        "# # eleven_labs_assistant = create_react_agent(\n",
        "# #     model=model,\n",
        "# #     tools=[token_calculate],\n",
        "# #     prompt=\"\"\"\n",
        "# # You are an assistant helping users estimate how much it will cost to convert a given text to speech using Eleven Labs.\n",
        "\n",
        "# # Your task:\n",
        "# # - Analyze the input text provided to you.\n",
        "# # - Use the `token_calculate` tool to compute the number of characters in the text and the estimated cost in USD.\n",
        "# # - Return the result in the following JSON format:\n",
        "\n",
        "# # {\n",
        "# #   \"character_count\": <number of characters>,\n",
        "# #   \"estimated_cost_usd\": <approximate cost in USD>\n",
        "# # }\n",
        "\n",
        "# # Be precise and always use the `token_calculate` tool to generate your response.\n",
        "# # \"\"\",\n",
        "# #     name=\"eleven_labs_assistant\"\n",
        "# # )\n",
        "# eleven_labs_assistant = create_react_agent(\n",
        "#     model=model,\n",
        "#     tools=[token_calculate],\n",
        "#     prompt=\"\"\"\n",
        "# You are an assistant that helps users estimate how much of their Eleven Labs Free Plan quota will be used when converting a given text to speech.\n",
        "\n",
        "# Instructions:\n",
        "# - Take the user's input text.\n",
        "# - Use the `token_calculate` tool to compute:\n",
        "#   - Total character count.\n",
        "#   - What percent of the 20,000 monthly characters it uses.\n",
        "#   - Estimated duration (in minutes) if converted using:\n",
        "#     - High-quality TTS (Multilingual v2),\n",
        "#     - Flash (v2.5),\n",
        "#     - Conversational AI.\n",
        "\n",
        "# Respond in this JSON format:\n",
        "\n",
        "# {\n",
        "#   \"character_count\": ...,\n",
        "#   \"percent_of_free_quota_used\": ...,\n",
        "#   \"estimated_duration_minutes\": {\n",
        "#     \"high_quality\": ...,\n",
        "#     \"flash\": ...,\n",
        "#     \"conversational_ai\": ...\n",
        "#   },\n",
        "#   \"note\": \"...\"\n",
        "# }\n",
        "\n",
        "# Always call the `token_calculate` tool. Do not guess.\n",
        "# \"\"\",\n",
        "#     name=\"eleven_labs_assistant\"\n",
        "# )\n",
        "eleven_labs_assistant = create_react_agent(\n",
        "    model=model,\n",
        "    tools=[token_calculate],\n",
        "    prompt=\"\"\"\n",
        "You are an assistant that helps users estimate how many credits will be consumed from their Eleven Labs Free Plan when converting a given text to speech.\n",
        "\n",
        "Instructions:\n",
        "- Analyze the input text.\n",
        "- Use the `token_calculate` tool.\n",
        "- Return results in this JSON format:\n",
        "\n",
        "{\n",
        "  \"character_count\": ...,\n",
        "  \"estimated_credits_deducted\": ...,\n",
        "  \"percent_of_credits_used\": ...,\n",
        "  \"percent_of_free_quota_used\": ...,\n",
        "  \"estimated_duration_minutes\": {\n",
        "    \"high_quality\": ...,\n",
        "    \"flash\": ...,\n",
        "    \"conversational_ai\": ...\n",
        "  },\n",
        "  \"note\": \"Based on Eleven Labs Free Plan: 20,000 characters/month ≈ 10,000 credits. 1 credit ≈ 2 characters.\"\n",
        "}\n",
        "\n",
        "Always call the `token_calculate` tool and do not guess.\n",
        "\"\"\",\n",
        "    name=\"eleven_labs_assistant\"\n",
        ")\n"
      ],
      "metadata": {
        "id": "gknASZV-t-Fc"
      },
      "execution_count": null,
      "outputs": []
    },
    {
      "cell_type": "code",
      "source": [
        "eleven_response = eleven_labs_assistant.invoke({\n",
        "    \"messages\": [\n",
        "        HumanMessage(content=response[\"messages\"][-1].content)\n",
        "    ]\n",
        "})\n",
        "eleven_response[\"messages\"]"
      ],
      "metadata": {
        "colab": {
          "base_uri": "https://localhost:8080/"
        },
        "id": "8rq2yfxrz_vD",
        "outputId": "47efb625-56f6-4def-e408-88079d3b61d0"
      },
      "execution_count": null,
      "outputs": [
        {
          "output_type": "execute_result",
          "data": {
            "text/plain": [
              "[HumanMessage(content='{\\n  \"answer\": \"The Gayatri mantra is a sacred mantra from the Bhagavad Gita, which is as follows: Aum bhur bhuvah svah Tat savitur varenyam Bhargo devasya dhimahi Dhiyo yo nah prachodayat. Its meaning is: \\'We meditate on the transcendental glory of the Deity Supreme, Who is inside the heart of the earth, inside the life of the sky, and inside the soul of the Heaven. May He stimulate and illumine our minds.\\'\",\\n  \"source_documents\": [\\n    {\\n      \"title\": \"Bhagavad Gita\",\\n      \"page\": \"Assumed context\",\\n      \"snippet\": \"Aum bhur bhuvah svah Tat savitur varenyam Bhargo devasya dhimahi Dhiyo yo nah prachodayat.\"\\n    }\\n  ]\\n}', additional_kwargs={}, response_metadata={}, id='57191bf6-7f1c-4fbf-9db8-be3460f12c28'),\n",
              " AIMessage(content='', additional_kwargs={'tool_calls': [{'id': 'call_0uHyFR32sVgg8WA21WuQYv0i', 'function': {'arguments': '{\"text\":\"The Gayatri mantra is a sacred mantra from the Bhagavad Gita, which is as follows: Aum bhur bhuvah svah Tat savitur varenyam Bhargo devasya dhimahi Dhiyo yo nah prachodayat. Its meaning is: \\'We meditate on the transcendental glory of the Deity Supreme, Who is inside the heart of the earth, inside the life of the sky, and inside the soul of the Heaven. May He stimulate and illumine our minds.\\'\"}', 'name': 'token_calculate'}, 'type': 'function'}], 'refusal': None}, response_metadata={'token_usage': {'completion_tokens': 114, 'prompt_tokens': 418, 'total_tokens': 532, 'completion_tokens_details': {'accepted_prediction_tokens': 0, 'audio_tokens': 0, 'reasoning_tokens': 0, 'rejected_prediction_tokens': 0}, 'prompt_tokens_details': {'audio_tokens': 0, 'cached_tokens': 0}}, 'model_name': 'gpt-4o-mini-2024-07-18', 'system_fingerprint': 'fp_34a54ae93c', 'id': 'chatcmpl-BkSy3AC1tacZmtKr3FB9U2xNA2ue1', 'service_tier': 'default', 'finish_reason': 'tool_calls', 'logprobs': None}, name='eleven_labs_assistant', id='run--c7cea6db-88af-4037-b552-f3f4a894a894-0', tool_calls=[{'name': 'token_calculate', 'args': {'text': \"The Gayatri mantra is a sacred mantra from the Bhagavad Gita, which is as follows: Aum bhur bhuvah svah Tat savitur varenyam Bhargo devasya dhimahi Dhiyo yo nah prachodayat. Its meaning is: 'We meditate on the transcendental glory of the Deity Supreme, Who is inside the heart of the earth, inside the life of the sky, and inside the soul of the Heaven. May He stimulate and illumine our minds.'\"}, 'id': 'call_0uHyFR32sVgg8WA21WuQYv0i', 'type': 'tool_call'}], usage_metadata={'input_tokens': 418, 'output_tokens': 114, 'total_tokens': 532, 'input_token_details': {'audio': 0, 'cache_read': 0}, 'output_token_details': {'audio': 0, 'reasoning': 0}}),\n",
              " ToolMessage(content='{\"character_count\": 395, \"estimated_credits_deducted\": 197.5, \"percent_of_free_quota_used\": 1.98, \"percent_of_credits_used\": 1.98, \"estimated_duration_minutes\": {\"high_quality\": 0.2, \"flash\": 0.4, \"conversational_ai\": 0.3}, \"note\": \"Based on Eleven Labs Free Plan: 20,000 characters/month ≈ 10,000 credits. 1 credit ≈ 2 characters.\"}', name='token_calculate', id='f6d3b6cf-493d-474c-bc01-b0929d1c4232', tool_call_id='call_0uHyFR32sVgg8WA21WuQYv0i'),\n",
              " AIMessage(content='{\\n  \"character_count\": 395,\\n  \"estimated_credits_deducted\": 197.5,\\n  \"percent_of_credits_used\": 1.98,\\n  \"percent_of_free_quota_used\": 1.98,\\n  \"estimated_duration_minutes\": {\\n    \"high_quality\": 0.2,\\n    \"flash\": 0.4,\\n    \"conversational_ai\": 0.3\\n  },\\n  \"note\": \"Based on Eleven Labs Free Plan: 20,000 characters/month ≈ 10,000 credits. 1 credit ≈ 2 characters.\"\\n}', additional_kwargs={'refusal': None}, response_metadata={'token_usage': {'completion_tokens': 127, 'prompt_tokens': 661, 'total_tokens': 788, 'completion_tokens_details': {'accepted_prediction_tokens': 0, 'audio_tokens': 0, 'reasoning_tokens': 0, 'rejected_prediction_tokens': 0}, 'prompt_tokens_details': {'audio_tokens': 0, 'cached_tokens': 0}}, 'model_name': 'gpt-4o-mini-2024-07-18', 'system_fingerprint': 'fp_34a54ae93c', 'id': 'chatcmpl-BkSy58ER0hc9SqFX4O2NW6VoC5qmB', 'service_tier': 'default', 'finish_reason': 'stop', 'logprobs': None}, name='eleven_labs_assistant', id='run--70cb1233-4c86-410a-a4c8-3b64f890b942-0', usage_metadata={'input_tokens': 661, 'output_tokens': 127, 'total_tokens': 788, 'input_token_details': {'audio': 0, 'cache_read': 0}, 'output_token_details': {'audio': 0, 'reasoning': 0}})]"
            ]
          },
          "metadata": {},
          "execution_count": 38
        }
      ]
    },
    {
      "cell_type": "code",
      "source": [
        "eleven_response[\"messages\"][-1].content"
      ],
      "metadata": {
        "colab": {
          "base_uri": "https://localhost:8080/",
          "height": 53
        },
        "id": "jfwNIf7Dz_pw",
        "outputId": "0490c37c-84d6-4819-e779-bcbf899e148a"
      },
      "execution_count": null,
      "outputs": [
        {
          "output_type": "execute_result",
          "data": {
            "text/plain": [
              "'{\\n  \"character_count\": 395,\\n  \"estimated_credits_deducted\": 197.5,\\n  \"percent_of_credits_used\": 1.98,\\n  \"percent_of_free_quota_used\": 1.98,\\n  \"estimated_duration_minutes\": {\\n    \"high_quality\": 0.2,\\n    \"flash\": 0.4,\\n    \"conversational_ai\": 0.3\\n  },\\n  \"note\": \"Based on Eleven Labs Free Plan: 20,000 characters/month ≈ 10,000 credits. 1 credit ≈ 2 characters.\"\\n}'"
            ],
            "application/vnd.google.colaboratory.intrinsic+json": {
              "type": "string"
            }
          },
          "metadata": {},
          "execution_count": 39
        }
      ]
    },
    {
      "cell_type": "markdown",
      "source": [
        "# 11 Agent Response"
      ],
      "metadata": {
        "id": "lZzHrINi23O0"
      }
    },
    {
      "cell_type": "code",
      "source": [
        "text=\"Welcome to this 10-minute guided meditation. Begin by finding a comfortable seated or lying position. Gently close your eyes. Let your hands rest softly on your lap or by your sides. Take a deep breath in… and exhale slowly. Feel the weight of your body being supported by the ground beneath you. Now, take another deep breath in… and let it go. With each breath, allow your body to relax a little more. Soften your shoulders. Unclench your jaw. Relax the muscles around your eyes. Let go of any tension you may be holding. Bring your attention to your breath. Simply notice the inhale… and the exhale. Don’t try to change it. Just observe it as it flows naturally in and out. If your mind starts to wander, that’s okay. Gently bring it back to your breath. Now, take a moment to scan your body from head to toe. Notice any areas of tightness, and invite those areas to soften. Relax your forehead, your neck, your chest, your belly. Let everything melt and loosen with each breath. Let your thoughts come and go like clouds in the sky. No need to follow them or push them away. Just return to the rhythm of your breath—anchoring yourself in the present moment. You are safe. You are calm. You are grounded. Inhale deeply through your nose… and exhale gently through your mouth. With each breath, feel a sense of peace expanding within you. Now, bring to mind a feeling of gratitude. It could be for a person, a place, or even just the gift of this moment. Let that gratitude warm your heart. Take one more deep breath in… and sigh it out. As we near the end of this meditation, slowly bring your awareness back to your surroundings. Wiggle your fingers and toes. Gently roll your shoulders. When you're ready, open your eyes. Take a moment to notice how you feel. Carry this calm and clarity with you into the rest of your day. Thank you for taking this time for yourself.\""
      ],
      "metadata": {
        "id": "v9i8buOs1QgW"
      },
      "execution_count": null,
      "outputs": []
    },
    {
      "cell_type": "code",
      "source": [
        "eleven_response = eleven_labs_assistant.invoke({\n",
        "    \"messages\": [\n",
        "        HumanMessage(content=text)\n",
        "    ]\n",
        "})\n",
        "eleven_response[\"messages\"]"
      ],
      "metadata": {
        "colab": {
          "base_uri": "https://localhost:8080/"
        },
        "id": "KWg2H5SS1QYy",
        "outputId": "71265a5f-210f-44b7-bb92-7fedf4b72230"
      },
      "execution_count": null,
      "outputs": [
        {
          "output_type": "execute_result",
          "data": {
            "text/plain": [
              "[HumanMessage(content=\"Welcome to this 10-minute guided meditation. Begin by finding a comfortable seated or lying position. Gently close your eyes. Let your hands rest softly on your lap or by your sides. Take a deep breath in… and exhale slowly. Feel the weight of your body being supported by the ground beneath you. Now, take another deep breath in… and let it go. With each breath, allow your body to relax a little more. Soften your shoulders. Unclench your jaw. Relax the muscles around your eyes. Let go of any tension you may be holding. Bring your attention to your breath. Simply notice the inhale… and the exhale. Don’t try to change it. Just observe it as it flows naturally in and out. If your mind starts to wander, that’s okay. Gently bring it back to your breath. Now, take a moment to scan your body from head to toe. Notice any areas of tightness, and invite those areas to soften. Relax your forehead, your neck, your chest, your belly. Let everything melt and loosen with each breath. Let your thoughts come and go like clouds in the sky. No need to follow them or push them away. Just return to the rhythm of your breath—anchoring yourself in the present moment. You are safe. You are calm. You are grounded. Inhale deeply through your nose… and exhale gently through your mouth. With each breath, feel a sense of peace expanding within you. Now, bring to mind a feeling of gratitude. It could be for a person, a place, or even just the gift of this moment. Let that gratitude warm your heart. Take one more deep breath in… and sigh it out. As we near the end of this meditation, slowly bring your awareness back to your surroundings. Wiggle your fingers and toes. Gently roll your shoulders. When you're ready, open your eyes. Take a moment to notice how you feel. Carry this calm and clarity with you into the rest of your day. Thank you for taking this time for yourself.\", additional_kwargs={}, response_metadata={}, id='04ed59e3-49bf-4ea4-b278-ad3050dd02a5'),\n",
              " AIMessage(content='', additional_kwargs={'tool_calls': [{'id': 'call_WqfD2tdyz2fKmV93jibUr9Wb', 'function': {'arguments': '{\"text\":\"Welcome to this 10-minute guided meditation. Begin by finding a comfortable seated or lying position. Gently close your eyes. Let your hands rest softly on your lap or by your sides. Take a deep breath in… and exhale slowly. Feel the weight of your body being supported by the ground beneath you. Now, take another deep breath in… and let it go. With each breath, allow your body to relax a little more. Soften your shoulders. Unclench your jaw. Relax the muscles around your eyes. Let go of any tension you may be holding. Bring your attention to your breath. Simply notice the inhale… and the exhale. Don’t try to change it. Just observe it as it flows naturally in and out. If your mind starts to wander, that’s okay. Gently bring it back to your breath. Now, take a moment to scan your body from head to toe. Notice any areas of tightness, and invite those areas to soften. Relax your forehead, your neck, your chest, your belly. Let everything melt and loosen with each breath. Let your thoughts come and go like clouds in the sky. No need to follow them or push them away. Just return to the rhythm of your breath—anchoring yourself in the present moment. You are safe. You are calm. You are grounded. Inhale deeply through your nose… and exhale gently through your mouth. With each breath, feel a sense of peace expanding within you. Now, bring to mind a feeling of gratitude. It could be for a person, a place, or even just the gift of this moment. Let that gratitude warm your heart. Take one more deep breath in… and sigh it out. As we near the end of this meditation, slowly bring your awareness back to your surroundings. Wiggle your fingers and toes. Gently roll your shoulders. When you\\'re ready, open your eyes. Take a moment to notice how you feel. Carry this calm and clarity with you into the rest of your day. Thank you for taking this time for yourself.\"}', 'name': 'token_calculate'}, 'type': 'function'}], 'refusal': None}, response_metadata={'token_usage': {'completion_tokens': 434, 'prompt_tokens': 664, 'total_tokens': 1098, 'completion_tokens_details': {'accepted_prediction_tokens': 0, 'audio_tokens': 0, 'reasoning_tokens': 0, 'rejected_prediction_tokens': 0}, 'prompt_tokens_details': {'audio_tokens': 0, 'cached_tokens': 0}}, 'model_name': 'gpt-4o-mini-2024-07-18', 'system_fingerprint': 'fp_34a54ae93c', 'id': 'chatcmpl-BkT5NpCZrHti58sF6csSeXzGydELX', 'service_tier': 'default', 'finish_reason': 'tool_calls', 'logprobs': None}, name='eleven_labs_assistant', id='run--b7943225-94eb-4d53-875b-4577c4a4e545-0', tool_calls=[{'name': 'token_calculate', 'args': {'text': \"Welcome to this 10-minute guided meditation. Begin by finding a comfortable seated or lying position. Gently close your eyes. Let your hands rest softly on your lap or by your sides. Take a deep breath in… and exhale slowly. Feel the weight of your body being supported by the ground beneath you. Now, take another deep breath in… and let it go. With each breath, allow your body to relax a little more. Soften your shoulders. Unclench your jaw. Relax the muscles around your eyes. Let go of any tension you may be holding. Bring your attention to your breath. Simply notice the inhale… and the exhale. Don’t try to change it. Just observe it as it flows naturally in and out. If your mind starts to wander, that’s okay. Gently bring it back to your breath. Now, take a moment to scan your body from head to toe. Notice any areas of tightness, and invite those areas to soften. Relax your forehead, your neck, your chest, your belly. Let everything melt and loosen with each breath. Let your thoughts come and go like clouds in the sky. No need to follow them or push them away. Just return to the rhythm of your breath—anchoring yourself in the present moment. You are safe. You are calm. You are grounded. Inhale deeply through your nose… and exhale gently through your mouth. With each breath, feel a sense of peace expanding within you. Now, bring to mind a feeling of gratitude. It could be for a person, a place, or even just the gift of this moment. Let that gratitude warm your heart. Take one more deep breath in… and sigh it out. As we near the end of this meditation, slowly bring your awareness back to your surroundings. Wiggle your fingers and toes. Gently roll your shoulders. When you're ready, open your eyes. Take a moment to notice how you feel. Carry this calm and clarity with you into the rest of your day. Thank you for taking this time for yourself.\"}, 'id': 'call_WqfD2tdyz2fKmV93jibUr9Wb', 'type': 'tool_call'}], usage_metadata={'input_tokens': 664, 'output_tokens': 434, 'total_tokens': 1098, 'input_token_details': {'audio': 0, 'cache_read': 0}, 'output_token_details': {'audio': 0, 'reasoning': 0}}),\n",
              " ToolMessage(content='{\"character_count\": 1873, \"estimated_credits_deducted\": 936.5, \"percent_of_free_quota_used\": 9.37, \"percent_of_credits_used\": 9.37, \"estimated_duration_minutes\": {\"high_quality\": 0.94, \"flash\": 1.87, \"conversational_ai\": 1.4}, \"note\": \"Based on Eleven Labs Free Plan: 20,000 characters/month ≈ 10,000 credits. 1 credit ≈ 2 characters.\"}', name='token_calculate', id='44c8d02b-f439-4538-98cc-3f0ad2369095', tool_call_id='call_WqfD2tdyz2fKmV93jibUr9Wb'),\n",
              " AIMessage(content='{\\n  \"character_count\": 1873,\\n  \"estimated_credits_deducted\": 936.5,\\n  \"percent_of_credits_used\": 9.37,\\n  \"percent_of_free_quota_used\": 9.37,\\n  \"estimated_duration_minutes\": {\\n    \"high_quality\": 0.94,\\n    \"flash\": 1.87,\\n    \"conversational_ai\": 1.4\\n  },\\n  \"note\": \"Based on Eleven Labs Free Plan: 20,000 characters/month ≈ 10,000 credits. 1 credit ≈ 2 characters.\"\\n}', additional_kwargs={'refusal': None}, response_metadata={'token_usage': {'completion_tokens': 128, 'prompt_tokens': 1228, 'total_tokens': 1356, 'completion_tokens_details': {'accepted_prediction_tokens': 0, 'audio_tokens': 0, 'reasoning_tokens': 0, 'rejected_prediction_tokens': 0}, 'prompt_tokens_details': {'audio_tokens': 0, 'cached_tokens': 0}}, 'model_name': 'gpt-4o-mini-2024-07-18', 'system_fingerprint': 'fp_34a54ae93c', 'id': 'chatcmpl-BkT5SvC05FIpOqrq6FzAG9R3OrOC2', 'service_tier': 'default', 'finish_reason': 'stop', 'logprobs': None}, name='eleven_labs_assistant', id='run--1c6b0b15-478d-4d8c-a108-ac90cff03cb9-0', usage_metadata={'input_tokens': 1228, 'output_tokens': 128, 'total_tokens': 1356, 'input_token_details': {'audio': 0, 'cache_read': 0}, 'output_token_details': {'audio': 0, 'reasoning': 0}})]"
            ]
          },
          "metadata": {},
          "execution_count": 41
        }
      ]
    },
    {
      "cell_type": "code",
      "source": [
        "eleven_response[\"messages\"][-1].content"
      ],
      "metadata": {
        "colab": {
          "base_uri": "https://localhost:8080/",
          "height": 53
        },
        "id": "bqasZUja1QVo",
        "outputId": "10c1ebda-700f-450c-cd1b-c84ba2a3d204"
      },
      "execution_count": null,
      "outputs": [
        {
          "output_type": "execute_result",
          "data": {
            "text/plain": [
              "'{\\n  \"character_count\": 1873,\\n  \"estimated_credits_deducted\": 936.5,\\n  \"percent_of_credits_used\": 9.37,\\n  \"percent_of_free_quota_used\": 9.37,\\n  \"estimated_duration_minutes\": {\\n    \"high_quality\": 0.94,\\n    \"flash\": 1.87,\\n    \"conversational_ai\": 1.4\\n  },\\n  \"note\": \"Based on Eleven Labs Free Plan: 20,000 characters/month ≈ 10,000 credits. 1 credit ≈ 2 characters.\"\\n}'"
            ],
            "application/vnd.google.colaboratory.intrinsic+json": {
              "type": "string"
            }
          },
          "metadata": {},
          "execution_count": 42
        }
      ]
    },
    {
      "cell_type": "code",
      "source": [],
      "metadata": {
        "id": "-Dg1J7cA1tb1"
      },
      "execution_count": null,
      "outputs": []
    },
    {
      "cell_type": "code",
      "source": [],
      "metadata": {
        "id": "UPctMPOp1tXG"
      },
      "execution_count": null,
      "outputs": []
    },
    {
      "cell_type": "code",
      "source": [
        "eleven_response = eleven_labs_assistant.invoke({\n",
        "    \"messages\": [\n",
        "        HumanMessage(content=response[\"messages\"][-1].content)\n",
        "    ]\n",
        "})\n",
        "eleven_response[\"messages\"]"
      ],
      "metadata": {
        "colab": {
          "base_uri": "https://localhost:8080/"
        },
        "id": "hCszFbCEyyIi",
        "outputId": "ef651101-4b7f-4b59-b1ad-0254c4aaa072"
      },
      "execution_count": null,
      "outputs": [
        {
          "output_type": "execute_result",
          "data": {
            "text/plain": [
              "[HumanMessage(content='{\\n  \"answer\": \"The Gayatri mantra is a sacred mantra from the Bhagavad Gita, which is as follows: Aum bhur bhuvah svah Tat savitur varenyam Bhargo devasya dhimahi Dhiyo yo nah prachodayat. Its meaning is: \\'We meditate on the transcendental glory of the Deity Supreme, Who is inside the heart of the earth, inside the life of the sky, and inside the soul of the Heaven. May He stimulate and illumine our minds.\\'\",\\n  \"source_documents\": [\\n    {\\n      \"title\": \"Bhagavad Gita\",\\n      \"page\": \"Assumed context\",\\n      \"snippet\": \"Aum bhur bhuvah svah Tat savitur varenyam Bhargo devasya dhimahi Dhiyo yo nah prachodayat.\"\\n    }\\n  ]\\n}', additional_kwargs={}, response_metadata={}, id='ab1e380c-8572-4ba8-82af-c40d0fcd99c2'),\n",
              " AIMessage(content='', additional_kwargs={'tool_calls': [{'id': 'call_EtVHdjvkZP9RC5Iud7xoRxk0', 'function': {'arguments': '{\"text\":\"The Gayatri mantra is a sacred mantra from the Bhagavad Gita, which is as follows: Aum bhur bhuvah svah Tat savitur varenyam Bhargo devasya dhimahi Dhiyo yo nah prachodayat. Its meaning is: \\'We meditate on the transcendental glory of the Deity Supreme, Who is inside the heart of the earth, inside the life of the sky, and inside the soul of the Heaven. May He stimulate and illumine our minds.\\'\"}', 'name': 'token_calculate'}, 'type': 'function'}], 'refusal': None}, response_metadata={'token_usage': {'completion_tokens': 114, 'prompt_tokens': 439, 'total_tokens': 553, 'completion_tokens_details': {'accepted_prediction_tokens': 0, 'audio_tokens': 0, 'reasoning_tokens': 0, 'rejected_prediction_tokens': 0}, 'prompt_tokens_details': {'audio_tokens': 0, 'cached_tokens': 0}}, 'model_name': 'gpt-4o-mini-2024-07-18', 'system_fingerprint': 'fp_34a54ae93c', 'id': 'chatcmpl-BkSt8Fb5NdaXllEGizydUBpjg0TaX', 'service_tier': 'default', 'finish_reason': 'tool_calls', 'logprobs': None}, name='eleven_labs_assistant', id='run--c36e9834-225c-4f2c-b392-ea396e3863d6-0', tool_calls=[{'name': 'token_calculate', 'args': {'text': \"The Gayatri mantra is a sacred mantra from the Bhagavad Gita, which is as follows: Aum bhur bhuvah svah Tat savitur varenyam Bhargo devasya dhimahi Dhiyo yo nah prachodayat. Its meaning is: 'We meditate on the transcendental glory of the Deity Supreme, Who is inside the heart of the earth, inside the life of the sky, and inside the soul of the Heaven. May He stimulate and illumine our minds.'\"}, 'id': 'call_EtVHdjvkZP9RC5Iud7xoRxk0', 'type': 'tool_call'}], usage_metadata={'input_tokens': 439, 'output_tokens': 114, 'total_tokens': 553, 'input_token_details': {'audio': 0, 'cache_read': 0}, 'output_token_details': {'audio': 0, 'reasoning': 0}}),\n",
              " ToolMessage(content='{\"character_count\": 395, \"percent_of_free_quota_used\": 1.98, \"estimated_duration_minutes\": {\"high_quality\": 0.2, \"flash\": 0.4, \"conversational_ai\": 0.3}, \"note\": \"Estimates are based on Eleven Labs\\' Free Plan: 20,000 characters per month.\"}', name='token_calculate', id='fb6dd13b-6140-4d60-a4a2-97f67a29ec71', tool_call_id='call_EtVHdjvkZP9RC5Iud7xoRxk0'),\n",
              " AIMessage(content='{\\n  \"character_count\": 395,\\n  \"percent_of_free_quota_used\": 1.98,\\n  \"estimated_duration_minutes\": {\\n    \"high_quality\": 0.2,\\n    \"flash\": 0.4,\\n    \"conversational_ai\": 0.3\\n  },\\n  \"note\": \"Estimates are based on Eleven Labs\\' Free Plan: 20,000 characters per month.\"\\n}', additional_kwargs={'refusal': None}, response_metadata={'token_usage': {'completion_tokens': 89, 'prompt_tokens': 646, 'total_tokens': 735, 'completion_tokens_details': {'accepted_prediction_tokens': 0, 'audio_tokens': 0, 'reasoning_tokens': 0, 'rejected_prediction_tokens': 0}, 'prompt_tokens_details': {'audio_tokens': 0, 'cached_tokens': 0}}, 'model_name': 'gpt-4o-mini-2024-07-18', 'system_fingerprint': 'fp_34a54ae93c', 'id': 'chatcmpl-BkStAMxQuF2f0T8mcFbMHVNn5nK0U', 'service_tier': 'default', 'finish_reason': 'stop', 'logprobs': None}, name='eleven_labs_assistant', id='run--03472a1b-0ec3-4a55-95cb-e20746749290-0', usage_metadata={'input_tokens': 646, 'output_tokens': 89, 'total_tokens': 735, 'input_token_details': {'audio': 0, 'cache_read': 0}, 'output_token_details': {'audio': 0, 'reasoning': 0}})]"
            ]
          },
          "metadata": {},
          "execution_count": 33
        }
      ]
    },
    {
      "cell_type": "code",
      "source": [
        "eleven_response[\"messages\"][-1].content"
      ],
      "metadata": {
        "colab": {
          "base_uri": "https://localhost:8080/",
          "height": 53
        },
        "id": "MdZKr5eQyyB2",
        "outputId": "9ec3b421-59b3-44d0-dec6-92e3112feb40"
      },
      "execution_count": null,
      "outputs": [
        {
          "output_type": "execute_result",
          "data": {
            "text/plain": [
              "'{\\n  \"character_count\": 395,\\n  \"percent_of_free_quota_used\": 1.98,\\n  \"estimated_duration_minutes\": {\\n    \"high_quality\": 0.2,\\n    \"flash\": 0.4,\\n    \"conversational_ai\": 0.3\\n  },\\n  \"note\": \"Estimates are based on Eleven Labs\\' Free Plan: 20,000 characters per month.\"\\n}'"
            ],
            "application/vnd.google.colaboratory.intrinsic+json": {
              "type": "string"
            }
          },
          "metadata": {},
          "execution_count": 34
        }
      ]
    },
    {
      "cell_type": "code",
      "source": [],
      "metadata": {
        "id": "CJ15yFICy5ME"
      },
      "execution_count": null,
      "outputs": []
    },
    {
      "cell_type": "code",
      "source": [
        "eleven_response = eleven_labs_assistant.invoke({\n",
        "    \"messages\": [\n",
        "        HumanMessage(content=response[\"messages\"][-1].content)\n",
        "    ]\n",
        "})\n",
        "eleven_response[\"messages\"]"
      ],
      "metadata": {
        "colab": {
          "base_uri": "https://localhost:8080/"
        },
        "id": "HPpoHV52t-Cm",
        "outputId": "5218dd02-4ddf-48a4-e9ab-e9b8d6b34ba4"
      },
      "execution_count": null,
      "outputs": [
        {
          "output_type": "execute_result",
          "data": {
            "text/plain": [
              "[HumanMessage(content='{\\n  \"answer\": \"The Gayatri mantra is a sacred mantra from the Bhagavad Gita, which is as follows: Aum bhur bhuvah svah Tat savitur varenyam Bhargo devasya dhimahi Dhiyo yo nah prachodayat. Its meaning is: \\'We meditate on the transcendental glory of the Deity Supreme, Who is inside the heart of the earth, inside the life of the sky, and inside the soul of the Heaven. May He stimulate and illumine our minds.\\'\",\\n  \"source_documents\": [\\n    {\\n      \"title\": \"Bhagavad Gita\",\\n      \"page\": \"Assumed context\",\\n      \"snippet\": \"Aum bhur bhuvah svah Tat savitur varenyam Bhargo devasya dhimahi Dhiyo yo nah prachodayat.\"\\n    }\\n  ]\\n}', additional_kwargs={}, response_metadata={}, id='d09e2e6c-8577-462b-bcb7-0067097a5d82'),\n",
              " AIMessage(content='', additional_kwargs={'tool_calls': [{'id': 'call_1XYXkzyBoGZdDvchWU3lyEkz', 'function': {'arguments': '{\"text\":\"The Gayatri mantra is a sacred mantra from the Bhagavad Gita, which is as follows: Aum bhur bhuvah svah Tat savitur varenyam Bhargo devasya dhimahi Dhiyo yo nah prachodayat. Its meaning is: \\'We meditate on the transcendental glory of the Deity Supreme, Who is inside the heart of the earth, inside the life of the sky, and inside the soul of the Heaven. May He stimulate and illumine our minds.\\'\"}', 'name': 'token_calculate'}, 'type': 'function'}], 'refusal': None}, response_metadata={'token_usage': {'completion_tokens': 114, 'prompt_tokens': 352, 'total_tokens': 466, 'completion_tokens_details': {'accepted_prediction_tokens': 0, 'audio_tokens': 0, 'reasoning_tokens': 0, 'rejected_prediction_tokens': 0}, 'prompt_tokens_details': {'audio_tokens': 0, 'cached_tokens': 0}}, 'model_name': 'gpt-4o-mini-2024-07-18', 'system_fingerprint': 'fp_34a54ae93c', 'id': 'chatcmpl-BkSjGka2FE2iy20Wv6i6InQxS0ikz', 'service_tier': 'default', 'finish_reason': 'tool_calls', 'logprobs': None}, name='eleven_labs_assistant', id='run--6780bf5b-a6e4-4a56-b99a-2d1b191b9750-0', tool_calls=[{'name': 'token_calculate', 'args': {'text': \"The Gayatri mantra is a sacred mantra from the Bhagavad Gita, which is as follows: Aum bhur bhuvah svah Tat savitur varenyam Bhargo devasya dhimahi Dhiyo yo nah prachodayat. Its meaning is: 'We meditate on the transcendental glory of the Deity Supreme, Who is inside the heart of the earth, inside the life of the sky, and inside the soul of the Heaven. May He stimulate and illumine our minds.'\"}, 'id': 'call_1XYXkzyBoGZdDvchWU3lyEkz', 'type': 'tool_call'}], usage_metadata={'input_tokens': 352, 'output_tokens': 114, 'total_tokens': 466, 'input_token_details': {'audio': 0, 'cache_read': 0}, 'output_token_details': {'audio': 0, 'reasoning': 0}}),\n",
              " ToolMessage(content='{\"character_count\": 395, \"estimated_cost_usd\": 0.0395}', name='token_calculate', id='af63c62a-8653-4711-9f8e-f48e146d00f5', tool_call_id='call_1XYXkzyBoGZdDvchWU3lyEkz'),\n",
              " AIMessage(content='{\\n  \"character_count\": 395,\\n  \"estimated_cost_usd\": 0.0395\\n}', additional_kwargs={'refusal': None}, response_metadata={'token_usage': {'completion_tokens': 24, 'prompt_tokens': 501, 'total_tokens': 525, 'completion_tokens_details': {'accepted_prediction_tokens': 0, 'audio_tokens': 0, 'reasoning_tokens': 0, 'rejected_prediction_tokens': 0}, 'prompt_tokens_details': {'audio_tokens': 0, 'cached_tokens': 0}}, 'model_name': 'gpt-4o-mini-2024-07-18', 'system_fingerprint': 'fp_34a54ae93c', 'id': 'chatcmpl-BkSjHvVAASSdJbwUnUivHQDkdJHHO', 'service_tier': 'default', 'finish_reason': 'stop', 'logprobs': None}, name='eleven_labs_assistant', id='run--f167c642-7147-4c54-b8e1-304425560dc3-0', usage_metadata={'input_tokens': 501, 'output_tokens': 24, 'total_tokens': 525, 'input_token_details': {'audio': 0, 'cache_read': 0}, 'output_token_details': {'audio': 0, 'reasoning': 0}})]"
            ]
          },
          "metadata": {},
          "execution_count": 29
        }
      ]
    },
    {
      "cell_type": "code",
      "source": [
        "eleven_response[\"messages\"][-1].content"
      ],
      "metadata": {
        "colab": {
          "base_uri": "https://localhost:8080/",
          "height": 35
        },
        "id": "GfXQ6WrJwkbD",
        "outputId": "2f770f43-f194-43e0-e6fd-da1071b24d86"
      },
      "execution_count": null,
      "outputs": [
        {
          "output_type": "execute_result",
          "data": {
            "text/plain": [
              "'{\\n  \"character_count\": 395,\\n  \"estimated_cost_usd\": 0.0395\\n}'"
            ],
            "application/vnd.google.colaboratory.intrinsic+json": {
              "type": "string"
            }
          },
          "metadata": {},
          "execution_count": 30
        }
      ]
    },
    {
      "cell_type": "code",
      "source": [
        "eleven_response[\"messages\"][-1].content"
      ],
      "metadata": {
        "colab": {
          "base_uri": "https://localhost:8080/",
          "height": 35
        },
        "id": "FN6DQokzuo7K",
        "outputId": "9b090323-1091-4408-d604-4193823f571b"
      },
      "execution_count": null,
      "outputs": [
        {
          "output_type": "execute_result",
          "data": {
            "text/plain": [
              "'{\\n  \"character_count\": 395,\\n  \"estimated_cost_usd\": 0.0395\\n}'"
            ],
            "application/vnd.google.colaboratory.intrinsic+json": {
              "type": "string"
            }
          },
          "metadata": {},
          "execution_count": 28
        }
      ]
    }
  ]
}